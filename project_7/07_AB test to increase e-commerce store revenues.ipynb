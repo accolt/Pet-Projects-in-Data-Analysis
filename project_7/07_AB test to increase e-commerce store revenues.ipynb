{
 "cells": [
  {
   "cell_type": "markdown",
   "id": "2e37c355",
   "metadata": {},
   "source": [
    "# AB test to increase e-commerce store revenues"
   ]
  },
  {
   "cell_type": "markdown",
   "id": "441f59c8",
   "metadata": {},
   "source": [
    "A large online retailer has prepared a list of hypotheses to increase revenue. "
   ]
  },
  {
   "cell_type": "markdown",
   "id": "817fac7c",
   "metadata": {},
   "source": [
    "# Purpose of the study"
   ]
  },
  {
   "cell_type": "markdown",
   "id": "f62c21e4",
   "metadata": {},
   "source": [
    "1) Prioritize the hypotheses put forward\n",
    "\n",
    "2) Conduct A/B testing\n",
    "\n",
    "3) Analyze test results"
   ]
  },
  {
   "cell_type": "markdown",
   "id": "bd027f09",
   "metadata": {},
   "source": [
    "# Initial data"
   ]
  },
  {
   "cell_type": "markdown",
   "id": "705fd3b9",
   "metadata": {},
   "source": [
    "1) The file 'hypothesis.csv' contains 9 hypotheses to increase the revenue of an online store with the specified parameters Reach, Impact, Confidence, Effort.\n",
    "2) A/B-test results were obtained and described in the files 'orders.csv' and 'visitors.csv'."
   ]
  },
  {
   "cell_type": "markdown",
   "id": "9965546d",
   "metadata": {},
   "source": [
    "# 1. Hypothesis Prioritization."
   ]
  },
  {
   "cell_type": "markdown",
   "id": "06a4df5d",
   "metadata": {},
   "source": [
    "## 1.1 Data review and preprocessing"
   ]
  },
  {
   "cell_type": "code",
   "execution_count": 1,
   "id": "986829c3",
   "metadata": {},
   "outputs": [],
   "source": [
    "import pandas as pd\n",
    "import numpy as np\n",
    "import matplotlib.pyplot as plt\n",
    "import seaborn as sns\n",
    "import datetime as dt\n",
    "from pandas.plotting import register_matplotlib_converters\n",
    "import scipy.stats as stats\n",
    "import warnings"
   ]
  },
  {
   "cell_type": "code",
   "execution_count": 3,
   "id": "dba5b5fb",
   "metadata": {},
   "outputs": [
    {
     "data": {
      "text/html": [
       "<div>\n",
       "<style scoped>\n",
       "    .dataframe tbody tr th:only-of-type {\n",
       "        vertical-align: middle;\n",
       "    }\n",
       "\n",
       "    .dataframe tbody tr th {\n",
       "        vertical-align: top;\n",
       "    }\n",
       "\n",
       "    .dataframe thead th {\n",
       "        text-align: right;\n",
       "    }\n",
       "</style>\n",
       "<table border=\"1\" class=\"dataframe\">\n",
       "  <thead>\n",
       "    <tr style=\"text-align: right;\">\n",
       "      <th></th>\n",
       "      <th>Hypothesis</th>\n",
       "      <th>Reach</th>\n",
       "      <th>Impact</th>\n",
       "      <th>Confidence</th>\n",
       "      <th>Efforts</th>\n",
       "    </tr>\n",
       "  </thead>\n",
       "  <tbody>\n",
       "    <tr>\n",
       "      <th>0</th>\n",
       "      <td>Add two new channels to attract traffic, allowing you to attract 30% more users</td>\n",
       "      <td>3</td>\n",
       "      <td>10</td>\n",
       "      <td>8</td>\n",
       "      <td>6</td>\n",
       "    </tr>\n",
       "    <tr>\n",
       "      <th>1</th>\n",
       "      <td>Launch its own delivery service, which will shorten the delivery time of orders</td>\n",
       "      <td>2</td>\n",
       "      <td>5</td>\n",
       "      <td>4</td>\n",
       "      <td>10</td>\n",
       "    </tr>\n",
       "    <tr>\n",
       "      <th>2</th>\n",
       "      <td>Add product recommendation blocks to your online store website to increase conversion rate and average order receipt</td>\n",
       "      <td>8</td>\n",
       "      <td>3</td>\n",
       "      <td>7</td>\n",
       "      <td>3</td>\n",
       "    </tr>\n",
       "    <tr>\n",
       "      <th>3</th>\n",
       "      <td>Change the structure of categories, which will increase conversion rates as users will find the product they are looking for f...</td>\n",
       "      <td>8</td>\n",
       "      <td>3</td>\n",
       "      <td>3</td>\n",
       "      <td>8</td>\n",
       "    </tr>\n",
       "    <tr>\n",
       "      <th>4</th>\n",
       "      <td>Change the background color of the homepage to increase user engagement</td>\n",
       "      <td>3</td>\n",
       "      <td>1</td>\n",
       "      <td>1</td>\n",
       "      <td>1</td>\n",
       "    </tr>\n",
       "    <tr>\n",
       "      <th>5</th>\n",
       "      <td>Add a customer testimonials page about the store, which will increase orders</td>\n",
       "      <td>3</td>\n",
       "      <td>2</td>\n",
       "      <td>2</td>\n",
       "      <td>3</td>\n",
       "    </tr>\n",
       "    <tr>\n",
       "      <th>6</th>\n",
       "      <td>Show banners with current promotions and sales on the homepage to increase conversions</td>\n",
       "      <td>5</td>\n",
       "      <td>3</td>\n",
       "      <td>8</td>\n",
       "      <td>3</td>\n",
       "    </tr>\n",
       "    <tr>\n",
       "      <th>7</th>\n",
       "      <td>Add a subscription form to all main pages to gather a customer base for email newsletters</td>\n",
       "      <td>10</td>\n",
       "      <td>7</td>\n",
       "      <td>8</td>\n",
       "      <td>5</td>\n",
       "    </tr>\n",
       "    <tr>\n",
       "      <th>8</th>\n",
       "      <td>Run a promotion giving a discount on a product on your birthday</td>\n",
       "      <td>1</td>\n",
       "      <td>9</td>\n",
       "      <td>9</td>\n",
       "      <td>5</td>\n",
       "    </tr>\n",
       "  </tbody>\n",
       "</table>\n",
       "</div>"
      ],
      "text/plain": [
       "                                                                                                                          Hypothesis  \\\n",
       "0                                                    Add two new channels to attract traffic, allowing you to attract 30% more users   \n",
       "1                                                    Launch its own delivery service, which will shorten the delivery time of orders   \n",
       "2               Add product recommendation blocks to your online store website to increase conversion rate and average order receipt   \n",
       "3  Change the structure of categories, which will increase conversion rates as users will find the product they are looking for f...   \n",
       "4                                                            Change the background color of the homepage to increase user engagement   \n",
       "5                                                       Add a customer testimonials page about the store, which will increase orders   \n",
       "6                                             Show banners with current promotions and sales on the homepage to increase conversions   \n",
       "7                                          Add a subscription form to all main pages to gather a customer base for email newsletters   \n",
       "8                                                                    Run a promotion giving a discount on a product on your birthday   \n",
       "\n",
       "   Reach  Impact  Confidence  Efforts  \n",
       "0      3      10           8        6  \n",
       "1      2       5           4       10  \n",
       "2      8       3           7        3  \n",
       "3      8       3           3        8  \n",
       "4      3       1           1        1  \n",
       "5      3       2           2        3  \n",
       "6      5       3           8        3  \n",
       "7     10       7           8        5  \n",
       "8      1       9           9        5  "
      ]
     },
     "execution_count": 3,
     "metadata": {},
     "output_type": "execute_result"
    }
   ],
   "source": [
    "try:\n",
    "    hypothesis = pd.read_csv(r'D:\\Yandex_Data_Analysis\\Project_7\\hypothesis_eng.csv')\n",
    "except:\n",
    "    hypothesis = pd.read_csv(r'/datasets/hypothesis.csv')\n",
    "pd.set_option('max_colwidth', 130)\n",
    "hypothesis"
   ]
  },
  {
   "cell_type": "markdown",
   "id": "9a266094",
   "metadata": {},
   "source": [
    "As you can see, the data in the table are in good quality. There are no obvious omissions or obvious duplicates. Let's bring the column names to lower case for further convenience."
   ]
  },
  {
   "cell_type": "code",
   "execution_count": 4,
   "id": "e3fd2427",
   "metadata": {},
   "outputs": [],
   "source": [
    "hypothesis.columns = [a.lower() for a in hypothesis.columns]"
   ]
  },
  {
   "cell_type": "markdown",
   "id": "ffc53abd",
   "metadata": {},
   "source": [
    "## 1.2. Application of ICE framework for hypothesis prioritization"
   ]
  },
  {
   "cell_type": "code",
   "execution_count": 5,
   "id": "55cbaa48",
   "metadata": {},
   "outputs": [
    {
     "data": {
      "text/html": [
       "<div>\n",
       "<style scoped>\n",
       "    .dataframe tbody tr th:only-of-type {\n",
       "        vertical-align: middle;\n",
       "    }\n",
       "\n",
       "    .dataframe tbody tr th {\n",
       "        vertical-align: top;\n",
       "    }\n",
       "\n",
       "    .dataframe thead th {\n",
       "        text-align: right;\n",
       "    }\n",
       "</style>\n",
       "<table border=\"1\" class=\"dataframe\">\n",
       "  <thead>\n",
       "    <tr style=\"text-align: right;\">\n",
       "      <th></th>\n",
       "      <th>hypothesis</th>\n",
       "      <th>ICE</th>\n",
       "    </tr>\n",
       "  </thead>\n",
       "  <tbody>\n",
       "    <tr>\n",
       "      <th>8</th>\n",
       "      <td>Run a promotion giving a discount on a product on your birthday</td>\n",
       "      <td>16.200000</td>\n",
       "    </tr>\n",
       "    <tr>\n",
       "      <th>0</th>\n",
       "      <td>Add two new channels to attract traffic, allowing you to attract 30% more users</td>\n",
       "      <td>13.333333</td>\n",
       "    </tr>\n",
       "    <tr>\n",
       "      <th>7</th>\n",
       "      <td>Add a subscription form to all main pages to gather a customer base for email newsletters</td>\n",
       "      <td>11.200000</td>\n",
       "    </tr>\n",
       "    <tr>\n",
       "      <th>6</th>\n",
       "      <td>Show banners with current promotions and sales on the homepage to increase conversions</td>\n",
       "      <td>8.000000</td>\n",
       "    </tr>\n",
       "    <tr>\n",
       "      <th>2</th>\n",
       "      <td>Add product recommendation blocks to your online store website to increase conversion rate and average order receipt</td>\n",
       "      <td>7.000000</td>\n",
       "    </tr>\n",
       "    <tr>\n",
       "      <th>1</th>\n",
       "      <td>Launch its own delivery service, which will shorten the delivery time of orders</td>\n",
       "      <td>2.000000</td>\n",
       "    </tr>\n",
       "    <tr>\n",
       "      <th>5</th>\n",
       "      <td>Add a customer testimonials page about the store, which will increase orders</td>\n",
       "      <td>1.333333</td>\n",
       "    </tr>\n",
       "    <tr>\n",
       "      <th>3</th>\n",
       "      <td>Change the structure of categories, which will increase conversion rates as users will find the product they are looking for f...</td>\n",
       "      <td>1.125000</td>\n",
       "    </tr>\n",
       "    <tr>\n",
       "      <th>4</th>\n",
       "      <td>Change the background color of the homepage to increase user engagement</td>\n",
       "      <td>1.000000</td>\n",
       "    </tr>\n",
       "  </tbody>\n",
       "</table>\n",
       "</div>"
      ],
      "text/plain": [
       "                                                                                                                          hypothesis  \\\n",
       "8                                                                    Run a promotion giving a discount on a product on your birthday   \n",
       "0                                                    Add two new channels to attract traffic, allowing you to attract 30% more users   \n",
       "7                                          Add a subscription form to all main pages to gather a customer base for email newsletters   \n",
       "6                                             Show banners with current promotions and sales on the homepage to increase conversions   \n",
       "2               Add product recommendation blocks to your online store website to increase conversion rate and average order receipt   \n",
       "1                                                    Launch its own delivery service, which will shorten the delivery time of orders   \n",
       "5                                                       Add a customer testimonials page about the store, which will increase orders   \n",
       "3  Change the structure of categories, which will increase conversion rates as users will find the product they are looking for f...   \n",
       "4                                                            Change the background color of the homepage to increase user engagement   \n",
       "\n",
       "         ICE  \n",
       "8  16.200000  \n",
       "0  13.333333  \n",
       "7  11.200000  \n",
       "6   8.000000  \n",
       "2   7.000000  \n",
       "1   2.000000  \n",
       "5   1.333333  \n",
       "3   1.125000  \n",
       "4   1.000000  "
      ]
     },
     "execution_count": 5,
     "metadata": {},
     "output_type": "execute_result"
    }
   ],
   "source": [
    "hypothesis['ICE'] = hypothesis.impact * hypothesis.confidence / hypothesis.efforts\n",
    "hypothesis.loc[:, ['hypothesis', 'ICE']].sort_values(by='ICE', ascending=False)"
   ]
  },
  {
   "cell_type": "markdown",
   "id": "a8cfe519",
   "metadata": {},
   "source": [
    "## 1.3. Application of the RICE framework for hypothesis prioritization"
   ]
  },
  {
   "cell_type": "code",
   "execution_count": 6,
   "id": "470b38db",
   "metadata": {
    "scrolled": true
   },
   "outputs": [
    {
     "data": {
      "text/html": [
       "<div>\n",
       "<style scoped>\n",
       "    .dataframe tbody tr th:only-of-type {\n",
       "        vertical-align: middle;\n",
       "    }\n",
       "\n",
       "    .dataframe tbody tr th {\n",
       "        vertical-align: top;\n",
       "    }\n",
       "\n",
       "    .dataframe thead th {\n",
       "        text-align: right;\n",
       "    }\n",
       "</style>\n",
       "<table border=\"1\" class=\"dataframe\">\n",
       "  <thead>\n",
       "    <tr style=\"text-align: right;\">\n",
       "      <th></th>\n",
       "      <th>hypothesis</th>\n",
       "      <th>RICE</th>\n",
       "    </tr>\n",
       "  </thead>\n",
       "  <tbody>\n",
       "    <tr>\n",
       "      <th>7</th>\n",
       "      <td>Add a subscription form to all main pages to gather a customer base for email newsletters</td>\n",
       "      <td>112.0</td>\n",
       "    </tr>\n",
       "    <tr>\n",
       "      <th>2</th>\n",
       "      <td>Add product recommendation blocks to your online store website to increase conversion rate and average order receipt</td>\n",
       "      <td>56.0</td>\n",
       "    </tr>\n",
       "    <tr>\n",
       "      <th>0</th>\n",
       "      <td>Add two new channels to attract traffic, allowing you to attract 30% more users</td>\n",
       "      <td>40.0</td>\n",
       "    </tr>\n",
       "    <tr>\n",
       "      <th>6</th>\n",
       "      <td>Show banners with current promotions and sales on the homepage to increase conversions</td>\n",
       "      <td>40.0</td>\n",
       "    </tr>\n",
       "    <tr>\n",
       "      <th>8</th>\n",
       "      <td>Run a promotion giving a discount on a product on your birthday</td>\n",
       "      <td>16.2</td>\n",
       "    </tr>\n",
       "    <tr>\n",
       "      <th>3</th>\n",
       "      <td>Change the structure of categories, which will increase conversion rates as users will find the product they are looking for f...</td>\n",
       "      <td>9.0</td>\n",
       "    </tr>\n",
       "    <tr>\n",
       "      <th>1</th>\n",
       "      <td>Launch its own delivery service, which will shorten the delivery time of orders</td>\n",
       "      <td>4.0</td>\n",
       "    </tr>\n",
       "    <tr>\n",
       "      <th>5</th>\n",
       "      <td>Add a customer testimonials page about the store, which will increase orders</td>\n",
       "      <td>4.0</td>\n",
       "    </tr>\n",
       "    <tr>\n",
       "      <th>4</th>\n",
       "      <td>Change the background color of the homepage to increase user engagement</td>\n",
       "      <td>3.0</td>\n",
       "    </tr>\n",
       "  </tbody>\n",
       "</table>\n",
       "</div>"
      ],
      "text/plain": [
       "                                                                                                                          hypothesis  \\\n",
       "7                                          Add a subscription form to all main pages to gather a customer base for email newsletters   \n",
       "2               Add product recommendation blocks to your online store website to increase conversion rate and average order receipt   \n",
       "0                                                    Add two new channels to attract traffic, allowing you to attract 30% more users   \n",
       "6                                             Show banners with current promotions and sales on the homepage to increase conversions   \n",
       "8                                                                    Run a promotion giving a discount on a product on your birthday   \n",
       "3  Change the structure of categories, which will increase conversion rates as users will find the product they are looking for f...   \n",
       "1                                                    Launch its own delivery service, which will shorten the delivery time of orders   \n",
       "5                                                       Add a customer testimonials page about the store, which will increase orders   \n",
       "4                                                            Change the background color of the homepage to increase user engagement   \n",
       "\n",
       "    RICE  \n",
       "7  112.0  \n",
       "2   56.0  \n",
       "0   40.0  \n",
       "6   40.0  \n",
       "8   16.2  \n",
       "3    9.0  \n",
       "1    4.0  \n",
       "5    4.0  \n",
       "4    3.0  "
      ]
     },
     "execution_count": 6,
     "metadata": {},
     "output_type": "execute_result"
    }
   ],
   "source": [
    "hypothesis['RICE'] = hypothesis.reach * hypothesis.impact * hypothesis.confidence / hypothesis.efforts\n",
    "hypothesis.loc[:, ['hypothesis', 'RICE']].sort_values(by='RICE', ascending=False)"
   ]
  },
  {
   "cell_type": "markdown",
   "id": "9a943154",
   "metadata": {},
   "source": [
    "Overall table with the results of the frameworks on RICE and ICE."
   ]
  },
  {
   "cell_type": "code",
   "execution_count": 7,
   "id": "7b8a390a",
   "metadata": {
    "scrolled": true
   },
   "outputs": [
    {
     "data": {
      "text/html": [
       "<div>\n",
       "<style scoped>\n",
       "    .dataframe tbody tr th:only-of-type {\n",
       "        vertical-align: middle;\n",
       "    }\n",
       "\n",
       "    .dataframe tbody tr th {\n",
       "        vertical-align: top;\n",
       "    }\n",
       "\n",
       "    .dataframe thead th {\n",
       "        text-align: right;\n",
       "    }\n",
       "</style>\n",
       "<table border=\"1\" class=\"dataframe\">\n",
       "  <thead>\n",
       "    <tr style=\"text-align: right;\">\n",
       "      <th></th>\n",
       "      <th>hypothesis</th>\n",
       "      <th>ICE</th>\n",
       "      <th>RICE</th>\n",
       "    </tr>\n",
       "  </thead>\n",
       "  <tbody>\n",
       "    <tr>\n",
       "      <th>7</th>\n",
       "      <td>Add a subscription form to all main pages to gather a customer base for email newsletters</td>\n",
       "      <td>11.200000</td>\n",
       "      <td>112.0</td>\n",
       "    </tr>\n",
       "    <tr>\n",
       "      <th>2</th>\n",
       "      <td>Add product recommendation blocks to your online store website to increase conversion rate and average order receipt</td>\n",
       "      <td>7.000000</td>\n",
       "      <td>56.0</td>\n",
       "    </tr>\n",
       "    <tr>\n",
       "      <th>0</th>\n",
       "      <td>Add two new channels to attract traffic, allowing you to attract 30% more users</td>\n",
       "      <td>13.333333</td>\n",
       "      <td>40.0</td>\n",
       "    </tr>\n",
       "    <tr>\n",
       "      <th>6</th>\n",
       "      <td>Show banners with current promotions and sales on the homepage to increase conversions</td>\n",
       "      <td>8.000000</td>\n",
       "      <td>40.0</td>\n",
       "    </tr>\n",
       "    <tr>\n",
       "      <th>8</th>\n",
       "      <td>Run a promotion giving a discount on a product on your birthday</td>\n",
       "      <td>16.200000</td>\n",
       "      <td>16.2</td>\n",
       "    </tr>\n",
       "    <tr>\n",
       "      <th>3</th>\n",
       "      <td>Change the structure of categories, which will increase conversion rates as users will find the product they are looking for f...</td>\n",
       "      <td>1.125000</td>\n",
       "      <td>9.0</td>\n",
       "    </tr>\n",
       "    <tr>\n",
       "      <th>1</th>\n",
       "      <td>Launch its own delivery service, which will shorten the delivery time of orders</td>\n",
       "      <td>2.000000</td>\n",
       "      <td>4.0</td>\n",
       "    </tr>\n",
       "    <tr>\n",
       "      <th>5</th>\n",
       "      <td>Add a customer testimonials page about the store, which will increase orders</td>\n",
       "      <td>1.333333</td>\n",
       "      <td>4.0</td>\n",
       "    </tr>\n",
       "    <tr>\n",
       "      <th>4</th>\n",
       "      <td>Change the background color of the homepage to increase user engagement</td>\n",
       "      <td>1.000000</td>\n",
       "      <td>3.0</td>\n",
       "    </tr>\n",
       "  </tbody>\n",
       "</table>\n",
       "</div>"
      ],
      "text/plain": [
       "                                                                                                                          hypothesis  \\\n",
       "7                                          Add a subscription form to all main pages to gather a customer base for email newsletters   \n",
       "2               Add product recommendation blocks to your online store website to increase conversion rate and average order receipt   \n",
       "0                                                    Add two new channels to attract traffic, allowing you to attract 30% more users   \n",
       "6                                             Show banners with current promotions and sales on the homepage to increase conversions   \n",
       "8                                                                    Run a promotion giving a discount on a product on your birthday   \n",
       "3  Change the structure of categories, which will increase conversion rates as users will find the product they are looking for f...   \n",
       "1                                                    Launch its own delivery service, which will shorten the delivery time of orders   \n",
       "5                                                       Add a customer testimonials page about the store, which will increase orders   \n",
       "4                                                            Change the background color of the homepage to increase user engagement   \n",
       "\n",
       "         ICE   RICE  \n",
       "7  11.200000  112.0  \n",
       "2   7.000000   56.0  \n",
       "0  13.333333   40.0  \n",
       "6   8.000000   40.0  \n",
       "8  16.200000   16.2  \n",
       "3   1.125000    9.0  \n",
       "1   2.000000    4.0  \n",
       "5   1.333333    4.0  \n",
       "4   1.000000    3.0  "
      ]
     },
     "execution_count": 7,
     "metadata": {},
     "output_type": "execute_result"
    }
   ],
   "source": [
    "hypothesis.loc[:, ['hypothesis','ICE', 'RICE']].sort_values(by=['RICE','ICE'], ascending=False)"
   ]
  },
  {
   "cell_type": "markdown",
   "id": "def974d5",
   "metadata": {},
   "source": [
    "## 1.4. Conclusion"
   ]
  },
  {
   "cell_type": "markdown",
   "id": "9a99229a",
   "metadata": {},
   "source": [
    "The most prioritized hypothesis for ICE is 'Launch a promotion that gives a discount on the product on the birthday', and for RICE is 'Add a subscription form to all main pages to gather a customer base for email newsletters'.\n",
    "\n",
    "It is noticeable that the prioritization of hypotheses is different for these frame talkers. Since RICE includes another parameter ('Reach' or 'reach'), it was this parameter that influenced the rearrangement of the hypotheses in terms of prioritization.\n",
    "\n",
    "The hypothesis related to the birthday promotion fell to the 5th place in terms of priority according to RICE, as this promotion is available to users once a year, which significantly limits its application and therefore its reach.\n",
    "\n",
    "The hypotheses of the RICE framework that scored the highest number of points are the most prioritized. It is recommended to use them when conducting A/B-test."
   ]
  },
  {
   "cell_type": "markdown",
   "id": "0094f62d",
   "metadata": {},
   "source": [
    "# 2. A/B test analysis"
   ]
  },
  {
   "cell_type": "markdown",
   "id": "08d484b4",
   "metadata": {},
   "source": [
    "## 2.1. Data review and preprocessing"
   ]
  },
  {
   "cell_type": "code",
   "execution_count": 8,
   "id": "f88a5c6b",
   "metadata": {},
   "outputs": [
    {
     "data": {
      "text/html": [
       "<div>\n",
       "<style scoped>\n",
       "    .dataframe tbody tr th:only-of-type {\n",
       "        vertical-align: middle;\n",
       "    }\n",
       "\n",
       "    .dataframe tbody tr th {\n",
       "        vertical-align: top;\n",
       "    }\n",
       "\n",
       "    .dataframe thead th {\n",
       "        text-align: right;\n",
       "    }\n",
       "</style>\n",
       "<table border=\"1\" class=\"dataframe\">\n",
       "  <thead>\n",
       "    <tr style=\"text-align: right;\">\n",
       "      <th></th>\n",
       "      <th>transactionId</th>\n",
       "      <th>visitorId</th>\n",
       "      <th>date</th>\n",
       "      <th>revenue</th>\n",
       "      <th>group</th>\n",
       "    </tr>\n",
       "  </thead>\n",
       "  <tbody>\n",
       "    <tr>\n",
       "      <th>0</th>\n",
       "      <td>3667963787</td>\n",
       "      <td>3312258926</td>\n",
       "      <td>2019-08-15</td>\n",
       "      <td>1650</td>\n",
       "      <td>B</td>\n",
       "    </tr>\n",
       "    <tr>\n",
       "      <th>1</th>\n",
       "      <td>2804400009</td>\n",
       "      <td>3642806036</td>\n",
       "      <td>2019-08-15</td>\n",
       "      <td>730</td>\n",
       "      <td>B</td>\n",
       "    </tr>\n",
       "    <tr>\n",
       "      <th>2</th>\n",
       "      <td>2961555356</td>\n",
       "      <td>4069496402</td>\n",
       "      <td>2019-08-15</td>\n",
       "      <td>400</td>\n",
       "      <td>A</td>\n",
       "    </tr>\n",
       "    <tr>\n",
       "      <th>3</th>\n",
       "      <td>3797467345</td>\n",
       "      <td>1196621759</td>\n",
       "      <td>2019-08-15</td>\n",
       "      <td>9759</td>\n",
       "      <td>B</td>\n",
       "    </tr>\n",
       "    <tr>\n",
       "      <th>4</th>\n",
       "      <td>2282983706</td>\n",
       "      <td>2322279887</td>\n",
       "      <td>2019-08-15</td>\n",
       "      <td>2308</td>\n",
       "      <td>B</td>\n",
       "    </tr>\n",
       "  </tbody>\n",
       "</table>\n",
       "</div>"
      ],
      "text/plain": [
       "   transactionId   visitorId        date  revenue group\n",
       "0     3667963787  3312258926  2019-08-15     1650     B\n",
       "1     2804400009  3642806036  2019-08-15      730     B\n",
       "2     2961555356  4069496402  2019-08-15      400     A\n",
       "3     3797467345  1196621759  2019-08-15     9759     B\n",
       "4     2282983706  2322279887  2019-08-15     2308     B"
      ]
     },
     "execution_count": 8,
     "metadata": {},
     "output_type": "execute_result"
    }
   ],
   "source": [
    "try: \n",
    "    orders = pd.read_csv('D:\\Yandex_Data_Analysis\\Project_7\\orders.csv')\n",
    "except:\n",
    "    orders = pd.read_csv('/datasets/orders.csv')\n",
    "orders.head()"
   ]
  },
  {
   "cell_type": "code",
   "execution_count": 9,
   "id": "faa06214",
   "metadata": {},
   "outputs": [
    {
     "name": "stdout",
     "output_type": "stream",
     "text": [
      "<class 'pandas.core.frame.DataFrame'>\n",
      "RangeIndex: 1197 entries, 0 to 1196\n",
      "Data columns (total 5 columns):\n",
      " #   Column         Non-Null Count  Dtype \n",
      "---  ------         --------------  ----- \n",
      " 0   transactionId  1197 non-null   int64 \n",
      " 1   visitorId      1197 non-null   int64 \n",
      " 2   date           1197 non-null   object\n",
      " 3   revenue        1197 non-null   int64 \n",
      " 4   group          1197 non-null   object\n",
      "dtypes: int64(3), object(2)\n",
      "memory usage: 46.9+ KB\n"
     ]
    }
   ],
   "source": [
    "orders.info()"
   ]
  },
  {
   "cell_type": "markdown",
   "id": "27214a46",
   "metadata": {},
   "source": [
    "There are no empty values in the order file. The dataset type is correct. Let's check the dataset for obvious duplicates."
   ]
  },
  {
   "cell_type": "code",
   "execution_count": 10,
   "id": "d04422b4",
   "metadata": {},
   "outputs": [
    {
     "data": {
      "text/plain": [
       "0"
      ]
     },
     "execution_count": 10,
     "metadata": {},
     "output_type": "execute_result"
    }
   ],
   "source": [
    "orders.duplicated().sum()"
   ]
  },
  {
   "cell_type": "markdown",
   "id": "d00c3dd3",
   "metadata": {},
   "source": [
    "No obvious duplicates.  \n",
    "Let's repeat the same steps with the visitors file."
   ]
  },
  {
   "cell_type": "code",
   "execution_count": 11,
   "id": "de4af69a",
   "metadata": {},
   "outputs": [
    {
     "data": {
      "text/html": [
       "<div>\n",
       "<style scoped>\n",
       "    .dataframe tbody tr th:only-of-type {\n",
       "        vertical-align: middle;\n",
       "    }\n",
       "\n",
       "    .dataframe tbody tr th {\n",
       "        vertical-align: top;\n",
       "    }\n",
       "\n",
       "    .dataframe thead th {\n",
       "        text-align: right;\n",
       "    }\n",
       "</style>\n",
       "<table border=\"1\" class=\"dataframe\">\n",
       "  <thead>\n",
       "    <tr style=\"text-align: right;\">\n",
       "      <th></th>\n",
       "      <th>date</th>\n",
       "      <th>group</th>\n",
       "      <th>visitors</th>\n",
       "    </tr>\n",
       "  </thead>\n",
       "  <tbody>\n",
       "    <tr>\n",
       "      <th>0</th>\n",
       "      <td>2019-08-01</td>\n",
       "      <td>A</td>\n",
       "      <td>719</td>\n",
       "    </tr>\n",
       "    <tr>\n",
       "      <th>1</th>\n",
       "      <td>2019-08-02</td>\n",
       "      <td>A</td>\n",
       "      <td>619</td>\n",
       "    </tr>\n",
       "    <tr>\n",
       "      <th>2</th>\n",
       "      <td>2019-08-03</td>\n",
       "      <td>A</td>\n",
       "      <td>507</td>\n",
       "    </tr>\n",
       "    <tr>\n",
       "      <th>3</th>\n",
       "      <td>2019-08-04</td>\n",
       "      <td>A</td>\n",
       "      <td>717</td>\n",
       "    </tr>\n",
       "    <tr>\n",
       "      <th>4</th>\n",
       "      <td>2019-08-05</td>\n",
       "      <td>A</td>\n",
       "      <td>756</td>\n",
       "    </tr>\n",
       "  </tbody>\n",
       "</table>\n",
       "</div>"
      ],
      "text/plain": [
       "         date group  visitors\n",
       "0  2019-08-01     A       719\n",
       "1  2019-08-02     A       619\n",
       "2  2019-08-03     A       507\n",
       "3  2019-08-04     A       717\n",
       "4  2019-08-05     A       756"
      ]
     },
     "execution_count": 11,
     "metadata": {},
     "output_type": "execute_result"
    }
   ],
   "source": [
    "try:\n",
    "    visitors = pd.read_csv(r'D:\\Yandex_Data_Analysis\\Project_7\\visitors.csv')\n",
    "except:\n",
    "    visitors = pd.read_csv('/datasets/visitors.csv')\n",
    "visitors.head()"
   ]
  },
  {
   "cell_type": "code",
   "execution_count": 12,
   "id": "e2eaa82e",
   "metadata": {},
   "outputs": [
    {
     "name": "stdout",
     "output_type": "stream",
     "text": [
      "<class 'pandas.core.frame.DataFrame'>\n",
      "RangeIndex: 62 entries, 0 to 61\n",
      "Data columns (total 3 columns):\n",
      " #   Column    Non-Null Count  Dtype \n",
      "---  ------    --------------  ----- \n",
      " 0   date      62 non-null     object\n",
      " 1   group     62 non-null     object\n",
      " 2   visitors  62 non-null     int64 \n",
      "dtypes: int64(1), object(2)\n",
      "memory usage: 1.6+ KB\n"
     ]
    }
   ],
   "source": [
    "visitors.info()"
   ]
  },
  {
   "cell_type": "code",
   "execution_count": 13,
   "id": "d4c54cd3",
   "metadata": {},
   "outputs": [
    {
     "data": {
      "text/plain": [
       "0"
      ]
     },
     "execution_count": 13,
     "metadata": {},
     "output_type": "execute_result"
    }
   ],
   "source": [
    "visitors.duplicated().sum()"
   ]
  },
  {
   "cell_type": "markdown",
   "id": "4c2c121b",
   "metadata": {},
   "source": [
    "There is also nothing wrong with this table.  \n",
    "Let's bring the column names of both tables to lower case for further convenience."
   ]
  },
  {
   "cell_type": "code",
   "execution_count": 14,
   "id": "ffe9a7f5",
   "metadata": {},
   "outputs": [],
   "source": [
    "orders.columns = [a.lower() for a in orders.columns]\n",
    "visitors.columns = [a.lower() for a in visitors.columns]"
   ]
  },
  {
   "cell_type": "markdown",
   "id": "743256db",
   "metadata": {},
   "source": [
    "Let's bring the data in the 'date' column to the date format."
   ]
  },
  {
   "cell_type": "code",
   "execution_count": 15,
   "id": "96c98d42",
   "metadata": {},
   "outputs": [],
   "source": [
    "orders['date'] = pd.to_datetime(orders['date'])\n",
    "visitors['date'] = pd.to_datetime(visitors['date'])"
   ]
  },
  {
   "cell_type": "markdown",
   "id": "f774fbc4",
   "metadata": {},
   "source": [
    "Let's make sure that the A/A test was performed correctly. The number of users in different groups should not differ by more than 1%."
   ]
  },
  {
   "cell_type": "code",
   "execution_count": 16,
   "id": "00a604e4",
   "metadata": {},
   "outputs": [
    {
     "data": {
      "text/plain": [
       "group\n",
       "A    503\n",
       "B    586\n",
       "Name: visitorid, dtype: int64"
      ]
     },
     "execution_count": 16,
     "metadata": {},
     "output_type": "execute_result"
    }
   ],
   "source": [
    "orders.groupby('group')['visitorid'].nunique()"
   ]
  },
  {
   "cell_type": "markdown",
   "id": "1d1628b5",
   "metadata": {},
   "source": [
    "As you can see the difference of unique buyers between the two groups is within 1%. The division of the test traffic is performed correctly and will not affect the quality of the analysis."
   ]
  },
  {
   "cell_type": "code",
   "execution_count": 17,
   "id": "f9fe4239",
   "metadata": {},
   "outputs": [
    {
     "data": {
      "text/html": [
       "<div>\n",
       "<style scoped>\n",
       "    .dataframe tbody tr th:only-of-type {\n",
       "        vertical-align: middle;\n",
       "    }\n",
       "\n",
       "    .dataframe tbody tr th {\n",
       "        vertical-align: top;\n",
       "    }\n",
       "\n",
       "    .dataframe thead th {\n",
       "        text-align: right;\n",
       "    }\n",
       "</style>\n",
       "<table border=\"1\" class=\"dataframe\">\n",
       "  <thead>\n",
       "    <tr style=\"text-align: right;\">\n",
       "      <th></th>\n",
       "      <th>visitorid</th>\n",
       "    </tr>\n",
       "    <tr>\n",
       "      <th>group</th>\n",
       "      <th></th>\n",
       "    </tr>\n",
       "  </thead>\n",
       "  <tbody>\n",
       "    <tr>\n",
       "      <th>A</th>\n",
       "      <td>503</td>\n",
       "    </tr>\n",
       "    <tr>\n",
       "      <th>B</th>\n",
       "      <td>586</td>\n",
       "    </tr>\n",
       "  </tbody>\n",
       "</table>\n",
       "</div>"
      ],
      "text/plain": [
       "       visitorid\n",
       "group           \n",
       "A            503\n",
       "B            586"
      ]
     },
     "execution_count": 17,
     "metadata": {},
     "output_type": "execute_result"
    }
   ],
   "source": [
    "orders.groupby('group').agg({'visitorid' : 'nunique'})"
   ]
  },
  {
   "cell_type": "markdown",
   "id": "db662e75",
   "metadata": {},
   "source": [
    "Let's check if there are the same unique users in both groups."
   ]
  },
  {
   "cell_type": "code",
   "execution_count": 18,
   "id": "1031478a",
   "metadata": {},
   "outputs": [
    {
     "data": {
      "text/plain": [
       "58"
      ]
     },
     "execution_count": 18,
     "metadata": {},
     "output_type": "execute_result"
    }
   ],
   "source": [
    "unique_visitors = orders.loc[:, ['visitorid', 'group']].drop_duplicates()\n",
    "unique_visitors['visitorid'].duplicated().sum()"
   ]
  },
  {
   "cell_type": "markdown",
   "id": "0591693e",
   "metadata": {},
   "source": [
    "As you can see, there are 58 users who were in both groups. This number is within 10% error, so these users should not distort the analysis much. Let's leave the data of unique users in the table."
   ]
  },
  {
   "cell_type": "markdown",
   "id": "eaf5568c",
   "metadata": {},
   "source": [
    "## 2.2. Create a graph of cumulative revenue by group."
   ]
  },
  {
   "cell_type": "code",
   "execution_count": 19,
   "id": "32575db3",
   "metadata": {},
   "outputs": [],
   "source": [
    "# create dataframe dates_groups with unique pairs of values 'date' and 'group', table orders; delete duplicates\n",
    "dates_groups = orders[['date', 'group']].drop_duplicates()\n",
    "\n",
    "\n",
    "orders_aggregated = dates_groups.apply(\n",
    "    lambda x: orders[\n",
    "        np.logical_and(\n",
    "            orders['date'] <= x['date'], orders['group'] == x['group']\n",
    "        )\n",
    "    ].agg(\n",
    "        {\n",
    "            'date': 'max', # date\n",
    "            'group': 'max', # A/B test group\n",
    "            'transactionid': 'nunique', # number of unique orders in the test group up to and including the specified date\n",
    "            'visitorid': 'nunique', # number of unique users who have made at least 1 order in the test group\n",
    "            'revenue': 'sum', # total revenue of orders in the test group up to and including the specified date\n",
    "        }\n",
    "    ),\n",
    "    axis=1,\n",
    ").sort_values(by=['date', 'group'])\n",
    "\n",
    "\n",
    "visitors_aggregated = dates_groups.apply(\n",
    "    lambda x: visitors[\n",
    "        np.logical_and(\n",
    "            visitors['date'] <= x['date'], visitors['group'] == x['group']\n",
    "        )\n",
    "    ].agg({'date': 'max', 'group': 'max', 'visitors': 'sum'}),\n",
    "    axis=1,\n",
    ").sort_values(by=['date', 'group'])\n",
    "\n",
    "cumulative_data = orders_aggregated.merge(\n",
    "    visitors_aggregated, left_on=['date', 'group'], right_on=['date', 'group']\n",
    ")\n",
    "\n",
    "# rename cumulativeData column names\n",
    "cumulative_data.columns = [\n",
    "    'date',\n",
    "    'group',\n",
    "    'orders',\n",
    "    'buyers',\n",
    "    'revenue',\n",
    "    'visitors',\n",
    "]\n",
    "\n",
    "\n",
    "# variable with data on dates, revenue and number of orders in group A\n",
    "cumulative_revenue_a = cumulative_data[cumulative_data['group'] == 'A'][\n",
    "    ['date', 'revenue', 'orders']\n",
    "]\n",
    "\n",
    "# variable with data on dates, revenue and number of orders in group B\n",
    "cumulative_revenue_b = cumulative_data[cumulative_data['group'] == 'B'][\n",
    "    ['date', 'revenue', 'orders']\n",
    "]"
   ]
  },
  {
   "cell_type": "markdown",
   "id": "942ae372",
   "metadata": {},
   "source": [
    "**Graph of cumulative revenue by group**"
   ]
  },
  {
   "cell_type": "code",
   "execution_count": 20,
   "id": "3c7556b3",
   "metadata": {},
   "outputs": [
    {
     "data": {
      "image/png": "[encoded data removed]",
      "text/plain": [
       "<Figure size 1080x576 with 1 Axes>"
      ]
     },
     "metadata": {
      "needs_background": "light"
     },
     "output_type": "display_data"
    }
   ],
   "source": [
    "plt.rcParams[\"figure.figsize\"] = (15,8)\n",
    "# Group A revenue chart\n",
    "plt.plot(cumulative_revenue_a['date'], cumulative_revenue_a['revenue'], label='A')\n",
    "\n",
    "# Group B revenue chart\n",
    "plt.plot(cumulative_revenue_b['date'], cumulative_revenue_b['revenue'], label='B')\n",
    "\n",
    "plt.tick_params(labelsize=12)\n",
    "plt.title('Graph of cumulative revenue by groups', fontsize = 22)\n",
    "plt.xlabel('Date', fontsize = 18)\n",
    "plt.grid(True)\n",
    "plt.legend(prop={'size': 12});"
   ]
  },
  {
   "cell_type": "markdown",
   "id": "605e1f34",
   "metadata": {},
   "source": [
    "It is noticeable in the graph that Group A's revenue has been growing evenly all the time. At the same time, the revenue of group B was always slightly higher, but after 17.08.2019 there was a sharp upward jump and the profits increased and remained at the same level. This may be due to an increase in the total number of orders or the average check of goods increased."
   ]
  },
  {
   "cell_type": "markdown",
   "id": "49be6d1c",
   "metadata": {},
   "source": [
    "## 2.3. Create a graph of cumulative average check by group."
   ]
  },
  {
   "cell_type": "code",
   "execution_count": 21,
   "id": "e15dd215",
   "metadata": {},
   "outputs": [
    {
     "data": {
      "image/png": "[encoded data removed]",
      "text/plain": [
       "<Figure size 1080x576 with 1 Axes>"
      ]
     },
     "metadata": {
      "needs_background": "light"
     },
     "output_type": "display_data"
    }
   ],
   "source": [
    "# Group A average check chart\n",
    "plt.plot(cumulative_revenue_a['date'], cumulative_revenue_a['revenue']/cumulative_revenue_a['orders'], label='A')\n",
    "\n",
    "# Group B average check chart\n",
    "plt.plot(cumulative_revenue_b['date'], cumulative_revenue_b['revenue']/cumulative_revenue_b['orders'], label='B')\n",
    "\n",
    "plt.title('Graph of cumulative average check by groups', fontsize = 22)\n",
    "plt.xlabel('Date', fontsize = 18)\n",
    "plt.tick_params(labelsize=12)\n",
    "plt.grid(True)\n",
    "plt.legend(prop={'size': 12});"
   ]
  },
  {
   "cell_type": "markdown",
   "id": "898b8b18",
   "metadata": {},
   "source": [
    "As can be seen from the chart, the average check of group A reached its maximum in the middle of August, then there was a slight decline, but by the end of the month it returned to the maximum value. In group B the average check was higher, also in the middle of the month there was a sharp jump up and the following decline. This may be due to the appearance of a large order, which may have confused the true picture."
   ]
  },
  {
   "cell_type": "markdown",
   "id": "389bc500",
   "metadata": {},
   "source": [
    "## 2.4. Create a graph of the relative change in the cumulative average check of group B to group A."
   ]
  },
  {
   "cell_type": "code",
   "execution_count": 22,
   "id": "5fa02585",
   "metadata": {},
   "outputs": [
    {
     "data": {
      "image/png": "[encoded data removed]",
      "text/plain": [
       "<Figure size 1080x576 with 1 Axes>"
      ]
     },
     "metadata": {
      "needs_background": "light"
     },
     "output_type": "display_data"
    }
   ],
   "source": [
    "merged_cumulative_revenue  = cumulative_revenue_a.merge(cumulative_revenue_b, \n",
    "                                                    left_on='date', \n",
    "                                                    right_on='date', \n",
    "                                                    how='left', \n",
    "                                                    suffixes=['_a', '_b'])\n",
    "\n",
    "# build the ratio of average checks\n",
    "plt.plot(merged_cumulative_revenue['date'], \n",
    "        (merged_cumulative_revenue['revenue_b']/merged_cumulative_revenue['orders_b'])\n",
    "         /(merged_cumulative_revenue['revenue_a']/merged_cumulative_revenue['orders_a'])-1);\n",
    "\n",
    "# add the X-axis\n",
    "plt.axhline(y=0, color='black', linestyle='--');\n",
    "\n",
    "plt.title('Graph of relative change in cumulative average check of group B to group A', fontsize = 20)\n",
    "plt.xlabel('Date', fontsize = 18)\n",
    "plt.tick_params(labelsize=12)\n",
    "plt.grid(True)\n",
    "plt.show()"
   ]
  },
  {
   "cell_type": "markdown",
   "id": "b7009fc5",
   "metadata": {},
   "source": [
    "There are several sharp spikes noticeable on the graph. This indicates that there were some very large orders that affected the whole picture."
   ]
  },
  {
   "cell_type": "markdown",
   "id": "9f710d70",
   "metadata": {},
   "source": [
    "## 2.5. Creating a cumulative conversion graph by group."
   ]
  },
  {
   "cell_type": "markdown",
   "id": "668d6f09",
   "metadata": {},
   "source": [
    "Let's find the earliest and latest dates in the tables."
   ]
  },
  {
   "cell_type": "code",
   "execution_count": 25,
   "id": "79340a89",
   "metadata": {},
   "outputs": [
    {
     "name": "stdout",
     "output_type": "stream",
     "text": [
      "Test start date: 2019-08-01 00:00:00\n",
      "Test end date: 2019-08-31 00:00:00\n",
      "Test start date: 2019-08-01 00:00:00\n",
      "Test end date: 2019-08-31 00:00:00\n"
     ]
    }
   ],
   "source": [
    "print('Test start date: ',orders.date.min(),'\\n',\n",
    "      'Test end date: ',orders.date.max(),'\\n',\n",
    "      'Test start date: ',visitors.date.min(),'\\n',\n",
    "      'Test end date: ',visitors.date.max(),sep='')"
   ]
  },
  {
   "cell_type": "markdown",
   "id": "e61a4f03",
   "metadata": {},
   "source": [
    "The minimum and maximum dates in the two tables are the same - August 1 and August 31, 2019, respectively. These dates will be needed for plotting the graphs."
   ]
  },
  {
   "cell_type": "code",
   "execution_count": 26,
   "id": "7729a476",
   "metadata": {},
   "outputs": [
    {
     "data": {
      "text/html": [
       "<div>\n",
       "<style scoped>\n",
       "    .dataframe tbody tr th:only-of-type {\n",
       "        vertical-align: middle;\n",
       "    }\n",
       "\n",
       "    .dataframe tbody tr th {\n",
       "        vertical-align: top;\n",
       "    }\n",
       "\n",
       "    .dataframe thead th {\n",
       "        text-align: right;\n",
       "    }\n",
       "</style>\n",
       "<table border=\"1\" class=\"dataframe\">\n",
       "  <thead>\n",
       "    <tr style=\"text-align: right;\">\n",
       "      <th></th>\n",
       "      <th>date</th>\n",
       "      <th>group</th>\n",
       "      <th>orders</th>\n",
       "      <th>buyers</th>\n",
       "      <th>revenue</th>\n",
       "      <th>visitors</th>\n",
       "    </tr>\n",
       "  </thead>\n",
       "  <tbody>\n",
       "    <tr>\n",
       "      <th>0</th>\n",
       "      <td>2019-08-01</td>\n",
       "      <td>A</td>\n",
       "      <td>24</td>\n",
       "      <td>20</td>\n",
       "      <td>148579</td>\n",
       "      <td>719</td>\n",
       "    </tr>\n",
       "    <tr>\n",
       "      <th>1</th>\n",
       "      <td>2019-08-01</td>\n",
       "      <td>B</td>\n",
       "      <td>21</td>\n",
       "      <td>20</td>\n",
       "      <td>101217</td>\n",
       "      <td>713</td>\n",
       "    </tr>\n",
       "    <tr>\n",
       "      <th>2</th>\n",
       "      <td>2019-08-02</td>\n",
       "      <td>A</td>\n",
       "      <td>44</td>\n",
       "      <td>38</td>\n",
       "      <td>242401</td>\n",
       "      <td>1338</td>\n",
       "    </tr>\n",
       "    <tr>\n",
       "      <th>3</th>\n",
       "      <td>2019-08-02</td>\n",
       "      <td>B</td>\n",
       "      <td>45</td>\n",
       "      <td>43</td>\n",
       "      <td>266748</td>\n",
       "      <td>1294</td>\n",
       "    </tr>\n",
       "    <tr>\n",
       "      <th>4</th>\n",
       "      <td>2019-08-03</td>\n",
       "      <td>A</td>\n",
       "      <td>68</td>\n",
       "      <td>62</td>\n",
       "      <td>354874</td>\n",
       "      <td>1845</td>\n",
       "    </tr>\n",
       "    <tr>\n",
       "      <th>...</th>\n",
       "      <td>...</td>\n",
       "      <td>...</td>\n",
       "      <td>...</td>\n",
       "      <td>...</td>\n",
       "      <td>...</td>\n",
       "      <td>...</td>\n",
       "    </tr>\n",
       "    <tr>\n",
       "      <th>57</th>\n",
       "      <td>2019-08-29</td>\n",
       "      <td>B</td>\n",
       "      <td>596</td>\n",
       "      <td>544</td>\n",
       "      <td>5559398</td>\n",
       "      <td>17708</td>\n",
       "    </tr>\n",
       "    <tr>\n",
       "      <th>58</th>\n",
       "      <td>2019-08-30</td>\n",
       "      <td>A</td>\n",
       "      <td>545</td>\n",
       "      <td>493</td>\n",
       "      <td>4022970</td>\n",
       "      <td>18037</td>\n",
       "    </tr>\n",
       "    <tr>\n",
       "      <th>59</th>\n",
       "      <td>2019-08-30</td>\n",
       "      <td>B</td>\n",
       "      <td>620</td>\n",
       "      <td>567</td>\n",
       "      <td>5774631</td>\n",
       "      <td>18198</td>\n",
       "    </tr>\n",
       "    <tr>\n",
       "      <th>60</th>\n",
       "      <td>2019-08-31</td>\n",
       "      <td>A</td>\n",
       "      <td>557</td>\n",
       "      <td>503</td>\n",
       "      <td>4084803</td>\n",
       "      <td>18736</td>\n",
       "    </tr>\n",
       "    <tr>\n",
       "      <th>61</th>\n",
       "      <td>2019-08-31</td>\n",
       "      <td>B</td>\n",
       "      <td>640</td>\n",
       "      <td>586</td>\n",
       "      <td>5907760</td>\n",
       "      <td>18916</td>\n",
       "    </tr>\n",
       "  </tbody>\n",
       "</table>\n",
       "<p>62 rows × 6 columns</p>\n",
       "</div>"
      ],
      "text/plain": [
       "         date group  orders  buyers  revenue  visitors\n",
       "0  2019-08-01     A      24      20   148579       719\n",
       "1  2019-08-01     B      21      20   101217       713\n",
       "2  2019-08-02     A      44      38   242401      1338\n",
       "3  2019-08-02     B      45      43   266748      1294\n",
       "4  2019-08-03     A      68      62   354874      1845\n",
       "..        ...   ...     ...     ...      ...       ...\n",
       "57 2019-08-29     B     596     544  5559398     17708\n",
       "58 2019-08-30     A     545     493  4022970     18037\n",
       "59 2019-08-30     B     620     567  5774631     18198\n",
       "60 2019-08-31     A     557     503  4084803     18736\n",
       "61 2019-08-31     B     640     586  5907760     18916\n",
       "\n",
       "[62 rows x 6 columns]"
      ]
     },
     "execution_count": 26,
     "metadata": {},
     "output_type": "execute_result"
    }
   ],
   "source": [
    "cumulative_data"
   ]
  },
  {
   "cell_type": "code",
   "execution_count": 27,
   "id": "a11bac97",
   "metadata": {
    "scrolled": false
   },
   "outputs": [
    {
     "data": {
      "image/png": "[encoded data removed]",
      "text/plain": [
       "<Figure size 1080x576 with 1 Axes>"
      ]
     },
     "metadata": {
      "needs_background": "light"
     },
     "output_type": "display_data"
    }
   ],
   "source": [
    "# calculate cumulative conversion\n",
    "cumulative_data['conversion'] = cumulative_data['orders']/cumulative_data['visitors']\n",
    "\n",
    "# separate group A data\n",
    "cumulative_data_a = cumulative_data[cumulative_data['group']=='A']\n",
    "\n",
    "# separate group B data\n",
    "cumulative_data_b = cumulative_data[cumulative_data['group']=='B']\n",
    "\n",
    "# plot the graphs\n",
    "plt.plot(cumulative_data_a['date'], cumulative_data_a['conversion'], label='A')\n",
    "plt.plot(cumulative_data_b['date'], cumulative_data_b['conversion'], label='B')\n",
    "\n",
    "# set the scale of the axes\n",
    "plt.axis([dt.datetime(2019, 8, 1), dt.datetime(2019, 9, 1), 0.025, 0.04])\n",
    "\n",
    "plt.title('Graph of cumulative conversion by groups', fontsize = 20)\n",
    "plt.xlabel('Date', fontsize = 18)\n",
    "plt.tick_params(labelsize=12)\n",
    "plt.grid(True)\n",
    "plt.legend(prop={'size': 12});"
   ]
  },
  {
   "cell_type": "markdown",
   "id": "b7c73859",
   "metadata": {},
   "source": [
    "Conversions of both groups are symmetrical and settled at approximately the same value after 08/13/2019. The conversion of Group B was 0.4% better by the end of the month."
   ]
  },
  {
   "cell_type": "markdown",
   "id": "922eb43b",
   "metadata": {},
   "source": [
    "## 2.6. Creating a graph of relative change in cumulative conversion of group B to group A"
   ]
  },
  {
   "cell_type": "code",
   "execution_count": 28,
   "id": "41eb53aa",
   "metadata": {},
   "outputs": [
    {
     "data": {
      "image/png": "[encoded data removed]",
      "text/plain": [
       "<Figure size 1080x576 with 1 Axes>"
      ]
     },
     "metadata": {
      "needs_background": "light"
     },
     "output_type": "display_data"
    }
   ],
   "source": [
    "merged_cumulative_conversions = cumulative_data_a[['date','conversion']].merge(cumulative_data_b[['date','conversion']], \n",
    "                                                                           left_on='date', \n",
    "                                                                           right_on='date', \n",
    "                                                                           how='left', \n",
    "                                                                           suffixes=['_a', '_b'])\n",
    "\n",
    "plt.plot(merged_cumulative_conversions['date'], \n",
    "         merged_cumulative_conversions['conversion_b']/merged_cumulative_conversions['conversion_a']-1, \n",
    "         label=\"Relative increase in conversion of group B versus group A\")\n",
    "plt.legend()\n",
    "\n",
    "plt.axhline(y=0, color='black', linestyle='--')\n",
    "plt.axhline(y=0.2, color='grey', linestyle='--')\n",
    "plt.axis([dt.datetime(2019, 8, 1), dt.datetime(2019, 9, 1), -0.3, 0.4])\n",
    "\n",
    "\n",
    "plt.title('Graph of relative change in cumulative conversion of group B to group A', fontsize = 19)\n",
    "plt.xlabel('Date', fontsize = 18)\n",
    "plt.tick_params(labelsize=12)\n",
    "plt.grid(True)\n",
    "plt.legend(prop={'size': 12});"
   ]
  },
  {
   "cell_type": "markdown",
   "id": "5c1915e2",
   "metadata": {},
   "source": [
    "At the beginning of the test, group B was mostly losing to group A, but from August 6, it finally took the lead. From August 8, the increase ranged from 10 to 20%, gradually decreasing by the end of the month."
   ]
  },
  {
   "cell_type": "markdown",
   "id": "4106cd6a",
   "metadata": {},
   "source": [
    "## 2.7. Creating a dot plot of the number of orders by user"
   ]
  },
  {
   "cell_type": "code",
   "execution_count": 29,
   "id": "9dad989c",
   "metadata": {},
   "outputs": [
    {
     "name": "stdout",
     "output_type": "stream",
     "text": [
      "       visitorid  orders\n",
      "1023  4256040402      11\n",
      "591   2458001652      11\n",
      "569   2378935119       9\n",
      "487   2038680547       8\n",
      "44     199603092       5\n",
      "744   3062433592       5\n",
      "55     237748145       5\n",
      "917   3803269165       5\n",
      "299   1230306981       5\n",
      "897   3717692402       5\n"
     ]
    },
    {
     "data": {
      "image/png": "[encoded data removed]",
      "text/plain": [
       "<Figure size 1080x576 with 1 Axes>"
      ]
     },
     "metadata": {
      "needs_background": "light"
     },
     "output_type": "display_data"
    }
   ],
   "source": [
    "orders_by_users = (\n",
    "    orders.groupby('visitorid', as_index=False)\n",
    "    .agg({'transactionid': pd.Series.nunique})\n",
    ")\n",
    "orders_by_users.columns = ['visitorid', 'orders']\n",
    "\n",
    "print(orders_by_users.sort_values(by='orders', ascending=False).head(10))\n",
    "\n",
    "# a series of numbers from 0 to the number of observations in orders_by_users\n",
    "x_values = pd.Series(range(0, len(orders_by_users)))\n",
    "plt.scatter(x_values, orders_by_users['orders']);\n",
    "\n",
    "plt.title('Dot plot of the number of orders by user', fontsize = 20)\n",
    "plt.ylabel('Number of orders', fontsize = 18)\n",
    "plt.tick_params(labelsize=12)\n",
    "plt.grid(True)\n",
    "plt.show()"
   ]
  },
  {
   "cell_type": "markdown",
   "id": "8b2987d0",
   "metadata": {},
   "source": [
    "There are very few users who have made more than two orders. There is a certain number of users who have made two orders. But in order to estimate how many it is, it is necessary to calculate sample percentiles."
   ]
  },
  {
   "cell_type": "markdown",
   "id": "32a26ae4",
   "metadata": {},
   "source": [
    "## 2.8. Calculation of the 95th and 99th percentiles of the number of orders per user. Selecting the boundary for defining abnormal users."
   ]
  },
  {
   "cell_type": "code",
   "execution_count": 30,
   "id": "9363186a",
   "metadata": {},
   "outputs": [
    {
     "name": "stdout",
     "output_type": "stream",
     "text": [
      "[2. 4.]\n"
     ]
    }
   ],
   "source": [
    "print(np.percentile(orders_by_users['orders'], [95, 99]))"
   ]
  },
  {
   "cell_type": "markdown",
   "id": "503a681d",
   "metadata": {},
   "source": [
    "No more than 5% of users made more than two orders and no more than 1% of users made more than 4 orders. It is reasonable to take 2 orders per user as the lower limit of the number of orders, and weed out abnormal users exceeding it."
   ]
  },
  {
   "cell_type": "markdown",
   "id": "553c7e1f",
   "metadata": {},
   "source": [
    "## 2.9. Creating a dot plot of order values"
   ]
  },
  {
   "cell_type": "code",
   "execution_count": 31,
   "id": "6352809b",
   "metadata": {},
   "outputs": [
    {
     "data": {
      "text/html": [
       "<div>\n",
       "<style scoped>\n",
       "    .dataframe tbody tr th:only-of-type {\n",
       "        vertical-align: middle;\n",
       "    }\n",
       "\n",
       "    .dataframe tbody tr th {\n",
       "        vertical-align: top;\n",
       "    }\n",
       "\n",
       "    .dataframe thead th {\n",
       "        text-align: right;\n",
       "    }\n",
       "</style>\n",
       "<table border=\"1\" class=\"dataframe\">\n",
       "  <thead>\n",
       "    <tr style=\"text-align: right;\">\n",
       "      <th></th>\n",
       "      <th>transactionid</th>\n",
       "      <th>visitorid</th>\n",
       "      <th>date</th>\n",
       "      <th>revenue</th>\n",
       "      <th>group</th>\n",
       "    </tr>\n",
       "  </thead>\n",
       "  <tbody>\n",
       "    <tr>\n",
       "      <th>425</th>\n",
       "      <td>590470918</td>\n",
       "      <td>1920142716</td>\n",
       "      <td>2019-08-19</td>\n",
       "      <td>1294500</td>\n",
       "      <td>B</td>\n",
       "    </tr>\n",
       "    <tr>\n",
       "      <th>1196</th>\n",
       "      <td>3936777065</td>\n",
       "      <td>2108080724</td>\n",
       "      <td>2019-08-15</td>\n",
       "      <td>202740</td>\n",
       "      <td>B</td>\n",
       "    </tr>\n",
       "    <tr>\n",
       "      <th>858</th>\n",
       "      <td>192721366</td>\n",
       "      <td>1316129916</td>\n",
       "      <td>2019-08-27</td>\n",
       "      <td>93940</td>\n",
       "      <td>A</td>\n",
       "    </tr>\n",
       "    <tr>\n",
       "      <th>1136</th>\n",
       "      <td>666610489</td>\n",
       "      <td>1307669133</td>\n",
       "      <td>2019-08-13</td>\n",
       "      <td>92550</td>\n",
       "      <td>A</td>\n",
       "    </tr>\n",
       "    <tr>\n",
       "      <th>744</th>\n",
       "      <td>3668308183</td>\n",
       "      <td>888512513</td>\n",
       "      <td>2019-08-27</td>\n",
       "      <td>86620</td>\n",
       "      <td>B</td>\n",
       "    </tr>\n",
       "    <tr>\n",
       "      <th>682</th>\n",
       "      <td>1216533772</td>\n",
       "      <td>4266935830</td>\n",
       "      <td>2019-08-29</td>\n",
       "      <td>78990</td>\n",
       "      <td>B</td>\n",
       "    </tr>\n",
       "    <tr>\n",
       "      <th>662</th>\n",
       "      <td>1811671147</td>\n",
       "      <td>4266935830</td>\n",
       "      <td>2019-08-29</td>\n",
       "      <td>78990</td>\n",
       "      <td>A</td>\n",
       "    </tr>\n",
       "    <tr>\n",
       "      <th>743</th>\n",
       "      <td>3603576309</td>\n",
       "      <td>4133034833</td>\n",
       "      <td>2019-08-09</td>\n",
       "      <td>67990</td>\n",
       "      <td>A</td>\n",
       "    </tr>\n",
       "    <tr>\n",
       "      <th>1103</th>\n",
       "      <td>1348774318</td>\n",
       "      <td>1164614297</td>\n",
       "      <td>2019-08-12</td>\n",
       "      <td>66350</td>\n",
       "      <td>A</td>\n",
       "    </tr>\n",
       "    <tr>\n",
       "      <th>1099</th>\n",
       "      <td>316924019</td>\n",
       "      <td>148427295</td>\n",
       "      <td>2019-08-12</td>\n",
       "      <td>65710</td>\n",
       "      <td>A</td>\n",
       "    </tr>\n",
       "  </tbody>\n",
       "</table>\n",
       "</div>"
      ],
      "text/plain": [
       "      transactionid   visitorid       date  revenue group\n",
       "425       590470918  1920142716 2019-08-19  1294500     B\n",
       "1196     3936777065  2108080724 2019-08-15   202740     B\n",
       "858       192721366  1316129916 2019-08-27    93940     A\n",
       "1136      666610489  1307669133 2019-08-13    92550     A\n",
       "744      3668308183   888512513 2019-08-27    86620     B\n",
       "682      1216533772  4266935830 2019-08-29    78990     B\n",
       "662      1811671147  4266935830 2019-08-29    78990     A\n",
       "743      3603576309  4133034833 2019-08-09    67990     A\n",
       "1103     1348774318  1164614297 2019-08-12    66350     A\n",
       "1099      316924019   148427295 2019-08-12    65710     A"
      ]
     },
     "metadata": {},
     "output_type": "display_data"
    },
    {
     "data": {
      "image/png": "[encoded data removed]",
      "text/plain": [
       "<Figure size 1080x576 with 1 Axes>"
      ]
     },
     "metadata": {
      "needs_background": "light"
     },
     "output_type": "display_data"
    }
   ],
   "source": [
    "display(orders.sort_values(by='revenue', ascending=False).head(10))\n",
    "\n",
    "x_values = pd.Series(range(0, len(orders['revenue'])))\n",
    "plt.scatter(x_values, orders['revenue']);\n",
    "plt.title('Dot plot of order values', fontsize = 20)\n",
    "plt.ylabel('Order value in million units', fontsize = 18)\n",
    "plt.tick_params(labelsize=12)\n",
    "plt.grid(True)\n",
    "plt.show()"
   ]
  },
  {
   "cell_type": "markdown",
   "id": "24f3041d",
   "metadata": {},
   "source": [
    "As you would expect - there is one largest order in the database in the amount of 1,294,500 units. This order is highly anomalous compared to other orders. There is also an order of 202,740 units. All other orders are below 93,940 units."
   ]
  },
  {
   "cell_type": "markdown",
   "id": "ad27d8ff",
   "metadata": {},
   "source": [
    "## 2.10. Calculation of the 95th and 99th percentiles of order value. Selecting the boundary for defining abnormal orders"
   ]
  },
  {
   "cell_type": "code",
   "execution_count": 32,
   "id": "bbba783e",
   "metadata": {},
   "outputs": [
    {
     "name": "stdout",
     "output_type": "stream",
     "text": [
      "[28000.  58233.2]\n"
     ]
    }
   ],
   "source": [
    "print(np.percentile(orders['revenue'], [95, 99])) "
   ]
  },
  {
   "cell_type": "markdown",
   "id": "fc26fa88",
   "metadata": {},
   "source": [
    "No more than 5% of users have an average check more expensive than 28 thousand units. No more than 1% have an average check more expensive than 58,233.2 units. The limit for defining abnormal orders should be 28 thousand units."
   ]
  },
  {
   "cell_type": "markdown",
   "id": "d6714e9c",
   "metadata": {},
   "source": [
    "## 2.11. Calculation of statistical significance of differences in conversion between groups using raw data"
   ]
  },
  {
   "cell_type": "markdown",
   "id": "214395ac",
   "metadata": {},
   "source": [
    "**Null Hypothesis:** *There are no differences in conversion between groups.*\n",
    "\n",
    "**Alternative hypothesis:** *There are differences in conversion between groups.*"
   ]
  },
  {
   "cell_type": "code",
   "execution_count": 33,
   "id": "78c07dab",
   "metadata": {},
   "outputs": [
    {
     "name": "stdout",
     "output_type": "stream",
     "text": [
      "p-value = 0.00840\n",
      "Relative increase in the average number of Group B orders: 0.138\n"
     ]
    }
   ],
   "source": [
    "visitors_a_daily = visitors[visitors['group'] == 'A'][['date', 'visitors']]\n",
    "visitors_a_daily.columns = ['date', 'visitors_per_date_a']\n",
    "\n",
    "visitors_a_cummulative = visitors_a_daily.apply(\n",
    "    lambda x: visitors_a_daily[visitors_a_daily['date'] <= x['date']].agg(\n",
    "        {'date': 'max', 'visitors_per_date_a': 'sum'}\n",
    "    ),\n",
    "    axis=1,\n",
    ")\n",
    "visitors_a_cummulative.columns = ['date', 'visitors_cummulative_a']\n",
    "\n",
    "visitors_b_daily = visitors[visitors['group'] == 'B'][['date', 'visitors']]\n",
    "visitors_b_daily.columns = ['date', 'visitors_per_date_b']\n",
    "\n",
    "visitors_b_cummulative = visitors_b_daily.apply(\n",
    "    lambda x: visitors_b_daily[visitors_b_daily['date'] <= x['date']].agg(\n",
    "        {'date': 'max', 'visitors_per_date_b': 'sum'}\n",
    "    ),\n",
    "    axis=1,\n",
    ")\n",
    "visitors_b_cummulative.columns = ['date', 'visitors_cummulative_b']\n",
    "\n",
    "orders_a_daily = (\n",
    "    orders[orders['group'] == 'A'][['date', 'transactionid', 'visitorid', 'revenue']]\n",
    "    .groupby('date', as_index=False)\n",
    "    .agg({'transactionid': pd.Series.nunique, 'revenue': 'sum'})\n",
    ")\n",
    "orders_a_daily.columns = ['date', 'orders_per_date_a', 'revenue_per_date_a']\n",
    "\n",
    "orders_a_cummulative = orders_a_daily.apply(lambda x: orders_a_daily[orders_a_daily['date'] <= x['date']].agg(\n",
    "    {'date': 'max', 'orders_per_date_a': 'sum', 'revenue_per_date_a': 'sum'}), axis=1).sort_values(by=['date'])\n",
    "orders_a_cummulative.columns = [\n",
    "    'date',\n",
    "    'orders_cummulative_a',\n",
    "    'revenue_cummulative_a',\n",
    "]\n",
    "\n",
    "orders_b_daily = (\n",
    "    orders[orders['group'] == 'B'][['date', 'transactionid', 'visitorid', 'revenue']]\n",
    "    .groupby('date', as_index=False)\n",
    "    .agg({'transactionid': pd.Series.nunique, 'revenue': 'sum'})\n",
    ")\n",
    "orders_b_daily.columns = ['date', 'orders_per_date_b', 'revenue_per_date_b']\n",
    "\n",
    "orders_b_cummulative = orders_b_daily.apply(\n",
    "    lambda x: orders_b_daily[orders_b_daily['date'] <= x['date']].agg(\n",
    "        {'date': 'max', 'orders_per_date_b': 'sum', 'revenue_per_date_b': 'sum'}),axis=1).sort_values(by=['date'])\n",
    "orders_b_cummulative.columns = [ 'date','orders_cummulative_b','revenue_cummulative_b']\n",
    "\n",
    "data = (\n",
    "    orders_a_daily.merge(\n",
    "        orders_b_daily, left_on='date', right_on='date', how='left'\n",
    "    )\n",
    "    .merge(orders_a_cummulative, left_on='date', right_on='date', how='left')\n",
    "    .merge(orders_b_cummulative, left_on='date', right_on='date', how='left')\n",
    "    .merge(visitors_a_daily, left_on='date', right_on='date', how='left')\n",
    "    .merge(visitors_b_daily, left_on='date', right_on='date', how='left')\n",
    "    .merge(visitors_a_cummulative, left_on='date', right_on='date', how='left')\n",
    "    .merge(visitors_b_cummulative, left_on='date', right_on='date', how='left')\n",
    ")\n",
    "\n",
    "# for users who have made at least 1 order, the number of orders will be shown\n",
    "orders_by_users_a = (\n",
    "    orders[orders['group'] == 'A']\n",
    "    .groupby('visitorid', as_index=False)\n",
    "    .agg({'transactionid': pd.Series.nunique})\n",
    ")\n",
    "orders_by_users_a.columns = ['userid', 'orders']\n",
    "\n",
    "orders_by_users_b = (\n",
    "    orders[orders['group'] == 'B']\n",
    "    .groupby('visitorid', as_index=False)\n",
    "    .agg({'transactionid': pd.Series.nunique})\n",
    ")\n",
    "orders_by_users_b.columns = ['userid', 'orders'] \n",
    "\n",
    "# users with orders will be matched with the number of user orders, and users without orders will be matched with zeros\n",
    "sample_a = pd.concat([orders_by_users_a['orders'],pd.Series(0,\n",
    "          index=np.arange(data['visitors_per_date_a'].sum() - len(orders_by_users_a['orders'])), name='orders')],axis=0)\n",
    "\n",
    "sample_b = pd.concat([orders_by_users_b['orders'],pd.Series(0,\n",
    "          index=np.arange(data['visitors_per_date_b'].sum() - len(orders_by_users_b['orders'])), name='orders')],axis=0)\n",
    "\n",
    "print('p-value =', \"{0:.5f}\".format(stats.mannwhitneyu(sample_a, sample_b)[1]))\n",
    "\n",
    "print('Relative increase in the average number of Group B orders:', \"{0:.3f}\".format(sample_b.mean() / sample_a.mean() - 1))"
   ]
  },
  {
   "cell_type": "markdown",
   "id": "eeaae2ad",
   "metadata": {},
   "source": [
    " p-value = 0.01679 < 0.05, means that the null hypothesis is refuted, hence **there is difference in conversion between groups**.  The relative increase in the conversion rate of group B to group A is **13.8%.**"
   ]
  },
  {
   "cell_type": "markdown",
   "id": "2fe19828",
   "metadata": {},
   "source": [
    "## 2.12. Calculation of statistical significance of differences in average order receipt between groups using \"raw\" data"
   ]
  },
  {
   "cell_type": "markdown",
   "id": "945f46c2",
   "metadata": {},
   "source": [
    "**The null hypothesis:**  *there is no difference in the average check between the groups.*\n",
    "\n",
    "**Alternative hypothesis:** *There are differences in the average check between the groups.*"
   ]
  },
  {
   "cell_type": "code",
   "execution_count": 34,
   "id": "28dda914",
   "metadata": {},
   "outputs": [
    {
     "name": "stdout",
     "output_type": "stream",
     "text": [
      "p-value = 0.365\n",
      "Relative difference in average check between groups: 0.259\n"
     ]
    }
   ],
   "source": [
    "print('p-value =','{0:.3f}'.format(stats.mannwhitneyu(orders[orders['group']=='A']['revenue'], \n",
    "                                          orders[orders['group']=='B']['revenue'])[1]))\n",
    "print('Relative difference in average check between groups:','{0:.3f}'.format(orders[orders['group']=='B']['revenue']\n",
    "                       .mean()/orders[orders['group']=='A']['revenue']\n",
    "                       .mean()-1)) "
   ]
  },
  {
   "cell_type": "markdown",
   "id": "d385c919",
   "metadata": {},
   "source": [
    "P-value is much greater than 0.05 - there are no statistically significant differences in the average check between the groups. The relative difference in the average check between the groups is 25.9%."
   ]
  },
  {
   "cell_type": "markdown",
   "id": "43b69fa2",
   "metadata": {},
   "source": [
    "## 2.13. Calculation of statistical significance of differences in conversion between groups using \"cleaned\" data"
   ]
  },
  {
   "cell_type": "code",
   "execution_count": 35,
   "id": "cce9765d",
   "metadata": {},
   "outputs": [],
   "source": [
    "# user slices\n",
    "users_with_many_orders = pd.concat(\n",
    "    [\n",
    "        orders_by_users_a[orders_by_users_a['orders'] > 2]['userid'],\n",
    "        orders_by_users_b[orders_by_users_b['orders'] > 2]['userid'],\n",
    "    ],\n",
    "    axis=0,\n",
    ")\n",
    "\n",
    "# user slices\n",
    "users_with_expensive_orders = orders[orders['revenue'] > 28000]['visitorid']\n",
    "abnormal_users = (\n",
    "    pd.concat([users_with_many_orders, users_with_expensive_orders], axis=0)\n",
    "    .drop_duplicates()\n",
    "    .sort_values()\n",
    ")"
   ]
  },
  {
   "cell_type": "code",
   "execution_count": 36,
   "id": "941d24d5",
   "metadata": {},
   "outputs": [
    {
     "name": "stdout",
     "output_type": "stream",
     "text": [
      "p-value = 0.00652\n",
      "0.173\n"
     ]
    }
   ],
   "source": [
    "sample_a_filtered = pd.concat(\n",
    "    [\n",
    "        orders_by_users_a[\n",
    "            np.logical_not(orders_by_users_a['userid'].isin(abnormal_users))\n",
    "        ]['orders'],\n",
    "        pd.Series(\n",
    "            0,\n",
    "            index=np.arange(\n",
    "                data['visitors_per_date_a'].sum() - len(orders_by_users_a['orders'])\n",
    "            ),\n",
    "            name='orders',\n",
    "        ),\n",
    "    ],\n",
    "    axis=0,\n",
    ")\n",
    "\n",
    "sample_b_filtered = pd.concat(\n",
    "    [\n",
    "        \n",
    "        orders_by_users_b[\n",
    "            np.logical_not(orders_by_users_b['userid'].isin(abnormal_users))\n",
    "        ]['orders'],\n",
    "        pd.Series(\n",
    "            0,\n",
    "            index=np.arange(\n",
    "                data['visitors_per_date_b'].sum() - len(orders_by_users_b['orders'])\n",
    "            ),\n",
    "            name='orders',\n",
    "        ),\n",
    "    ],\n",
    "    axis=0,\n",
    ")\n",
    "\n",
    "print('p-value =','{0:.5f}'.format(stats.mannwhitneyu(sample_a_filtered, sample_b_filtered)[1]))\n",
    "print('{0:.3f}'.format(sample_b_filtered.mean()/sample_a_filtered.mean()-1)) "
   ]
  },
  {
   "cell_type": "markdown",
   "id": "55406f21",
   "metadata": {},
   "source": [
    "Abnormal users were taken to be those who made 3 orders or more, or made an order of more than 28,000 units. As with the raw data, the p-value did not exceed 0.05, which means that the **null hypothesis is rejected**. Hence there are differences in average check between the groups. Group B was better in terms of conversion by 17.3%."
   ]
  },
  {
   "cell_type": "markdown",
   "id": "d435b618",
   "metadata": {},
   "source": [
    "## 2.14. Calculation of statistical significance of differences in average order receipt between groups using \"cleaned\" data"
   ]
  },
  {
   "cell_type": "code",
   "execution_count": 37,
   "id": "b94644db",
   "metadata": {},
   "outputs": [
    {
     "name": "stdout",
     "output_type": "stream",
     "text": [
      "p-value = 0.369\n",
      "-0.020\n"
     ]
    }
   ],
   "source": [
    "print('p-value =',\n",
    "    '{0:.3f}'.format(\n",
    "        stats.mannwhitneyu(\n",
    "            orders[\n",
    "                np.logical_and(\n",
    "                    orders['group'] == 'A',\n",
    "                    np.logical_not(orders['visitorid'].isin(abnormal_users)),\n",
    "                )\n",
    "            ]['revenue'],\n",
    "            orders[\n",
    "                np.logical_and(\n",
    "                    orders['group'] == 'B',\n",
    "                    np.logical_not(orders['visitorid'].isin(abnormal_users)),\n",
    "                )\n",
    "            ]['revenue'],\n",
    "        )[1]\n",
    "    )\n",
    ")\n",
    "\n",
    "print(\n",
    "    \"{0:.3f}\".format(\n",
    "        orders[\n",
    "            np.logical_and(\n",
    "                orders['group'] == 'B',\n",
    "                np.logical_not(orders['visitorid'].isin(abnormal_users)),\n",
    "            )\n",
    "        ]['revenue'].mean()\n",
    "        / orders[\n",
    "            np.logical_and(\n",
    "                orders['group'] == 'A',\n",
    "                np.logical_not(orders['visitorid'].isin(abnormal_users)),\n",
    "            )\n",
    "        ]['revenue'].mean()\n",
    "        - 1\n",
    "    )\n",
    ")"
   ]
  },
  {
   "cell_type": "markdown",
   "id": "92f3c0ab",
   "metadata": {},
   "source": [
    "The P-value was about the same at 0.738 as with the raw data, i.e. **the null hypothesis is confirmed**. But group B's average check decreased so much that group A began to outperform B, but only by 2%. After \"cleaning\" the data, removing outliers, the difference in average check between the two groups was reduced to a minimum."
   ]
  },
  {
   "cell_type": "markdown",
   "id": "88d2230c",
   "metadata": {},
   "source": [
    "# 3. Conclusion"
   ]
  },
  {
   "cell_type": "markdown",
   "id": "d18634b4",
   "metadata": {},
   "source": [
    "The graph of the conversion difference between groups reports that the results of group B are better than group A: fixed near the mean value.\n",
    "\n",
    "The graph of the average check difference fluctuates a lot, which indicates the presence of anomalies (single very expensive purchases).\n",
    "\n",
    "The results of the test revealed a statistically significant difference in conversion between the groups both in the \"raw\" and in the data after filtering anomalies, but statistically significant differences in the average check were not recorded in both cases.\n",
    "\n",
    "Based on the discovered facts, the test should be stopped and the victory of group B should be recorded, the conversion results of which were better than those of group A by 13.8% and 17.3% before and after data cleaning, respectively."
   ]
  }
 ],
 "metadata": {
  "hide_input": false,
  "kernelspec": {
   "display_name": "Python 3",
   "language": "python",
   "name": "python3"
  },
  "language_info": {
   "codemirror_mode": {
    "name": "ipython",
    "version": 3
   },
   "file_extension": ".py",
   "mimetype": "text/x-python",
   "name": "python",
   "nbconvert_exporter": "python",
   "pygments_lexer": "ipython3",
   "version": "3.8.8"
  },
  "toc": {
   "base_numbering": 1,
   "nav_menu": {},
   "number_sections": true,
   "sideBar": true,
   "skip_h1_title": true,
   "title_cell": "Table of Contents",
   "title_sidebar": "Contents",
   "toc_cell": false,
   "toc_position": {},
   "toc_section_display": true,
   "toc_window_display": false
  }
 },
 "nbformat": 4,
 "nbformat_minor": 5
}
