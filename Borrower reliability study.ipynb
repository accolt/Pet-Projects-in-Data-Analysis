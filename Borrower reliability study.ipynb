{
 "cells": [
  {
   "cell_type": "markdown",
   "id": "a0bc4f64",
   "metadata": {},
   "source": [
    "# Borrower reliability study"
   ]
  },
  {
   "cell_type": "markdown",
   "id": "b3436996",
   "metadata": {},
   "source": [
    "## Project description"
   ]
  },
  {
   "cell_type": "markdown",
   "id": "96f720f8",
   "metadata": {},
   "source": [
    "The client is the credit department of the bank. We need to understand whether the marital status and number of children of the client affects the fact of repayment of the loan on time. Input data from the bank - statistics on the solvency of customers. The results of the study will be taken into account when building a credit scoring model - a special system that evaluates the potential borrower's ability to repay the loan to the bank."
   ]
  },
  {
   "cell_type": "markdown",
   "id": "0e97d04b",
   "metadata": {},
   "source": [
    "### Research Objectives"
   ]
  },
  {
   "cell_type": "markdown",
   "id": "4bbc8bc4",
   "metadata": {},
   "source": [
    "Four hypotheticals need to be checked:\n",
    "* Is there a correlation between the number of children and loan repayment on time?\n",
    "* Is there a relationship between marital status and loan repayment on time?\n",
    "* Is there a relationship between income level and loan repayment on time?\n",
    "* How do the different purposes of the loan affect repayment on time?"
   ]
  },
  {
   "cell_type": "markdown",
   "id": "a87e8454",
   "metadata": {},
   "source": [
    "### Progress of the study"
   ]
  },
  {
   "cell_type": "markdown",
   "id": "adda8ed8",
   "metadata": {},
   "source": [
    "In order to test these hypotheses, you need to do the following steps:\n",
    "* Data review;\n",
    "* Data preprocessing (filling in gaps, eliminating dibbles and anomalies);\n",
    "* Hypothesis testing."
   ]
  },
  {
   "cell_type": "markdown",
   "id": "f085a125",
   "metadata": {},
   "source": [
    "# 1. Data review"
   ]
  },
  {
   "cell_type": "markdown",
   "id": "a7bd92cf",
   "metadata": {},
   "source": [
    "Import all the necessary libraries to work with the data."
   ]
  },
  {
   "cell_type": "code",
   "execution_count": 69,
   "id": "de2456e2",
   "metadata": {},
   "outputs": [],
   "source": [
    "import pandas as pd\n",
    "import matplotlib.pyplot as plt\n",
    "import seaborn"
   ]
  },
  {
   "cell_type": "code",
   "execution_count": 70,
   "id": "87523b03",
   "metadata": {},
   "outputs": [],
   "source": [
    "data = pd.read_csv(r'D:\\Yandex_Data_Analysis\\Project_2\\data.csv')"
   ]
  },
  {
   "cell_type": "markdown",
   "id": "7693e628",
   "metadata": {},
   "source": [
    "Let's look at the first 5 lines of the dataset."
   ]
  },
  {
   "cell_type": "code",
   "execution_count": 71,
   "id": "03f6b3d5",
   "metadata": {},
   "outputs": [
    {
     "data": {
      "text/html": [
       "<div>\n",
       "<style scoped>\n",
       "    .dataframe tbody tr th:only-of-type {\n",
       "        vertical-align: middle;\n",
       "    }\n",
       "\n",
       "    .dataframe tbody tr th {\n",
       "        vertical-align: top;\n",
       "    }\n",
       "\n",
       "    .dataframe thead th {\n",
       "        text-align: right;\n",
       "    }\n",
       "</style>\n",
       "<table border=\"1\" class=\"dataframe\">\n",
       "  <thead>\n",
       "    <tr style=\"text-align: right;\">\n",
       "      <th></th>\n",
       "      <th>children</th>\n",
       "      <th>days_employed</th>\n",
       "      <th>dob_years</th>\n",
       "      <th>education</th>\n",
       "      <th>education_id</th>\n",
       "      <th>family_status</th>\n",
       "      <th>family_status_id</th>\n",
       "      <th>gender</th>\n",
       "      <th>income_type</th>\n",
       "      <th>debt</th>\n",
       "      <th>total_income</th>\n",
       "      <th>purpose</th>\n",
       "    </tr>\n",
       "  </thead>\n",
       "  <tbody>\n",
       "    <tr>\n",
       "      <th>0</th>\n",
       "      <td>1</td>\n",
       "      <td>-8437.673028</td>\n",
       "      <td>42</td>\n",
       "      <td>высшее</td>\n",
       "      <td>0</td>\n",
       "      <td>женат / замужем</td>\n",
       "      <td>0</td>\n",
       "      <td>F</td>\n",
       "      <td>сотрудник</td>\n",
       "      <td>0</td>\n",
       "      <td>253875.639453</td>\n",
       "      <td>покупка жилья</td>\n",
       "    </tr>\n",
       "    <tr>\n",
       "      <th>1</th>\n",
       "      <td>1</td>\n",
       "      <td>-4024.803754</td>\n",
       "      <td>36</td>\n",
       "      <td>среднее</td>\n",
       "      <td>1</td>\n",
       "      <td>женат / замужем</td>\n",
       "      <td>0</td>\n",
       "      <td>F</td>\n",
       "      <td>сотрудник</td>\n",
       "      <td>0</td>\n",
       "      <td>112080.014102</td>\n",
       "      <td>приобретение автомобиля</td>\n",
       "    </tr>\n",
       "    <tr>\n",
       "      <th>2</th>\n",
       "      <td>0</td>\n",
       "      <td>-5623.422610</td>\n",
       "      <td>33</td>\n",
       "      <td>Среднее</td>\n",
       "      <td>1</td>\n",
       "      <td>женат / замужем</td>\n",
       "      <td>0</td>\n",
       "      <td>M</td>\n",
       "      <td>сотрудник</td>\n",
       "      <td>0</td>\n",
       "      <td>145885.952297</td>\n",
       "      <td>покупка жилья</td>\n",
       "    </tr>\n",
       "    <tr>\n",
       "      <th>3</th>\n",
       "      <td>3</td>\n",
       "      <td>-4124.747207</td>\n",
       "      <td>32</td>\n",
       "      <td>среднее</td>\n",
       "      <td>1</td>\n",
       "      <td>женат / замужем</td>\n",
       "      <td>0</td>\n",
       "      <td>M</td>\n",
       "      <td>сотрудник</td>\n",
       "      <td>0</td>\n",
       "      <td>267628.550329</td>\n",
       "      <td>дополнительное образование</td>\n",
       "    </tr>\n",
       "    <tr>\n",
       "      <th>4</th>\n",
       "      <td>0</td>\n",
       "      <td>340266.072047</td>\n",
       "      <td>53</td>\n",
       "      <td>среднее</td>\n",
       "      <td>1</td>\n",
       "      <td>гражданский брак</td>\n",
       "      <td>1</td>\n",
       "      <td>F</td>\n",
       "      <td>пенсионер</td>\n",
       "      <td>0</td>\n",
       "      <td>158616.077870</td>\n",
       "      <td>сыграть свадьбу</td>\n",
       "    </tr>\n",
       "  </tbody>\n",
       "</table>\n",
       "</div>"
      ],
      "text/plain": [
       "   children  days_employed  dob_years education  education_id  \\\n",
       "0         1   -8437.673028         42    высшее             0   \n",
       "1         1   -4024.803754         36   среднее             1   \n",
       "2         0   -5623.422610         33   Среднее             1   \n",
       "3         3   -4124.747207         32   среднее             1   \n",
       "4         0  340266.072047         53   среднее             1   \n",
       "\n",
       "      family_status  family_status_id gender income_type  debt   total_income  \\\n",
       "0   женат / замужем                 0      F   сотрудник     0  253875.639453   \n",
       "1   женат / замужем                 0      F   сотрудник     0  112080.014102   \n",
       "2   женат / замужем                 0      M   сотрудник     0  145885.952297   \n",
       "3   женат / замужем                 0      M   сотрудник     0  267628.550329   \n",
       "4  гражданский брак                 1      F   пенсионер     0  158616.077870   \n",
       "\n",
       "                      purpose  \n",
       "0               покупка жилья  \n",
       "1     приобретение автомобиля  \n",
       "2               покупка жилья  \n",
       "3  дополнительное образование  \n",
       "4             сыграть свадьбу  "
      ]
     },
     "execution_count": 71,
     "metadata": {},
     "output_type": "execute_result"
    }
   ],
   "source": [
    "data.head(5)"
   ]
  },
  {
   "cell_type": "markdown",
   "id": "ab03be89",
   "metadata": {},
   "source": [
    "Make sure that the column names are written correctly."
   ]
  },
  {
   "cell_type": "code",
   "execution_count": 72,
   "id": "b38c3551",
   "metadata": {},
   "outputs": [
    {
     "data": {
      "text/plain": [
       "Index(['children', 'days_employed', 'dob_years', 'education', 'education_id',\n",
       "       'family_status', 'family_status_id', 'gender', 'income_type', 'debt',\n",
       "       'total_income', 'purpose'],\n",
       "      dtype='object')"
      ]
     },
     "execution_count": 72,
     "metadata": {},
     "output_type": "execute_result"
    }
   ],
   "source": [
    "data.columns"
   ]
  },
  {
   "cell_type": "markdown",
   "id": "1a0f0a3a",
   "metadata": {},
   "source": [
    "Let's look at the type of data that is in the table."
   ]
  },
  {
   "cell_type": "code",
   "execution_count": 73,
   "id": "1d4a889e",
   "metadata": {
    "scrolled": true
   },
   "outputs": [
    {
     "name": "stdout",
     "output_type": "stream",
     "text": [
      "<class 'pandas.core.frame.DataFrame'>\n",
      "RangeIndex: 21525 entries, 0 to 21524\n",
      "Data columns (total 12 columns):\n",
      " #   Column            Non-Null Count  Dtype  \n",
      "---  ------            --------------  -----  \n",
      " 0   children          21525 non-null  int64  \n",
      " 1   days_employed     19351 non-null  float64\n",
      " 2   dob_years         21525 non-null  int64  \n",
      " 3   education         21525 non-null  object \n",
      " 4   education_id      21525 non-null  int64  \n",
      " 5   family_status     21525 non-null  object \n",
      " 6   family_status_id  21525 non-null  int64  \n",
      " 7   gender            21525 non-null  object \n",
      " 8   income_type       21525 non-null  object \n",
      " 9   debt              21525 non-null  int64  \n",
      " 10  total_income      19351 non-null  float64\n",
      " 11  purpose           21525 non-null  object \n",
      "dtypes: float64(2), int64(5), object(5)\n",
      "memory usage: 2.0+ MB\n"
     ]
    }
   ],
   "source": [
    "data.info()"
   ]
  },
  {
   "cell_type": "markdown",
   "id": "060e61c9",
   "metadata": {},
   "source": [
    "As you can see, the columns days_employed and total_income have missing values, because the remaining columns have the same amount of data. Let's find the number of missing values in these columns."
   ]
  },
  {
   "cell_type": "code",
   "execution_count": 74,
   "id": "021cad10",
   "metadata": {
    "scrolled": true
   },
   "outputs": [
    {
     "data": {
      "text/plain": [
       "children               0\n",
       "days_employed       2174\n",
       "dob_years              0\n",
       "education              0\n",
       "education_id           0\n",
       "family_status          0\n",
       "family_status_id       0\n",
       "gender                 0\n",
       "income_type            0\n",
       "debt                   0\n",
       "total_income        2174\n",
       "purpose                0\n",
       "dtype: int64"
      ]
     },
     "metadata": {},
     "output_type": "display_data"
    }
   ],
   "source": [
    "display(data.isna().sum())"
   ]
  },
  {
   "cell_type": "markdown",
   "id": "7cf20529",
   "metadata": {},
   "source": [
    "The number of gaps in these columns is the same, which is obvious because the amount of income depends directly on the number of days worked. And since there is no information about the number of days worked, there will be no information about the income for those days."
   ]
  },
  {
   "cell_type": "code",
   "execution_count": 118,
   "id": "e41fe01e",
   "metadata": {},
   "outputs": [
    {
     "data": {
      "text/html": [
       "<style  type=\"text/css\" >\n",
       "#T_7bb04_row0_col0,#T_7bb04_row1_col0{\n",
       "            background-color:  #3b4cc0;\n",
       "            color:  #f1f1f1;\n",
       "        }</style><table id=\"T_7bb04_\" ><thead>    <tr>        <th class=\"blank level0\" ></th>        <th class=\"col_heading level0 col0\" >zero values, %</th>    </tr></thead><tbody>\n",
       "                <tr>\n",
       "                        <th id=\"T_7bb04_level0_row0\" class=\"row_heading level0 row0\" >days_employed</th>\n",
       "                        <td id=\"T_7bb04_row0_col0\" class=\"data row0 col0\" >0.00</td>\n",
       "            </tr>\n",
       "            <tr>\n",
       "                        <th id=\"T_7bb04_level0_row1\" class=\"row_heading level0 row1\" >total_income</th>\n",
       "                        <td id=\"T_7bb04_row1_col0\" class=\"data row1 col0\" >0.00</td>\n",
       "            </tr>\n",
       "    </tbody></table>"
      ],
      "text/plain": [
       "<pandas.io.formats.style.Styler at 0x18ca5e84670>"
      ]
     },
     "metadata": {},
     "output_type": "display_data"
    }
   ],
   "source": [
    "display(pd.DataFrame(round((data[['days_employed','total_income']].isna().mean()*100),2),\n",
    "                     columns=['zero values, %']).style.format('{:.2f}').background_gradient('coolwarm'))"
   ]
  },
  {
   "cell_type": "markdown",
   "id": "9ac510f0",
   "metadata": {},
   "source": [
    "The percentage of omissions is 10% in both columns. This is quite a lot, so we can't just delete these rows."
   ]
  },
  {
   "cell_type": "markdown",
   "id": "9501be95",
   "metadata": {},
   "source": [
    "# 2. Data preprocessing"
   ]
  },
  {
   "cell_type": "markdown",
   "id": "f2eb9d01",
   "metadata": {},
   "source": [
    "## 2.1.  Identification of gaps"
   ]
  },
  {
   "cell_type": "markdown",
   "id": "ea32f4a9",
   "metadata": {},
   "source": [
    "The median value may not correctly characterize the data when some values stand out strongly among the majority (anomalies). In the case of gaps in the 'days_employed' and 'total_income' columns it is better to apply the median value, as it better reflects the objective value.\n",
    "\n",
    "However, the 'days_employed' column contains fractional values as well as negative values. The number of days worked can only be an integer number rounded up. As for the negative values, it is difficult to specify the exact cause. You should check with the developer, who provided the data.\n",
    "\n",
    "To begin with, make all numbers in the 'days_employed' column positive and integers, rounding them up."
   ]
  },
  {
   "cell_type": "code",
   "execution_count": 77,
   "id": "2cd7f870",
   "metadata": {},
   "outputs": [
    {
     "data": {
      "text/html": [
       "<div>\n",
       "<style scoped>\n",
       "    .dataframe tbody tr th:only-of-type {\n",
       "        vertical-align: middle;\n",
       "    }\n",
       "\n",
       "    .dataframe tbody tr th {\n",
       "        vertical-align: top;\n",
       "    }\n",
       "\n",
       "    .dataframe thead th {\n",
       "        text-align: right;\n",
       "    }\n",
       "</style>\n",
       "<table border=\"1\" class=\"dataframe\">\n",
       "  <thead>\n",
       "    <tr style=\"text-align: right;\">\n",
       "      <th></th>\n",
       "      <th>children</th>\n",
       "      <th>days_employed</th>\n",
       "      <th>dob_years</th>\n",
       "      <th>education</th>\n",
       "      <th>education_id</th>\n",
       "      <th>family_status</th>\n",
       "      <th>family_status_id</th>\n",
       "      <th>gender</th>\n",
       "      <th>income_type</th>\n",
       "      <th>debt</th>\n",
       "      <th>total_income</th>\n",
       "      <th>purpose</th>\n",
       "    </tr>\n",
       "  </thead>\n",
       "  <tbody>\n",
       "    <tr>\n",
       "      <th>11</th>\n",
       "      <td>0</td>\n",
       "      <td>793.0</td>\n",
       "      <td>40</td>\n",
       "      <td>среднее</td>\n",
       "      <td>1</td>\n",
       "      <td>женат / замужем</td>\n",
       "      <td>0</td>\n",
       "      <td>F</td>\n",
       "      <td>сотрудник</td>\n",
       "      <td>0</td>\n",
       "      <td>77069.234271</td>\n",
       "      <td>покупка коммерческой недвижимости</td>\n",
       "    </tr>\n",
       "    <tr>\n",
       "      <th>12</th>\n",
       "      <td>0</td>\n",
       "      <td>NaN</td>\n",
       "      <td>65</td>\n",
       "      <td>среднее</td>\n",
       "      <td>1</td>\n",
       "      <td>гражданский брак</td>\n",
       "      <td>1</td>\n",
       "      <td>M</td>\n",
       "      <td>пенсионер</td>\n",
       "      <td>0</td>\n",
       "      <td>NaN</td>\n",
       "      <td>сыграть свадьбу</td>\n",
       "    </tr>\n",
       "    <tr>\n",
       "      <th>13</th>\n",
       "      <td>0</td>\n",
       "      <td>1847.0</td>\n",
       "      <td>54</td>\n",
       "      <td>неоконченное высшее</td>\n",
       "      <td>2</td>\n",
       "      <td>женат / замужем</td>\n",
       "      <td>0</td>\n",
       "      <td>F</td>\n",
       "      <td>сотрудник</td>\n",
       "      <td>0</td>\n",
       "      <td>130458.228857</td>\n",
       "      <td>приобретение автомобиля</td>\n",
       "    </tr>\n",
       "  </tbody>\n",
       "</table>\n",
       "</div>"
      ],
      "text/plain": [
       "    children  days_employed  dob_years            education  education_id  \\\n",
       "11         0          793.0         40              среднее             1   \n",
       "12         0            NaN         65              среднее             1   \n",
       "13         0         1847.0         54  неоконченное высшее             2   \n",
       "\n",
       "       family_status  family_status_id gender income_type  debt  \\\n",
       "11   женат / замужем                 0      F   сотрудник     0   \n",
       "12  гражданский брак                 1      M   пенсионер     0   \n",
       "13   женат / замужем                 0      F   сотрудник     0   \n",
       "\n",
       "     total_income                            purpose  \n",
       "11   77069.234271  покупка коммерческой недвижимости  \n",
       "12            NaN                    сыграть свадьбу  \n",
       "13  130458.228857            приобретение автомобиля  "
      ]
     },
     "execution_count": 77,
     "metadata": {},
     "output_type": "execute_result"
    }
   ],
   "source": [
    "data['days_employed'] = round(data['days_employed'].abs())\n",
    "data.loc[11:13]"
   ]
  },
  {
   "cell_type": "markdown",
   "id": "aa5c4966",
   "metadata": {},
   "source": [
    "Let's check if the omissions in the 'days_employed' column are related to the age of the clients. To do this, let's write a function that splits the age of the clients into groups:\n",
    "* 'children' if the age is under 18;\n",
    "* 'adults' - if the age is between 19 and 64;\n",
    "* 'pensioners' if they are 65 and older.\n",
    "Let's save the obtained data with categories into a separate column 'age_group'."
   ]
  },
  {
   "cell_type": "code",
   "execution_count": 78,
   "id": "76cd9f92",
   "metadata": {
    "scrolled": true
   },
   "outputs": [
    {
     "data": {
      "text/html": [
       "<div>\n",
       "<style scoped>\n",
       "    .dataframe tbody tr th:only-of-type {\n",
       "        vertical-align: middle;\n",
       "    }\n",
       "\n",
       "    .dataframe tbody tr th {\n",
       "        vertical-align: top;\n",
       "    }\n",
       "\n",
       "    .dataframe thead th {\n",
       "        text-align: right;\n",
       "    }\n",
       "</style>\n",
       "<table border=\"1\" class=\"dataframe\">\n",
       "  <thead>\n",
       "    <tr style=\"text-align: right;\">\n",
       "      <th></th>\n",
       "      <th>children</th>\n",
       "      <th>days_employed</th>\n",
       "      <th>dob_years</th>\n",
       "      <th>age_group</th>\n",
       "      <th>education</th>\n",
       "      <th>education_id</th>\n",
       "      <th>family_status</th>\n",
       "      <th>family_status_id</th>\n",
       "      <th>gender</th>\n",
       "      <th>income_type</th>\n",
       "      <th>debt</th>\n",
       "      <th>total_income</th>\n",
       "      <th>purpose</th>\n",
       "    </tr>\n",
       "  </thead>\n",
       "  <tbody>\n",
       "    <tr>\n",
       "      <th>11</th>\n",
       "      <td>0</td>\n",
       "      <td>793.0</td>\n",
       "      <td>40</td>\n",
       "      <td>adults</td>\n",
       "      <td>среднее</td>\n",
       "      <td>1</td>\n",
       "      <td>женат / замужем</td>\n",
       "      <td>0</td>\n",
       "      <td>F</td>\n",
       "      <td>сотрудник</td>\n",
       "      <td>0</td>\n",
       "      <td>77069.234271</td>\n",
       "      <td>покупка коммерческой недвижимости</td>\n",
       "    </tr>\n",
       "    <tr>\n",
       "      <th>12</th>\n",
       "      <td>0</td>\n",
       "      <td>NaN</td>\n",
       "      <td>65</td>\n",
       "      <td>retired</td>\n",
       "      <td>среднее</td>\n",
       "      <td>1</td>\n",
       "      <td>гражданский брак</td>\n",
       "      <td>1</td>\n",
       "      <td>M</td>\n",
       "      <td>пенсионер</td>\n",
       "      <td>0</td>\n",
       "      <td>NaN</td>\n",
       "      <td>сыграть свадьбу</td>\n",
       "    </tr>\n",
       "    <tr>\n",
       "      <th>13</th>\n",
       "      <td>0</td>\n",
       "      <td>1847.0</td>\n",
       "      <td>54</td>\n",
       "      <td>adults</td>\n",
       "      <td>неоконченное высшее</td>\n",
       "      <td>2</td>\n",
       "      <td>женат / замужем</td>\n",
       "      <td>0</td>\n",
       "      <td>F</td>\n",
       "      <td>сотрудник</td>\n",
       "      <td>0</td>\n",
       "      <td>130458.228857</td>\n",
       "      <td>приобретение автомобиля</td>\n",
       "    </tr>\n",
       "  </tbody>\n",
       "</table>\n",
       "</div>"
      ],
      "text/plain": [
       "    children  days_employed  dob_years age_group            education  \\\n",
       "11         0          793.0         40    adults              среднее   \n",
       "12         0            NaN         65   retired              среднее   \n",
       "13         0         1847.0         54    adults  неоконченное высшее   \n",
       "\n",
       "    education_id     family_status  family_status_id gender income_type  debt  \\\n",
       "11             1   женат / замужем                 0      F   сотрудник     0   \n",
       "12             1  гражданский брак                 1      M   пенсионер     0   \n",
       "13             2   женат / замужем                 0      F   сотрудник     0   \n",
       "\n",
       "     total_income                            purpose  \n",
       "11   77069.234271  покупка коммерческой недвижимости  \n",
       "12            NaN                    сыграть свадьбу  \n",
       "13  130458.228857            приобретение автомобиля  "
      ]
     },
     "metadata": {},
     "output_type": "display_data"
    }
   ],
   "source": [
    "def age_group(age):\n",
    "    if age <= 18:\n",
    "        return 'children'\n",
    "    if age <= 64:\n",
    "        return 'adults'\n",
    "    return 'retired' \n",
    "group_age = data['dob_years'].apply(age_group)\n",
    "data.insert(3, 'age_group', group_age)\n",
    "display(data[11:14]) "
   ]
  },
  {
   "cell_type": "markdown",
   "id": "7335a07b",
   "metadata": {},
   "source": [
    "Now let's find out if there is a relationship between the blanks in 'days_employed' and the age categories. Perhaps some empty values can simply be zeroed out, which corresponds to the 'retired' category."
   ]
  },
  {
   "cell_type": "code",
   "execution_count": 79,
   "id": "a5326504",
   "metadata": {},
   "outputs": [
    {
     "data": {
      "text/plain": [
       "age_group\n",
       "adults      18442\n",
       "children       91\n",
       "retired       818\n",
       "Name: days_employed, dtype: int64"
      ]
     },
     "execution_count": 79,
     "metadata": {},
     "output_type": "execute_result"
    }
   ],
   "source": [
    "data.groupby('age_group')['days_employed'].count()"
   ]
  },
  {
   "cell_type": "markdown",
   "id": "3374a38c",
   "metadata": {},
   "source": [
    "As you can see, there are only 818 retired. Let's check how many lines contain empty values associated with retired."
   ]
  },
  {
   "cell_type": "code",
   "execution_count": 80,
   "id": "213a3059",
   "metadata": {},
   "outputs": [
    {
     "data": {
      "text/plain": [
       "children             0\n",
       "days_employed       81\n",
       "dob_years            0\n",
       "age_group            0\n",
       "education            0\n",
       "education_id         0\n",
       "family_status        0\n",
       "family_status_id     0\n",
       "gender               0\n",
       "income_type          0\n",
       "debt                 0\n",
       "total_income        81\n",
       "purpose              0\n",
       "dtype: int64"
      ]
     },
     "execution_count": 80,
     "metadata": {},
     "output_type": "execute_result"
    }
   ],
   "source": [
    "data[data['age_group'] == 'retired'].isna().sum()"
   ]
  },
  {
   "cell_type": "markdown",
   "id": "b224e535",
   "metadata": {},
   "source": [
    "So there are a total of 81 lines with empty values in two columns.\n",
    "\n",
    "Before filling in the blanks, let's check what anomalies are in the data."
   ]
  },
  {
   "cell_type": "markdown",
   "id": "a8fc8614",
   "metadata": {},
   "source": [
    "## 2.2. Search for anomalies"
   ]
  },
  {
   "cell_type": "markdown",
   "id": "f838c280",
   "metadata": {},
   "source": [
    "Let's check what anomalies there are in the days_employed column for the 3 age groups. Let's look at the maximum length of service of each group."
   ]
  },
  {
   "cell_type": "code",
   "execution_count": 81,
   "id": "024085d4",
   "metadata": {},
   "outputs": [
    {
     "name": "stdout",
     "output_type": "stream",
     "text": [
      "retired - 401716.0\n",
      "adults - 401755.0\n",
      "children - 400992.0\n"
     ]
    }
   ],
   "source": [
    "print('retired -', data.loc[data['age_group'] == 'retired','days_employed'].max())\n",
    "print('adults -', data.loc[data['age_group'] == 'adults','days_employed'].max())\n",
    "print('children -', data.loc[data['age_group'] == 'children','days_employed'].max())"
   ]
  },
  {
   "cell_type": "markdown",
   "id": "27b8bd74",
   "metadata": {},
   "source": [
    "As you can see the length of service more than 400,000 days (over 1000 years) can not be. Lines containing such values are the first anomalies in the data. It would be logical to assume that the length of service of the average person can not exceed 34 years or 12410 days. Let's see how many lines exceed this value."
   ]
  },
  {
   "cell_type": "code",
   "execution_count": 82,
   "id": "f8f3c60e",
   "metadata": {},
   "outputs": [
    {
     "data": {
      "text/plain": [
       "3517"
      ]
     },
     "execution_count": 82,
     "metadata": {},
     "output_type": "execute_result"
    }
   ],
   "source": [
    "data.loc[data['days_employed'] >12410,'days_employed'].count()"
   ]
  },
  {
   "cell_type": "markdown",
   "id": "74a40f05",
   "metadata": {},
   "source": [
    "There are quite a lot of such emissions, so they cannot be deleted. Let's replace these values with the objectively maximum possible length of service - 12410."
   ]
  },
  {
   "cell_type": "code",
   "execution_count": 83,
   "id": "3f6fef6d",
   "metadata": {},
   "outputs": [
    {
     "name": "stdout",
     "output_type": "stream",
     "text": [
      "12410.0\n"
     ]
    }
   ],
   "source": [
    "data.loc[data['days_employed'] >12410,'days_employed'] = 12410\n",
    "print(data['days_employed'].max())"
   ]
  },
  {
   "cell_type": "markdown",
   "id": "70cdcf19",
   "metadata": {},
   "source": [
    "Now check the total_income column for anomalies."
   ]
  },
  {
   "cell_type": "code",
   "execution_count": 84,
   "id": "46f712da",
   "metadata": {
    "scrolled": true
   },
   "outputs": [
    {
     "name": "stdout",
     "output_type": "stream",
     "text": [
      "2265604.028722744\n",
      "20667.26379327158\n",
      "0\n"
     ]
    }
   ],
   "source": [
    "print(data['total_income'].max())\n",
    "print(data['total_income'].min())\n",
    "print(data.loc[data['total_income'] == 0,'total_income'].count())"
   ]
  },
  {
   "cell_type": "markdown",
   "id": "5119a54e",
   "metadata": {},
   "source": [
    "There are no anomalies in this column, but there are missing values."
   ]
  },
  {
   "cell_type": "markdown",
   "id": "8089f62d",
   "metadata": {},
   "source": [
    "We will replace the zero values with medians relative to each age group."
   ]
  },
  {
   "cell_type": "markdown",
   "id": "e55ea2ce",
   "metadata": {},
   "source": [
    "Check the anomalies in the 'children' column."
   ]
  },
  {
   "cell_type": "code",
   "execution_count": 85,
   "id": "e494c694",
   "metadata": {},
   "outputs": [
    {
     "data": {
      "text/plain": [
       " 0     14149\n",
       " 1      4818\n",
       " 2      2055\n",
       " 3       330\n",
       " 20       76\n",
       "-1        47\n",
       " 4        41\n",
       " 5         9\n",
       "Name: children, dtype: int64"
      ]
     },
     "metadata": {},
     "output_type": "display_data"
    },
    {
     "data": {
      "text/plain": [
       "0"
      ]
     },
     "metadata": {},
     "output_type": "display_data"
    }
   ],
   "source": [
    "display(data['children'].value_counts())\n",
    "display(data['children'].isna().sum())"
   ]
  },
  {
   "cell_type": "markdown",
   "id": "88889d74",
   "metadata": {},
   "source": [
    "The 'children' column has very strange values, for example, the number of children cannot be negative. And it is unlikely that someone can have 20 children. Let's replace the rows where -1 is found with 1, and where 20 is found with 2."
   ]
  },
  {
   "cell_type": "code",
   "execution_count": 86,
   "id": "4c13aeb7",
   "metadata": {},
   "outputs": [
    {
     "data": {
      "text/plain": [
       "0    14149\n",
       "1     4865\n",
       "2     2131\n",
       "3      330\n",
       "4       41\n",
       "5        9\n",
       "Name: children, dtype: int64"
      ]
     },
     "execution_count": 86,
     "metadata": {},
     "output_type": "execute_result"
    }
   ],
   "source": [
    "data['children'] = data['children'].replace(-1,1)\n",
    "data['children'] = data['children'].replace(20,2)\n",
    "data['children'].value_counts()"
   ]
  },
  {
   "cell_type": "markdown",
   "id": "c54d15cc",
   "metadata": {},
   "source": [
    "Let's check the column with the gender."
   ]
  },
  {
   "cell_type": "code",
   "execution_count": 87,
   "id": "b83c3ebd",
   "metadata": {},
   "outputs": [
    {
     "data": {
      "text/plain": [
       "F      14236\n",
       "M       7288\n",
       "XNA        1\n",
       "Name: gender, dtype: int64"
      ]
     },
     "metadata": {},
     "output_type": "display_data"
    },
    {
     "data": {
      "text/plain": [
       "0"
      ]
     },
     "metadata": {},
     "output_type": "display_data"
    }
   ],
   "source": [
    "display(data['gender'].value_counts())\n",
    "display(data['gender'].isna().sum())"
   ]
  },
  {
   "cell_type": "markdown",
   "id": "ab97f5ed",
   "metadata": {},
   "source": [
    "As you can see, there are no empty lines, but there is one obscure value that is worth deleting."
   ]
  },
  {
   "cell_type": "code",
   "execution_count": 88,
   "id": "97f31363",
   "metadata": {},
   "outputs": [
    {
     "data": {
      "text/html": [
       "<div>\n",
       "<style scoped>\n",
       "    .dataframe tbody tr th:only-of-type {\n",
       "        vertical-align: middle;\n",
       "    }\n",
       "\n",
       "    .dataframe tbody tr th {\n",
       "        vertical-align: top;\n",
       "    }\n",
       "\n",
       "    .dataframe thead th {\n",
       "        text-align: right;\n",
       "    }\n",
       "</style>\n",
       "<table border=\"1\" class=\"dataframe\">\n",
       "  <thead>\n",
       "    <tr style=\"text-align: right;\">\n",
       "      <th></th>\n",
       "      <th>children</th>\n",
       "      <th>days_employed</th>\n",
       "      <th>dob_years</th>\n",
       "      <th>age_group</th>\n",
       "      <th>education</th>\n",
       "      <th>education_id</th>\n",
       "      <th>family_status</th>\n",
       "      <th>family_status_id</th>\n",
       "      <th>gender</th>\n",
       "      <th>income_type</th>\n",
       "      <th>debt</th>\n",
       "      <th>total_income</th>\n",
       "      <th>purpose</th>\n",
       "    </tr>\n",
       "  </thead>\n",
       "  <tbody>\n",
       "    <tr>\n",
       "      <th>10700</th>\n",
       "      <td>1</td>\n",
       "      <td>513.0</td>\n",
       "      <td>37</td>\n",
       "      <td>adults</td>\n",
       "      <td>высшее</td>\n",
       "      <td>0</td>\n",
       "      <td>женат / замужем</td>\n",
       "      <td>0</td>\n",
       "      <td>F</td>\n",
       "      <td>компаньон</td>\n",
       "      <td>0</td>\n",
       "      <td>174396.822139</td>\n",
       "      <td>ремонт жилью</td>\n",
       "    </tr>\n",
       "    <tr>\n",
       "      <th>10701</th>\n",
       "      <td>0</td>\n",
       "      <td>12410.0</td>\n",
       "      <td>60</td>\n",
       "      <td>adults</td>\n",
       "      <td>среднее</td>\n",
       "      <td>1</td>\n",
       "      <td>гражданский брак</td>\n",
       "      <td>1</td>\n",
       "      <td>F</td>\n",
       "      <td>пенсионер</td>\n",
       "      <td>0</td>\n",
       "      <td>108125.202905</td>\n",
       "      <td>свадьба</td>\n",
       "    </tr>\n",
       "    <tr>\n",
       "      <th>10702</th>\n",
       "      <td>0</td>\n",
       "      <td>3620.0</td>\n",
       "      <td>35</td>\n",
       "      <td>adults</td>\n",
       "      <td>среднее</td>\n",
       "      <td>1</td>\n",
       "      <td>женат / замужем</td>\n",
       "      <td>0</td>\n",
       "      <td>F</td>\n",
       "      <td>сотрудник</td>\n",
       "      <td>0</td>\n",
       "      <td>89817.943638</td>\n",
       "      <td>получение образования</td>\n",
       "    </tr>\n",
       "  </tbody>\n",
       "</table>\n",
       "</div>"
      ],
      "text/plain": [
       "       children  days_employed  dob_years age_group education  education_id  \\\n",
       "10700         1          513.0         37    adults    высшее             0   \n",
       "10701         0        12410.0         60    adults   среднее             1   \n",
       "10702         0         3620.0         35    adults   среднее             1   \n",
       "\n",
       "          family_status  family_status_id gender income_type  debt  \\\n",
       "10700   женат / замужем                 0      F   компаньон     0   \n",
       "10701  гражданский брак                 1      F   пенсионер     0   \n",
       "10702   женат / замужем                 0      F   сотрудник     0   \n",
       "\n",
       "        total_income                purpose  \n",
       "10700  174396.822139           ремонт жилью  \n",
       "10701  108125.202905                свадьба  \n",
       "10702   89817.943638  получение образования  "
      ]
     },
     "metadata": {},
     "output_type": "display_data"
    }
   ],
   "source": [
    "xna = data[data['gender'] == 'XNA'].index\n",
    "data = data.drop(index=xna).reset_index(drop=True)\n",
    "display(data[10700:10703])"
   ]
  },
  {
   "cell_type": "markdown",
   "id": "481e3ea8",
   "metadata": {},
   "source": [
    "Now let's check the age column."
   ]
  },
  {
   "cell_type": "code",
   "execution_count": 89,
   "id": "ca08482b",
   "metadata": {},
   "outputs": [
    {
     "data": {
      "text/plain": [
       "35    617\n",
       "40    609\n",
       "41    607\n",
       "34    603\n",
       "38    598\n",
       "42    597\n",
       "33    581\n",
       "39    573\n",
       "31    560\n",
       "36    555\n",
       "44    547\n",
       "29    545\n",
       "30    540\n",
       "48    538\n",
       "37    537\n",
       "50    514\n",
       "43    513\n",
       "32    510\n",
       "49    508\n",
       "28    503\n",
       "45    497\n",
       "27    493\n",
       "56    487\n",
       "52    484\n",
       "47    480\n",
       "54    479\n",
       "46    475\n",
       "58    461\n",
       "57    460\n",
       "53    459\n",
       "51    448\n",
       "59    444\n",
       "55    443\n",
       "26    408\n",
       "60    377\n",
       "25    357\n",
       "61    355\n",
       "62    352\n",
       "63    269\n",
       "64    265\n",
       "24    263\n",
       "23    254\n",
       "65    194\n",
       "66    183\n",
       "22    183\n",
       "67    167\n",
       "21    111\n",
       "0     101\n",
       "68     99\n",
       "69     85\n",
       "70     65\n",
       "71     58\n",
       "20     51\n",
       "72     33\n",
       "19     14\n",
       "73      8\n",
       "74      6\n",
       "75      1\n",
       "Name: dob_years, dtype: int64"
      ]
     },
     "metadata": {},
     "output_type": "display_data"
    },
    {
     "data": {
      "text/plain": [
       "0"
      ]
     },
     "metadata": {},
     "output_type": "display_data"
    }
   ],
   "source": [
    "display(data['dob_years'].value_counts())\n",
    "display(data['dob_years'].isna().sum())"
   ]
  },
  {
   "cell_type": "markdown",
   "id": "2d28e233",
   "metadata": {},
   "source": [
    "There are no empty values, but there is an age of 0. There shouldn't be. There are only 101 such values, so you can simply delete these lines."
   ]
  },
  {
   "cell_type": "code",
   "execution_count": 90,
   "id": "a3defc87",
   "metadata": {},
   "outputs": [
    {
     "data": {
      "text/plain": [
       "21    111\n",
       "68     99\n",
       "69     85\n",
       "70     65\n",
       "71     58\n",
       "20     51\n",
       "72     33\n",
       "19     14\n",
       "73      8\n",
       "74      6\n",
       "75      1\n",
       "Name: dob_years, dtype: int64"
      ]
     },
     "metadata": {},
     "output_type": "display_data"
    }
   ],
   "source": [
    "data = data[data.dob_years != 0]\n",
    "display(data['dob_years'].value_counts().tail(11))"
   ]
  },
  {
   "cell_type": "markdown",
   "id": "9c0ebd13",
   "metadata": {},
   "source": [
    "There are no more anomalies in the dataset. Now let's eliminate the anomalies detected."
   ]
  },
  {
   "cell_type": "markdown",
   "id": "67cc61be",
   "metadata": {},
   "source": [
    "## 2.3 Eliminating anomalies"
   ]
  },
  {
   "cell_type": "markdown",
   "id": "86e11fa6",
   "metadata": {},
   "source": [
    "Replace the missing values in the days_employed column with the median length of service for each age group. First, find out the median years of service for each group."
   ]
  },
  {
   "cell_type": "code",
   "execution_count": 91,
   "id": "97ee2cab",
   "metadata": {},
   "outputs": [
    {
     "name": "stdout",
     "output_type": "stream",
     "text": [
      "median of retired length of service - 12410.0\n",
      "median adult length of service - 2051.0\n",
      "median of children service - nan\n"
     ]
    }
   ],
   "source": [
    "print('median of retired length of service -', data.loc[data['age_group'] == 'retired','days_employed'].median())\n",
    "print('median adult length of service -', data.loc[data['age_group'] == 'adults','days_employed'].median())\n",
    "print('median of children service -', data.loc[data['age_group'] == 'children','days_employed'].median())"
   ]
  },
  {
   "cell_type": "markdown",
   "id": "fc86b564",
   "metadata": {},
   "source": [
    "All lines with the category 'children' have no values. This was expected, because earlier we got rid of all rows with age 0. So the category 'children' disappeared by itself, as it corresponded to a single value - 0."
   ]
  },
  {
   "cell_type": "markdown",
   "id": "804ff5c6",
   "metadata": {},
   "source": [
    "Let's see how many empty values are left in the 'retired' and 'adults' categories."
   ]
  },
  {
   "cell_type": "code",
   "execution_count": 92,
   "id": "a7db966a",
   "metadata": {},
   "outputs": [
    {
     "name": "stdout",
     "output_type": "stream",
     "text": [
      "retired length of service nan - 81\n",
      "adult length of service nan- 2083\n"
     ]
    }
   ],
   "source": [
    "print('retired length of service nan -', data.loc[data['age_group'] == 'retired','days_employed'].isna().sum())\n",
    "print('adult length of service nan-', data.loc[data['age_group'] == 'adults','days_employed'].isna().sum())"
   ]
  },
  {
   "cell_type": "markdown",
   "id": "0e1a82af",
   "metadata": {},
   "source": [
    "There are quite a lot of empty values, you can't delete them. Replace them with the median values relative to each category. Then check the result."
   ]
  },
  {
   "cell_type": "code",
   "execution_count": 93,
   "id": "4c66e205",
   "metadata": {
    "scrolled": true
   },
   "outputs": [
    {
     "name": "stdout",
     "output_type": "stream",
     "text": [
      "retired length of service nan - 0\n",
      "adult length of service nan - 0\n"
     ]
    }
   ],
   "source": [
    "data['days_employed'].fillna(data.groupby('age_group')['days_employed'].transform('median'),inplace= True)\n",
    "\n",
    "print('retired length of service nan -', data.loc[data['age_group'] == 'retired','days_employed'].isna().sum())\n",
    "print('adult length of service nan -', data.loc[data['age_group'] == 'adults','days_employed'].isna().sum())"
   ]
  },
  {
   "cell_type": "markdown",
   "id": "99981e22",
   "metadata": {},
   "source": [
    "There are no empty values in the 'days_employed' column. Let's do the same procedure with the 'total income' column."
   ]
  },
  {
   "cell_type": "code",
   "execution_count": 94,
   "id": "c39a067d",
   "metadata": {},
   "outputs": [
    {
     "name": "stdout",
     "output_type": "stream",
     "text": [
      "retired income nan - 0\n",
      "adults income nan- 0\n"
     ]
    }
   ],
   "source": [
    "data['total_income'].fillna(data.groupby('age_group')['total_income'].transform('median'),inplace= True)\n",
    "\n",
    "print('retired income nan -', data.loc[data['age_group'] == 'retired','total_income'].isna().sum())\n",
    "print('adults income nan-', data.loc[data['age_group'] == 'adults','total_income'].isna().sum())"
   ]
  },
  {
   "cell_type": "markdown",
   "id": "5eec9502",
   "metadata": {},
   "source": [
    "### Thus we got rid of all anomalies and empty values in the dataset."
   ]
  },
  {
   "cell_type": "markdown",
   "id": "12e0366b",
   "metadata": {},
   "source": [
    "## 2.3. Removing duplicates"
   ]
  },
  {
   "cell_type": "markdown",
   "id": "96bea09f",
   "metadata": {},
   "source": [
    "Let's check how many obvious duplicates there are in the table."
   ]
  },
  {
   "cell_type": "code",
   "execution_count": 95,
   "id": "6f509e72",
   "metadata": {},
   "outputs": [
    {
     "data": {
      "text/plain": [
       "54"
      ]
     },
     "execution_count": 95,
     "metadata": {},
     "output_type": "execute_result"
    }
   ],
   "source": [
    "data.duplicated().sum()"
   ]
  },
  {
   "cell_type": "markdown",
   "id": "a8bced87",
   "metadata": {},
   "source": [
    "Their number is small, so you can delete lines that contain obvious duplicates."
   ]
  },
  {
   "cell_type": "code",
   "execution_count": 96,
   "id": "e0a0fd08",
   "metadata": {},
   "outputs": [],
   "source": [
    "data = data.drop_duplicates().reset_index(drop=True)"
   ]
  },
  {
   "cell_type": "markdown",
   "id": "4eb6b0f2",
   "metadata": {},
   "source": [
    "Let's check the other columns for implicit duplicates, such as 'education' and 'purpose'. Let's start with 'education'."
   ]
  },
  {
   "cell_type": "code",
   "execution_count": 97,
   "id": "e9fe06a5",
   "metadata": {},
   "outputs": [
    {
     "data": {
      "text/plain": [
       "array(['ВЫСШЕЕ', 'Высшее', 'НАЧАЛЬНОЕ', 'НЕОКОНЧЕННОЕ ВЫСШЕЕ',\n",
       "       'Начальное', 'Неоконченное высшее', 'СРЕДНЕЕ', 'Среднее',\n",
       "       'УЧЕНАЯ СТЕПЕНЬ', 'Ученая степень', 'высшее', 'начальное',\n",
       "       'неоконченное высшее', 'среднее', 'ученая степень'], dtype=object)"
      ]
     },
     "execution_count": 97,
     "metadata": {},
     "output_type": "execute_result"
    }
   ],
   "source": [
    "data['education'].sort_values().unique()"
   ]
  },
  {
   "cell_type": "markdown",
   "id": "4ec9d3a8",
   "metadata": {},
   "source": [
    "Let's convert all values to lower case."
   ]
  },
  {
   "cell_type": "code",
   "execution_count": 98,
   "id": "e10fc1e1",
   "metadata": {},
   "outputs": [
    {
     "data": {
      "text/plain": [
       "array(['высшее', 'начальное', 'неоконченное высшее', 'среднее',\n",
       "       'ученая степень'], dtype=object)"
      ]
     },
     "execution_count": 98,
     "metadata": {},
     "output_type": "execute_result"
    }
   ],
   "source": [
    "data['education'] = data['education'].str.lower()\n",
    "data['education'].sort_values().unique()"
   ]
  },
  {
   "cell_type": "markdown",
   "id": "7e68b56d",
   "metadata": {},
   "source": [
    "Let's check if there are still complete duplicates after replacing the register."
   ]
  },
  {
   "cell_type": "code",
   "execution_count": 99,
   "id": "026f2405",
   "metadata": {},
   "outputs": [
    {
     "data": {
      "text/plain": [
       "17"
      ]
     },
     "execution_count": 99,
     "metadata": {},
     "output_type": "execute_result"
    }
   ],
   "source": [
    "data.duplicated().sum()"
   ]
  },
  {
   "cell_type": "code",
   "execution_count": 100,
   "id": "e1f8fd65",
   "metadata": {},
   "outputs": [],
   "source": [
    "data = data.drop_duplicates().reset_index(drop=True)"
   ]
  },
  {
   "cell_type": "markdown",
   "id": "aaefec38",
   "metadata": {},
   "source": [
    "Check what unique values there are in the 'purpose' column"
   ]
  },
  {
   "cell_type": "code",
   "execution_count": 101,
   "id": "0b805342",
   "metadata": {
    "scrolled": true
   },
   "outputs": [
    {
     "data": {
      "text/plain": [
       "purpose\n",
       "автомобили                                476\n",
       "автомобиль                                490\n",
       "высшее образование                        449\n",
       "дополнительное образование                458\n",
       "жилье                                     640\n",
       "заняться высшим образованием              493\n",
       "заняться образованием                     407\n",
       "на покупку автомобиля                     466\n",
       "на покупку подержанного автомобиля        478\n",
       "на покупку своего автомобиля              502\n",
       "на проведение свадьбы                     764\n",
       "недвижимость                              629\n",
       "образование                               444\n",
       "операции с жильем                         646\n",
       "операции с коммерческой недвижимостью     648\n",
       "операции с недвижимостью                  672\n",
       "операции со своей недвижимостью           627\n",
       "покупка жилой недвижимости                603\n",
       "покупка жилья                             640\n",
       "покупка жилья для сдачи                   649\n",
       "покупка жилья для семьи                   637\n",
       "покупка коммерческой недвижимости         658\n",
       "покупка недвижимости                      617\n",
       "покупка своего жилья                      619\n",
       "получение высшего образования             424\n",
       "получение дополнительного образования     444\n",
       "получение образования                     441\n",
       "приобретение автомобиля                   459\n",
       "профильное образование                    435\n",
       "ремонт жилью                              605\n",
       "свадьба                                   786\n",
       "свой автомобиль                           475\n",
       "сделка с автомобилем                      454\n",
       "сделка с подержанным автомобилем          484\n",
       "строительство жилой недвижимости          621\n",
       "строительство недвижимости                619\n",
       "строительство собственной недвижимости    633\n",
       "сыграть свадьбу                           760\n",
       "Name: purpose, dtype: int64"
      ]
     },
     "execution_count": 101,
     "metadata": {},
     "output_type": "execute_result"
    }
   ],
   "source": [
    "data.groupby('purpose')['purpose'].count()"
   ]
  },
  {
   "cell_type": "code",
   "execution_count": 102,
   "id": "02636904",
   "metadata": {},
   "outputs": [
    {
     "name": "stdout",
     "output_type": "stream",
     "text": [
      "<class 'pandas.core.frame.DataFrame'>\n",
      "RangeIndex: 21352 entries, 0 to 21351\n",
      "Data columns (total 13 columns):\n",
      " #   Column            Non-Null Count  Dtype  \n",
      "---  ------            --------------  -----  \n",
      " 0   children          21352 non-null  int64  \n",
      " 1   days_employed     21352 non-null  float64\n",
      " 2   dob_years         21352 non-null  int64  \n",
      " 3   age_group         21352 non-null  object \n",
      " 4   education         21352 non-null  object \n",
      " 5   education_id      21352 non-null  int64  \n",
      " 6   family_status     21352 non-null  object \n",
      " 7   family_status_id  21352 non-null  int64  \n",
      " 8   gender            21352 non-null  object \n",
      " 9   income_type       21352 non-null  object \n",
      " 10  debt              21352 non-null  int64  \n",
      " 11  total_income      21352 non-null  float64\n",
      " 12  purpose           21352 non-null  object \n",
      "dtypes: float64(2), int64(5), object(6)\n",
      "memory usage: 2.1+ MB\n"
     ]
    }
   ],
   "source": [
    "data.info()"
   ]
  },
  {
   "cell_type": "markdown",
   "id": "6270e238",
   "metadata": {},
   "source": [
    "Assign string values to all values in the targets column."
   ]
  },
  {
   "cell_type": "code",
   "execution_count": 103,
   "id": "e77bcad5",
   "metadata": {},
   "outputs": [],
   "source": [
    "data['purpose'] = data['purpose'].astype(str)"
   ]
  },
  {
   "cell_type": "markdown",
   "id": "c6b46f09",
   "metadata": {},
   "source": [
    "Let's create a function that combines similar goals into categories. Let's save them in a new column 'purpose_category'."
   ]
  },
  {
   "cell_type": "code",
   "execution_count": 104,
   "id": "f3f41cfb",
   "metadata": {
    "scrolled": true
   },
   "outputs": [
    {
     "data": {
      "text/html": [
       "<div>\n",
       "<style scoped>\n",
       "    .dataframe tbody tr th:only-of-type {\n",
       "        vertical-align: middle;\n",
       "    }\n",
       "\n",
       "    .dataframe tbody tr th {\n",
       "        vertical-align: top;\n",
       "    }\n",
       "\n",
       "    .dataframe thead th {\n",
       "        text-align: right;\n",
       "    }\n",
       "</style>\n",
       "<table border=\"1\" class=\"dataframe\">\n",
       "  <thead>\n",
       "    <tr style=\"text-align: right;\">\n",
       "      <th></th>\n",
       "      <th>children</th>\n",
       "      <th>days_employed</th>\n",
       "      <th>dob_years</th>\n",
       "      <th>age_group</th>\n",
       "      <th>education</th>\n",
       "      <th>education_id</th>\n",
       "      <th>family_status</th>\n",
       "      <th>family_status_id</th>\n",
       "      <th>gender</th>\n",
       "      <th>income_type</th>\n",
       "      <th>debt</th>\n",
       "      <th>total_income</th>\n",
       "      <th>purpose</th>\n",
       "      <th>purpose_category</th>\n",
       "    </tr>\n",
       "  </thead>\n",
       "  <tbody>\n",
       "    <tr>\n",
       "      <th>0</th>\n",
       "      <td>1</td>\n",
       "      <td>8438.0</td>\n",
       "      <td>42</td>\n",
       "      <td>adults</td>\n",
       "      <td>высшее</td>\n",
       "      <td>0</td>\n",
       "      <td>женат / замужем</td>\n",
       "      <td>0</td>\n",
       "      <td>F</td>\n",
       "      <td>сотрудник</td>\n",
       "      <td>0</td>\n",
       "      <td>253875.639453</td>\n",
       "      <td>покупка жилья</td>\n",
       "      <td>операции с недвижимостью</td>\n",
       "    </tr>\n",
       "    <tr>\n",
       "      <th>1</th>\n",
       "      <td>1</td>\n",
       "      <td>4025.0</td>\n",
       "      <td>36</td>\n",
       "      <td>adults</td>\n",
       "      <td>среднее</td>\n",
       "      <td>1</td>\n",
       "      <td>женат / замужем</td>\n",
       "      <td>0</td>\n",
       "      <td>F</td>\n",
       "      <td>сотрудник</td>\n",
       "      <td>0</td>\n",
       "      <td>112080.014102</td>\n",
       "      <td>приобретение автомобиля</td>\n",
       "      <td>операции с автомобилем</td>\n",
       "    </tr>\n",
       "    <tr>\n",
       "      <th>2</th>\n",
       "      <td>0</td>\n",
       "      <td>5623.0</td>\n",
       "      <td>33</td>\n",
       "      <td>adults</td>\n",
       "      <td>среднее</td>\n",
       "      <td>1</td>\n",
       "      <td>женат / замужем</td>\n",
       "      <td>0</td>\n",
       "      <td>M</td>\n",
       "      <td>сотрудник</td>\n",
       "      <td>0</td>\n",
       "      <td>145885.952297</td>\n",
       "      <td>покупка жилья</td>\n",
       "      <td>операции с недвижимостью</td>\n",
       "    </tr>\n",
       "    <tr>\n",
       "      <th>3</th>\n",
       "      <td>3</td>\n",
       "      <td>4125.0</td>\n",
       "      <td>32</td>\n",
       "      <td>adults</td>\n",
       "      <td>среднее</td>\n",
       "      <td>1</td>\n",
       "      <td>женат / замужем</td>\n",
       "      <td>0</td>\n",
       "      <td>M</td>\n",
       "      <td>сотрудник</td>\n",
       "      <td>0</td>\n",
       "      <td>267628.550329</td>\n",
       "      <td>дополнительное образование</td>\n",
       "      <td>получение образования</td>\n",
       "    </tr>\n",
       "    <tr>\n",
       "      <th>4</th>\n",
       "      <td>0</td>\n",
       "      <td>12410.0</td>\n",
       "      <td>53</td>\n",
       "      <td>adults</td>\n",
       "      <td>среднее</td>\n",
       "      <td>1</td>\n",
       "      <td>гражданский брак</td>\n",
       "      <td>1</td>\n",
       "      <td>F</td>\n",
       "      <td>пенсионер</td>\n",
       "      <td>0</td>\n",
       "      <td>158616.077870</td>\n",
       "      <td>сыграть свадьбу</td>\n",
       "      <td>проведение свадьбы</td>\n",
       "    </tr>\n",
       "  </tbody>\n",
       "</table>\n",
       "</div>"
      ],
      "text/plain": [
       "   children  days_employed  dob_years age_group education  education_id  \\\n",
       "0         1         8438.0         42    adults    высшее             0   \n",
       "1         1         4025.0         36    adults   среднее             1   \n",
       "2         0         5623.0         33    adults   среднее             1   \n",
       "3         3         4125.0         32    adults   среднее             1   \n",
       "4         0        12410.0         53    adults   среднее             1   \n",
       "\n",
       "      family_status  family_status_id gender income_type  debt   total_income  \\\n",
       "0   женат / замужем                 0      F   сотрудник     0  253875.639453   \n",
       "1   женат / замужем                 0      F   сотрудник     0  112080.014102   \n",
       "2   женат / замужем                 0      M   сотрудник     0  145885.952297   \n",
       "3   женат / замужем                 0      M   сотрудник     0  267628.550329   \n",
       "4  гражданский брак                 1      F   пенсионер     0  158616.077870   \n",
       "\n",
       "                      purpose          purpose_category  \n",
       "0               покупка жилья  операции с недвижимостью  \n",
       "1     приобретение автомобиля    операции с автомобилем  \n",
       "2               покупка жилья  операции с недвижимостью  \n",
       "3  дополнительное образование     получение образования  \n",
       "4             сыграть свадьбу        проведение свадьбы  "
      ]
     },
     "metadata": {},
     "output_type": "display_data"
    }
   ],
   "source": [
    "def replace_wrong_values(purpose):\n",
    "    \n",
    "    if 'автомоб' in purpose:\n",
    "        return 'операции с автомобилем'\n",
    "    elif 'образов' in purpose:\n",
    "        return 'получение образования'\n",
    "    elif 'свад' in purpose:\n",
    "        return 'проведение свадьбы'\n",
    "    else:\n",
    "        return 'операции с недвижимостью'\n",
    "    \n",
    "data['purpose_category'] = data['purpose'].apply(replace_wrong_values)\n",
    "\n",
    "\n",
    "display(data.head(5))            "
   ]
  },
  {
   "cell_type": "markdown",
   "id": "d519a2b2",
   "metadata": {},
   "source": [
    "Let's see how many values fit into each category"
   ]
  },
  {
   "cell_type": "code",
   "execution_count": 105,
   "id": "e3f9eeb3",
   "metadata": {
    "scrolled": true
   },
   "outputs": [
    {
     "data": {
      "text/plain": [
       "операции с недвижимостью    10763\n",
       "операции с автомобилем       4284\n",
       "получение образования        3995\n",
       "проведение свадьбы           2310\n",
       "Name: purpose_category, dtype: int64"
      ]
     },
     "execution_count": 105,
     "metadata": {},
     "output_type": "execute_result"
    }
   ],
   "source": [
    "data['purpose_category'].value_counts()"
   ]
  },
  {
   "cell_type": "markdown",
   "id": "a03c4216",
   "metadata": {},
   "source": [
    "### In this way we have cleared the table of all possible duplicates"
   ]
  },
  {
   "cell_type": "markdown",
   "id": "a4bbb254",
   "metadata": {},
   "source": [
    "Let's form two new dataframes:\n",
    "\n",
    "* In the first, each unique value from education will correspond to a unique value of education_id;\n",
    "* In the second, each unique value from family_status corresponds to a unique value of family_status_id."
   ]
  },
  {
   "cell_type": "code",
   "execution_count": 106,
   "id": "3b459bac",
   "metadata": {},
   "outputs": [
    {
     "data": {
      "text/html": [
       "<div>\n",
       "<style scoped>\n",
       "    .dataframe tbody tr th:only-of-type {\n",
       "        vertical-align: middle;\n",
       "    }\n",
       "\n",
       "    .dataframe tbody tr th {\n",
       "        vertical-align: top;\n",
       "    }\n",
       "\n",
       "    .dataframe thead th {\n",
       "        text-align: right;\n",
       "    }\n",
       "</style>\n",
       "<table border=\"1\" class=\"dataframe\">\n",
       "  <thead>\n",
       "    <tr style=\"text-align: right;\">\n",
       "      <th></th>\n",
       "      <th>education</th>\n",
       "      <th>education_id</th>\n",
       "    </tr>\n",
       "  </thead>\n",
       "  <tbody>\n",
       "    <tr>\n",
       "      <th>0</th>\n",
       "      <td>высшее</td>\n",
       "      <td>0</td>\n",
       "    </tr>\n",
       "    <tr>\n",
       "      <th>1</th>\n",
       "      <td>среднее</td>\n",
       "      <td>1</td>\n",
       "    </tr>\n",
       "    <tr>\n",
       "      <th>2</th>\n",
       "      <td>среднее</td>\n",
       "      <td>1</td>\n",
       "    </tr>\n",
       "    <tr>\n",
       "      <th>3</th>\n",
       "      <td>среднее</td>\n",
       "      <td>1</td>\n",
       "    </tr>\n",
       "    <tr>\n",
       "      <th>4</th>\n",
       "      <td>среднее</td>\n",
       "      <td>1</td>\n",
       "    </tr>\n",
       "  </tbody>\n",
       "</table>\n",
       "</div>"
      ],
      "text/plain": [
       "  education  education_id\n",
       "0    высшее             0\n",
       "1   среднее             1\n",
       "2   среднее             1\n",
       "3   среднее             1\n",
       "4   среднее             1"
      ]
     },
     "metadata": {},
     "output_type": "display_data"
    },
    {
     "data": {
      "text/html": [
       "<div>\n",
       "<style scoped>\n",
       "    .dataframe tbody tr th:only-of-type {\n",
       "        vertical-align: middle;\n",
       "    }\n",
       "\n",
       "    .dataframe tbody tr th {\n",
       "        vertical-align: top;\n",
       "    }\n",
       "\n",
       "    .dataframe thead th {\n",
       "        text-align: right;\n",
       "    }\n",
       "</style>\n",
       "<table border=\"1\" class=\"dataframe\">\n",
       "  <thead>\n",
       "    <tr style=\"text-align: right;\">\n",
       "      <th></th>\n",
       "      <th>family_status</th>\n",
       "      <th>family_status_id</th>\n",
       "    </tr>\n",
       "  </thead>\n",
       "  <tbody>\n",
       "    <tr>\n",
       "      <th>0</th>\n",
       "      <td>женат / замужем</td>\n",
       "      <td>0</td>\n",
       "    </tr>\n",
       "    <tr>\n",
       "      <th>1</th>\n",
       "      <td>женат / замужем</td>\n",
       "      <td>0</td>\n",
       "    </tr>\n",
       "    <tr>\n",
       "      <th>2</th>\n",
       "      <td>женат / замужем</td>\n",
       "      <td>0</td>\n",
       "    </tr>\n",
       "    <tr>\n",
       "      <th>3</th>\n",
       "      <td>женат / замужем</td>\n",
       "      <td>0</td>\n",
       "    </tr>\n",
       "    <tr>\n",
       "      <th>4</th>\n",
       "      <td>гражданский брак</td>\n",
       "      <td>1</td>\n",
       "    </tr>\n",
       "  </tbody>\n",
       "</table>\n",
       "</div>"
      ],
      "text/plain": [
       "      family_status  family_status_id\n",
       "0   женат / замужем                 0\n",
       "1   женат / замужем                 0\n",
       "2   женат / замужем                 0\n",
       "3   женат / замужем                 0\n",
       "4  гражданский брак                 1"
      ]
     },
     "metadata": {},
     "output_type": "display_data"
    }
   ],
   "source": [
    "edu_data = data[['education','education_id']]\n",
    "family_data = data[['family_status','family_status_id']]\n",
    "display(edu_data.head(5))\n",
    "display(family_data.head(5))"
   ]
  },
  {
   "cell_type": "markdown",
   "id": "17f73c59",
   "metadata": {},
   "source": [
    "As you can see, both dataframes contain duplicates. Let's get rid of them."
   ]
  },
  {
   "cell_type": "code",
   "execution_count": 107,
   "id": "a10acb2f",
   "metadata": {},
   "outputs": [
    {
     "data": {
      "text/html": [
       "<div>\n",
       "<style scoped>\n",
       "    .dataframe tbody tr th:only-of-type {\n",
       "        vertical-align: middle;\n",
       "    }\n",
       "\n",
       "    .dataframe tbody tr th {\n",
       "        vertical-align: top;\n",
       "    }\n",
       "\n",
       "    .dataframe thead th {\n",
       "        text-align: right;\n",
       "    }\n",
       "</style>\n",
       "<table border=\"1\" class=\"dataframe\">\n",
       "  <thead>\n",
       "    <tr style=\"text-align: right;\">\n",
       "      <th></th>\n",
       "      <th>education</th>\n",
       "      <th>education_id</th>\n",
       "    </tr>\n",
       "  </thead>\n",
       "  <tbody>\n",
       "    <tr>\n",
       "      <th>0</th>\n",
       "      <td>высшее</td>\n",
       "      <td>0</td>\n",
       "    </tr>\n",
       "    <tr>\n",
       "      <th>1</th>\n",
       "      <td>среднее</td>\n",
       "      <td>1</td>\n",
       "    </tr>\n",
       "    <tr>\n",
       "      <th>2</th>\n",
       "      <td>неоконченное высшее</td>\n",
       "      <td>2</td>\n",
       "    </tr>\n",
       "    <tr>\n",
       "      <th>3</th>\n",
       "      <td>начальное</td>\n",
       "      <td>3</td>\n",
       "    </tr>\n",
       "    <tr>\n",
       "      <th>4</th>\n",
       "      <td>ученая степень</td>\n",
       "      <td>4</td>\n",
       "    </tr>\n",
       "  </tbody>\n",
       "</table>\n",
       "</div>"
      ],
      "text/plain": [
       "             education  education_id\n",
       "0               высшее             0\n",
       "1              среднее             1\n",
       "2  неоконченное высшее             2\n",
       "3            начальное             3\n",
       "4       ученая степень             4"
      ]
     },
     "metadata": {},
     "output_type": "display_data"
    },
    {
     "data": {
      "text/html": [
       "<div>\n",
       "<style scoped>\n",
       "    .dataframe tbody tr th:only-of-type {\n",
       "        vertical-align: middle;\n",
       "    }\n",
       "\n",
       "    .dataframe tbody tr th {\n",
       "        vertical-align: top;\n",
       "    }\n",
       "\n",
       "    .dataframe thead th {\n",
       "        text-align: right;\n",
       "    }\n",
       "</style>\n",
       "<table border=\"1\" class=\"dataframe\">\n",
       "  <thead>\n",
       "    <tr style=\"text-align: right;\">\n",
       "      <th></th>\n",
       "      <th>family_status</th>\n",
       "      <th>family_status_id</th>\n",
       "    </tr>\n",
       "  </thead>\n",
       "  <tbody>\n",
       "    <tr>\n",
       "      <th>0</th>\n",
       "      <td>женат / замужем</td>\n",
       "      <td>0</td>\n",
       "    </tr>\n",
       "    <tr>\n",
       "      <th>1</th>\n",
       "      <td>гражданский брак</td>\n",
       "      <td>1</td>\n",
       "    </tr>\n",
       "    <tr>\n",
       "      <th>2</th>\n",
       "      <td>вдовец / вдова</td>\n",
       "      <td>2</td>\n",
       "    </tr>\n",
       "    <tr>\n",
       "      <th>3</th>\n",
       "      <td>в разводе</td>\n",
       "      <td>3</td>\n",
       "    </tr>\n",
       "    <tr>\n",
       "      <th>4</th>\n",
       "      <td>Не женат / не замужем</td>\n",
       "      <td>4</td>\n",
       "    </tr>\n",
       "  </tbody>\n",
       "</table>\n",
       "</div>"
      ],
      "text/plain": [
       "           family_status  family_status_id\n",
       "0        женат / замужем                 0\n",
       "1       гражданский брак                 1\n",
       "2         вдовец / вдова                 2\n",
       "3              в разводе                 3\n",
       "4  Не женат / не замужем                 4"
      ]
     },
     "metadata": {},
     "output_type": "display_data"
    }
   ],
   "source": [
    "edu_data = edu_data.drop_duplicates().reset_index(drop=True)\n",
    "family_data = family_data.drop_duplicates().reset_index(drop=True)\n",
    "display(edu_data.head())\n",
    "display(family_data.head())"
   ]
  },
  {
   "cell_type": "markdown",
   "id": "37b8e8e0",
   "metadata": {},
   "source": [
    "Let's get rid of the education and family_status columns from the original dataframe."
   ]
  },
  {
   "cell_type": "code",
   "execution_count": 108,
   "id": "79a70b15",
   "metadata": {},
   "outputs": [
    {
     "data": {
      "text/html": [
       "<div>\n",
       "<style scoped>\n",
       "    .dataframe tbody tr th:only-of-type {\n",
       "        vertical-align: middle;\n",
       "    }\n",
       "\n",
       "    .dataframe tbody tr th {\n",
       "        vertical-align: top;\n",
       "    }\n",
       "\n",
       "    .dataframe thead th {\n",
       "        text-align: right;\n",
       "    }\n",
       "</style>\n",
       "<table border=\"1\" class=\"dataframe\">\n",
       "  <thead>\n",
       "    <tr style=\"text-align: right;\">\n",
       "      <th></th>\n",
       "      <th>children</th>\n",
       "      <th>days_employed</th>\n",
       "      <th>dob_years</th>\n",
       "      <th>age_group</th>\n",
       "      <th>education_id</th>\n",
       "      <th>family_status_id</th>\n",
       "      <th>gender</th>\n",
       "      <th>income_type</th>\n",
       "      <th>debt</th>\n",
       "      <th>total_income</th>\n",
       "      <th>purpose</th>\n",
       "      <th>purpose_category</th>\n",
       "    </tr>\n",
       "  </thead>\n",
       "  <tbody>\n",
       "    <tr>\n",
       "      <th>0</th>\n",
       "      <td>1</td>\n",
       "      <td>8438.0</td>\n",
       "      <td>42</td>\n",
       "      <td>adults</td>\n",
       "      <td>0</td>\n",
       "      <td>0</td>\n",
       "      <td>F</td>\n",
       "      <td>сотрудник</td>\n",
       "      <td>0</td>\n",
       "      <td>253875.639453</td>\n",
       "      <td>покупка жилья</td>\n",
       "      <td>операции с недвижимостью</td>\n",
       "    </tr>\n",
       "    <tr>\n",
       "      <th>1</th>\n",
       "      <td>1</td>\n",
       "      <td>4025.0</td>\n",
       "      <td>36</td>\n",
       "      <td>adults</td>\n",
       "      <td>1</td>\n",
       "      <td>0</td>\n",
       "      <td>F</td>\n",
       "      <td>сотрудник</td>\n",
       "      <td>0</td>\n",
       "      <td>112080.014102</td>\n",
       "      <td>приобретение автомобиля</td>\n",
       "      <td>операции с автомобилем</td>\n",
       "    </tr>\n",
       "    <tr>\n",
       "      <th>2</th>\n",
       "      <td>0</td>\n",
       "      <td>5623.0</td>\n",
       "      <td>33</td>\n",
       "      <td>adults</td>\n",
       "      <td>1</td>\n",
       "      <td>0</td>\n",
       "      <td>M</td>\n",
       "      <td>сотрудник</td>\n",
       "      <td>0</td>\n",
       "      <td>145885.952297</td>\n",
       "      <td>покупка жилья</td>\n",
       "      <td>операции с недвижимостью</td>\n",
       "    </tr>\n",
       "    <tr>\n",
       "      <th>3</th>\n",
       "      <td>3</td>\n",
       "      <td>4125.0</td>\n",
       "      <td>32</td>\n",
       "      <td>adults</td>\n",
       "      <td>1</td>\n",
       "      <td>0</td>\n",
       "      <td>M</td>\n",
       "      <td>сотрудник</td>\n",
       "      <td>0</td>\n",
       "      <td>267628.550329</td>\n",
       "      <td>дополнительное образование</td>\n",
       "      <td>получение образования</td>\n",
       "    </tr>\n",
       "    <tr>\n",
       "      <th>4</th>\n",
       "      <td>0</td>\n",
       "      <td>12410.0</td>\n",
       "      <td>53</td>\n",
       "      <td>adults</td>\n",
       "      <td>1</td>\n",
       "      <td>1</td>\n",
       "      <td>F</td>\n",
       "      <td>пенсионер</td>\n",
       "      <td>0</td>\n",
       "      <td>158616.077870</td>\n",
       "      <td>сыграть свадьбу</td>\n",
       "      <td>проведение свадьбы</td>\n",
       "    </tr>\n",
       "  </tbody>\n",
       "</table>\n",
       "</div>"
      ],
      "text/plain": [
       "   children  days_employed  dob_years age_group  education_id  \\\n",
       "0         1         8438.0         42    adults             0   \n",
       "1         1         4025.0         36    adults             1   \n",
       "2         0         5623.0         33    adults             1   \n",
       "3         3         4125.0         32    adults             1   \n",
       "4         0        12410.0         53    adults             1   \n",
       "\n",
       "   family_status_id gender income_type  debt   total_income  \\\n",
       "0                 0      F   сотрудник     0  253875.639453   \n",
       "1                 0      F   сотрудник     0  112080.014102   \n",
       "2                 0      M   сотрудник     0  145885.952297   \n",
       "3                 0      M   сотрудник     0  267628.550329   \n",
       "4                 1      F   пенсионер     0  158616.077870   \n",
       "\n",
       "                      purpose          purpose_category  \n",
       "0               покупка жилья  операции с недвижимостью  \n",
       "1     приобретение автомобиля    операции с автомобилем  \n",
       "2               покупка жилья  операции с недвижимостью  \n",
       "3  дополнительное образование     получение образования  \n",
       "4             сыграть свадьбу        проведение свадьбы  "
      ]
     },
     "execution_count": 108,
     "metadata": {},
     "output_type": "execute_result"
    }
   ],
   "source": [
    "data.drop(['education', 'family_status'], axis =1).head(5)"
   ]
  },
  {
   "cell_type": "markdown",
   "id": "e88f4b60",
   "metadata": {},
   "source": [
    "Create a function that distributes borrowers into groups based on their income from 'A' to 'E', where 'A' is the most reliable customers and 'E' is the most insolvent.\n",
    "* 0–30000 — 'E';\n",
    "* 30001–50000 — 'D';\n",
    "* 50001–200000 — 'C';\n",
    "* 200001–1000000 — 'B';\n",
    "* 1000001 and higher — 'A'."
   ]
  },
  {
   "cell_type": "code",
   "execution_count": 109,
   "id": "105a4025",
   "metadata": {},
   "outputs": [
    {
     "data": {
      "text/html": [
       "<div>\n",
       "<style scoped>\n",
       "    .dataframe tbody tr th:only-of-type {\n",
       "        vertical-align: middle;\n",
       "    }\n",
       "\n",
       "    .dataframe tbody tr th {\n",
       "        vertical-align: top;\n",
       "    }\n",
       "\n",
       "    .dataframe thead th {\n",
       "        text-align: right;\n",
       "    }\n",
       "</style>\n",
       "<table border=\"1\" class=\"dataframe\">\n",
       "  <thead>\n",
       "    <tr style=\"text-align: right;\">\n",
       "      <th></th>\n",
       "      <th>children</th>\n",
       "      <th>days_employed</th>\n",
       "      <th>dob_years</th>\n",
       "      <th>age_group</th>\n",
       "      <th>education</th>\n",
       "      <th>education_id</th>\n",
       "      <th>family_status</th>\n",
       "      <th>family_status_id</th>\n",
       "      <th>gender</th>\n",
       "      <th>income_type</th>\n",
       "      <th>debt</th>\n",
       "      <th>total_income</th>\n",
       "      <th>purpose</th>\n",
       "      <th>purpose_category</th>\n",
       "      <th>total_income_category</th>\n",
       "    </tr>\n",
       "  </thead>\n",
       "  <tbody>\n",
       "    <tr>\n",
       "      <th>0</th>\n",
       "      <td>1</td>\n",
       "      <td>8438.0</td>\n",
       "      <td>42</td>\n",
       "      <td>adults</td>\n",
       "      <td>высшее</td>\n",
       "      <td>0</td>\n",
       "      <td>женат / замужем</td>\n",
       "      <td>0</td>\n",
       "      <td>F</td>\n",
       "      <td>сотрудник</td>\n",
       "      <td>0</td>\n",
       "      <td>253875.639453</td>\n",
       "      <td>покупка жилья</td>\n",
       "      <td>операции с недвижимостью</td>\n",
       "      <td>B</td>\n",
       "    </tr>\n",
       "    <tr>\n",
       "      <th>1</th>\n",
       "      <td>1</td>\n",
       "      <td>4025.0</td>\n",
       "      <td>36</td>\n",
       "      <td>adults</td>\n",
       "      <td>среднее</td>\n",
       "      <td>1</td>\n",
       "      <td>женат / замужем</td>\n",
       "      <td>0</td>\n",
       "      <td>F</td>\n",
       "      <td>сотрудник</td>\n",
       "      <td>0</td>\n",
       "      <td>112080.014102</td>\n",
       "      <td>приобретение автомобиля</td>\n",
       "      <td>операции с автомобилем</td>\n",
       "      <td>C</td>\n",
       "    </tr>\n",
       "    <tr>\n",
       "      <th>2</th>\n",
       "      <td>0</td>\n",
       "      <td>5623.0</td>\n",
       "      <td>33</td>\n",
       "      <td>adults</td>\n",
       "      <td>среднее</td>\n",
       "      <td>1</td>\n",
       "      <td>женат / замужем</td>\n",
       "      <td>0</td>\n",
       "      <td>M</td>\n",
       "      <td>сотрудник</td>\n",
       "      <td>0</td>\n",
       "      <td>145885.952297</td>\n",
       "      <td>покупка жилья</td>\n",
       "      <td>операции с недвижимостью</td>\n",
       "      <td>C</td>\n",
       "    </tr>\n",
       "    <tr>\n",
       "      <th>3</th>\n",
       "      <td>3</td>\n",
       "      <td>4125.0</td>\n",
       "      <td>32</td>\n",
       "      <td>adults</td>\n",
       "      <td>среднее</td>\n",
       "      <td>1</td>\n",
       "      <td>женат / замужем</td>\n",
       "      <td>0</td>\n",
       "      <td>M</td>\n",
       "      <td>сотрудник</td>\n",
       "      <td>0</td>\n",
       "      <td>267628.550329</td>\n",
       "      <td>дополнительное образование</td>\n",
       "      <td>получение образования</td>\n",
       "      <td>B</td>\n",
       "    </tr>\n",
       "    <tr>\n",
       "      <th>4</th>\n",
       "      <td>0</td>\n",
       "      <td>12410.0</td>\n",
       "      <td>53</td>\n",
       "      <td>adults</td>\n",
       "      <td>среднее</td>\n",
       "      <td>1</td>\n",
       "      <td>гражданский брак</td>\n",
       "      <td>1</td>\n",
       "      <td>F</td>\n",
       "      <td>пенсионер</td>\n",
       "      <td>0</td>\n",
       "      <td>158616.077870</td>\n",
       "      <td>сыграть свадьбу</td>\n",
       "      <td>проведение свадьбы</td>\n",
       "      <td>C</td>\n",
       "    </tr>\n",
       "  </tbody>\n",
       "</table>\n",
       "</div>"
      ],
      "text/plain": [
       "   children  days_employed  dob_years age_group education  education_id  \\\n",
       "0         1         8438.0         42    adults    высшее             0   \n",
       "1         1         4025.0         36    adults   среднее             1   \n",
       "2         0         5623.0         33    adults   среднее             1   \n",
       "3         3         4125.0         32    adults   среднее             1   \n",
       "4         0        12410.0         53    adults   среднее             1   \n",
       "\n",
       "      family_status  family_status_id gender income_type  debt   total_income  \\\n",
       "0   женат / замужем                 0      F   сотрудник     0  253875.639453   \n",
       "1   женат / замужем                 0      F   сотрудник     0  112080.014102   \n",
       "2   женат / замужем                 0      M   сотрудник     0  145885.952297   \n",
       "3   женат / замужем                 0      M   сотрудник     0  267628.550329   \n",
       "4  гражданский брак                 1      F   пенсионер     0  158616.077870   \n",
       "\n",
       "                      purpose          purpose_category total_income_category  \n",
       "0               покупка жилья  операции с недвижимостью                     B  \n",
       "1     приобретение автомобиля    операции с автомобилем                     C  \n",
       "2               покупка жилья  операции с недвижимостью                     C  \n",
       "3  дополнительное образование     получение образования                     B  \n",
       "4             сыграть свадьбу        проведение свадьбы                     C  "
      ]
     },
     "metadata": {},
     "output_type": "display_data"
    }
   ],
   "source": [
    "def creditors (income):\n",
    "    if income <= 30000:\n",
    "        return 'E'\n",
    "    elif 30001 <= income <= 50000:\n",
    "        return 'D'\n",
    "    elif 50001<= income <=200000:\n",
    "        return 'C'\n",
    "    elif 200001<= income <=1000000:\n",
    "        return 'B'\n",
    "    else:\n",
    "        return 'A'\n",
    "    \n",
    "data['total_income_category'] = data['total_income'].apply(creditors)\n",
    "\n",
    "\n",
    "display(data.head(5))"
   ]
  },
  {
   "cell_type": "markdown",
   "id": "8b740229",
   "metadata": {},
   "source": [
    "# 3. Hypothesis testing"
   ]
  },
  {
   "cell_type": "markdown",
   "id": "2c9738ad",
   "metadata": {},
   "source": [
    "## 3.1 Is there a correlation between the number of children and repayment on time?"
   ]
  },
  {
   "cell_type": "markdown",
   "id": "19d017db",
   "metadata": {},
   "source": [
    "To test this hypothesis, let's look at the relationship between the 'debt' and 'children' columns, where 1 means that the loan was outstanding and 0 means that it was not. For convenience, let's create a separate dataframe containing only these columns."
   ]
  },
  {
   "cell_type": "code",
   "execution_count": 110,
   "id": "7f26584d",
   "metadata": {},
   "outputs": [
    {
     "data": {
      "text/html": [
       "<div>\n",
       "<style scoped>\n",
       "    .dataframe tbody tr th:only-of-type {\n",
       "        vertical-align: middle;\n",
       "    }\n",
       "\n",
       "    .dataframe tbody tr th {\n",
       "        vertical-align: top;\n",
       "    }\n",
       "\n",
       "    .dataframe thead tr th {\n",
       "        text-align: left;\n",
       "    }\n",
       "\n",
       "    .dataframe thead tr:last-of-type th {\n",
       "        text-align: right;\n",
       "    }\n",
       "</style>\n",
       "<table border=\"1\" class=\"dataframe\">\n",
       "  <thead>\n",
       "    <tr>\n",
       "      <th></th>\n",
       "      <th>sum</th>\n",
       "      <th>count</th>\n",
       "    </tr>\n",
       "    <tr>\n",
       "      <th></th>\n",
       "      <th>debt</th>\n",
       "      <th>debt</th>\n",
       "    </tr>\n",
       "    <tr>\n",
       "      <th>children</th>\n",
       "      <th></th>\n",
       "      <th></th>\n",
       "    </tr>\n",
       "  </thead>\n",
       "  <tbody>\n",
       "    <tr>\n",
       "      <th>0</th>\n",
       "      <td>1058</td>\n",
       "      <td>14021</td>\n",
       "    </tr>\n",
       "    <tr>\n",
       "      <th>1</th>\n",
       "      <td>442</td>\n",
       "      <td>4839</td>\n",
       "    </tr>\n",
       "    <tr>\n",
       "      <th>2</th>\n",
       "      <td>202</td>\n",
       "      <td>2114</td>\n",
       "    </tr>\n",
       "    <tr>\n",
       "      <th>3</th>\n",
       "      <td>27</td>\n",
       "      <td>328</td>\n",
       "    </tr>\n",
       "    <tr>\n",
       "      <th>4</th>\n",
       "      <td>4</td>\n",
       "      <td>41</td>\n",
       "    </tr>\n",
       "    <tr>\n",
       "      <th>5</th>\n",
       "      <td>0</td>\n",
       "      <td>9</td>\n",
       "    </tr>\n",
       "  </tbody>\n",
       "</table>\n",
       "</div>"
      ],
      "text/plain": [
       "           sum  count\n",
       "          debt   debt\n",
       "children             \n",
       "0         1058  14021\n",
       "1          442   4839\n",
       "2          202   2114\n",
       "3           27    328\n",
       "4            4     41\n",
       "5            0      9"
      ]
     },
     "execution_count": 110,
     "metadata": {},
     "output_type": "execute_result"
    }
   ],
   "source": [
    "debt_children = data[['children', 'debt']]\n",
    "debt_children_pivot = debt_children.pivot_table(index=['children'], values = 'debt', aggfunc = ['sum','count'])\n",
    "debt_children_pivot"
   ]
  },
  {
   "cell_type": "markdown",
   "id": "9cfdfe5e",
   "metadata": {},
   "source": [
    "As you can see from the table, families with 5 children always pay their loans on time. Let's see how the shares of debtors are distributed in other family groups."
   ]
  },
  {
   "cell_type": "code",
   "execution_count": 111,
   "id": "7210fff7",
   "metadata": {},
   "outputs": [
    {
     "data": {
      "text/html": [
       "<style  type=\"text/css\" >\n",
       "</style><table id=\"T_83eb8_\" ><thead>    <tr>        <th class=\"blank level0\" ></th>        <th class=\"col_heading level0 col0\" >sum</th>        <th class=\"col_heading level0 col1\" >count</th>        <th class=\"col_heading level0 col2\" >share</th>    </tr>    <tr>        <th class=\"blank level1\" ></th>        <th class=\"col_heading level1 col0\" >debt</th>        <th class=\"col_heading level1 col1\" >debt</th>        <th class=\"col_heading level1 col2\" ></th>    </tr>    <tr>        <th class=\"index_name level0\" >children</th>        <th class=\"blank\" ></th>        <th class=\"blank\" ></th>        <th class=\"blank\" ></th>    </tr></thead><tbody>\n",
       "                <tr>\n",
       "                        <th id=\"T_83eb8_level0_row0\" class=\"row_heading level0 row0\" >0</th>\n",
       "                        <td id=\"T_83eb8_row0_col0\" class=\"data row0 col0\" >1058.00</td>\n",
       "                        <td id=\"T_83eb8_row0_col1\" class=\"data row0 col1\" >14021.00</td>\n",
       "                        <td id=\"T_83eb8_row0_col2\" class=\"data row0 col2\" >7.55</td>\n",
       "            </tr>\n",
       "            <tr>\n",
       "                        <th id=\"T_83eb8_level0_row1\" class=\"row_heading level0 row1\" >1</th>\n",
       "                        <td id=\"T_83eb8_row1_col0\" class=\"data row1 col0\" >442.00</td>\n",
       "                        <td id=\"T_83eb8_row1_col1\" class=\"data row1 col1\" >4839.00</td>\n",
       "                        <td id=\"T_83eb8_row1_col2\" class=\"data row1 col2\" >9.13</td>\n",
       "            </tr>\n",
       "            <tr>\n",
       "                        <th id=\"T_83eb8_level0_row2\" class=\"row_heading level0 row2\" >2</th>\n",
       "                        <td id=\"T_83eb8_row2_col0\" class=\"data row2 col0\" >202.00</td>\n",
       "                        <td id=\"T_83eb8_row2_col1\" class=\"data row2 col1\" >2114.00</td>\n",
       "                        <td id=\"T_83eb8_row2_col2\" class=\"data row2 col2\" >9.56</td>\n",
       "            </tr>\n",
       "            <tr>\n",
       "                        <th id=\"T_83eb8_level0_row3\" class=\"row_heading level0 row3\" >3</th>\n",
       "                        <td id=\"T_83eb8_row3_col0\" class=\"data row3 col0\" >27.00</td>\n",
       "                        <td id=\"T_83eb8_row3_col1\" class=\"data row3 col1\" >328.00</td>\n",
       "                        <td id=\"T_83eb8_row3_col2\" class=\"data row3 col2\" >8.23</td>\n",
       "            </tr>\n",
       "            <tr>\n",
       "                        <th id=\"T_83eb8_level0_row4\" class=\"row_heading level0 row4\" >4</th>\n",
       "                        <td id=\"T_83eb8_row4_col0\" class=\"data row4 col0\" >4.00</td>\n",
       "                        <td id=\"T_83eb8_row4_col1\" class=\"data row4 col1\" >41.00</td>\n",
       "                        <td id=\"T_83eb8_row4_col2\" class=\"data row4 col2\" >9.76</td>\n",
       "            </tr>\n",
       "            <tr>\n",
       "                        <th id=\"T_83eb8_level0_row5\" class=\"row_heading level0 row5\" >5</th>\n",
       "                        <td id=\"T_83eb8_row5_col0\" class=\"data row5 col0\" >0.00</td>\n",
       "                        <td id=\"T_83eb8_row5_col1\" class=\"data row5 col1\" >9.00</td>\n",
       "                        <td id=\"T_83eb8_row5_col2\" class=\"data row5 col2\" >0.00</td>\n",
       "            </tr>\n",
       "    </tbody></table>"
      ],
      "text/plain": [
       "<pandas.io.formats.style.Styler at 0x18ca4b39d90>"
      ]
     },
     "metadata": {},
     "output_type": "display_data"
    }
   ],
   "source": [
    "debt_children_pivot['share'] = (debt_children_pivot['sum']/debt_children_pivot['count'])*100\n",
    "display(debt_children_pivot.style.format('{:.2f}'))"
   ]
  },
  {
   "cell_type": "markdown",
   "id": "d630c2b8",
   "metadata": {},
   "source": [
    "### Conclusion"
   ]
  },
  {
   "cell_type": "markdown",
   "id": "4ac7acf7",
   "metadata": {},
   "source": [
    "* Obviously, the highest percentage of debtors is in families with 4 children.\n",
    "* The most solvent clients are those who have 5 children.\n",
    "* Childless clients are better at paying back loans on time, compared to those who have children.\n",
    "\n",
    "**<u>The hypothesis is correct. There is a relationship between the number of children and repayment on time<u>**"
   ]
  },
  {
   "cell_type": "markdown",
   "id": "33bc7ca5",
   "metadata": {},
   "source": [
    "## 3.2. Is there a correlation between marital status and loan repayment on time?"
   ]
  },
  {
   "cell_type": "markdown",
   "id": "7aa749ee",
   "metadata": {},
   "source": [
    "To test this hypothesis, let's look at the relationship between the 'debt' and 'family_status' columns. For convenience, let's create a separate data frame containing only these columns. This time we will use data grouping instead of crosstabs."
   ]
  },
  {
   "cell_type": "code",
   "execution_count": 112,
   "id": "3e1c0e6d",
   "metadata": {},
   "outputs": [
    {
     "data": {
      "text/html": [
       "<style  type=\"text/css\" >\n",
       "</style><table id=\"T_bd140_\" ><thead>    <tr>        <th class=\"blank level0\" ></th>        <th class=\"col_heading level0 col0\" >sum</th>        <th class=\"col_heading level0 col1\" >count</th>        <th class=\"col_heading level0 col2\" >debt_family_share</th>    </tr>    <tr>        <th class=\"index_name level0\" >family_status</th>        <th class=\"blank\" ></th>        <th class=\"blank\" ></th>        <th class=\"blank\" ></th>    </tr></thead><tbody>\n",
       "                <tr>\n",
       "                        <th id=\"T_bd140_level0_row0\" class=\"row_heading level0 row0\" >Не женат / не замужем</th>\n",
       "                        <td id=\"T_bd140_row0_col0\" class=\"data row0 col0\" >273.00</td>\n",
       "                        <td id=\"T_bd140_row0_col1\" class=\"data row0 col1\" >2794.00</td>\n",
       "                        <td id=\"T_bd140_row0_col2\" class=\"data row0 col2\" >9.77</td>\n",
       "            </tr>\n",
       "            <tr>\n",
       "                        <th id=\"T_bd140_level0_row1\" class=\"row_heading level0 row1\" >в разводе</th>\n",
       "                        <td id=\"T_bd140_row1_col0\" class=\"data row1 col0\" >85.00</td>\n",
       "                        <td id=\"T_bd140_row1_col1\" class=\"data row1 col1\" >1185.00</td>\n",
       "                        <td id=\"T_bd140_row1_col2\" class=\"data row1 col2\" >7.17</td>\n",
       "            </tr>\n",
       "            <tr>\n",
       "                        <th id=\"T_bd140_level0_row2\" class=\"row_heading level0 row2\" >вдовец / вдова</th>\n",
       "                        <td id=\"T_bd140_row2_col0\" class=\"data row2 col0\" >62.00</td>\n",
       "                        <td id=\"T_bd140_row2_col1\" class=\"data row2 col1\" >954.00</td>\n",
       "                        <td id=\"T_bd140_row2_col2\" class=\"data row2 col2\" >6.50</td>\n",
       "            </tr>\n",
       "            <tr>\n",
       "                        <th id=\"T_bd140_level0_row3\" class=\"row_heading level0 row3\" >гражданский брак</th>\n",
       "                        <td id=\"T_bd140_row3_col0\" class=\"data row3 col0\" >386.00</td>\n",
       "                        <td id=\"T_bd140_row3_col1\" class=\"data row3 col1\" >4129.00</td>\n",
       "                        <td id=\"T_bd140_row3_col2\" class=\"data row3 col2\" >9.35</td>\n",
       "            </tr>\n",
       "            <tr>\n",
       "                        <th id=\"T_bd140_level0_row4\" class=\"row_heading level0 row4\" >женат / замужем</th>\n",
       "                        <td id=\"T_bd140_row4_col0\" class=\"data row4 col0\" >927.00</td>\n",
       "                        <td id=\"T_bd140_row4_col1\" class=\"data row4 col1\" >12290.00</td>\n",
       "                        <td id=\"T_bd140_row4_col2\" class=\"data row4 col2\" >7.54</td>\n",
       "            </tr>\n",
       "    </tbody></table>"
      ],
      "text/plain": [
       "<pandas.io.formats.style.Styler at 0x18c9f005070>"
      ]
     },
     "execution_count": 112,
     "metadata": {},
     "output_type": "execute_result"
    }
   ],
   "source": [
    "debt_family = data[['family_status', 'debt']]\n",
    "debt_family_sum = debt_family.groupby('family_status').sum()\n",
    "debt_family_count = debt_family.groupby('family_status').count()\n",
    "debt_family_result = debt_family_sum.merge(debt_family_count, on='family_status', how='left')\n",
    "debt_family_share = (debt_family_sum / debt_family_count)*100\n",
    "debt_family_result['debt_family_share'] = debt_family_share\n",
    "debt_family_result = debt_family_result.rename(columns={'debt_x' : 'sum', 'debt_y':'count'})\n",
    "debt_family_result.style.format('{:.2f}')\n"
   ]
  },
  {
   "cell_type": "markdown",
   "id": "edb0089b",
   "metadata": {},
   "source": [
    "### Conclusion"
   ]
  },
  {
   "cell_type": "markdown",
   "id": "5d622bbf",
   "metadata": {},
   "source": [
    "* As can be seen from the table, the most debtors are those who are not married or have never been married;\n",
    "* The most reliable clients are those who are widowed;\n",
    "* It is also obvious that the pivot method is much more compact for the construction of summary tables.\n",
    "\n",
    "**<u>The hypothesis is correct. The relationship between marital status and loan repayment on time<u>**"
   ]
  },
  {
   "cell_type": "markdown",
   "id": "14e02d48",
   "metadata": {},
   "source": [
    "## 3.3. Is there a correlation between income level and loan repayment on time?"
   ]
  },
  {
   "cell_type": "markdown",
   "id": "92e41df2",
   "metadata": {},
   "source": [
    "To test this hypothesis, let's look at the relationship between the 'debt' and 'total_income_category' columns. For convenience, let's create a separate dataframe containing only these columns."
   ]
  },
  {
   "cell_type": "code",
   "execution_count": 113,
   "id": "eb74b2fc",
   "metadata": {},
   "outputs": [
    {
     "data": {
      "text/html": [
       "<style  type=\"text/css\" >\n",
       "</style><table id=\"T_70aff_\" ><thead>    <tr>        <th class=\"blank level0\" ></th>        <th class=\"col_heading level0 col0\" >sum</th>        <th class=\"col_heading level0 col1\" >count</th>        <th class=\"col_heading level0 col2\" >share</th>    </tr>    <tr>        <th class=\"blank level1\" ></th>        <th class=\"col_heading level1 col0\" >debt</th>        <th class=\"col_heading level1 col1\" >debt</th>        <th class=\"col_heading level1 col2\" ></th>    </tr>    <tr>        <th class=\"index_name level0\" >total_income_category</th>        <th class=\"blank\" ></th>        <th class=\"blank\" ></th>        <th class=\"blank\" ></th>    </tr></thead><tbody>\n",
       "                <tr>\n",
       "                        <th id=\"T_70aff_level0_row0\" class=\"row_heading level0 row0\" >A</th>\n",
       "                        <td id=\"T_70aff_row0_col0\" class=\"data row0 col0\" >2.00</td>\n",
       "                        <td id=\"T_70aff_row0_col1\" class=\"data row0 col1\" >25.00</td>\n",
       "                        <td id=\"T_70aff_row0_col2\" class=\"data row0 col2\" >8.00</td>\n",
       "            </tr>\n",
       "            <tr>\n",
       "                        <th id=\"T_70aff_level0_row1\" class=\"row_heading level0 row1\" >B</th>\n",
       "                        <td id=\"T_70aff_row1_col0\" class=\"data row1 col0\" >355.00</td>\n",
       "                        <td id=\"T_70aff_row1_col1\" class=\"data row1 col1\" >5014.00</td>\n",
       "                        <td id=\"T_70aff_row1_col2\" class=\"data row1 col2\" >7.08</td>\n",
       "            </tr>\n",
       "            <tr>\n",
       "                        <th id=\"T_70aff_level0_row2\" class=\"row_heading level0 row2\" >C</th>\n",
       "                        <td id=\"T_70aff_row2_col0\" class=\"data row2 col0\" >1353.00</td>\n",
       "                        <td id=\"T_70aff_row2_col1\" class=\"data row2 col1\" >15943.00</td>\n",
       "                        <td id=\"T_70aff_row2_col2\" class=\"data row2 col2\" >8.49</td>\n",
       "            </tr>\n",
       "            <tr>\n",
       "                        <th id=\"T_70aff_level0_row3\" class=\"row_heading level0 row3\" >D</th>\n",
       "                        <td id=\"T_70aff_row3_col0\" class=\"data row3 col0\" >21.00</td>\n",
       "                        <td id=\"T_70aff_row3_col1\" class=\"data row3 col1\" >348.00</td>\n",
       "                        <td id=\"T_70aff_row3_col2\" class=\"data row3 col2\" >6.03</td>\n",
       "            </tr>\n",
       "            <tr>\n",
       "                        <th id=\"T_70aff_level0_row4\" class=\"row_heading level0 row4\" >E</th>\n",
       "                        <td id=\"T_70aff_row4_col0\" class=\"data row4 col0\" >2.00</td>\n",
       "                        <td id=\"T_70aff_row4_col1\" class=\"data row4 col1\" >22.00</td>\n",
       "                        <td id=\"T_70aff_row4_col2\" class=\"data row4 col2\" >9.09</td>\n",
       "            </tr>\n",
       "    </tbody></table>"
      ],
      "text/plain": [
       "<pandas.io.formats.style.Styler at 0x18ca0275a30>"
      ]
     },
     "execution_count": 113,
     "metadata": {},
     "output_type": "execute_result"
    }
   ],
   "source": [
    "debt_income = data[['total_income_category', 'debt']]\n",
    "debt_income_pivot = debt_income.pivot_table(index=['total_income_category'], values = 'debt', aggfunc = ['sum','count'])\n",
    "debt_income_pivot['share'] = (debt_income_pivot['sum']/debt_income_pivot['count'])*100\n",
    "debt_income_pivot.style.format('{:.2f}')"
   ]
  },
  {
   "cell_type": "markdown",
   "id": "58ae93e9",
   "metadata": {},
   "source": [
    "## Вывод"
   ]
  },
  {
   "cell_type": "markdown",
   "id": "e584138c",
   "metadata": {},
   "source": [
    "* Результаты показывают, что наибольшее число должников находится в группе людей с самым низким уровнем дохода;\n",
    "* Как ни странно но среди людей с самым высоким уровнем дохода тоже находится довольно много должников;\n",
    "* Самые платежеспособные клиенты те, у кого уровень дохода чуть выше минимального (от 30001 до 50000)\n",
    "\n",
    "**<u>Гипотеза верна частично. Вопреки здравому смыслу, самая богатая группа людей не охотно возвращают кредиты в срок. Однако, как и ожидалось, самая бедная группа населения тоже задерживает выплаты.<u>**"
   ]
  },
  {
   "cell_type": "markdown",
   "id": "97ac60f7",
   "metadata": {},
   "source": [
    "## 3.4. Как разные цели кредита влияют на его возврат в срок?"
   ]
  },
  {
   "cell_type": "markdown",
   "id": "60dd0a58",
   "metadata": {},
   "source": [
    "По тому же принципу, что и в предыдущих случиях, проверим данную гипотизы посредством взаимосвязи между столбцами 'debt' и 'purpose_category'."
   ]
  },
  {
   "cell_type": "code",
   "execution_count": 48,
   "id": "092ac9b0",
   "metadata": {},
   "outputs": [
    {
     "data": {
      "text/html": [
       "<style  type=\"text/css\" >\n",
       "</style><table id=\"T_8c300_\" ><thead>    <tr>        <th class=\"blank level0\" ></th>        <th class=\"col_heading level0 col0\" >sum</th>        <th class=\"col_heading level0 col1\" >count</th>        <th class=\"col_heading level0 col2\" >share</th>    </tr>    <tr>        <th class=\"blank level1\" ></th>        <th class=\"col_heading level1 col0\" >debt</th>        <th class=\"col_heading level1 col1\" >debt</th>        <th class=\"col_heading level1 col2\" ></th>    </tr>    <tr>        <th class=\"index_name level0\" >purpose_category</th>        <th class=\"blank\" ></th>        <th class=\"blank\" ></th>        <th class=\"blank\" ></th>    </tr></thead><tbody>\n",
       "                <tr>\n",
       "                        <th id=\"T_8c300_level0_row0\" class=\"row_heading level0 row0\" >операции с автомобилем</th>\n",
       "                        <td id=\"T_8c300_row0_col0\" class=\"data row0 col0\" >400.00</td>\n",
       "                        <td id=\"T_8c300_row0_col1\" class=\"data row0 col1\" >4284.00</td>\n",
       "                        <td id=\"T_8c300_row0_col2\" class=\"data row0 col2\" >9.34</td>\n",
       "            </tr>\n",
       "            <tr>\n",
       "                        <th id=\"T_8c300_level0_row1\" class=\"row_heading level0 row1\" >операции с недвижимостью</th>\n",
       "                        <td id=\"T_8c300_row1_col0\" class=\"data row1 col0\" >779.00</td>\n",
       "                        <td id=\"T_8c300_row1_col1\" class=\"data row1 col1\" >10763.00</td>\n",
       "                        <td id=\"T_8c300_row1_col2\" class=\"data row1 col2\" >7.24</td>\n",
       "            </tr>\n",
       "            <tr>\n",
       "                        <th id=\"T_8c300_level0_row2\" class=\"row_heading level0 row2\" >получение образования</th>\n",
       "                        <td id=\"T_8c300_row2_col0\" class=\"data row2 col0\" >370.00</td>\n",
       "                        <td id=\"T_8c300_row2_col1\" class=\"data row2 col1\" >3995.00</td>\n",
       "                        <td id=\"T_8c300_row2_col2\" class=\"data row2 col2\" >9.26</td>\n",
       "            </tr>\n",
       "            <tr>\n",
       "                        <th id=\"T_8c300_level0_row3\" class=\"row_heading level0 row3\" >проведение свадьбы</th>\n",
       "                        <td id=\"T_8c300_row3_col0\" class=\"data row3 col0\" >184.00</td>\n",
       "                        <td id=\"T_8c300_row3_col1\" class=\"data row3 col1\" >2310.00</td>\n",
       "                        <td id=\"T_8c300_row3_col2\" class=\"data row3 col2\" >7.97</td>\n",
       "            </tr>\n",
       "    </tbody></table>"
      ],
      "text/plain": [
       "<pandas.io.formats.style.Styler at 0x18ca02c8310>"
      ]
     },
     "execution_count": 48,
     "metadata": {},
     "output_type": "execute_result"
    }
   ],
   "source": [
    "debt_purpose = data[['purpose_category', 'debt']]\n",
    "debt_purpose_pivot = debt_purpose.pivot_table(index=['purpose_category'], values = 'debt', aggfunc = ['sum','count'])\n",
    "debt_purpose_pivot['share'] = (debt_purpose_pivot['sum']/debt_purpose_pivot['count'])*100\n",
    "debt_purpose_pivot.style.format('{:.2f}')"
   ]
  },
  {
   "cell_type": "markdown",
   "id": "4efb7179",
   "metadata": {},
   "source": [
    "## Conclusion"
   ]
  },
  {
   "cell_type": "markdown",
   "id": "ef9f3114",
   "metadata": {},
   "source": [
    "* The results of the analysis show that the most frequently delayed payments are those people who took a loan for car transactions;\n",
    "* The best repayment rate is for loans related to real estate;\n",
    "* Loans taken out for education and automobiles are paid back in about the same way.\n",
    "\n",
    "**<u>Hypothesis justified. Indeed, loans taken out for different purposes are paid back differently.<u>**"
   ]
  },
  {
   "cell_type": "markdown",
   "id": "a58fb9d6",
   "metadata": {},
   "source": [
    "# 4. General conclusion"
   ]
  },
  {
   "cell_type": "markdown",
   "id": "ba007ec9",
   "metadata": {},
   "source": [
    "To make the results clearer, we will use the graphs from the seaborn library."
   ]
  },
  {
   "cell_type": "markdown",
   "id": "159f3fa8",
   "metadata": {},
   "source": [
    "## 4.1. Relationship between the number of children and not repaying the loan on time"
   ]
  },
  {
   "cell_type": "code",
   "execution_count": 114,
   "id": "7723c372",
   "metadata": {},
   "outputs": [
    {
     "data": {
      "text/plain": [
       "<AxesSubplot:xlabel='children', ylabel='share'>"
      ]
     },
     "execution_count": 114,
     "metadata": {},
     "output_type": "execute_result"
    },
    {
     "data": {
      "image/png": "[encoded data removed]",
      "text/plain": [
       "<Figure size 432x288 with 1 Axes>"
      ]
     },
     "metadata": {
      "needs_background": "light"
     },
     "output_type": "display_data"
    }
   ],
   "source": [
    "debt_children_pivot\n",
    "seaborn.barplot(x=debt_children_pivot.index, y=\"share\", data=debt_children_pivot)"
   ]
  },
  {
   "cell_type": "markdown",
   "id": "2beb2b41",
   "metadata": {},
   "source": [
    "## 4.2. Relationship between marital status and failure to repay a loan on time"
   ]
  },
  {
   "cell_type": "code",
   "execution_count": 115,
   "id": "5fd95b95",
   "metadata": {},
   "outputs": [
    {
     "data": {
      "text/plain": [
       "[Text(0, 0, 'Не женат / не замужем'),\n",
       " Text(1, 0, 'в разводе'),\n",
       " Text(2, 0, 'вдовец / вдова'),\n",
       " Text(3, 0, 'гражданский брак'),\n",
       " Text(4, 0, 'женат / замужем')]"
      ]
     },
     "execution_count": 115,
     "metadata": {},
     "output_type": "execute_result"
    },
    {
     "data": {
      "image/png": "[encoded data removed]",
      "text/plain": [
       "<Figure size 432x288 with 1 Axes>"
      ]
     },
     "metadata": {
      "needs_background": "light"
     },
     "output_type": "display_data"
    }
   ],
   "source": [
    "ax = seaborn.barplot(x=debt_family_result.index, y=\"debt_family_share\", data=debt_family_result)\n",
    "ax.set_xticklabels(ax.get_xticklabels(),rotation = 30)"
   ]
  },
  {
   "cell_type": "markdown",
   "id": "3f5a16e0",
   "metadata": {},
   "source": [
    "## 4.3. Relationship between the purpose of the loan and its failure to be repaid on time"
   ]
  },
  {
   "cell_type": "code",
   "execution_count": 116,
   "id": "e9ee0ea1",
   "metadata": {
    "scrolled": true
   },
   "outputs": [
    {
     "data": {
      "text/plain": [
       "[Text(0, 0, 'операции с автомобилем'),\n",
       " Text(1, 0, 'операции с недвижимостью'),\n",
       " Text(2, 0, 'получение образования'),\n",
       " Text(3, 0, 'проведение свадьбы')]"
      ]
     },
     "execution_count": 116,
     "metadata": {},
     "output_type": "execute_result"
    },
    {
     "data": {
      "image/png": "[encoded data removed]",
      "text/plain": [
       "<Figure size 432x288 with 1 Axes>"
      ]
     },
     "metadata": {
      "needs_background": "light"
     },
     "output_type": "display_data"
    }
   ],
   "source": [
    "ax = seaborn.barplot(x=debt_purpose_pivot.index, y=\"share\", data=debt_purpose_pivot,)\n",
    "ax.set_xticklabels(ax.get_xticklabels(),rotation = 30)"
   ]
  },
  {
   "cell_type": "markdown",
   "id": "eb4cd396",
   "metadata": {},
   "source": [
    "## 4.4. The relationship between income and repayment on time"
   ]
  },
  {
   "cell_type": "code",
   "execution_count": 117,
   "id": "2ec90b27",
   "metadata": {},
   "outputs": [
    {
     "data": {
      "text/plain": [
       "<AxesSubplot:xlabel='total_income_category', ylabel='share'>"
      ]
     },
     "execution_count": 117,
     "metadata": {},
     "output_type": "execute_result"
    },
    {
     "data": {
      "image/png": "[encoded data removed]",
      "text/plain": [
       "<Figure size 432x288 with 1 Axes>"
      ]
     },
     "metadata": {
      "needs_background": "light"
     },
     "output_type": "display_data"
    }
   ],
   "source": [
    "seaborn.barplot(x=debt_income_pivot.index, y=\"share\", data=debt_income_pivot)"
   ]
  },
  {
   "cell_type": "markdown",
   "id": "b2d097ce",
   "metadata": {},
   "source": [
    "# 5. Findings\n",
    "The results of the study showed that there are several factors that affect the repayment of the loan on time:\n",
    "* marital status;\n",
    "* number of children in the family;\n",
    "* amount of income;\n",
    "* purpose of the loan\n",
    "\n",
    "#### All of the hypotheses put forward were confirmed, some only partially. The general trend is that in each selected group of creditors the percentage of clients who are overdue on loans ranges from 6% to 9.5%.\n",
    "\n",
    "*Based on the conducted analysis we can draw up a portrait of **ideal client** - childless, widowed or divorced people who take credit on the real estate and with income from 30 to 50 thousand rubles.\n",
    "*Also we can draw the opposite portrait of an **undesirable customer** - with four children, unmarried, car loan and with an income of 50 to 200 thousand*"
   ]
  }
 ],
 "metadata": {
  "ExecuteTimeLog": [
   {
    "duration": 1116,
    "start_time": "2022-05-06T20:23:42.367Z"
   },
   {
    "duration": 106,
    "start_time": "2022-05-06T20:23:43.485Z"
   },
   {
    "duration": 15,
    "start_time": "2022-05-06T20:23:43.592Z"
   },
   {
    "duration": 4,
    "start_time": "2022-05-06T20:23:43.609Z"
   },
   {
    "duration": 18,
    "start_time": "2022-05-06T20:23:43.615Z"
   },
   {
    "duration": 7,
    "start_time": "2022-05-06T20:23:43.634Z"
   },
   {
    "duration": 72,
    "start_time": "2022-05-06T20:23:43.643Z"
   },
   {
    "duration": 12,
    "start_time": "2022-05-06T20:23:43.716Z"
   },
   {
    "duration": 18,
    "start_time": "2022-05-06T20:23:43.730Z"
   },
   {
    "duration": 29,
    "start_time": "2022-05-06T20:23:43.751Z"
   },
   {
    "duration": 11,
    "start_time": "2022-05-06T20:23:43.781Z"
   },
   {
    "duration": 12,
    "start_time": "2022-05-06T20:23:43.794Z"
   },
   {
    "duration": 12,
    "start_time": "2022-05-06T20:23:43.807Z"
   },
   {
    "duration": 6,
    "start_time": "2022-05-06T20:23:43.821Z"
   },
   {
    "duration": 45,
    "start_time": "2022-05-06T20:23:43.828Z"
   },
   {
    "duration": 9,
    "start_time": "2022-05-06T20:23:43.875Z"
   },
   {
    "duration": 19,
    "start_time": "2022-05-06T20:23:43.885Z"
   },
   {
    "duration": 7,
    "start_time": "2022-05-06T20:23:43.905Z"
   },
   {
    "duration": 8,
    "start_time": "2022-05-06T20:23:43.913Z"
   },
   {
    "duration": 53,
    "start_time": "2022-05-06T20:23:43.922Z"
   },
   {
    "duration": 22,
    "start_time": "2022-05-06T20:23:43.977Z"
   },
   {
    "duration": 15,
    "start_time": "2022-05-06T20:23:44.001Z"
   },
   {
    "duration": 27,
    "start_time": "2022-05-06T20:23:44.018Z"
   },
   {
    "duration": 44,
    "start_time": "2022-05-06T20:23:44.047Z"
   },
   {
    "duration": 19,
    "start_time": "2022-05-06T20:23:44.093Z"
   },
   {
    "duration": 9,
    "start_time": "2022-05-06T20:23:44.114Z"
   },
   {
    "duration": 16,
    "start_time": "2022-05-06T20:23:44.125Z"
   },
   {
    "duration": 5,
    "start_time": "2022-05-06T20:23:44.174Z"
   },
   {
    "duration": 18,
    "start_time": "2022-05-06T20:23:44.180Z"
   },
   {
    "duration": 10,
    "start_time": "2022-05-06T20:23:44.200Z"
   },
   {
    "duration": 16,
    "start_time": "2022-05-06T20:23:44.212Z"
   },
   {
    "duration": 18,
    "start_time": "2022-05-06T20:23:44.229Z"
   },
   {
    "duration": 12,
    "start_time": "2022-05-06T20:23:44.274Z"
   },
   {
    "duration": 22,
    "start_time": "2022-05-06T20:23:44.288Z"
   },
   {
    "duration": 30,
    "start_time": "2022-05-06T20:23:44.312Z"
   },
   {
    "duration": 30,
    "start_time": "2022-05-06T20:23:44.344Z"
   },
   {
    "duration": 20,
    "start_time": "2022-05-06T20:23:44.376Z"
   },
   {
    "duration": 23,
    "start_time": "2022-05-06T20:23:44.397Z"
   },
   {
    "duration": 23,
    "start_time": "2022-05-06T20:23:44.422Z"
   },
   {
    "duration": 161,
    "start_time": "2022-05-06T20:23:44.446Z"
   },
   {
    "duration": 138,
    "start_time": "2022-05-06T20:23:44.608Z"
   },
   {
    "duration": 120,
    "start_time": "2022-05-06T20:23:44.748Z"
   },
   {
    "duration": 129,
    "start_time": "2022-05-06T20:23:44.872Z"
   },
   {
    "duration": 3,
    "start_time": "2022-05-06T20:39:55.502Z"
   },
   {
    "duration": 125,
    "start_time": "2022-05-06T20:39:55.507Z"
   },
   {
    "duration": 12,
    "start_time": "2022-05-06T20:39:55.633Z"
   },
   {
    "duration": 6,
    "start_time": "2022-05-06T20:39:55.647Z"
   },
   {
    "duration": 21,
    "start_time": "2022-05-06T20:39:55.654Z"
   },
   {
    "duration": 6,
    "start_time": "2022-05-06T20:39:55.677Z"
   },
   {
    "duration": 14,
    "start_time": "2022-05-06T20:39:55.685Z"
   },
   {
    "duration": 12,
    "start_time": "2022-05-06T20:39:55.700Z"
   },
   {
    "duration": 17,
    "start_time": "2022-05-06T20:39:55.714Z"
   },
   {
    "duration": 7,
    "start_time": "2022-05-06T20:39:55.732Z"
   },
   {
    "duration": 40,
    "start_time": "2022-05-06T20:39:55.741Z"
   },
   {
    "duration": 14,
    "start_time": "2022-05-06T20:39:55.783Z"
   },
   {
    "duration": 12,
    "start_time": "2022-05-06T20:39:55.798Z"
   },
   {
    "duration": 14,
    "start_time": "2022-05-06T20:40:09.855Z"
   }
  ],
  "kernelspec": {
   "display_name": "Python 3 (ipykernel)",
   "language": "python",
   "name": "python3"
  },
  "language_info": {
   "codemirror_mode": {
    "name": "ipython",
    "version": 3
   },
   "file_extension": ".py",
   "mimetype": "text/x-python",
   "name": "python",
   "nbconvert_exporter": "python",
   "pygments_lexer": "ipython3",
   "version": "3.9.12"
  },
  "toc": {
   "base_numbering": 1,
   "nav_menu": {},
   "number_sections": true,
   "sideBar": true,
   "skip_h1_title": true,
   "title_cell": "Table of Contents",
   "title_sidebar": "Contents",
   "toc_cell": false,
   "toc_position": {},
   "toc_section_display": true,
   "toc_window_display": false
  }
 },
 "nbformat": 4,
 "nbformat_minor": 5
}
