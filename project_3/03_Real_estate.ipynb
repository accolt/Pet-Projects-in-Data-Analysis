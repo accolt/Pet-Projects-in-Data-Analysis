{
 "cells": [
  {
   "cell_type": "markdown",
   "id": "9562fc34",
   "metadata": {},
   "source": [
    "# Determination of the market value of real estate"
   ]
  },
  {
   "cell_type": "markdown",
   "id": "f82c3aa7",
   "metadata": {},
   "source": [
    "## Project Description"
   ]
  },
  {
   "cell_type": "markdown",
   "id": "8b84f372",
   "metadata": {},
   "source": [
    "Source data provided by Yandex Real Estate - an archive of advertisements on the sale of apartments in St. Petersburg and neighboring localities for several years. It is necessary to learn how to determine the market value of real estate objects. The main task is to set the parameters. This will help to build an automated system: it will track anomalies and fraudulent activities.\n",
    "\n",
    "Two types of data are available for each apartment for sale. The first is entered by the user, the second is automatically obtained on the basis of map data. For example, the distance to the center, the airport, the nearest park and body of water."
   ]
  },
  {
   "cell_type": "markdown",
   "id": "5a94cff9",
   "metadata": {},
   "source": [
    "## Purpose of the study"
   ]
  },
  {
   "cell_type": "markdown",
   "id": "d35dffcb",
   "metadata": {},
   "source": [
    "* Establish the main parameters affecting the value of real estate."
   ]
  },
  {
   "cell_type": "markdown",
   "id": "32e8431e",
   "metadata": {},
   "source": [
    "## Steps of the research"
   ]
  },
  {
   "cell_type": "markdown",
   "id": "101c41fb",
   "metadata": {},
   "source": [
    "* Data review;\n",
    "* Data preprocessing (filling in gaps, eliminating dibbles and anomalies);\n",
    "* Hypothesis testing."
   ]
  },
  {
   "cell_type": "markdown",
   "id": "03cf0c5c",
   "metadata": {},
   "source": [
    "# 1. Data review"
   ]
  },
  {
   "cell_type": "markdown",
   "id": "31aaff34",
   "metadata": {},
   "source": [
    "Import all the necessary libraries to work with the data."
   ]
  },
  {
   "cell_type": "code",
   "execution_count": 1,
   "id": "f0bce799",
   "metadata": {},
   "outputs": [],
   "source": [
    "import pandas as pd\n",
    "import matplotlib.pyplot as plt\n",
    "import seaborn\n",
    "import numpy as np"
   ]
  },
  {
   "cell_type": "markdown",
   "id": "9df3d030",
   "metadata": {},
   "source": [
    "Let's open the file and look at the first lines of data."
   ]
  },
  {
   "cell_type": "code",
   "execution_count": 2,
   "id": "028446fc",
   "metadata": {},
   "outputs": [],
   "source": [
    "try:\n",
    "    data = pd.read_csv(r'D:\\Yandex_Data_Analysis\\Project_3\\real_estate_data.csv', sep='\\t')\n",
    "except:\n",
    "    data = pd.read_csv('D:\\Yandex_Data_Analysis\\Project_3\\data.csv', sep='\\t')"
   ]
  },
  {
   "cell_type": "code",
   "execution_count": 3,
   "id": "925125ee",
   "metadata": {},
   "outputs": [
    {
     "data": {
      "text/html": [
       "<div>\n",
       "<style scoped>\n",
       "    .dataframe tbody tr th:only-of-type {\n",
       "        vertical-align: middle;\n",
       "    }\n",
       "\n",
       "    .dataframe tbody tr th {\n",
       "        vertical-align: top;\n",
       "    }\n",
       "\n",
       "    .dataframe thead th {\n",
       "        text-align: right;\n",
       "    }\n",
       "</style>\n",
       "<table border=\"1\" class=\"dataframe\">\n",
       "  <thead>\n",
       "    <tr style=\"text-align: right;\">\n",
       "      <th></th>\n",
       "      <th>total_images</th>\n",
       "      <th>last_price</th>\n",
       "      <th>total_area</th>\n",
       "      <th>first_day_exposition</th>\n",
       "      <th>rooms</th>\n",
       "      <th>ceiling_height</th>\n",
       "      <th>floors_total</th>\n",
       "      <th>living_area</th>\n",
       "      <th>floor</th>\n",
       "      <th>is_apartment</th>\n",
       "      <th>...</th>\n",
       "      <th>kitchen_area</th>\n",
       "      <th>balcony</th>\n",
       "      <th>locality_name</th>\n",
       "      <th>airports_nearest</th>\n",
       "      <th>cityCenters_nearest</th>\n",
       "      <th>parks_around3000</th>\n",
       "      <th>parks_nearest</th>\n",
       "      <th>ponds_around3000</th>\n",
       "      <th>ponds_nearest</th>\n",
       "      <th>days_exposition</th>\n",
       "    </tr>\n",
       "  </thead>\n",
       "  <tbody>\n",
       "    <tr>\n",
       "      <th>0</th>\n",
       "      <td>20</td>\n",
       "      <td>13000000.0</td>\n",
       "      <td>108.0</td>\n",
       "      <td>2019-03-07T00:00:00</td>\n",
       "      <td>3</td>\n",
       "      <td>2.70</td>\n",
       "      <td>16.0</td>\n",
       "      <td>51.0</td>\n",
       "      <td>8</td>\n",
       "      <td>NaN</td>\n",
       "      <td>...</td>\n",
       "      <td>25.0</td>\n",
       "      <td>NaN</td>\n",
       "      <td>Санкт-Петербург</td>\n",
       "      <td>18863.0</td>\n",
       "      <td>16028.0</td>\n",
       "      <td>1.0</td>\n",
       "      <td>482.0</td>\n",
       "      <td>2.0</td>\n",
       "      <td>755.0</td>\n",
       "      <td>NaN</td>\n",
       "    </tr>\n",
       "    <tr>\n",
       "      <th>1</th>\n",
       "      <td>7</td>\n",
       "      <td>3350000.0</td>\n",
       "      <td>40.4</td>\n",
       "      <td>2018-12-04T00:00:00</td>\n",
       "      <td>1</td>\n",
       "      <td>NaN</td>\n",
       "      <td>11.0</td>\n",
       "      <td>18.6</td>\n",
       "      <td>1</td>\n",
       "      <td>NaN</td>\n",
       "      <td>...</td>\n",
       "      <td>11.0</td>\n",
       "      <td>2.0</td>\n",
       "      <td>посёлок Шушары</td>\n",
       "      <td>12817.0</td>\n",
       "      <td>18603.0</td>\n",
       "      <td>0.0</td>\n",
       "      <td>NaN</td>\n",
       "      <td>0.0</td>\n",
       "      <td>NaN</td>\n",
       "      <td>81.0</td>\n",
       "    </tr>\n",
       "    <tr>\n",
       "      <th>2</th>\n",
       "      <td>10</td>\n",
       "      <td>5196000.0</td>\n",
       "      <td>56.0</td>\n",
       "      <td>2015-08-20T00:00:00</td>\n",
       "      <td>2</td>\n",
       "      <td>NaN</td>\n",
       "      <td>5.0</td>\n",
       "      <td>34.3</td>\n",
       "      <td>4</td>\n",
       "      <td>NaN</td>\n",
       "      <td>...</td>\n",
       "      <td>8.3</td>\n",
       "      <td>0.0</td>\n",
       "      <td>Санкт-Петербург</td>\n",
       "      <td>21741.0</td>\n",
       "      <td>13933.0</td>\n",
       "      <td>1.0</td>\n",
       "      <td>90.0</td>\n",
       "      <td>2.0</td>\n",
       "      <td>574.0</td>\n",
       "      <td>558.0</td>\n",
       "    </tr>\n",
       "    <tr>\n",
       "      <th>3</th>\n",
       "      <td>0</td>\n",
       "      <td>64900000.0</td>\n",
       "      <td>159.0</td>\n",
       "      <td>2015-07-24T00:00:00</td>\n",
       "      <td>3</td>\n",
       "      <td>NaN</td>\n",
       "      <td>14.0</td>\n",
       "      <td>NaN</td>\n",
       "      <td>9</td>\n",
       "      <td>NaN</td>\n",
       "      <td>...</td>\n",
       "      <td>NaN</td>\n",
       "      <td>0.0</td>\n",
       "      <td>Санкт-Петербург</td>\n",
       "      <td>28098.0</td>\n",
       "      <td>6800.0</td>\n",
       "      <td>2.0</td>\n",
       "      <td>84.0</td>\n",
       "      <td>3.0</td>\n",
       "      <td>234.0</td>\n",
       "      <td>424.0</td>\n",
       "    </tr>\n",
       "    <tr>\n",
       "      <th>4</th>\n",
       "      <td>2</td>\n",
       "      <td>10000000.0</td>\n",
       "      <td>100.0</td>\n",
       "      <td>2018-06-19T00:00:00</td>\n",
       "      <td>2</td>\n",
       "      <td>3.03</td>\n",
       "      <td>14.0</td>\n",
       "      <td>32.0</td>\n",
       "      <td>13</td>\n",
       "      <td>NaN</td>\n",
       "      <td>...</td>\n",
       "      <td>41.0</td>\n",
       "      <td>NaN</td>\n",
       "      <td>Санкт-Петербург</td>\n",
       "      <td>31856.0</td>\n",
       "      <td>8098.0</td>\n",
       "      <td>2.0</td>\n",
       "      <td>112.0</td>\n",
       "      <td>1.0</td>\n",
       "      <td>48.0</td>\n",
       "      <td>121.0</td>\n",
       "    </tr>\n",
       "  </tbody>\n",
       "</table>\n",
       "<p>5 rows × 22 columns</p>\n",
       "</div>"
      ],
      "text/plain": [
       "   total_images  last_price  total_area first_day_exposition  rooms  \\\n",
       "0            20  13000000.0       108.0  2019-03-07T00:00:00      3   \n",
       "1             7   3350000.0        40.4  2018-12-04T00:00:00      1   \n",
       "2            10   5196000.0        56.0  2015-08-20T00:00:00      2   \n",
       "3             0  64900000.0       159.0  2015-07-24T00:00:00      3   \n",
       "4             2  10000000.0       100.0  2018-06-19T00:00:00      2   \n",
       "\n",
       "   ceiling_height  floors_total  living_area  floor is_apartment  ...  \\\n",
       "0            2.70          16.0         51.0      8          NaN  ...   \n",
       "1             NaN          11.0         18.6      1          NaN  ...   \n",
       "2             NaN           5.0         34.3      4          NaN  ...   \n",
       "3             NaN          14.0          NaN      9          NaN  ...   \n",
       "4            3.03          14.0         32.0     13          NaN  ...   \n",
       "\n",
       "   kitchen_area  balcony    locality_name  airports_nearest  \\\n",
       "0          25.0      NaN  Санкт-Петербург           18863.0   \n",
       "1          11.0      2.0   посёлок Шушары           12817.0   \n",
       "2           8.3      0.0  Санкт-Петербург           21741.0   \n",
       "3           NaN      0.0  Санкт-Петербург           28098.0   \n",
       "4          41.0      NaN  Санкт-Петербург           31856.0   \n",
       "\n",
       "  cityCenters_nearest  parks_around3000  parks_nearest  ponds_around3000  \\\n",
       "0             16028.0               1.0          482.0               2.0   \n",
       "1             18603.0               0.0            NaN               0.0   \n",
       "2             13933.0               1.0           90.0               2.0   \n",
       "3              6800.0               2.0           84.0               3.0   \n",
       "4              8098.0               2.0          112.0               1.0   \n",
       "\n",
       "   ponds_nearest  days_exposition  \n",
       "0          755.0              NaN  \n",
       "1            NaN             81.0  \n",
       "2          574.0            558.0  \n",
       "3          234.0            424.0  \n",
       "4           48.0            121.0  \n",
       "\n",
       "[5 rows x 22 columns]"
      ]
     },
     "execution_count": 3,
     "metadata": {},
     "output_type": "execute_result"
    }
   ],
   "source": [
    "data.head(5)"
   ]
  },
  {
   "cell_type": "code",
   "execution_count": 4,
   "id": "30d81f05",
   "metadata": {},
   "outputs": [
    {
     "name": "stdout",
     "output_type": "stream",
     "text": [
      "<class 'pandas.core.frame.DataFrame'>\n",
      "RangeIndex: 23699 entries, 0 to 23698\n",
      "Data columns (total 22 columns):\n",
      " #   Column                Non-Null Count  Dtype  \n",
      "---  ------                --------------  -----  \n",
      " 0   total_images          23699 non-null  int64  \n",
      " 1   last_price            23699 non-null  float64\n",
      " 2   total_area            23699 non-null  float64\n",
      " 3   first_day_exposition  23699 non-null  object \n",
      " 4   rooms                 23699 non-null  int64  \n",
      " 5   ceiling_height        14504 non-null  float64\n",
      " 6   floors_total          23613 non-null  float64\n",
      " 7   living_area           21796 non-null  float64\n",
      " 8   floor                 23699 non-null  int64  \n",
      " 9   is_apartment          2775 non-null   object \n",
      " 10  studio                23699 non-null  bool   \n",
      " 11  open_plan             23699 non-null  bool   \n",
      " 12  kitchen_area          21421 non-null  float64\n",
      " 13  balcony               12180 non-null  float64\n",
      " 14  locality_name         23650 non-null  object \n",
      " 15  airports_nearest      18157 non-null  float64\n",
      " 16  cityCenters_nearest   18180 non-null  float64\n",
      " 17  parks_around3000      18181 non-null  float64\n",
      " 18  parks_nearest         8079 non-null   float64\n",
      " 19  ponds_around3000      18181 non-null  float64\n",
      " 20  ponds_nearest         9110 non-null   float64\n",
      " 21  days_exposition       20518 non-null  float64\n",
      "dtypes: bool(2), float64(14), int64(3), object(3)\n",
      "memory usage: 3.7+ MB\n"
     ]
    }
   ],
   "source": [
    "data.info()"
   ]
  },
  {
   "cell_type": "markdown",
   "id": "d8e02a79",
   "metadata": {},
   "source": [
    "As you can see there are quite a lot of empty and missing values in the table. Let's count their number."
   ]
  },
  {
   "cell_type": "code",
   "execution_count": 5,
   "id": "e8d651b4",
   "metadata": {},
   "outputs": [
    {
     "data": {
      "text/plain": [
       "total_images                0\n",
       "last_price                  0\n",
       "total_area                  0\n",
       "first_day_exposition        0\n",
       "rooms                       0\n",
       "ceiling_height           9195\n",
       "floors_total               86\n",
       "living_area              1903\n",
       "floor                       0\n",
       "is_apartment            20924\n",
       "studio                      0\n",
       "open_plan                   0\n",
       "kitchen_area             2278\n",
       "balcony                 11519\n",
       "locality_name              49\n",
       "airports_nearest         5542\n",
       "cityCenters_nearest      5519\n",
       "parks_around3000         5518\n",
       "parks_nearest           15620\n",
       "ponds_around3000         5518\n",
       "ponds_nearest           14589\n",
       "days_exposition          3181\n",
       "dtype: int64"
      ]
     },
     "metadata": {},
     "output_type": "display_data"
    }
   ],
   "source": [
    "display(data.isna().sum())"
   ]
  },
  {
   "cell_type": "markdown",
   "id": "bbca1c7d",
   "metadata": {},
   "source": [
    "# 2. Data preprocessing"
   ]
  },
  {
   "cell_type": "markdown",
   "id": "3539c942",
   "metadata": {},
   "source": [
    "## 2.1. Identifying and filling in the gaps"
   ]
  },
  {
   "cell_type": "markdown",
   "id": "a5755f78",
   "metadata": {},
   "source": [
    "Looking at the summary of missing values, you can immediately draw several conclusions:\n",
    "* Missing values in the column 'balcony' can be replaced by 0, because most likely there are no balconies in these positions, since nothing is specified.\n",
    "* Missing values in the column 'is_apartment' can also be replaced with False, since this column is of Boolean type.\n",
    "* In all other columns you cannot change the omissions to 0, since all values and values there are positive."
   ]
  },
  {
   "cell_type": "markdown",
   "id": "affa3981",
   "metadata": {},
   "source": [
    "Let's replace empty values with 0 in the 'balcony' column and False in the 'is_apartment' column. Let's convert all the values in the 'balcony' columns to integers, and the 'is_apartment' column to a boolean type. Then check the result."
   ]
  },
  {
   "cell_type": "code",
   "execution_count": 6,
   "id": "c50d8978",
   "metadata": {},
   "outputs": [
    {
     "data": {
      "text/plain": [
       "total_images                0\n",
       "last_price                  0\n",
       "total_area                  0\n",
       "first_day_exposition        0\n",
       "rooms                       0\n",
       "ceiling_height           9195\n",
       "floors_total               86\n",
       "living_area              1903\n",
       "floor                       0\n",
       "is_apartment                0\n",
       "studio                      0\n",
       "open_plan                   0\n",
       "kitchen_area             2278\n",
       "balcony                     0\n",
       "locality_name              49\n",
       "airports_nearest         5542\n",
       "cityCenters_nearest      5519\n",
       "parks_around3000         5518\n",
       "parks_nearest           15620\n",
       "ponds_around3000         5518\n",
       "ponds_nearest           14589\n",
       "days_exposition          3181\n",
       "dtype: int64"
      ]
     },
     "metadata": {},
     "output_type": "display_data"
    }
   ],
   "source": [
    "data['balcony'] = data['balcony'].fillna(0).astype(int)\n",
    "data['is_apartment'] = data['is_apartment'].fillna(False).astype(bool)\n",
    "display(data.isna().sum())"
   ]
  },
  {
   "cell_type": "markdown",
   "id": "9e4b0933",
   "metadata": {},
   "source": [
    "### 2.1.1 Find and fix anomalies in the 'ceiling_height' column"
   ]
  },
  {
   "cell_type": "markdown",
   "id": "820bfa47",
   "metadata": {},
   "source": [
    "В таблице все еще много пустых значений. Постараемся максимально заполнить пропуски там, где это возможно. Начнем с колонки 'ceiling_height'. Проверим, есть ли в данной колонке выбросы."
   ]
  },
  {
   "cell_type": "code",
   "execution_count": 7,
   "id": "a1181bcd",
   "metadata": {},
   "outputs": [
    {
     "data": {
      "text/plain": [
       "count    14504.000000\n",
       "mean         2.771499\n",
       "std          1.261056\n",
       "min          1.000000\n",
       "25%          2.520000\n",
       "50%          2.650000\n",
       "75%          2.800000\n",
       "max        100.000000\n",
       "Name: ceiling_height, dtype: float64"
      ]
     },
     "execution_count": 7,
     "metadata": {},
     "output_type": "execute_result"
    }
   ],
   "source": [
    "data['ceiling_height'].describe()"
   ]
  },
  {
   "cell_type": "markdown",
   "id": "bd3e64dd",
   "metadata": {},
   "source": [
    "As you can see the standard deviation from the average is quite large, and also the maximum value of the floor of 100 m is also impossible. According to the building regulations, the height of the ceilings is in the range of 2.4 to 4 m. Let's filter the column by these values and see how many emissions remain."
   ]
  },
  {
   "cell_type": "code",
   "execution_count": 8,
   "id": "0506de64",
   "metadata": {},
   "outputs": [
    {
     "data": {
      "text/plain": [
       "75"
      ]
     },
     "metadata": {},
     "output_type": "display_data"
    },
    {
     "data": {
      "text/plain": [
       "21"
      ]
     },
     "metadata": {},
     "output_type": "display_data"
    }
   ],
   "source": [
    "display(data.query('ceiling_height > 4')['ceiling_height'].count())\n",
    "display(data.query('ceiling_height < 2.4')['ceiling_height'].count())"
   ]
  },
  {
   "cell_type": "markdown",
   "id": "ab5d6d70",
   "metadata": {},
   "source": [
    "There are only 96 lines with outliers, which is not much, so you can delete them so they don't spoil the data. Then we check the result."
   ]
  },
  {
   "cell_type": "code",
   "execution_count": 9,
   "id": "1d45cd4a",
   "metadata": {},
   "outputs": [
    {
     "data": {
      "text/plain": [
       "0"
      ]
     },
     "metadata": {},
     "output_type": "display_data"
    },
    {
     "data": {
      "text/plain": [
       "0"
      ]
     },
     "metadata": {},
     "output_type": "display_data"
    }
   ],
   "source": [
    "data.drop(data[data['ceiling_height'] > 4].index, inplace = True)\n",
    "data.drop(data[data['ceiling_height'] < 2.4].index, inplace = True)\n",
    "display(data.query('ceiling_height > 4')['ceiling_height'].count())\n",
    "display(data.query('ceiling_height < 2.4')['ceiling_height'].count())"
   ]
  },
  {
   "cell_type": "markdown",
   "id": "0ee1f572",
   "metadata": {},
   "source": [
    "Now that we've got rid of the outliers, let's fill in the gaps with median values depending on the area and the number of storeys of houses nearby. Then we check how many empty values remain."
   ]
  },
  {
   "cell_type": "code",
   "execution_count": 10,
   "id": "7208b094",
   "metadata": {},
   "outputs": [
    {
     "data": {
      "text/plain": [
       "count    23095.000000\n",
       "mean         2.705200\n",
       "std          0.223601\n",
       "min          2.400000\n",
       "25%          2.550000\n",
       "50%          2.650000\n",
       "75%          2.750000\n",
       "max          4.000000\n",
       "Name: ceiling_height, dtype: float64"
      ]
     },
     "metadata": {},
     "output_type": "display_data"
    },
    {
     "data": {
      "text/plain": [
       "508"
      ]
     },
     "metadata": {},
     "output_type": "display_data"
    }
   ],
   "source": [
    "data['ceiling_height'] = data['ceiling_height'].fillna(data.groupby(['locality_name', 'floors_total'])['ceiling_height'].\n",
    "                                                       transform('median'))\n",
    "display(data['ceiling_height'].describe())\n",
    "display(data['ceiling_height'].isna().sum())"
   ]
  },
  {
   "cell_type": "markdown",
   "id": "a564ded7",
   "metadata": {},
   "source": [
    "As you can see, there are still empty lines. Assign these gaps the median value of the ceiling height relative to the number of storeys. Then we check the result."
   ]
  },
  {
   "cell_type": "code",
   "execution_count": 11,
   "id": "978ae571",
   "metadata": {},
   "outputs": [
    {
     "data": {
      "text/plain": [
       "78"
      ]
     },
     "metadata": {},
     "output_type": "display_data"
    }
   ],
   "source": [
    "data['ceiling_height'] = data['ceiling_height'].fillna(data.groupby('floors_total')['ceiling_height'].transform('median'))\n",
    "display(data['ceiling_height'].isna().sum())"
   ]
  },
  {
   "cell_type": "markdown",
   "id": "037d08d6",
   "metadata": {},
   "source": [
    "The remaining empty values will be replaced by the median value of the ceiling height."
   ]
  },
  {
   "cell_type": "code",
   "execution_count": 12,
   "id": "9380aad9",
   "metadata": {},
   "outputs": [
    {
     "data": {
      "text/plain": [
       "0"
      ]
     },
     "metadata": {},
     "output_type": "display_data"
    }
   ],
   "source": [
    "data['ceiling_height'] = data['ceiling_height'].fillna(data['ceiling_height'].median())\n",
    "display(data['ceiling_height'].isna().sum())"
   ]
  },
  {
   "cell_type": "markdown",
   "id": "b90d2f21",
   "metadata": {},
   "source": [
    "Now there are no more gaps."
   ]
  },
  {
   "cell_type": "markdown",
   "id": "38019e08",
   "metadata": {},
   "source": [
    "### 2.1.2 Finding and eliminating anomalies in 'floors_total' columns."
   ]
  },
  {
   "cell_type": "markdown",
   "id": "cc64c353",
   "metadata": {},
   "source": [
    "Let's examine the values in the 'floors_total' columns."
   ]
  },
  {
   "cell_type": "code",
   "execution_count": 13,
   "id": "7e5da0ec",
   "metadata": {},
   "outputs": [
    {
     "data": {
      "text/plain": [
       "count    23517.000000\n",
       "mean        10.686907\n",
       "std          6.594433\n",
       "min          1.000000\n",
       "25%          5.000000\n",
       "50%          9.000000\n",
       "75%         16.000000\n",
       "max         60.000000\n",
       "Name: floors_total, dtype: float64"
      ]
     },
     "metadata": {},
     "output_type": "display_data"
    },
    {
     "data": {
      "text/plain": [
       "86"
      ]
     },
     "metadata": {},
     "output_type": "display_data"
    }
   ],
   "source": [
    "display(data['floors_total'].describe())\n",
    "display(data['floors_total'].isna().sum())"
   ]
  },
  {
   "cell_type": "markdown",
   "id": "c95b9a75",
   "metadata": {},
   "source": [
    "Make sure that there are no lines where the floor on which the apartment is located is greater than the total number of floors."
   ]
  },
  {
   "cell_type": "code",
   "execution_count": 14,
   "id": "c8d4fc1a",
   "metadata": {},
   "outputs": [
    {
     "data": {
      "text/plain": [
       "0"
      ]
     },
     "execution_count": 14,
     "metadata": {},
     "output_type": "execute_result"
    }
   ],
   "source": [
    "data.query('floors_total < floor')['floors_total'].count()"
   ]
  },
  {
   "cell_type": "markdown",
   "id": "1eabe9ea",
   "metadata": {},
   "source": [
    "Fortunately, there are no such lines.\n",
    "Fill in the empty values with medians relative to the area and the height of the ceilings. Then we check the result."
   ]
  },
  {
   "cell_type": "code",
   "execution_count": 15,
   "id": "9484dca4",
   "metadata": {},
   "outputs": [
    {
     "data": {
      "text/plain": [
       "count    23599.000000\n",
       "mean        10.694563\n",
       "std          6.587489\n",
       "min          1.000000\n",
       "25%          5.000000\n",
       "50%          9.000000\n",
       "75%         16.000000\n",
       "max         60.000000\n",
       "Name: floors_total, dtype: float64"
      ]
     },
     "metadata": {},
     "output_type": "display_data"
    },
    {
     "data": {
      "text/plain": [
       "4"
      ]
     },
     "metadata": {},
     "output_type": "display_data"
    }
   ],
   "source": [
    "data['floors_total'] = data['floors_total'].fillna(data.groupby(['locality_name','ceiling_height'])['floors_total'].\n",
    "                                                   transform('median'))\n",
    "display(data['floors_total'].describe())\n",
    "display(data['floors_total'].isna().sum())"
   ]
  },
  {
   "cell_type": "markdown",
   "id": "a74b2941",
   "metadata": {},
   "source": [
    "Let's replace the remaining empty values with medians relative to the height of the ceilings."
   ]
  },
  {
   "cell_type": "code",
   "execution_count": 16,
   "id": "ec41a394",
   "metadata": {},
   "outputs": [
    {
     "data": {
      "text/plain": [
       "0"
      ]
     },
     "metadata": {},
     "output_type": "display_data"
    }
   ],
   "source": [
    "data['floors_total'] = data['floors_total'].fillna(data.groupby('ceiling_height')['floors_total'].transform('median'))\n",
    "display(data['floors_total'].isna().sum())"
   ]
  },
  {
   "cell_type": "markdown",
   "id": "d126d7d1",
   "metadata": {},
   "source": [
    "Now let's make all the values in the 'floors_total' column integer, since there can't be, for example, 1.5 floors."
   ]
  },
  {
   "cell_type": "code",
   "execution_count": 17,
   "id": "187a9a91",
   "metadata": {},
   "outputs": [],
   "source": [
    "data['floors_total'] = data['floors_total'].astype(int)"
   ]
  },
  {
   "cell_type": "markdown",
   "id": "6b707a82",
   "metadata": {},
   "source": [
    "### 2.1.3. Finding and fixing anomalies in the 'days_exposition' column."
   ]
  },
  {
   "cell_type": "code",
   "execution_count": 18,
   "id": "22915b0d",
   "metadata": {},
   "outputs": [
    {
     "data": {
      "text/plain": [
       "3164"
      ]
     },
     "execution_count": 18,
     "metadata": {},
     "output_type": "execute_result"
    }
   ],
   "source": [
    "data['days_exposition'].isna().sum()"
   ]
  },
  {
   "cell_type": "markdown",
   "id": "9343e922",
   "metadata": {},
   "source": [
    "There are quite a few empty values in the 'days_exposition' column. Most likely they mean that the apartment was sold through other sources or on the first day. Therefore, we will replace these values with 0. We will also make all values integers."
   ]
  },
  {
   "cell_type": "code",
   "execution_count": 19,
   "id": "97fadca7",
   "metadata": {},
   "outputs": [],
   "source": [
    "data['days_exposition'] = data['days_exposition'].fillna(0).astype(int)"
   ]
  },
  {
   "cell_type": "markdown",
   "id": "292172a3",
   "metadata": {},
   "source": [
    "### 2.1.4. Finding and fixing anomalies in the 'living_area' column."
   ]
  },
  {
   "cell_type": "code",
   "execution_count": 20,
   "id": "56bdbbb4",
   "metadata": {},
   "outputs": [
    {
     "data": {
      "text/plain": [
       "count    21709.000000\n",
       "mean        34.355905\n",
       "std         21.656306\n",
       "min          2.000000\n",
       "25%         18.600000\n",
       "50%         30.000000\n",
       "75%         42.200000\n",
       "max        409.700000\n",
       "Name: living_area, dtype: float64"
      ]
     },
     "execution_count": 20,
     "metadata": {},
     "output_type": "execute_result"
    }
   ],
   "source": [
    "data['living_area'].describe()"
   ]
  },
  {
   "cell_type": "markdown",
   "id": "a8b70a2e",
   "metadata": {},
   "source": [
    "According to the Russian building codes SP 54.13330.2016, the minimum living area in a one-room apartment is 14 sq.m. As can be seen from the description of the data, there are abnormally low values. The maximum area is 409 sq.m. structurally acceptable. Let's check how many outliers there are."
   ]
  },
  {
   "cell_type": "code",
   "execution_count": 21,
   "id": "38d8aea7",
   "metadata": {},
   "outputs": [
    {
     "data": {
      "text/plain": [
       "322"
      ]
     },
     "metadata": {},
     "output_type": "display_data"
    },
    {
     "data": {
      "text/plain": [
       "1.3642333601660805"
      ]
     },
     "metadata": {},
     "output_type": "display_data"
    }
   ],
   "source": [
    "display(data.query('living_area < 14')['living_area'].count())\n",
    "display(data.query('living_area < 14')['living_area'].count()/len(data['living_area'])*100)"
   ]
  },
  {
   "cell_type": "markdown",
   "id": "b087ad8a",
   "metadata": {},
   "source": [
    "The number of anomalies is about 1% of all values in the column, so these rows can also be deleted."
   ]
  },
  {
   "cell_type": "code",
   "execution_count": 22,
   "id": "5156b1b7",
   "metadata": {},
   "outputs": [],
   "source": [
    "data.drop(data[data['living_area'] < 14].index, inplace = True)"
   ]
  },
  {
   "cell_type": "markdown",
   "id": "7b9fd787",
   "metadata": {},
   "source": [
    "Now let's replace the empty values with medians relative to the area and price. Then we check the results."
   ]
  },
  {
   "cell_type": "code",
   "execution_count": 23,
   "id": "574830fc",
   "metadata": {},
   "outputs": [
    {
     "data": {
      "text/plain": [
       "679"
      ]
     },
     "metadata": {},
     "output_type": "display_data"
    }
   ],
   "source": [
    "data['living_area'] = data['living_area'].fillna(data.groupby(['locality_name', 'last_price'])['living_area'].\n",
    "                                                 transform('median'))\n",
    "display(data['living_area'].isna().sum())"
   ]
  },
  {
   "cell_type": "markdown",
   "id": "6b30896e",
   "metadata": {},
   "source": [
    "There are still many empty values in the table. Let us replace the remaining ones with the median relative to housing prices."
   ]
  },
  {
   "cell_type": "code",
   "execution_count": 24,
   "id": "e69084c7",
   "metadata": {},
   "outputs": [
    {
     "data": {
      "text/plain": [
       "308"
      ]
     },
     "metadata": {},
     "output_type": "display_data"
    }
   ],
   "source": [
    "data['living_area'] = data['living_area'].fillna(data.groupby('last_price')['living_area'].transform('median'))\n",
    "display(data['living_area'].isna().sum())"
   ]
  },
  {
   "cell_type": "markdown",
   "id": "f36263c6",
   "metadata": {},
   "source": [
    "The remaining gaps will be replaced by the medina of the living area."
   ]
  },
  {
   "cell_type": "code",
   "execution_count": 25,
   "id": "043ecf5a",
   "metadata": {},
   "outputs": [
    {
     "data": {
      "text/plain": [
       "0"
      ]
     },
     "metadata": {},
     "output_type": "display_data"
    }
   ],
   "source": [
    "data['living_area'] = data['living_area'].fillna(data['living_area'].median())\n",
    "display(data['living_area'].isna().sum())"
   ]
  },
  {
   "cell_type": "markdown",
   "id": "e02c4f92",
   "metadata": {},
   "source": [
    "There are no more empty values."
   ]
  },
  {
   "cell_type": "markdown",
   "id": "18ca591d",
   "metadata": {},
   "source": [
    "### 2.1.5. Finding and fixing anomalies in the 'kitchen_area' column."
   ]
  },
  {
   "cell_type": "code",
   "execution_count": 26,
   "id": "6718e6ad",
   "metadata": {},
   "outputs": [
    {
     "data": {
      "text/plain": [
       "count    21064.000000\n",
       "mean        10.521765\n",
       "std          5.862528\n",
       "min          1.300000\n",
       "25%          7.000000\n",
       "50%          9.100000\n",
       "75%         12.000000\n",
       "max        112.000000\n",
       "Name: kitchen_area, dtype: float64"
      ]
     },
     "metadata": {},
     "output_type": "display_data"
    },
    {
     "data": {
      "text/plain": [
       "2217"
      ]
     },
     "metadata": {},
     "output_type": "display_data"
    }
   ],
   "source": [
    "display(data['kitchen_area'].describe())\n",
    "display(data['kitchen_area'].isna().sum())"
   ]
  },
  {
   "cell_type": "markdown",
   "id": "7dec727e",
   "metadata": {},
   "source": [
    "According to building codes, the minimum kitchen area is 5 sq.m. Let's see how many values are less than this indicator."
   ]
  },
  {
   "cell_type": "code",
   "execution_count": 27,
   "id": "7dac4b31",
   "metadata": {},
   "outputs": [
    {
     "data": {
      "text/plain": [
       "98"
      ]
     },
     "metadata": {},
     "output_type": "display_data"
    }
   ],
   "source": [
    "display(data.query('kitchen_area < 5')['kitchen_area'].count())"
   ]
  },
  {
   "cell_type": "code",
   "execution_count": 28,
   "id": "8d71ced0",
   "metadata": {},
   "outputs": [],
   "source": [
    "data.drop(data[data['kitchen_area'] < 5].index, inplace = True)"
   ]
  },
  {
   "cell_type": "markdown",
   "id": "68085d2c",
   "metadata": {},
   "source": [
    "There are few such lines, so we will remove these anomalies."
   ]
  },
  {
   "cell_type": "markdown",
   "id": "6437438d",
   "metadata": {},
   "source": [
    "Let's check if there are such lines where total_area < kitchen_area + living_area"
   ]
  },
  {
   "cell_type": "code",
   "execution_count": 29,
   "id": "2097033a",
   "metadata": {},
   "outputs": [
    {
     "data": {
      "text/plain": [
       "125"
      ]
     },
     "execution_count": 29,
     "metadata": {},
     "output_type": "execute_result"
    }
   ],
   "source": [
    "data.query('total_area < kitchen_area + living_area')['total_area'].count()"
   ]
  },
  {
   "cell_type": "markdown",
   "id": "f425f921",
   "metadata": {},
   "source": [
    "These lines with anomalies should also be deleted. Let's create a function that equates all anomalies to 0."
   ]
  },
  {
   "cell_type": "code",
   "execution_count": 30,
   "id": "5f8441e1",
   "metadata": {},
   "outputs": [
    {
     "data": {
      "text/plain": [
       "125"
      ]
     },
     "metadata": {},
     "output_type": "display_data"
    }
   ],
   "source": [
    "def little_area(row):\n",
    "\n",
    "    living_area = row['living_area']\n",
    "    kitchen_area = row['kitchen_area']\n",
    "    total_area = row['total_area']\n",
    "\n",
    "    if living_area + kitchen_area > total_area:\n",
    "        return 0\n",
    "    else:\n",
    "        return total_area\n",
    "    \n",
    "data['total_area'] = data.apply(little_area, axis=1)\n",
    "\n",
    "display(data.query('total_area == 0')['total_area'].count())"
   ]
  },
  {
   "cell_type": "markdown",
   "id": "03fa0d3a",
   "metadata": {},
   "source": [
    "Now let's delete all lines that contain 0. Then check the result."
   ]
  },
  {
   "cell_type": "code",
   "execution_count": 31,
   "id": "a04b6081",
   "metadata": {},
   "outputs": [
    {
     "data": {
      "text/plain": [
       "0"
      ]
     },
     "metadata": {},
     "output_type": "display_data"
    }
   ],
   "source": [
    "data.drop(data[data['total_area'] == 0].index, inplace = True)\n",
    "display(data.query('total_area == 0')['total_area'].count())"
   ]
  },
  {
   "cell_type": "markdown",
   "id": "3b8339c1",
   "metadata": {},
   "source": [
    "In our dataset, the kitchen_area column still has a lot of gaps. Let's replace the missing values with the medians relative to the living area and the total area."
   ]
  },
  {
   "cell_type": "code",
   "execution_count": 32,
   "id": "b36b581d",
   "metadata": {},
   "outputs": [
    {
     "data": {
      "text/plain": [
       "1556"
      ]
     },
     "metadata": {},
     "output_type": "display_data"
    }
   ],
   "source": [
    "data['kitchen_area'] = data['kitchen_area'].fillna(data.groupby(['total_area', 'living_area'])['kitchen_area'].\n",
    "                                                 transform('median'))\n",
    "display(data['kitchen_area'].isna().sum())"
   ]
  },
  {
   "cell_type": "markdown",
   "id": "88704ab9",
   "metadata": {},
   "source": [
    "Now let's replace the missing values with medians, relative to the living area."
   ]
  },
  {
   "cell_type": "code",
   "execution_count": 33,
   "id": "af3af140",
   "metadata": {},
   "outputs": [
    {
     "data": {
      "text/plain": [
       "215"
      ]
     },
     "metadata": {},
     "output_type": "display_data"
    }
   ],
   "source": [
    "data['kitchen_area'] = data['kitchen_area'].fillna(data.groupby('living_area')['kitchen_area'].transform('median'))\n",
    "display(data['kitchen_area'].isna().sum())"
   ]
  },
  {
   "cell_type": "markdown",
   "id": "2e4d116b",
   "metadata": {},
   "source": [
    "The remaining gaps will be replaced by the median values of the kitchen area."
   ]
  },
  {
   "cell_type": "code",
   "execution_count": 34,
   "id": "03704adc",
   "metadata": {},
   "outputs": [
    {
     "data": {
      "text/plain": [
       "0"
      ]
     },
     "metadata": {},
     "output_type": "display_data"
    }
   ],
   "source": [
    "data['kitchen_area'] = data['kitchen_area'].fillna(data['kitchen_area'].median())\n",
    "display(data['kitchen_area'].isna().sum())"
   ]
  },
  {
   "cell_type": "markdown",
   "id": "67309f52",
   "metadata": {},
   "source": [
    "### 2.1.6. Finding and fixing anomalies in the 'airports_nearest' column."
   ]
  },
  {
   "cell_type": "code",
   "execution_count": 35,
   "id": "9e1b65a2",
   "metadata": {},
   "outputs": [
    {
     "data": {
      "text/plain": [
       "count    17722.000000\n",
       "mean     28769.884663\n",
       "std      12591.699919\n",
       "min          0.000000\n",
       "25%      18574.250000\n",
       "50%      26726.000000\n",
       "75%      37242.000000\n",
       "max      84869.000000\n",
       "Name: airports_nearest, dtype: float64"
      ]
     },
     "execution_count": 35,
     "metadata": {},
     "output_type": "execute_result"
    }
   ],
   "source": [
    "data['airports_nearest'].describe()"
   ]
  },
  {
   "cell_type": "markdown",
   "id": "04ce0102",
   "metadata": {},
   "source": [
    "According to the Russian standart SNiP 32-03-96, residential buildings cannot be built within a radius of 3 km from the airport. In this regard, let's see how many anomalies there are, less than this indicator."
   ]
  },
  {
   "cell_type": "code",
   "execution_count": 36,
   "id": "50bfc501",
   "metadata": {},
   "outputs": [
    {
     "data": {
      "text/plain": [
       "1"
      ]
     },
     "metadata": {},
     "output_type": "display_data"
    }
   ],
   "source": [
    "display(data.query('airports_nearest < 3000')['airports_nearest'].count())"
   ]
  },
  {
   "cell_type": "markdown",
   "id": "a831f1d4",
   "metadata": {},
   "source": [
    "This line can simply be removed."
   ]
  },
  {
   "cell_type": "code",
   "execution_count": 37,
   "id": "a60c485f",
   "metadata": {},
   "outputs": [],
   "source": [
    "data.drop(data[data['airports_nearest'] < 3000].index, inplace = True)"
   ]
  },
  {
   "cell_type": "markdown",
   "id": "d67a50cc",
   "metadata": {},
   "source": [
    "Let's see how many gaps there are."
   ]
  },
  {
   "cell_type": "code",
   "execution_count": 38,
   "id": "24580889",
   "metadata": {},
   "outputs": [
    {
     "data": {
      "text/plain": [
       "5336"
      ]
     },
     "execution_count": 38,
     "metadata": {},
     "output_type": "execute_result"
    }
   ],
   "source": [
    "data['airports_nearest'].isna().sum()"
   ]
  },
  {
   "cell_type": "markdown",
   "id": "4b629424",
   "metadata": {},
   "source": [
    "Fill in the empty values with medians relative to the area and number of floors. Then we check the result."
   ]
  },
  {
   "cell_type": "code",
   "execution_count": 39,
   "id": "b008e3cb",
   "metadata": {},
   "outputs": [
    {
     "data": {
      "text/plain": [
       "5238"
      ]
     },
     "execution_count": 39,
     "metadata": {},
     "output_type": "execute_result"
    }
   ],
   "source": [
    "data['airports_nearest'] = data['airports_nearest'].fillna(data.groupby(['locality_name', 'floors_total'])\n",
    "                                                           ['airports_nearest'].transform('median'))\n",
    "data['airports_nearest'].isna().sum()"
   ]
  },
  {
   "cell_type": "markdown",
   "id": "4b084bcb",
   "metadata": {},
   "source": [
    "Let's fill in the empty values with medians relative to the number of floors. Then we check the result."
   ]
  },
  {
   "cell_type": "code",
   "execution_count": 40,
   "id": "21446a63",
   "metadata": {},
   "outputs": [
    {
     "data": {
      "text/plain": [
       "0"
      ]
     },
     "execution_count": 40,
     "metadata": {},
     "output_type": "execute_result"
    }
   ],
   "source": [
    "data['airports_nearest'] = data['airports_nearest'].fillna(data.groupby('floors_total')['airports_nearest'].\n",
    "                                                           transform('median'))\n",
    "data['airports_nearest'].isna().sum()"
   ]
  },
  {
   "cell_type": "markdown",
   "id": "48d5f457",
   "metadata": {},
   "source": [
    "### 2.1.7. Finding and fixing anomalies in the 'cityCenters_nearest' column."
   ]
  },
  {
   "cell_type": "markdown",
   "id": "334c7de5",
   "metadata": {},
   "source": [
    "First, make sure that the column names are spelled correctly."
   ]
  },
  {
   "cell_type": "code",
   "execution_count": 41,
   "id": "db1580b7",
   "metadata": {},
   "outputs": [
    {
     "data": {
      "text/plain": [
       "Index(['total_images', 'last_price', 'total_area', 'first_day_exposition',\n",
       "       'rooms', 'ceiling_height', 'floors_total', 'living_area', 'floor',\n",
       "       'is_apartment', 'studio', 'open_plan', 'kitchen_area', 'balcony',\n",
       "       'locality_name', 'airports_nearest', 'cityCenters_nearest',\n",
       "       'parks_around3000', 'parks_nearest', 'ponds_around3000',\n",
       "       'ponds_nearest', 'days_exposition'],\n",
       "      dtype='object')"
      ]
     },
     "execution_count": 41,
     "metadata": {},
     "output_type": "execute_result"
    }
   ],
   "source": [
    "data.columns"
   ]
  },
  {
   "cell_type": "code",
   "execution_count": 42,
   "id": "25d3406b",
   "metadata": {},
   "outputs": [
    {
     "data": {
      "text/plain": [
       "Index(['total_images', 'last_price', 'total_area', 'first_day_exposition',\n",
       "       'rooms', 'ceiling_height', 'floors_total', 'living_area', 'floor',\n",
       "       'is_apartment', 'studio', 'open_plan', 'kitchen_area', 'balcony',\n",
       "       'locality_name', 'airports_nearest', 'city_center_nearest',\n",
       "       'parks_around3000', 'parks_nearest', 'ponds_around3000',\n",
       "       'ponds_nearest', 'days_exposition'],\n",
       "      dtype='object')"
      ]
     },
     "execution_count": 42,
     "metadata": {},
     "output_type": "execute_result"
    }
   ],
   "source": [
    "data = data.rename(columns={'cityCenters_nearest':'city_center_nearest'})\n",
    "data.columns"
   ]
  },
  {
   "cell_type": "markdown",
   "id": "a69e47d0",
   "metadata": {},
   "source": [
    "Let's analyze the city_center_nearest column for anomalies."
   ]
  },
  {
   "cell_type": "code",
   "execution_count": 43,
   "id": "d4abd928",
   "metadata": {
    "scrolled": true
   },
   "outputs": [
    {
     "data": {
      "text/plain": [
       "count    17741.000000\n",
       "mean     14183.223945\n",
       "std       8575.483466\n",
       "min        181.000000\n",
       "25%       9267.000000\n",
       "50%      13092.000000\n",
       "75%      16275.000000\n",
       "max      65968.000000\n",
       "Name: city_center_nearest, dtype: float64"
      ]
     },
     "metadata": {},
     "output_type": "display_data"
    },
    {
     "data": {
      "text/plain": [
       "5316"
      ]
     },
     "metadata": {},
     "output_type": "display_data"
    }
   ],
   "source": [
    "display(data['city_center_nearest'].describe())\n",
    "display(data['city_center_nearest'].isna().sum())"
   ]
  },
  {
   "cell_type": "markdown",
   "id": "fa2101cd",
   "metadata": {},
   "source": [
    "There are quite a few empty values. Let's replace them with median values relative to place and price."
   ]
  },
  {
   "cell_type": "code",
   "execution_count": 44,
   "id": "ffdb7d86",
   "metadata": {},
   "outputs": [
    {
     "data": {
      "text/plain": [
       "5265"
      ]
     },
     "metadata": {},
     "output_type": "display_data"
    }
   ],
   "source": [
    "data['city_center_nearest'] = data['city_center_nearest'].fillna(data.groupby(['locality_name', 'last_price'])\n",
    "                                                                 ['city_center_nearest'].transform('median'))\n",
    "display(data['city_center_nearest'].isna().sum())"
   ]
  },
  {
   "cell_type": "markdown",
   "id": "c52797ac",
   "metadata": {},
   "source": [
    "Now let's replace the remaining gaps with the median relative to the price."
   ]
  },
  {
   "cell_type": "code",
   "execution_count": 45,
   "id": "52d7da49",
   "metadata": {},
   "outputs": [
    {
     "data": {
      "text/plain": [
       "1174"
      ]
     },
     "metadata": {},
     "output_type": "display_data"
    }
   ],
   "source": [
    "data['city_center_nearest'] = data['city_center_nearest'].fillna(data.groupby('last_price')\n",
    "                                                                 ['city_center_nearest'].transform('median'))\n",
    "display(data['city_center_nearest'].isna().sum())"
   ]
  },
  {
   "cell_type": "markdown",
   "id": "f11776fc",
   "metadata": {},
   "source": [
    "The remaining gaps are replaced by the median relative to the distance to the center."
   ]
  },
  {
   "cell_type": "code",
   "execution_count": 46,
   "id": "028c757d",
   "metadata": {},
   "outputs": [
    {
     "data": {
      "text/plain": [
       "0"
      ]
     },
     "metadata": {},
     "output_type": "display_data"
    }
   ],
   "source": [
    "data['city_center_nearest'] = data['city_center_nearest'].fillna(data['city_center_nearest'].median())\n",
    "display(data['city_center_nearest'].isna().sum())"
   ]
  },
  {
   "cell_type": "markdown",
   "id": "9ea697cd",
   "metadata": {},
   "source": [
    "### 2.1.8. Finding and fixing anomalies in the 'parks_around3000' column."
   ]
  },
  {
   "cell_type": "markdown",
   "id": "6784cc7c",
   "metadata": {},
   "source": [
    "Let's analyze the parks_around3000 column for anomalies."
   ]
  },
  {
   "cell_type": "code",
   "execution_count": 47,
   "id": "d71d61e6",
   "metadata": {},
   "outputs": [
    {
     "data": {
      "text/plain": [
       "count    17742.000000\n",
       "mean         0.611149\n",
       "std          0.801411\n",
       "min          0.000000\n",
       "25%          0.000000\n",
       "50%          0.000000\n",
       "75%          1.000000\n",
       "max          3.000000\n",
       "Name: parks_around3000, dtype: float64"
      ]
     },
     "metadata": {},
     "output_type": "display_data"
    },
    {
     "data": {
      "text/plain": [
       "5315"
      ]
     },
     "metadata": {},
     "output_type": "display_data"
    }
   ],
   "source": [
    "display(data['parks_around3000'].describe())\n",
    "display(data['parks_around3000'].isna().sum())"
   ]
  },
  {
   "cell_type": "markdown",
   "id": "151eb259",
   "metadata": {},
   "source": [
    "There are also quite a few missing ones. Let's replace gaps with median values relative to place and price."
   ]
  },
  {
   "cell_type": "code",
   "execution_count": 48,
   "id": "a5c53515",
   "metadata": {},
   "outputs": [
    {
     "data": {
      "text/plain": [
       "5265"
      ]
     },
     "metadata": {},
     "output_type": "display_data"
    }
   ],
   "source": [
    "data['parks_around3000'] = data['parks_around3000'].fillna(data.groupby(['locality_name', 'last_price'])\n",
    "                                                                 ['parks_around3000'].transform('median'))\n",
    "display(data['parks_around3000'].isna().sum())"
   ]
  },
  {
   "cell_type": "markdown",
   "id": "3150af60",
   "metadata": {},
   "source": [
    "Now let's replace the remaining gaps with the median relative to the price."
   ]
  },
  {
   "cell_type": "code",
   "execution_count": 49,
   "id": "0fcba0a9",
   "metadata": {},
   "outputs": [
    {
     "data": {
      "text/plain": [
       "1174"
      ]
     },
     "metadata": {},
     "output_type": "display_data"
    }
   ],
   "source": [
    "data['parks_around3000'] = data['parks_around3000'].fillna(data.groupby('last_price')\n",
    "                                                                 ['parks_around3000'].transform('median'))\n",
    "display(data['parks_around3000'].isna().sum())"
   ]
  },
  {
   "cell_type": "markdown",
   "id": "69c62bb6",
   "metadata": {},
   "source": [
    "The remaining gaps are replaced by the median relative to the distance to the center."
   ]
  },
  {
   "cell_type": "code",
   "execution_count": 50,
   "id": "cc971cb5",
   "metadata": {},
   "outputs": [
    {
     "data": {
      "text/plain": [
       "0"
      ]
     },
     "metadata": {},
     "output_type": "display_data"
    }
   ],
   "source": [
    "data['parks_around3000'] = data['parks_around3000'].fillna(data['parks_around3000'].median())\n",
    "display(data['parks_around3000'].isna().sum())"
   ]
  },
  {
   "cell_type": "markdown",
   "id": "c671c637",
   "metadata": {},
   "source": [
    "Since there are no more gaps, let's change the data type to integers, rounding up. Then we check the result."
   ]
  },
  {
   "cell_type": "code",
   "execution_count": 51,
   "id": "440ce212",
   "metadata": {},
   "outputs": [],
   "source": [
    "data['parks_around3000'] = data['parks_around3000'].apply(np.ceil).astype(int)"
   ]
  },
  {
   "cell_type": "code",
   "execution_count": 52,
   "id": "73749cee",
   "metadata": {},
   "outputs": [
    {
     "data": {
      "text/plain": [
       "0    14795\n",
       "1     5786\n",
       "2     1841\n",
       "3      635\n",
       "Name: parks_around3000, dtype: int64"
      ]
     },
     "metadata": {},
     "output_type": "display_data"
    }
   ],
   "source": [
    "display(data['parks_around3000'].value_counts())"
   ]
  },
  {
   "cell_type": "markdown",
   "id": "40cfebc2",
   "metadata": {},
   "source": [
    "### 2.1.9. Finding and fixing anomalies in the 'parks_nearest' column"
   ]
  },
  {
   "cell_type": "code",
   "execution_count": 53,
   "id": "a9e49bb8",
   "metadata": {},
   "outputs": [
    {
     "data": {
      "text/plain": [
       "count    7887.000000\n",
       "mean      490.793204\n",
       "std       340.639156\n",
       "min         1.000000\n",
       "25%       288.000000\n",
       "50%       455.000000\n",
       "75%       613.000000\n",
       "max      3190.000000\n",
       "Name: parks_nearest, dtype: float64"
      ]
     },
     "metadata": {},
     "output_type": "display_data"
    },
    {
     "data": {
      "text/plain": [
       "15170"
      ]
     },
     "metadata": {},
     "output_type": "display_data"
    }
   ],
   "source": [
    "display(data['parks_nearest'].describe())\n",
    "display(data['parks_nearest'].isna().sum())"
   ]
  },
  {
   "cell_type": "markdown",
   "id": "ad2b983a",
   "metadata": {},
   "source": [
    "The distance to the park of 1 m seems suspicious. It would be more logical to assume that the minimum distance to the park can be at least 10m. Let's see how many such values there are."
   ]
  },
  {
   "cell_type": "code",
   "execution_count": 54,
   "id": "8c08be2b",
   "metadata": {},
   "outputs": [
    {
     "data": {
      "text/plain": [
       "6"
      ]
     },
     "metadata": {},
     "output_type": "display_data"
    }
   ],
   "source": [
    "display(data.query('parks_nearest < 10')['parks_nearest'].count())"
   ]
  },
  {
   "cell_type": "markdown",
   "id": "e436a293",
   "metadata": {},
   "source": [
    "There are not many such lines, we will delete them."
   ]
  },
  {
   "cell_type": "code",
   "execution_count": 55,
   "id": "a200d47f",
   "metadata": {},
   "outputs": [],
   "source": [
    "data.drop(data[data['parks_nearest'] < 10].index, inplace = True)"
   ]
  },
  {
   "cell_type": "markdown",
   "id": "75488e05",
   "metadata": {},
   "source": [
    "Now let's replace the empty values with the median relative to location and parks within a 3000m radius."
   ]
  },
  {
   "cell_type": "code",
   "execution_count": 56,
   "id": "7936471d",
   "metadata": {},
   "outputs": [
    {
     "data": {
      "text/plain": [
       "6919"
      ]
     },
     "metadata": {},
     "output_type": "display_data"
    }
   ],
   "source": [
    "data['parks_nearest'] = data['parks_nearest'].fillna(data.groupby(['locality_name', 'parks_around3000'])\n",
    "                                                                 ['parks_nearest'].transform('median'))\n",
    "display(data['parks_nearest'].isna().sum())"
   ]
  },
  {
   "cell_type": "markdown",
   "id": "54dc3e34",
   "metadata": {},
   "source": [
    "Let's replace the remaining gaps with medians relative to parks within a radius of 3000 m."
   ]
  },
  {
   "cell_type": "code",
   "execution_count": 57,
   "id": "9af1da9f",
   "metadata": {},
   "outputs": [
    {
     "data": {
      "text/plain": [
       "0"
      ]
     },
     "metadata": {},
     "output_type": "display_data"
    }
   ],
   "source": [
    "data['parks_nearest'] = data['parks_nearest'].fillna(data.groupby('parks_around3000')\n",
    "                                                                 ['parks_nearest'].transform('median'))\n",
    "display(data['parks_nearest'].isna().sum())"
   ]
  },
  {
   "cell_type": "markdown",
   "id": "ef89cc07",
   "metadata": {},
   "source": [
    "### 2.1.10. Finding and fixing anomalies in the 'ponds_nearest' column"
   ]
  },
  {
   "cell_type": "markdown",
   "id": "1dee1acd",
   "metadata": {},
   "source": [
    "Let's analyze the ponds_nearest column for anomalies."
   ]
  },
  {
   "cell_type": "code",
   "execution_count": 58,
   "id": "a190856a",
   "metadata": {},
   "outputs": [
    {
     "data": {
      "text/plain": [
       "count    8847.000000\n",
       "mean      518.507969\n",
       "std       277.562652\n",
       "min        13.000000\n",
       "25%       294.000000\n",
       "50%       503.000000\n",
       "75%       730.000000\n",
       "max      1344.000000\n",
       "Name: ponds_nearest, dtype: float64"
      ]
     },
     "metadata": {},
     "output_type": "display_data"
    },
    {
     "data": {
      "text/plain": [
       "14204"
      ]
     },
     "metadata": {},
     "output_type": "display_data"
    }
   ],
   "source": [
    "display(data['ponds_nearest'].describe())\n",
    "display(data['ponds_nearest'].isna().sum())"
   ]
  },
  {
   "cell_type": "markdown",
   "id": "f229c352",
   "metadata": {},
   "source": [
    "Most likely in those locations where there are gaps, the distance to the nearest body of water is too large to accurately indicate it. Since there are quite a lot of such rows (more than half of the entire dataset), we will not change them in any way so as not to accidentally distort the final results."
   ]
  },
  {
   "cell_type": "code",
   "execution_count": 59,
   "id": "010abdd1",
   "metadata": {},
   "outputs": [],
   "source": [
    "#data['ponds_nearest'] = data['ponds_nearest'].fillna(0)\n",
    "#display(data['ponds_nearest'].value_counts())"
   ]
  },
  {
   "cell_type": "markdown",
   "id": "bbf0d513",
   "metadata": {},
   "source": [
    "# 3. Search and removal of duplicates."
   ]
  },
  {
   "cell_type": "markdown",
   "id": "0fd15a8d",
   "metadata": {},
   "source": [
    "Let's check the number of obvious duplicates."
   ]
  },
  {
   "cell_type": "code",
   "execution_count": 59,
   "id": "73fd60be",
   "metadata": {},
   "outputs": [
    {
     "data": {
      "text/plain": [
       "0"
      ]
     },
     "execution_count": 59,
     "metadata": {},
     "output_type": "execute_result"
    }
   ],
   "source": [
    "data.duplicated().sum()"
   ]
  },
  {
   "cell_type": "markdown",
   "id": "69deb9ff",
   "metadata": {},
   "source": [
    "Check the rest of the columns for implicit duplicates. Let's check the column with the names of locations."
   ]
  },
  {
   "cell_type": "code",
   "execution_count": 60,
   "id": "41964c77",
   "metadata": {},
   "outputs": [
    {
     "data": {
      "text/plain": [
       "array(['Бокситогорск', 'Волосово', 'Волхов', 'Всеволожск', 'Выборг',\n",
       "       'Высоцк', 'Гатчина', 'Зеленогорск', 'Ивангород', 'Каменногорск',\n",
       "       'Кингисепп', 'Кириши', 'Кировск', 'Колпино', 'Коммунар',\n",
       "       'Красное Село', 'Кронштадт', 'Кудрово', 'Лодейное Поле',\n",
       "       'Ломоносов', 'Луга', 'Любань', 'Мурино', 'Никольское',\n",
       "       'Новая Ладога', 'Отрадное', 'Павловск', 'Петергоф', 'Пикалёво',\n",
       "       'Подпорожье', 'Приморск', 'Приозерск', 'Пушкин', 'Санкт-Петербург',\n",
       "       'Светогорск', 'Сертолово', 'Сестрорецк', 'Сланцы', 'Сосновый Бор',\n",
       "       'Сясьстрой', 'Тихвин', 'Тосно', 'Шлиссельбург',\n",
       "       'городской поселок Большая Ижора', 'городской поселок Янино-1',\n",
       "       'городской посёлок Будогощь', 'городской посёлок Виллози',\n",
       "       'городской посёлок Лесогорский', 'городской посёлок Мга',\n",
       "       'городской посёлок Назия', 'городской посёлок Новоселье',\n",
       "       'городской посёлок Павлово', 'городской посёлок Рощино',\n",
       "       'городской посёлок Свирьстрой', 'городской посёлок Советский',\n",
       "       'городской посёлок Фёдоровское', 'городской посёлок Янино-1',\n",
       "       'деревня Агалатово', 'деревня Аро', 'деревня Батово',\n",
       "       'деревня Бегуницы', 'деревня Белогорка', 'деревня Большая Вруда',\n",
       "       'деревня Большая Пустомержа', 'деревня Большие Колпаны',\n",
       "       'деревня Большое Рейзино', 'деревня Большой Сабск', 'деревня Бор',\n",
       "       'деревня Борисова Грива', 'деревня Ваганово', 'деревня Вартемяги',\n",
       "       'деревня Вахнова Кара', 'деревня Выскатка', 'деревня Гарболово',\n",
       "       'деревня Глинка', 'деревня Горбунки', 'деревня Гостилицы',\n",
       "       'деревня Заклинье', 'деревня Заневка', 'деревня Зимитицы',\n",
       "       'деревня Извара', 'деревня Иссад', 'деревня Калитино',\n",
       "       'деревня Кальтино', 'деревня Камышовка', 'деревня Каськово',\n",
       "       'деревня Келози', 'деревня Кипень', 'деревня Кисельня',\n",
       "       'деревня Колтуши', 'деревня Коркино', 'деревня Котлы',\n",
       "       'деревня Кривко', 'деревня Кудрово', 'деревня Кузьмолово',\n",
       "       'деревня Курковицы', 'деревня Куровицы', 'деревня Куттузи',\n",
       "       'деревня Лаврики', 'деревня Лаголово', 'деревня Лампово',\n",
       "       'деревня Лесколово', 'деревня Лопухинка', 'деревня Лупполово',\n",
       "       'деревня Малая Романовка', 'деревня Малое Верево',\n",
       "       'деревня Малое Карлино', 'деревня Малые Колпаны',\n",
       "       'деревня Мануйлово', 'деревня Меньково', 'деревня Мины',\n",
       "       'деревня Мистолово', 'деревня Ненимяки', 'деревня Нижние Осельки',\n",
       "       'деревня Низино', 'деревня Новое Девяткино', 'деревня Новолисино',\n",
       "       'деревня Нурма', 'деревня Оржицы', 'деревня Парицы',\n",
       "       'деревня Пельгора', 'деревня Пеники', 'деревня Пижма',\n",
       "       'деревня Пикколово', 'деревня Пудомяги', 'деревня Пустынка',\n",
       "       'деревня Пчева', 'деревня Рабитицы', 'деревня Разбегаево',\n",
       "       'деревня Раздолье', 'деревня Разметелево', 'деревня Рапполово',\n",
       "       'деревня Реброво', 'деревня Русско', 'деревня Сижно',\n",
       "       'деревня Снегирёвка', 'деревня Старая', 'деревня Старая Пустошь',\n",
       "       'деревня Старое Хинколово', 'деревня Старополье',\n",
       "       'деревня Старосиверская', 'деревня Старые Бегуницы',\n",
       "       'деревня Суоранда', 'деревня Сяськелево', 'деревня Тарасово',\n",
       "       'деревня Терпилицы', 'деревня Тихковицы', 'деревня Тойворово',\n",
       "       'деревня Торосово', 'деревня Торошковичи', 'деревня Трубников Бор',\n",
       "       'деревня Фалилеево', 'деревня Фёдоровское', 'деревня Хапо-Ое',\n",
       "       'деревня Хязельки', 'деревня Чудской Бор', 'деревня Шпаньково',\n",
       "       'деревня Щеглово', 'деревня Юкки', 'деревня Ялгино',\n",
       "       'деревня Яльгелево', 'деревня Ям-Тесово',\n",
       "       'коттеджный поселок Кивеннапа Север', 'коттеджный поселок Счастье',\n",
       "       'коттеджный посёлок Лесное', 'поселок Аннино', 'поселок Барышево',\n",
       "       'поселок Бугры', 'поселок Возрождение', 'поселок Войсковицы',\n",
       "       'поселок Володарское', 'поселок Гаврилово', 'поселок Гарболово',\n",
       "       'поселок Гладкое', 'поселок Глажево', 'поселок Глебычево',\n",
       "       'поселок Гончарово', 'поселок Громово', 'поселок Дружноселье',\n",
       "       'поселок Елизаветино', 'поселок Жилгородок', 'поселок Жилпосёлок',\n",
       "       'поселок Житково', 'поселок Заводской', 'поселок Запорожское',\n",
       "       'поселок Зимитицы', 'поселок Ильичёво', 'поселок Калитино',\n",
       "       'поселок Каложицы', 'поселок Кингисеппский', 'поселок Кирпичное',\n",
       "       'поселок Кобралово', 'поселок Кобринское', 'поселок Коммунары',\n",
       "       'поселок Коробицыно', 'поселок Котельский',\n",
       "       'поселок Красная Долина', 'поселок Красносельское',\n",
       "       'поселок Лесное', 'поселок Лисий Нос', 'поселок Лукаши',\n",
       "       'поселок Любань', 'поселок Мельниково', 'поселок Мичуринское',\n",
       "       'поселок Молодцово', 'поселок Мурино', 'поселок Новый Свет',\n",
       "       'поселок Новый Учхоз', 'поселок Оредеж',\n",
       "       'поселок Пансионат Зелёный Бор', 'поселок Первомайское',\n",
       "       'поселок Перово', 'поселок Петровское', 'поселок Победа',\n",
       "       'поселок Поляны', 'поселок Почап', 'поселок Починок',\n",
       "       'поселок Пушное', 'поселок Пчевжа', 'поселок Рабитицы',\n",
       "       'поселок Романовка', 'поселок Ромашки', 'поселок Рябово',\n",
       "       'поселок Севастьяново', 'поселок Селезнёво', 'поселок Сельцо',\n",
       "       'поселок Семиозерье', 'поселок Семрино', 'поселок Серебрянский',\n",
       "       'поселок Совхозный', 'поселок Старая Малукса',\n",
       "       'поселок Стеклянный', 'поселок Сумино', 'поселок Суходолье',\n",
       "       'поселок Тельмана', 'поселок Терволово', 'поселок Торковичи',\n",
       "       'поселок Тёсово-4', 'поселок Углово', 'поселок Усть-Луга',\n",
       "       'поселок Ушаки', 'поселок Цвелодубово', 'поселок Цвылёво',\n",
       "       'поселок городского типа Большая Ижора',\n",
       "       'поселок городского типа Вырица',\n",
       "       'поселок городского типа Дружная Горка',\n",
       "       'поселок городского типа Дубровка',\n",
       "       'поселок городского типа Ефимовский',\n",
       "       'поселок городского типа Кондратьево',\n",
       "       'поселок городского типа Красный Бор',\n",
       "       'поселок городского типа Кузьмоловский',\n",
       "       'поселок городского типа Лебяжье',\n",
       "       'поселок городского типа Лесогорский',\n",
       "       'поселок городского типа Назия',\n",
       "       'поселок городского типа Никольский',\n",
       "       'поселок городского типа Приладожский',\n",
       "       'поселок городского типа Рахья', 'поселок городского типа Рощино',\n",
       "       'поселок городского типа Рябово',\n",
       "       'поселок городского типа Синявино',\n",
       "       'поселок городского типа Советский',\n",
       "       'поселок городского типа Токсово',\n",
       "       'поселок городского типа Форносово',\n",
       "       'поселок городского типа имени Свердлова',\n",
       "       'поселок станции Вещево', 'поселок станции Лужайка',\n",
       "       'поселок станции Приветнинское', 'посёлок Александровская',\n",
       "       'посёлок Алексеевка', 'посёлок Аннино', 'посёлок Белоостров',\n",
       "       'посёлок Бугры', 'посёлок Возрождение', 'посёлок Войскорово',\n",
       "       'посёлок Высокоключевой', 'посёлок Гаврилово',\n",
       "       'посёлок Дзержинского', 'посёлок Жилгородок', 'посёлок Ильичёво',\n",
       "       'посёлок Кикерино', 'посёлок Кобралово', 'посёлок Коробицыно',\n",
       "       'посёлок Левашово', 'посёлок Ленинское', 'посёлок Лисий Нос',\n",
       "       'посёлок Мельниково', 'посёлок Металлострой',\n",
       "       'посёлок Мичуринское', 'посёлок Молодёжное', 'посёлок Мурино',\n",
       "       'посёлок Мыза-Ивановка', 'посёлок Новогорелово',\n",
       "       'посёлок Новый Свет', 'посёлок Пансионат Зелёный Бор',\n",
       "       'посёлок Парголово', 'посёлок Перово', 'посёлок Песочный',\n",
       "       'посёлок Петро-Славянка', 'посёлок Петровское',\n",
       "       'посёлок Платформа 69-й километр', 'посёлок Плодовое',\n",
       "       'посёлок Плоское', 'посёлок Победа', 'посёлок Поляны',\n",
       "       'посёлок Понтонный', 'посёлок Пригородный', 'посёлок Пудость',\n",
       "       'посёлок Репино', 'посёлок Ропша', 'посёлок Сапёрное',\n",
       "       'посёлок Сапёрный', 'посёлок Сосново', 'посёлок Старая Малукса',\n",
       "       'посёлок Стеклянный', 'посёлок Стрельна', 'посёлок Суйда',\n",
       "       'посёлок Сумино', 'посёлок Тельмана', 'посёлок Терволово',\n",
       "       'посёлок Торфяное', 'посёлок Усть-Ижора', 'посёлок Усть-Луга',\n",
       "       'посёлок Шугозеро', 'посёлок Шушары', 'посёлок Щеглово',\n",
       "       'посёлок городского типа Важины',\n",
       "       'посёлок городского типа Вознесенье',\n",
       "       'посёлок городского типа Вырица',\n",
       "       'посёлок городского типа Красный Бор',\n",
       "       'посёлок городского типа Кузнечное',\n",
       "       'посёлок городского типа Кузьмоловский',\n",
       "       'посёлок городского типа Лебяжье', 'посёлок городского типа Мга',\n",
       "       'посёлок городского типа Павлово',\n",
       "       'посёлок городского типа Рощино', 'посёлок городского типа Рябово',\n",
       "       'посёлок городского типа Сиверский',\n",
       "       'посёлок городского типа Тайцы', 'посёлок городского типа Токсово',\n",
       "       'посёлок городского типа Ульяновка',\n",
       "       'посёлок городского типа Форносово',\n",
       "       'посёлок городского типа имени Морозова',\n",
       "       'посёлок городского типа имени Свердлова',\n",
       "       'посёлок при железнодорожной станции Вещево',\n",
       "       'посёлок при железнодорожной станции Приветнинское',\n",
       "       'посёлок станции Громово', 'посёлок станции Свирь',\n",
       "       'садоводческое некоммерческое товарищество Лесная Поляна',\n",
       "       'садовое товарищество Приладожский', 'садовое товарищество Рахья',\n",
       "       'садовое товарищество Садко', 'село Копорье', 'село Никольское',\n",
       "       'село Павлово', 'село Паша', 'село Путилово', 'село Рождествено',\n",
       "       'село Русско-Высоцкое', 'село Старая Ладога', 'село Шум', nan],\n",
       "      dtype=object)"
      ]
     },
     "execution_count": 60,
     "metadata": {},
     "output_type": "execute_result"
    }
   ],
   "source": [
    "data['locality_name'].sort_values().unique()"
   ]
  },
  {
   "cell_type": "markdown",
   "id": "23a9a8d1",
   "metadata": {},
   "source": [
    "When analyzing the unique values, it became noticeable that there are several implicit duplicates in terms of the spelling of the word 'посёлок' and 'поселок'. Replace duplicates with 'посёлок'. Let's check the results."
   ]
  },
  {
   "cell_type": "code",
   "execution_count": 61,
   "id": "f8036d3d",
   "metadata": {},
   "outputs": [
    {
     "data": {
      "text/plain": [
       "array(['Бокситогорск', 'Волосово', 'Волхов', 'Всеволожск', 'Выборг',\n",
       "       'Высоцк', 'Гатчина', 'Зеленогорск', 'Ивангород', 'Каменногорск',\n",
       "       'Кингисепп', 'Кириши', 'Кировск', 'Колпино', 'Коммунар',\n",
       "       'Красное Село', 'Кронштадт', 'Кудрово', 'Лодейное Поле',\n",
       "       'Ломоносов', 'Луга', 'Любань', 'Мурино', 'Никольское',\n",
       "       'Новая Ладога', 'Отрадное', 'Павловск', 'Петергоф', 'Пикалёво',\n",
       "       'Подпорожье', 'Приморск', 'Приозерск', 'Пушкин', 'Санкт-Петербург',\n",
       "       'Светогорск', 'Сертолово', 'Сестрорецк', 'Сланцы', 'Сосновый Бор',\n",
       "       'Сясьстрой', 'Тихвин', 'Тосно', 'Шлиссельбург',\n",
       "       'городской посёлок Большая Ижора', 'городской посёлок Будогощь',\n",
       "       'городской посёлок Виллози', 'городской посёлок Лесогорский',\n",
       "       'городской посёлок Мга', 'городской посёлок Назия',\n",
       "       'городской посёлок Новоселье', 'городской посёлок Павлово',\n",
       "       'городской посёлок Рощино', 'городской посёлок Свирьстрой',\n",
       "       'городской посёлок Советский', 'городской посёлок Фёдоровское',\n",
       "       'городской посёлок Янино-1', 'деревня Агалатово', 'деревня Аро',\n",
       "       'деревня Батово', 'деревня Бегуницы', 'деревня Белогорка',\n",
       "       'деревня Большая Вруда', 'деревня Большая Пустомержа',\n",
       "       'деревня Большие Колпаны', 'деревня Большое Рейзино',\n",
       "       'деревня Большой Сабск', 'деревня Бор', 'деревня Борисова Грива',\n",
       "       'деревня Ваганово', 'деревня Вартемяги', 'деревня Вахнова Кара',\n",
       "       'деревня Выскатка', 'деревня Гарболово', 'деревня Глинка',\n",
       "       'деревня Горбунки', 'деревня Гостилицы', 'деревня Заклинье',\n",
       "       'деревня Заневка', 'деревня Зимитицы', 'деревня Извара',\n",
       "       'деревня Иссад', 'деревня Калитино', 'деревня Кальтино',\n",
       "       'деревня Камышовка', 'деревня Каськово', 'деревня Келози',\n",
       "       'деревня Кипень', 'деревня Кисельня', 'деревня Колтуши',\n",
       "       'деревня Коркино', 'деревня Котлы', 'деревня Кривко',\n",
       "       'деревня Кудрово', 'деревня Кузьмолово', 'деревня Курковицы',\n",
       "       'деревня Куровицы', 'деревня Куттузи', 'деревня Лаврики',\n",
       "       'деревня Лаголово', 'деревня Лампово', 'деревня Лесколово',\n",
       "       'деревня Лопухинка', 'деревня Лупполово',\n",
       "       'деревня Малая Романовка', 'деревня Малое Верево',\n",
       "       'деревня Малое Карлино', 'деревня Малые Колпаны',\n",
       "       'деревня Мануйлово', 'деревня Меньково', 'деревня Мины',\n",
       "       'деревня Мистолово', 'деревня Ненимяки', 'деревня Нижние Осельки',\n",
       "       'деревня Низино', 'деревня Новое Девяткино', 'деревня Новолисино',\n",
       "       'деревня Нурма', 'деревня Оржицы', 'деревня Парицы',\n",
       "       'деревня Пельгора', 'деревня Пеники', 'деревня Пижма',\n",
       "       'деревня Пикколово', 'деревня Пудомяги', 'деревня Пустынка',\n",
       "       'деревня Пчева', 'деревня Рабитицы', 'деревня Разбегаево',\n",
       "       'деревня Раздолье', 'деревня Разметелево', 'деревня Рапполово',\n",
       "       'деревня Реброво', 'деревня Русско', 'деревня Сижно',\n",
       "       'деревня Снегирёвка', 'деревня Старая', 'деревня Старая Пустошь',\n",
       "       'деревня Старое Хинколово', 'деревня Старополье',\n",
       "       'деревня Старосиверская', 'деревня Старые Бегуницы',\n",
       "       'деревня Суоранда', 'деревня Сяськелево', 'деревня Тарасово',\n",
       "       'деревня Терпилицы', 'деревня Тихковицы', 'деревня Тойворово',\n",
       "       'деревня Торосово', 'деревня Торошковичи', 'деревня Трубников Бор',\n",
       "       'деревня Фалилеево', 'деревня Фёдоровское', 'деревня Хапо-Ое',\n",
       "       'деревня Хязельки', 'деревня Чудской Бор', 'деревня Шпаньково',\n",
       "       'деревня Щеглово', 'деревня Юкки', 'деревня Ялгино',\n",
       "       'деревня Яльгелево', 'деревня Ям-Тесово',\n",
       "       'коттеджный посёлок Кивеннапа Север', 'коттеджный посёлок Лесное',\n",
       "       'коттеджный посёлок Счастье', 'посёлок Александровская',\n",
       "       'посёлок Алексеевка', 'посёлок Аннино', 'посёлок Барышево',\n",
       "       'посёлок Белоостров', 'посёлок Бугры', 'посёлок Возрождение',\n",
       "       'посёлок Войсковицы', 'посёлок Войскорово', 'посёлок Володарское',\n",
       "       'посёлок Высокоключевой', 'посёлок Гаврилово', 'посёлок Гарболово',\n",
       "       'посёлок Гладкое', 'посёлок Глажево', 'посёлок Глебычево',\n",
       "       'посёлок Гончарово', 'посёлок Громово', 'посёлок Дзержинского',\n",
       "       'посёлок Дружноселье', 'посёлок Елизаветино', 'посёлок Жилгородок',\n",
       "       'посёлок Жилпосёлок', 'посёлок Житково', 'посёлок Заводской',\n",
       "       'посёлок Запорожское', 'посёлок Зимитицы', 'посёлок Ильичёво',\n",
       "       'посёлок Калитино', 'посёлок Каложицы', 'посёлок Кикерино',\n",
       "       'посёлок Кингисеппский', 'посёлок Кирпичное', 'посёлок Кобралово',\n",
       "       'посёлок Кобринское', 'посёлок Коммунары', 'посёлок Коробицыно',\n",
       "       'посёлок Котельский', 'посёлок Красная Долина',\n",
       "       'посёлок Красносельское', 'посёлок Левашово', 'посёлок Ленинское',\n",
       "       'посёлок Лесное', 'посёлок Лисий Нос', 'посёлок Лукаши',\n",
       "       'посёлок Любань', 'посёлок Мельниково', 'посёлок Металлострой',\n",
       "       'посёлок Мичуринское', 'посёлок Молодцово', 'посёлок Молодёжное',\n",
       "       'посёлок Мурино', 'посёлок Мыза-Ивановка', 'посёлок Новогорелово',\n",
       "       'посёлок Новый Свет', 'посёлок Новый Учхоз', 'посёлок Оредеж',\n",
       "       'посёлок Пансионат Зелёный Бор', 'посёлок Парголово',\n",
       "       'посёлок Первомайское', 'посёлок Перово', 'посёлок Песочный',\n",
       "       'посёлок Петро-Славянка', 'посёлок Петровское',\n",
       "       'посёлок Платформа 69-й километр', 'посёлок Плодовое',\n",
       "       'посёлок Плоское', 'посёлок Победа', 'посёлок Поляны',\n",
       "       'посёлок Понтонный', 'посёлок Почап', 'посёлок Починок',\n",
       "       'посёлок Пригородный', 'посёлок Пудость', 'посёлок Пушное',\n",
       "       'посёлок Пчевжа', 'посёлок Рабитицы', 'посёлок Репино',\n",
       "       'посёлок Романовка', 'посёлок Ромашки', 'посёлок Ропша',\n",
       "       'посёлок Рябово', 'посёлок Сапёрное', 'посёлок Сапёрный',\n",
       "       'посёлок Севастьяново', 'посёлок Селезнёво', 'посёлок Сельцо',\n",
       "       'посёлок Семиозерье', 'посёлок Семрино', 'посёлок Серебрянский',\n",
       "       'посёлок Совхозный', 'посёлок Сосново', 'посёлок Старая Малукса',\n",
       "       'посёлок Стеклянный', 'посёлок Стрельна', 'посёлок Суйда',\n",
       "       'посёлок Сумино', 'посёлок Суходолье', 'посёлок Тельмана',\n",
       "       'посёлок Терволово', 'посёлок Торковичи', 'посёлок Торфяное',\n",
       "       'посёлок Тёсово-4', 'посёлок Углово', 'посёлок Усть-Ижора',\n",
       "       'посёлок Усть-Луга', 'посёлок Ушаки', 'посёлок Цвелодубово',\n",
       "       'посёлок Цвылёво', 'посёлок Шугозеро', 'посёлок Шушары',\n",
       "       'посёлок Щеглово', 'посёлок городского типа Большая Ижора',\n",
       "       'посёлок городского типа Важины',\n",
       "       'посёлок городского типа Вознесенье',\n",
       "       'посёлок городского типа Вырица',\n",
       "       'посёлок городского типа Дружная Горка',\n",
       "       'посёлок городского типа Дубровка',\n",
       "       'посёлок городского типа Ефимовский',\n",
       "       'посёлок городского типа Кондратьево',\n",
       "       'посёлок городского типа Красный Бор',\n",
       "       'посёлок городского типа Кузнечное',\n",
       "       'посёлок городского типа Кузьмоловский',\n",
       "       'посёлок городского типа Лебяжье',\n",
       "       'посёлок городского типа Лесогорский',\n",
       "       'посёлок городского типа Мга', 'посёлок городского типа Назия',\n",
       "       'посёлок городского типа Никольский',\n",
       "       'посёлок городского типа Павлово',\n",
       "       'посёлок городского типа Приладожский',\n",
       "       'посёлок городского типа Рахья', 'посёлок городского типа Рощино',\n",
       "       'посёлок городского типа Рябово',\n",
       "       'посёлок городского типа Сиверский',\n",
       "       'посёлок городского типа Синявино',\n",
       "       'посёлок городского типа Советский',\n",
       "       'посёлок городского типа Тайцы', 'посёлок городского типа Токсово',\n",
       "       'посёлок городского типа Ульяновка',\n",
       "       'посёлок городского типа Форносово',\n",
       "       'посёлок городского типа имени Морозова',\n",
       "       'посёлок городского типа имени Свердлова',\n",
       "       'посёлок при железнодорожной станции Вещево',\n",
       "       'посёлок при железнодорожной станции Приветнинское',\n",
       "       'посёлок станции Вещево', 'посёлок станции Громово',\n",
       "       'посёлок станции Лужайка', 'посёлок станции Приветнинское',\n",
       "       'посёлок станции Свирь',\n",
       "       'садоводческое некоммерческое товарищество Лесная Поляна',\n",
       "       'садовое товарищество Приладожский', 'садовое товарищество Рахья',\n",
       "       'садовое товарищество Садко', 'село Копорье', 'село Никольское',\n",
       "       'село Павлово', 'село Паша', 'село Путилово', 'село Рождествено',\n",
       "       'село Русско-Высоцкое', 'село Старая Ладога', 'село Шум', nan],\n",
       "      dtype=object)"
      ]
     },
     "metadata": {},
     "output_type": "display_data"
    }
   ],
   "source": [
    "data['locality_name'] = data['locality_name'].str.replace('поселок','посёлок')\n",
    "display(data['locality_name'].sort_values().unique())"
   ]
  },
  {
   "cell_type": "markdown",
   "id": "ba9c5a17",
   "metadata": {},
   "source": [
    "There are no more duplicates."
   ]
  },
  {
   "cell_type": "markdown",
   "id": "be092ab2",
   "metadata": {},
   "source": [
    "# 4. Adding new data"
   ]
  },
  {
   "cell_type": "markdown",
   "id": "0f62731c",
   "metadata": {},
   "source": [
    "## 4.1. Price per square meter"
   ]
  },
  {
   "cell_type": "markdown",
   "id": "e4fb8da8",
   "metadata": {},
   "source": [
    "Calculate and add the price per square meter for each value, rounded up."
   ]
  },
  {
   "cell_type": "code",
   "execution_count": 62,
   "id": "ef19cc79",
   "metadata": {},
   "outputs": [
    {
     "data": {
      "text/html": [
       "<div>\n",
       "<style scoped>\n",
       "    .dataframe tbody tr th:only-of-type {\n",
       "        vertical-align: middle;\n",
       "    }\n",
       "\n",
       "    .dataframe tbody tr th {\n",
       "        vertical-align: top;\n",
       "    }\n",
       "\n",
       "    .dataframe thead th {\n",
       "        text-align: right;\n",
       "    }\n",
       "</style>\n",
       "<table border=\"1\" class=\"dataframe\">\n",
       "  <thead>\n",
       "    <tr style=\"text-align: right;\">\n",
       "      <th></th>\n",
       "      <th>total_images</th>\n",
       "      <th>last_price</th>\n",
       "      <th>total_area</th>\n",
       "      <th>first_day_exposition</th>\n",
       "      <th>rooms</th>\n",
       "      <th>ceiling_height</th>\n",
       "      <th>floors_total</th>\n",
       "      <th>living_area</th>\n",
       "      <th>floor</th>\n",
       "      <th>is_apartment</th>\n",
       "      <th>...</th>\n",
       "      <th>balcony</th>\n",
       "      <th>locality_name</th>\n",
       "      <th>airports_nearest</th>\n",
       "      <th>city_center_nearest</th>\n",
       "      <th>parks_around3000</th>\n",
       "      <th>parks_nearest</th>\n",
       "      <th>ponds_around3000</th>\n",
       "      <th>ponds_nearest</th>\n",
       "      <th>days_exposition</th>\n",
       "      <th>price_per_meter</th>\n",
       "    </tr>\n",
       "  </thead>\n",
       "  <tbody>\n",
       "    <tr>\n",
       "      <th>0</th>\n",
       "      <td>20</td>\n",
       "      <td>13000000.0</td>\n",
       "      <td>108.0</td>\n",
       "      <td>2019-03-07T00:00:00</td>\n",
       "      <td>3</td>\n",
       "      <td>2.70</td>\n",
       "      <td>16</td>\n",
       "      <td>51.0</td>\n",
       "      <td>8</td>\n",
       "      <td>False</td>\n",
       "      <td>...</td>\n",
       "      <td>0</td>\n",
       "      <td>Санкт-Петербург</td>\n",
       "      <td>18863.0</td>\n",
       "      <td>16028.0</td>\n",
       "      <td>1</td>\n",
       "      <td>482.0</td>\n",
       "      <td>2.0</td>\n",
       "      <td>755.0</td>\n",
       "      <td>0</td>\n",
       "      <td>120370</td>\n",
       "    </tr>\n",
       "    <tr>\n",
       "      <th>1</th>\n",
       "      <td>7</td>\n",
       "      <td>3350000.0</td>\n",
       "      <td>40.4</td>\n",
       "      <td>2018-12-04T00:00:00</td>\n",
       "      <td>1</td>\n",
       "      <td>2.77</td>\n",
       "      <td>11</td>\n",
       "      <td>18.6</td>\n",
       "      <td>1</td>\n",
       "      <td>False</td>\n",
       "      <td>...</td>\n",
       "      <td>2</td>\n",
       "      <td>посёлок Шушары</td>\n",
       "      <td>12817.0</td>\n",
       "      <td>18603.0</td>\n",
       "      <td>0</td>\n",
       "      <td>3127.0</td>\n",
       "      <td>0.0</td>\n",
       "      <td>NaN</td>\n",
       "      <td>81</td>\n",
       "      <td>82921</td>\n",
       "    </tr>\n",
       "    <tr>\n",
       "      <th>2</th>\n",
       "      <td>10</td>\n",
       "      <td>5196000.0</td>\n",
       "      <td>56.0</td>\n",
       "      <td>2015-08-20T00:00:00</td>\n",
       "      <td>2</td>\n",
       "      <td>2.60</td>\n",
       "      <td>5</td>\n",
       "      <td>34.3</td>\n",
       "      <td>4</td>\n",
       "      <td>False</td>\n",
       "      <td>...</td>\n",
       "      <td>0</td>\n",
       "      <td>Санкт-Петербург</td>\n",
       "      <td>21741.0</td>\n",
       "      <td>13933.0</td>\n",
       "      <td>1</td>\n",
       "      <td>90.0</td>\n",
       "      <td>2.0</td>\n",
       "      <td>574.0</td>\n",
       "      <td>558</td>\n",
       "      <td>92786</td>\n",
       "    </tr>\n",
       "  </tbody>\n",
       "</table>\n",
       "<p>3 rows × 23 columns</p>\n",
       "</div>"
      ],
      "text/plain": [
       "   total_images  last_price  total_area first_day_exposition  rooms  \\\n",
       "0            20  13000000.0       108.0  2019-03-07T00:00:00      3   \n",
       "1             7   3350000.0        40.4  2018-12-04T00:00:00      1   \n",
       "2            10   5196000.0        56.0  2015-08-20T00:00:00      2   \n",
       "\n",
       "   ceiling_height  floors_total  living_area  floor  is_apartment  ...  \\\n",
       "0            2.70            16         51.0      8         False  ...   \n",
       "1            2.77            11         18.6      1         False  ...   \n",
       "2            2.60             5         34.3      4         False  ...   \n",
       "\n",
       "   balcony    locality_name  airports_nearest  city_center_nearest  \\\n",
       "0        0  Санкт-Петербург           18863.0              16028.0   \n",
       "1        2   посёлок Шушары           12817.0              18603.0   \n",
       "2        0  Санкт-Петербург           21741.0              13933.0   \n",
       "\n",
       "  parks_around3000  parks_nearest  ponds_around3000  ponds_nearest  \\\n",
       "0                1          482.0               2.0          755.0   \n",
       "1                0         3127.0               0.0            NaN   \n",
       "2                1           90.0               2.0          574.0   \n",
       "\n",
       "   days_exposition  price_per_meter  \n",
       "0                0           120370  \n",
       "1               81            82921  \n",
       "2              558            92786  \n",
       "\n",
       "[3 rows x 23 columns]"
      ]
     },
     "execution_count": 62,
     "metadata": {},
     "output_type": "execute_result"
    }
   ],
   "source": [
    "data['price_per_meter'] = round(data['last_price']/data['total_area']).astype(int)\n",
    "data.head(3)"
   ]
  },
  {
   "cell_type": "markdown",
   "id": "ef6db48f",
   "metadata": {},
   "source": [
    "## 4.2. Date of announcement"
   ]
  },
  {
   "cell_type": "markdown",
   "id": "854af67e",
   "metadata": {},
   "source": [
    "Let's edit the 'first_day_exposition' column to make it readable. Add columns with the day of the week, month and year."
   ]
  },
  {
   "cell_type": "code",
   "execution_count": 63,
   "id": "75c3ffd0",
   "metadata": {},
   "outputs": [
    {
     "data": {
      "text/html": [
       "<div>\n",
       "<style scoped>\n",
       "    .dataframe tbody tr th:only-of-type {\n",
       "        vertical-align: middle;\n",
       "    }\n",
       "\n",
       "    .dataframe tbody tr th {\n",
       "        vertical-align: top;\n",
       "    }\n",
       "\n",
       "    .dataframe thead th {\n",
       "        text-align: right;\n",
       "    }\n",
       "</style>\n",
       "<table border=\"1\" class=\"dataframe\">\n",
       "  <thead>\n",
       "    <tr style=\"text-align: right;\">\n",
       "      <th></th>\n",
       "      <th>total_images</th>\n",
       "      <th>last_price</th>\n",
       "      <th>total_area</th>\n",
       "      <th>first_day_exposition</th>\n",
       "      <th>day_exposition</th>\n",
       "      <th>month_exposition</th>\n",
       "      <th>year_exposition</th>\n",
       "      <th>rooms</th>\n",
       "      <th>ceiling_height</th>\n",
       "      <th>floors_total</th>\n",
       "      <th>...</th>\n",
       "      <th>balcony</th>\n",
       "      <th>locality_name</th>\n",
       "      <th>airports_nearest</th>\n",
       "      <th>city_center_nearest</th>\n",
       "      <th>parks_around3000</th>\n",
       "      <th>parks_nearest</th>\n",
       "      <th>ponds_around3000</th>\n",
       "      <th>ponds_nearest</th>\n",
       "      <th>days_exposition</th>\n",
       "      <th>price_per_meter</th>\n",
       "    </tr>\n",
       "  </thead>\n",
       "  <tbody>\n",
       "    <tr>\n",
       "      <th>0</th>\n",
       "      <td>20</td>\n",
       "      <td>13000000.0</td>\n",
       "      <td>108.0</td>\n",
       "      <td>2019-03-07</td>\n",
       "      <td>Thursday</td>\n",
       "      <td>3</td>\n",
       "      <td>2019</td>\n",
       "      <td>3</td>\n",
       "      <td>2.70</td>\n",
       "      <td>16</td>\n",
       "      <td>...</td>\n",
       "      <td>0</td>\n",
       "      <td>Санкт-Петербург</td>\n",
       "      <td>18863.0</td>\n",
       "      <td>16028.0</td>\n",
       "      <td>1</td>\n",
       "      <td>482.0</td>\n",
       "      <td>2.0</td>\n",
       "      <td>755.0</td>\n",
       "      <td>0</td>\n",
       "      <td>120370</td>\n",
       "    </tr>\n",
       "    <tr>\n",
       "      <th>1</th>\n",
       "      <td>7</td>\n",
       "      <td>3350000.0</td>\n",
       "      <td>40.4</td>\n",
       "      <td>2018-12-04</td>\n",
       "      <td>Tuesday</td>\n",
       "      <td>12</td>\n",
       "      <td>2018</td>\n",
       "      <td>1</td>\n",
       "      <td>2.77</td>\n",
       "      <td>11</td>\n",
       "      <td>...</td>\n",
       "      <td>2</td>\n",
       "      <td>посёлок Шушары</td>\n",
       "      <td>12817.0</td>\n",
       "      <td>18603.0</td>\n",
       "      <td>0</td>\n",
       "      <td>3127.0</td>\n",
       "      <td>0.0</td>\n",
       "      <td>NaN</td>\n",
       "      <td>81</td>\n",
       "      <td>82921</td>\n",
       "    </tr>\n",
       "    <tr>\n",
       "      <th>2</th>\n",
       "      <td>10</td>\n",
       "      <td>5196000.0</td>\n",
       "      <td>56.0</td>\n",
       "      <td>2015-08-20</td>\n",
       "      <td>Thursday</td>\n",
       "      <td>8</td>\n",
       "      <td>2015</td>\n",
       "      <td>2</td>\n",
       "      <td>2.60</td>\n",
       "      <td>5</td>\n",
       "      <td>...</td>\n",
       "      <td>0</td>\n",
       "      <td>Санкт-Петербург</td>\n",
       "      <td>21741.0</td>\n",
       "      <td>13933.0</td>\n",
       "      <td>1</td>\n",
       "      <td>90.0</td>\n",
       "      <td>2.0</td>\n",
       "      <td>574.0</td>\n",
       "      <td>558</td>\n",
       "      <td>92786</td>\n",
       "    </tr>\n",
       "  </tbody>\n",
       "</table>\n",
       "<p>3 rows × 26 columns</p>\n",
       "</div>"
      ],
      "text/plain": [
       "   total_images  last_price  total_area first_day_exposition day_exposition  \\\n",
       "0            20  13000000.0       108.0           2019-03-07       Thursday   \n",
       "1             7   3350000.0        40.4           2018-12-04        Tuesday   \n",
       "2            10   5196000.0        56.0           2015-08-20       Thursday   \n",
       "\n",
       "   month_exposition  year_exposition  rooms  ceiling_height  floors_total  \\\n",
       "0                 3             2019      3            2.70            16   \n",
       "1                12             2018      1            2.77            11   \n",
       "2                 8             2015      2            2.60             5   \n",
       "\n",
       "   ...  balcony    locality_name  airports_nearest  city_center_nearest  \\\n",
       "0  ...        0  Санкт-Петербург           18863.0              16028.0   \n",
       "1  ...        2   посёлок Шушары           12817.0              18603.0   \n",
       "2  ...        0  Санкт-Петербург           21741.0              13933.0   \n",
       "\n",
       "   parks_around3000  parks_nearest  ponds_around3000 ponds_nearest  \\\n",
       "0                 1          482.0               2.0         755.0   \n",
       "1                 0         3127.0               0.0           NaN   \n",
       "2                 1           90.0               2.0         574.0   \n",
       "\n",
       "   days_exposition  price_per_meter  \n",
       "0                0           120370  \n",
       "1               81            82921  \n",
       "2              558            92786  \n",
       "\n",
       "[3 rows x 26 columns]"
      ]
     },
     "execution_count": 63,
     "metadata": {},
     "output_type": "execute_result"
    }
   ],
   "source": [
    "data['first_day_exposition'] = pd.to_datetime(data['first_day_exposition'], format='%Y-%m-%dT%H:%M:%S')\n",
    "day_expo = data['first_day_exposition'].dt.day_name()\n",
    "data.insert(4, 'day_exposition', day_expo)\n",
    "month_expo = data['first_day_exposition'].dt.month\n",
    "data.insert(5, 'month_exposition', month_expo)\n",
    "year_expo = data['first_day_exposition'].dt.year\n",
    "data.insert(6, 'year_exposition', year_expo)\n",
    "data.head(3)"
   ]
  },
  {
   "cell_type": "markdown",
   "id": "d4b2f310",
   "metadata": {},
   "source": [
    "## 4.3. Floor category"
   ]
  },
  {
   "cell_type": "markdown",
   "id": "4c72c9c5",
   "metadata": {},
   "source": [
    "Let's create a column where we assign categories of floors relative to the location of the object. Categories for floors of the apartment will be assigned as follows: first, last, other. Let's write a function to implement this."
   ]
  },
  {
   "cell_type": "code",
   "execution_count": 64,
   "id": "c9bb0595",
   "metadata": {
    "scrolled": true
   },
   "outputs": [
    {
     "data": {
      "text/html": [
       "<div>\n",
       "<style scoped>\n",
       "    .dataframe tbody tr th:only-of-type {\n",
       "        vertical-align: middle;\n",
       "    }\n",
       "\n",
       "    .dataframe tbody tr th {\n",
       "        vertical-align: top;\n",
       "    }\n",
       "\n",
       "    .dataframe thead th {\n",
       "        text-align: right;\n",
       "    }\n",
       "</style>\n",
       "<table border=\"1\" class=\"dataframe\">\n",
       "  <thead>\n",
       "    <tr style=\"text-align: right;\">\n",
       "      <th></th>\n",
       "      <th>total_images</th>\n",
       "      <th>last_price</th>\n",
       "      <th>total_area</th>\n",
       "      <th>first_day_exposition</th>\n",
       "      <th>day_exposition</th>\n",
       "      <th>month_exposition</th>\n",
       "      <th>year_exposition</th>\n",
       "      <th>rooms</th>\n",
       "      <th>ceiling_height</th>\n",
       "      <th>floors_total</th>\n",
       "      <th>...</th>\n",
       "      <th>locality_name</th>\n",
       "      <th>airports_nearest</th>\n",
       "      <th>city_center_nearest</th>\n",
       "      <th>parks_around3000</th>\n",
       "      <th>parks_nearest</th>\n",
       "      <th>ponds_around3000</th>\n",
       "      <th>ponds_nearest</th>\n",
       "      <th>days_exposition</th>\n",
       "      <th>price_per_meter</th>\n",
       "      <th>floor_category</th>\n",
       "    </tr>\n",
       "  </thead>\n",
       "  <tbody>\n",
       "    <tr>\n",
       "      <th>0</th>\n",
       "      <td>20</td>\n",
       "      <td>13000000.0</td>\n",
       "      <td>108.0</td>\n",
       "      <td>2019-03-07</td>\n",
       "      <td>Thursday</td>\n",
       "      <td>3</td>\n",
       "      <td>2019</td>\n",
       "      <td>3</td>\n",
       "      <td>2.70</td>\n",
       "      <td>16</td>\n",
       "      <td>...</td>\n",
       "      <td>Санкт-Петербург</td>\n",
       "      <td>18863.0</td>\n",
       "      <td>16028.0</td>\n",
       "      <td>1</td>\n",
       "      <td>482.0</td>\n",
       "      <td>2.0</td>\n",
       "      <td>755.0</td>\n",
       "      <td>0</td>\n",
       "      <td>120370</td>\n",
       "      <td>другой</td>\n",
       "    </tr>\n",
       "    <tr>\n",
       "      <th>1</th>\n",
       "      <td>7</td>\n",
       "      <td>3350000.0</td>\n",
       "      <td>40.4</td>\n",
       "      <td>2018-12-04</td>\n",
       "      <td>Tuesday</td>\n",
       "      <td>12</td>\n",
       "      <td>2018</td>\n",
       "      <td>1</td>\n",
       "      <td>2.77</td>\n",
       "      <td>11</td>\n",
       "      <td>...</td>\n",
       "      <td>посёлок Шушары</td>\n",
       "      <td>12817.0</td>\n",
       "      <td>18603.0</td>\n",
       "      <td>0</td>\n",
       "      <td>3127.0</td>\n",
       "      <td>0.0</td>\n",
       "      <td>NaN</td>\n",
       "      <td>81</td>\n",
       "      <td>82921</td>\n",
       "      <td>первый</td>\n",
       "    </tr>\n",
       "    <tr>\n",
       "      <th>2</th>\n",
       "      <td>10</td>\n",
       "      <td>5196000.0</td>\n",
       "      <td>56.0</td>\n",
       "      <td>2015-08-20</td>\n",
       "      <td>Thursday</td>\n",
       "      <td>8</td>\n",
       "      <td>2015</td>\n",
       "      <td>2</td>\n",
       "      <td>2.60</td>\n",
       "      <td>5</td>\n",
       "      <td>...</td>\n",
       "      <td>Санкт-Петербург</td>\n",
       "      <td>21741.0</td>\n",
       "      <td>13933.0</td>\n",
       "      <td>1</td>\n",
       "      <td>90.0</td>\n",
       "      <td>2.0</td>\n",
       "      <td>574.0</td>\n",
       "      <td>558</td>\n",
       "      <td>92786</td>\n",
       "      <td>другой</td>\n",
       "    </tr>\n",
       "  </tbody>\n",
       "</table>\n",
       "<p>3 rows × 27 columns</p>\n",
       "</div>"
      ],
      "text/plain": [
       "   total_images  last_price  total_area first_day_exposition day_exposition  \\\n",
       "0            20  13000000.0       108.0           2019-03-07       Thursday   \n",
       "1             7   3350000.0        40.4           2018-12-04        Tuesday   \n",
       "2            10   5196000.0        56.0           2015-08-20       Thursday   \n",
       "\n",
       "   month_exposition  year_exposition  rooms  ceiling_height  floors_total  \\\n",
       "0                 3             2019      3            2.70            16   \n",
       "1                12             2018      1            2.77            11   \n",
       "2                 8             2015      2            2.60             5   \n",
       "\n",
       "   ...    locality_name  airports_nearest  city_center_nearest  \\\n",
       "0  ...  Санкт-Петербург           18863.0              16028.0   \n",
       "1  ...   посёлок Шушары           12817.0              18603.0   \n",
       "2  ...  Санкт-Петербург           21741.0              13933.0   \n",
       "\n",
       "   parks_around3000  parks_nearest  ponds_around3000  ponds_nearest  \\\n",
       "0                 1          482.0               2.0          755.0   \n",
       "1                 0         3127.0               0.0            NaN   \n",
       "2                 1           90.0               2.0          574.0   \n",
       "\n",
       "  days_exposition  price_per_meter  floor_category  \n",
       "0               0           120370          другой  \n",
       "1              81            82921          первый  \n",
       "2             558            92786          другой  \n",
       "\n",
       "[3 rows x 27 columns]"
      ]
     },
     "metadata": {},
     "output_type": "display_data"
    }
   ],
   "source": [
    "def floor_category(row):\n",
    "\n",
    "    floor = row['floor']\n",
    "    total_floors = row['floors_total']\n",
    "\n",
    "    if floor == 1:\n",
    "        return 'первый'\n",
    "    elif floor == total_floors:\n",
    "        return 'последний'\n",
    "    else:\n",
    "        return 'другой'\n",
    "    \n",
    "data['floor_category'] = data.apply(floor_category, axis=1)\n",
    "\n",
    "display(data.head(3))"
   ]
  },
  {
   "cell_type": "markdown",
   "id": "4e78c996",
   "metadata": {},
   "source": [
    "## 4.4. The ratio of residential and total areas, the ratio of the area of ​​the kitchen to the total."
   ]
  },
  {
   "cell_type": "markdown",
   "id": "a6a7234d",
   "metadata": {},
   "source": [
    "Let's add columns in which we indicate the correlation between the areas."
   ]
  },
  {
   "cell_type": "code",
   "execution_count": 65,
   "id": "54f32c9b",
   "metadata": {
    "scrolled": true
   },
   "outputs": [
    {
     "data": {
      "text/html": [
       "<div>\n",
       "<style scoped>\n",
       "    .dataframe tbody tr th:only-of-type {\n",
       "        vertical-align: middle;\n",
       "    }\n",
       "\n",
       "    .dataframe tbody tr th {\n",
       "        vertical-align: top;\n",
       "    }\n",
       "\n",
       "    .dataframe thead th {\n",
       "        text-align: right;\n",
       "    }\n",
       "</style>\n",
       "<table border=\"1\" class=\"dataframe\">\n",
       "  <thead>\n",
       "    <tr style=\"text-align: right;\">\n",
       "      <th></th>\n",
       "      <th>total_images</th>\n",
       "      <th>last_price</th>\n",
       "      <th>total_area</th>\n",
       "      <th>first_day_exposition</th>\n",
       "      <th>day_exposition</th>\n",
       "      <th>month_exposition</th>\n",
       "      <th>year_exposition</th>\n",
       "      <th>rooms</th>\n",
       "      <th>ceiling_height</th>\n",
       "      <th>floors_total</th>\n",
       "      <th>living_area</th>\n",
       "      <th>floor</th>\n",
       "      <th>is_apartment</th>\n",
       "      <th>studio</th>\n",
       "      <th>open_plan</th>\n",
       "      <th>kitchen_area</th>\n",
       "      <th>balcony</th>\n",
       "      <th>locality_name</th>\n",
       "      <th>airports_nearest</th>\n",
       "      <th>city_center_nearest</th>\n",
       "      <th>parks_around3000</th>\n",
       "      <th>parks_nearest</th>\n",
       "      <th>ponds_around3000</th>\n",
       "      <th>ponds_nearest</th>\n",
       "      <th>days_exposition</th>\n",
       "      <th>price_per_meter</th>\n",
       "      <th>floor_category</th>\n",
       "      <th>living_to_total</th>\n",
       "      <th>kitchen_to_total</th>\n",
       "    </tr>\n",
       "  </thead>\n",
       "  <tbody>\n",
       "    <tr>\n",
       "      <th>0</th>\n",
       "      <td>20</td>\n",
       "      <td>13000000.0</td>\n",
       "      <td>108.0</td>\n",
       "      <td>2019-03-07</td>\n",
       "      <td>Thursday</td>\n",
       "      <td>3</td>\n",
       "      <td>2019</td>\n",
       "      <td>3</td>\n",
       "      <td>2.70</td>\n",
       "      <td>16</td>\n",
       "      <td>51.0</td>\n",
       "      <td>8</td>\n",
       "      <td>False</td>\n",
       "      <td>False</td>\n",
       "      <td>False</td>\n",
       "      <td>25.0</td>\n",
       "      <td>0</td>\n",
       "      <td>Санкт-Петербург</td>\n",
       "      <td>18863.0</td>\n",
       "      <td>16028.0</td>\n",
       "      <td>1</td>\n",
       "      <td>482.0</td>\n",
       "      <td>2.0</td>\n",
       "      <td>755.0</td>\n",
       "      <td>0</td>\n",
       "      <td>120370</td>\n",
       "      <td>другой</td>\n",
       "      <td>0.47</td>\n",
       "      <td>0.23</td>\n",
       "    </tr>\n",
       "    <tr>\n",
       "      <th>1</th>\n",
       "      <td>7</td>\n",
       "      <td>3350000.0</td>\n",
       "      <td>40.4</td>\n",
       "      <td>2018-12-04</td>\n",
       "      <td>Tuesday</td>\n",
       "      <td>12</td>\n",
       "      <td>2018</td>\n",
       "      <td>1</td>\n",
       "      <td>2.77</td>\n",
       "      <td>11</td>\n",
       "      <td>18.6</td>\n",
       "      <td>1</td>\n",
       "      <td>False</td>\n",
       "      <td>False</td>\n",
       "      <td>False</td>\n",
       "      <td>11.0</td>\n",
       "      <td>2</td>\n",
       "      <td>посёлок Шушары</td>\n",
       "      <td>12817.0</td>\n",
       "      <td>18603.0</td>\n",
       "      <td>0</td>\n",
       "      <td>3127.0</td>\n",
       "      <td>0.0</td>\n",
       "      <td>NaN</td>\n",
       "      <td>81</td>\n",
       "      <td>82921</td>\n",
       "      <td>первый</td>\n",
       "      <td>0.46</td>\n",
       "      <td>0.27</td>\n",
       "    </tr>\n",
       "    <tr>\n",
       "      <th>2</th>\n",
       "      <td>10</td>\n",
       "      <td>5196000.0</td>\n",
       "      <td>56.0</td>\n",
       "      <td>2015-08-20</td>\n",
       "      <td>Thursday</td>\n",
       "      <td>8</td>\n",
       "      <td>2015</td>\n",
       "      <td>2</td>\n",
       "      <td>2.60</td>\n",
       "      <td>5</td>\n",
       "      <td>34.3</td>\n",
       "      <td>4</td>\n",
       "      <td>False</td>\n",
       "      <td>False</td>\n",
       "      <td>False</td>\n",
       "      <td>8.3</td>\n",
       "      <td>0</td>\n",
       "      <td>Санкт-Петербург</td>\n",
       "      <td>21741.0</td>\n",
       "      <td>13933.0</td>\n",
       "      <td>1</td>\n",
       "      <td>90.0</td>\n",
       "      <td>2.0</td>\n",
       "      <td>574.0</td>\n",
       "      <td>558</td>\n",
       "      <td>92786</td>\n",
       "      <td>другой</td>\n",
       "      <td>0.61</td>\n",
       "      <td>0.15</td>\n",
       "    </tr>\n",
       "    <tr>\n",
       "      <th>3</th>\n",
       "      <td>0</td>\n",
       "      <td>64900000.0</td>\n",
       "      <td>159.0</td>\n",
       "      <td>2015-07-24</td>\n",
       "      <td>Friday</td>\n",
       "      <td>7</td>\n",
       "      <td>2015</td>\n",
       "      <td>3</td>\n",
       "      <td>2.60</td>\n",
       "      <td>14</td>\n",
       "      <td>30.0</td>\n",
       "      <td>9</td>\n",
       "      <td>False</td>\n",
       "      <td>False</td>\n",
       "      <td>False</td>\n",
       "      <td>8.5</td>\n",
       "      <td>0</td>\n",
       "      <td>Санкт-Петербург</td>\n",
       "      <td>28098.0</td>\n",
       "      <td>6800.0</td>\n",
       "      <td>2</td>\n",
       "      <td>84.0</td>\n",
       "      <td>3.0</td>\n",
       "      <td>234.0</td>\n",
       "      <td>424</td>\n",
       "      <td>408176</td>\n",
       "      <td>другой</td>\n",
       "      <td>0.19</td>\n",
       "      <td>0.05</td>\n",
       "    </tr>\n",
       "    <tr>\n",
       "      <th>4</th>\n",
       "      <td>2</td>\n",
       "      <td>10000000.0</td>\n",
       "      <td>100.0</td>\n",
       "      <td>2018-06-19</td>\n",
       "      <td>Tuesday</td>\n",
       "      <td>6</td>\n",
       "      <td>2018</td>\n",
       "      <td>2</td>\n",
       "      <td>3.03</td>\n",
       "      <td>14</td>\n",
       "      <td>32.0</td>\n",
       "      <td>13</td>\n",
       "      <td>False</td>\n",
       "      <td>False</td>\n",
       "      <td>False</td>\n",
       "      <td>41.0</td>\n",
       "      <td>0</td>\n",
       "      <td>Санкт-Петербург</td>\n",
       "      <td>31856.0</td>\n",
       "      <td>8098.0</td>\n",
       "      <td>2</td>\n",
       "      <td>112.0</td>\n",
       "      <td>1.0</td>\n",
       "      <td>48.0</td>\n",
       "      <td>121</td>\n",
       "      <td>100000</td>\n",
       "      <td>другой</td>\n",
       "      <td>0.32</td>\n",
       "      <td>0.41</td>\n",
       "    </tr>\n",
       "  </tbody>\n",
       "</table>\n",
       "</div>"
      ],
      "text/plain": [
       "   total_images  last_price  total_area first_day_exposition day_exposition  \\\n",
       "0            20  13000000.0       108.0           2019-03-07       Thursday   \n",
       "1             7   3350000.0        40.4           2018-12-04        Tuesday   \n",
       "2            10   5196000.0        56.0           2015-08-20       Thursday   \n",
       "3             0  64900000.0       159.0           2015-07-24         Friday   \n",
       "4             2  10000000.0       100.0           2018-06-19        Tuesday   \n",
       "\n",
       "   month_exposition  year_exposition  rooms  ceiling_height  floors_total  \\\n",
       "0                 3             2019      3            2.70            16   \n",
       "1                12             2018      1            2.77            11   \n",
       "2                 8             2015      2            2.60             5   \n",
       "3                 7             2015      3            2.60            14   \n",
       "4                 6             2018      2            3.03            14   \n",
       "\n",
       "   living_area  floor  is_apartment  studio  open_plan  kitchen_area  balcony  \\\n",
       "0         51.0      8         False   False      False          25.0        0   \n",
       "1         18.6      1         False   False      False          11.0        2   \n",
       "2         34.3      4         False   False      False           8.3        0   \n",
       "3         30.0      9         False   False      False           8.5        0   \n",
       "4         32.0     13         False   False      False          41.0        0   \n",
       "\n",
       "     locality_name  airports_nearest  city_center_nearest  parks_around3000  \\\n",
       "0  Санкт-Петербург           18863.0              16028.0                 1   \n",
       "1   посёлок Шушары           12817.0              18603.0                 0   \n",
       "2  Санкт-Петербург           21741.0              13933.0                 1   \n",
       "3  Санкт-Петербург           28098.0               6800.0                 2   \n",
       "4  Санкт-Петербург           31856.0               8098.0                 2   \n",
       "\n",
       "   parks_nearest  ponds_around3000  ponds_nearest  days_exposition  \\\n",
       "0          482.0               2.0          755.0                0   \n",
       "1         3127.0               0.0            NaN               81   \n",
       "2           90.0               2.0          574.0              558   \n",
       "3           84.0               3.0          234.0              424   \n",
       "4          112.0               1.0           48.0              121   \n",
       "\n",
       "   price_per_meter floor_category  living_to_total  kitchen_to_total  \n",
       "0           120370         другой             0.47              0.23  \n",
       "1            82921         первый             0.46              0.27  \n",
       "2            92786         другой             0.61              0.15  \n",
       "3           408176         другой             0.19              0.05  \n",
       "4           100000         другой             0.32              0.41  "
      ]
     },
     "execution_count": 65,
     "metadata": {},
     "output_type": "execute_result"
    }
   ],
   "source": [
    "data['living_to_total'] = (data['living_area']/data['total_area']).round(decimals = 2)\n",
    "data['kitchen_to_total'] = (data['kitchen_area']/data['total_area']).round(decimals = 2)\n",
    "pd.set_option('display.max_columns', None)\n",
    "data.head(5)"
   ]
  },
  {
   "cell_type": "markdown",
   "id": "e347efab",
   "metadata": {},
   "source": [
    "# 5. Research Analysis"
   ]
  },
  {
   "cell_type": "markdown",
   "id": "ef75930e",
   "metadata": {},
   "source": [
    "## 5.1. Площадь, цена, число комнат, высота потолков."
   ]
  },
  {
   "cell_type": "markdown",
   "id": "762d889f",
   "metadata": {},
   "source": [
    "Let's study the relationship between the above parameters. Let's construct histograms for each parameter.\n",
    "\n",
    "We will also translate the values of the last_price column into millions for further convenience."
   ]
  },
  {
   "cell_type": "code",
   "execution_count": 66,
   "id": "fb95a714",
   "metadata": {},
   "outputs": [],
   "source": [
    "data['last_price'] = data['last_price']/1000000"
   ]
  },
  {
   "cell_type": "code",
   "execution_count": 70,
   "id": "ce0fb632",
   "metadata": {},
   "outputs": [
    {
     "data": {
      "image/png": "[encoded data removed]",
      "text/plain": [
       "<Figure size 432x288 with 1 Axes>"
      ]
     },
     "metadata": {
      "needs_background": "light"
     },
     "output_type": "display_data"
    }
   ],
   "source": [
    "area = data['total_area'].plot(kind='hist',\n",
    "histtype='step',\n",
    "range=(0, 400),\n",
    "bins=50,\n",
    "linewidth=2,\n",
    "grid=True, title='Square')\n",
    "area.set_xlabel('Square [m2]')\n",
    "area.set_ylabel('Amount');"
   ]
  },
  {
   "cell_type": "markdown",
   "id": "bdb47fbe",
   "metadata": {},
   "source": [
    "The schedule meets expectations. As you can see, the most common area is 50 sq.m. Number of apartments with an area of more than 150 sq.m. measured in units."
   ]
  },
  {
   "cell_type": "code",
   "execution_count": 71,
   "id": "94e22fc7",
   "metadata": {},
   "outputs": [
    {
     "data": {
      "image/png": "[encoded data removed]",
      "text/plain": [
       "<Figure size 432x288 with 1 Axes>"
      ]
     },
     "metadata": {
      "needs_background": "light"
     },
     "output_type": "display_data"
    }
   ],
   "source": [
    "rooms = data['rooms'].plot(kind='hist',\n",
    "histtype='step',\n",
    "range=(0, 25),\n",
    "bins=30,\n",
    "linewidth=2,\n",
    "grid=True, title='Number of rooms')\n",
    "rooms.set_xlabel('Number of rooms')\n",
    "rooms.set_ylabel('Amount');"
   ]
  },
  {
   "cell_type": "markdown",
   "id": "b5b80a3d",
   "metadata": {},
   "source": [
    "Some anomalies are noticeable on the schedule, for example, apartments with zero room values. Most likely, these values mean studios. Let's test this hypothesis."
   ]
  },
  {
   "cell_type": "code",
   "execution_count": 72,
   "id": "f7ec5efd",
   "metadata": {},
   "outputs": [
    {
     "data": {
      "text/plain": [
       "studio\n",
       "False     55\n",
       "True     129\n",
       "Name: rooms, dtype: int64"
      ]
     },
     "metadata": {},
     "output_type": "display_data"
    },
    {
     "data": {
      "text/plain": [
       "184"
      ]
     },
     "metadata": {},
     "output_type": "display_data"
    }
   ],
   "source": [
    "display(data.query('rooms == 0').groupby('studio')['rooms'].count())\n",
    "display(data.query('rooms == 0')['rooms'].count())"
   ]
  },
  {
   "cell_type": "markdown",
   "id": "89e9304a",
   "metadata": {},
   "source": [
    "The hypothesis was partially confirmed - most of the apartments with zero room value are studios. The remaining 55 objects can be recognized as outliers. Also suspicious are apartments with more than 10 rooms. The most common options are 2 and 3 room apartments."
   ]
  },
  {
   "cell_type": "code",
   "execution_count": 73,
   "id": "c1a76cb1",
   "metadata": {},
   "outputs": [
    {
     "data": {
      "image/png": "[encoded data removed]",
      "text/plain": [
       "<Figure size 432x288 with 1 Axes>"
      ]
     },
     "metadata": {
      "needs_background": "light"
     },
     "output_type": "display_data"
    }
   ],
   "source": [
    "price = data['last_price'].plot(kind='hist',\n",
    "histtype='step',\n",
    "range=(0, 20),\n",
    "bins=20,\n",
    "linewidth=2,\n",
    "grid=True, title='Real estate price')\n",
    "price.set_xlabel('Price')\n",
    "price.set_ylabel('Amount');"
   ]
  },
  {
   "cell_type": "markdown",
   "id": "4683365f",
   "metadata": {},
   "source": [
    "As can be seen from the graph, the largest number of apartments are in the price range from 2.5 to 5 million. Apartments over 20 million are calculated in units, so we do not indicate them on the graph."
   ]
  },
  {
   "cell_type": "code",
   "execution_count": 75,
   "id": "4a7c1e22",
   "metadata": {},
   "outputs": [
    {
     "data": {
      "image/png": "[encoded data removed]",
      "text/plain": [
       "<Figure size 432x288 with 1 Axes>"
      ]
     },
     "metadata": {
      "needs_background": "light"
     },
     "output_type": "display_data"
    }
   ],
   "source": [
    "ceiling = data['ceiling_height'].plot(kind='hist',\n",
    "histtype='step',\n",
    "range=(0, 6),\n",
    "bins=50,\n",
    "linewidth=2,\n",
    "grid=True, title='Ceiling height')\n",
    "ceiling.set_xlabel('Ceiling height [m]')\n",
    "ceiling.set_ylabel('Amount');"
   ]
  },
  {
   "cell_type": "markdown",
   "id": "1e197930",
   "metadata": {},
   "source": [
    "The graph shows that the average ceiling height is 2.5 m."
   ]
  },
  {
   "cell_type": "markdown",
   "id": "8bdd498f",
   "metadata": {},
   "source": [
    "## 5.2. Selling time"
   ]
  },
  {
   "cell_type": "markdown",
   "id": "a2195f07",
   "metadata": {},
   "source": [
    "Let's analyze the time of sale of apartments."
   ]
  },
  {
   "cell_type": "code",
   "execution_count": 76,
   "id": "6cdc1ba9",
   "metadata": {},
   "outputs": [
    {
     "data": {
      "text/plain": [
       "count    23051.000000\n",
       "mean       156.844822\n",
       "std        213.803239\n",
       "min          0.000000\n",
       "25%         23.000000\n",
       "50%         74.000000\n",
       "75%        199.000000\n",
       "max       1580.000000\n",
       "Name: days_exposition, dtype: float64"
      ]
     },
     "metadata": {},
     "output_type": "display_data"
    },
    {
     "data": {
      "text/plain": [
       "3100"
      ]
     },
     "metadata": {},
     "output_type": "display_data"
    }
   ],
   "source": [
    "display(data['days_exposition'].describe())\n",
    "display(data.query('days_exposition == 0')['days_exposition'].count())"
   ]
  },
  {
   "cell_type": "markdown",
   "id": "899c5e8f",
   "metadata": {},
   "source": [
    "As you can see, there are quite a lot of null values in the data."
   ]
  },
  {
   "cell_type": "code",
   "execution_count": 77,
   "id": "8e479242",
   "metadata": {},
   "outputs": [
    {
     "data": {
      "image/png": "[encoded data removed]",
      "text/plain": [
       "<Figure size 432x288 with 1 Axes>"
      ]
     },
     "metadata": {
      "needs_background": "light"
     },
     "output_type": "display_data"
    }
   ],
   "source": [
    "boxplot = data.boxplot(column=['days_exposition'])"
   ]
  },
  {
   "cell_type": "markdown",
   "id": "35cf7677",
   "metadata": {},
   "source": [
    "There are also many outliers in the range diagram. This suggests that sales that exceed 450 days can be considered unusually long. Let's discard the obvious outliers and look at the result."
   ]
  },
  {
   "cell_type": "code",
   "execution_count": 79,
   "id": "0ed51f9e",
   "metadata": {},
   "outputs": [
    {
     "data": {
      "image/png": "[encoded data removed]",
      "text/plain": [
       "<Figure size 432x288 with 1 Axes>"
      ]
     },
     "metadata": {
      "needs_background": "light"
     },
     "output_type": "display_data"
    }
   ],
   "source": [
    "expo = data['days_exposition'].plot(kind='hist',\n",
    "histtype='step',\n",
    "range=(1, 450),\n",
    "bins=100,\n",
    "linewidth=2,\n",
    "grid=True, title='Selling time')\n",
    "expo.set_xlabel('Selling time [days]')\n",
    "expo.set_ylabel('Amount');"
   ]
  },
  {
   "cell_type": "markdown",
   "id": "f9f16d79",
   "metadata": {},
   "source": [
    "According to the chart, the fastest sales occur within one month. The average time to sell an apartment takes about 2 months."
   ]
  },
  {
   "cell_type": "markdown",
   "id": "eb6e400f",
   "metadata": {},
   "source": [
    "## 5.3. Factors that most affect the value of an apartment"
   ]
  },
  {
   "cell_type": "markdown",
   "id": "919fa102",
   "metadata": {},
   "source": [
    "Find out if the price depends on the area, number of rooms, distance from the center. Study the dependence of the price on which floor the apartment is located on: first, last or another. Also study the dependence on the date of placement: day of the week, month and year."
   ]
  },
  {
   "cell_type": "code",
   "execution_count": 80,
   "id": "319b5270",
   "metadata": {},
   "outputs": [
    {
     "data": {
      "text/plain": [
       "Index(['total_images', 'last_price', 'total_area', 'first_day_exposition',\n",
       "       'day_exposition', 'month_exposition', 'year_exposition', 'rooms',\n",
       "       'ceiling_height', 'floors_total', 'living_area', 'floor',\n",
       "       'is_apartment', 'studio', 'open_plan', 'kitchen_area', 'balcony',\n",
       "       'locality_name', 'airports_nearest', 'city_center_nearest',\n",
       "       'parks_around3000', 'parks_nearest', 'ponds_around3000',\n",
       "       'ponds_nearest', 'days_exposition', 'price_per_meter', 'floor_category',\n",
       "       'living_to_total', 'kitchen_to_total'],\n",
       "      dtype='object')"
      ]
     },
     "execution_count": 80,
     "metadata": {},
     "output_type": "execute_result"
    }
   ],
   "source": [
    "data.columns"
   ]
  },
  {
   "cell_type": "code",
   "execution_count": 82,
   "id": "7b8c13d4",
   "metadata": {},
   "outputs": [
    {
     "data": {
      "image/png": "[encoded data removed]",
      "text/plain": [
       "<Figure size 720x360 with 1 Axes>"
      ]
     },
     "metadata": {
      "needs_background": "light"
     },
     "output_type": "display_data"
    }
   ],
   "source": [
    "data.plot(x='total_area', y='last_price', kind='scatter', title = 'Dependence of the price on the area',\n",
    "          figsize=(10, 5), alpha=0.3);"
   ]
  },
  {
   "cell_type": "markdown",
   "id": "0b6260b8",
   "metadata": {},
   "source": [
    "As you can see, the larger the area, the higher the price. Most real estate options are in the range of 200 sq.m. and cost up to 5 million"
   ]
  },
  {
   "cell_type": "code",
   "execution_count": 83,
   "id": "c6a3409f",
   "metadata": {},
   "outputs": [
    {
     "data": {
      "image/png": "[encoded data removed]",
      "text/plain": [
       "<Figure size 576x360 with 1 Axes>"
      ]
     },
     "metadata": {
      "needs_background": "light"
     },
     "output_type": "display_data"
    }
   ],
   "source": [
    "data.plot(x='rooms', y='last_price', kind='scatter', title = 'Dependence of the price on the number of rooms',\n",
    "          figsize=(8, 5), alpha=0.3);"
   ]
  },
  {
   "cell_type": "markdown",
   "id": "7112aa17",
   "metadata": {},
   "source": [
    "On average, the price is in the range of up to 10 million. The largest range of prices falls on 2 and 3-room apartments. One-room apartments and studios cost up to 5 million rubles."
   ]
  },
  {
   "cell_type": "code",
   "execution_count": 84,
   "id": "83947f04",
   "metadata": {},
   "outputs": [
    {
     "data": {
      "image/png": "[encoded data removed]",
      "text/plain": [
       "<Figure size 576x288 with 1 Axes>"
      ]
     },
     "metadata": {
      "needs_background": "light"
     },
     "output_type": "display_data"
    }
   ],
   "source": [
    "data.plot(x='city_center_nearest', y='last_price', kind='scatter', \n",
    "          title = 'Dependence of price on distance from the center', figsize=(8, 4), alpha=0.3);"
   ]
  },
  {
   "cell_type": "markdown",
   "id": "d3e09191",
   "metadata": {},
   "source": [
    "As expected - the closer to the center, the more expensive. But the average price is in the range of 5 million."
   ]
  },
  {
   "cell_type": "code",
   "execution_count": 85,
   "id": "dabc353e",
   "metadata": {},
   "outputs": [
    {
     "data": {
      "image/png": "[encoded data removed]",
      "text/plain": [
       "<Figure size 576x288 with 1 Axes>"
      ]
     },
     "metadata": {
      "needs_background": "light"
     },
     "output_type": "display_data"
    }
   ],
   "source": [
    "data.plot(x='floor_category', y='last_price', kind='scatter', title = 'Dependence of the price on the floor',\n",
    "          figsize=(8, 4), alpha=0.3);"
   ]
  },
  {
   "cell_type": "markdown",
   "id": "944b9a92",
   "metadata": {},
   "source": [
    "The lowest prices for apartments located on the first floor. The highest ones are on the last one."
   ]
  },
  {
   "cell_type": "code",
   "execution_count": 86,
   "id": "45555b7e",
   "metadata": {},
   "outputs": [
    {
     "data": {
      "image/png": "[encoded data removed]",
      "text/plain": [
       "<Figure size 576x288 with 1 Axes>"
      ]
     },
     "metadata": {
      "needs_background": "light"
     },
     "output_type": "display_data"
    }
   ],
   "source": [
    "data.plot(x='day_exposition', y='last_price', kind='scatter', title = 'Dependence of the price on the day of placement',\n",
    "          figsize=(8, 4), alpha=0.3);"
   ]
  },
  {
   "cell_type": "markdown",
   "id": "28401f46",
   "metadata": {},
   "source": [
    "The price is approximately the same and does not depend much on the day of placement on the market."
   ]
  },
  {
   "cell_type": "code",
   "execution_count": 87,
   "id": "fb19ea35",
   "metadata": {},
   "outputs": [
    {
     "data": {
      "image/png": "[encoded data removed]",
      "text/plain": [
       "<Figure size 576x288 with 1 Axes>"
      ]
     },
     "metadata": {
      "needs_background": "light"
     },
     "output_type": "display_data"
    }
   ],
   "source": [
    "data.plot(x='month_exposition', y='last_price', kind='scatter',\n",
    "          title = 'Dependence of the price on the month of placement', figsize=(8, 4), alpha=0.3);"
   ]
  },
  {
   "cell_type": "markdown",
   "id": "cc775c94",
   "metadata": {},
   "source": [
    "The same situation with the month of placement. The price doesn't matter."
   ]
  },
  {
   "cell_type": "code",
   "execution_count": 88,
   "id": "e4a965a1",
   "metadata": {},
   "outputs": [
    {
     "data": {
      "image/png": "[encoded data removed]",
      "text/plain": [
       "<Figure size 576x288 with 1 Axes>"
      ]
     },
     "metadata": {
      "needs_background": "light"
     },
     "output_type": "display_data"
    }
   ],
   "source": [
    "data.plot(x='year_exposition', y='last_price', kind='scatter', title = 'Dependence of the price on the year of placement',\n",
    "          figsize=(8, 4), alpha=0.3);"
   ]
  },
  {
   "cell_type": "markdown",
   "id": "07924566",
   "metadata": {},
   "source": [
    "In 2017, real estate prices were slightly higher compared to other years."
   ]
  },
  {
   "cell_type": "markdown",
   "id": "3f022567",
   "metadata": {},
   "source": [
    "## 5.4. Dependence of the price of real estate on the location."
   ]
  },
  {
   "cell_type": "markdown",
   "id": "3b635711",
   "metadata": {},
   "source": [
    "1) Let's choose 10 settlements with the largest number of ads."
   ]
  },
  {
   "cell_type": "code",
   "execution_count": 89,
   "id": "9b3f213a",
   "metadata": {},
   "outputs": [
    {
     "data": {
      "text/html": [
       "<div>\n",
       "<style scoped>\n",
       "    .dataframe tbody tr th:only-of-type {\n",
       "        vertical-align: middle;\n",
       "    }\n",
       "\n",
       "    .dataframe tbody tr th {\n",
       "        vertical-align: top;\n",
       "    }\n",
       "\n",
       "    .dataframe thead th {\n",
       "        text-align: right;\n",
       "    }\n",
       "</style>\n",
       "<table border=\"1\" class=\"dataframe\">\n",
       "  <thead>\n",
       "    <tr style=\"text-align: right;\">\n",
       "      <th></th>\n",
       "      <th>number</th>\n",
       "      <th>median</th>\n",
       "    </tr>\n",
       "    <tr>\n",
       "      <th>locality_name</th>\n",
       "      <th></th>\n",
       "      <th></th>\n",
       "    </tr>\n",
       "  </thead>\n",
       "  <tbody>\n",
       "    <tr>\n",
       "      <th>Санкт-Петербург</th>\n",
       "      <td>15354</td>\n",
       "      <td>104444.0</td>\n",
       "    </tr>\n",
       "    <tr>\n",
       "      <th>посёлок Мурино</th>\n",
       "      <td>520</td>\n",
       "      <td>85452.5</td>\n",
       "    </tr>\n",
       "    <tr>\n",
       "      <th>посёлок Шушары</th>\n",
       "      <td>421</td>\n",
       "      <td>75918.0</td>\n",
       "    </tr>\n",
       "    <tr>\n",
       "      <th>Всеволожск</th>\n",
       "      <td>386</td>\n",
       "      <td>65667.5</td>\n",
       "    </tr>\n",
       "    <tr>\n",
       "      <th>Пушкин</th>\n",
       "      <td>363</td>\n",
       "      <td>99987.0</td>\n",
       "    </tr>\n",
       "    <tr>\n",
       "      <th>Колпино</th>\n",
       "      <td>335</td>\n",
       "      <td>74725.0</td>\n",
       "    </tr>\n",
       "    <tr>\n",
       "      <th>посёлок Парголово</th>\n",
       "      <td>306</td>\n",
       "      <td>90873.0</td>\n",
       "    </tr>\n",
       "    <tr>\n",
       "      <th>Гатчина</th>\n",
       "      <td>294</td>\n",
       "      <td>67746.5</td>\n",
       "    </tr>\n",
       "    <tr>\n",
       "      <th>деревня Кудрово</th>\n",
       "      <td>293</td>\n",
       "      <td>92000.0</td>\n",
       "    </tr>\n",
       "    <tr>\n",
       "      <th>Выборг</th>\n",
       "      <td>228</td>\n",
       "      <td>58133.0</td>\n",
       "    </tr>\n",
       "  </tbody>\n",
       "</table>\n",
       "</div>"
      ],
      "text/plain": [
       "                   number    median\n",
       "locality_name                      \n",
       "Санкт-Петербург     15354  104444.0\n",
       "посёлок Мурино        520   85452.5\n",
       "посёлок Шушары        421   75918.0\n",
       "Всеволожск            386   65667.5\n",
       "Пушкин                363   99987.0\n",
       "Колпино               335   74725.0\n",
       "посёлок Парголово     306   90873.0\n",
       "Гатчина               294   67746.5\n",
       "деревня Кудрово       293   92000.0\n",
       "Выборг                228   58133.0"
      ]
     },
     "execution_count": 89,
     "metadata": {},
     "output_type": "execute_result"
    }
   ],
   "source": [
    "most_popular_estate = data.pivot_table(index='locality_name', values='price_per_meter', aggfunc=['count', 'median'])\n",
    "most_popular_estate.columns = ['number', 'median']\n",
    "most_popular_estate = most_popular_estate.sort_values(by='number', ascending=False)\n",
    "most_popular_estate.head(10)"
   ]
  },
  {
   "cell_type": "markdown",
   "id": "62c211cb",
   "metadata": {},
   "source": [
    "2) Display the average price per square meter in these settlements."
   ]
  },
  {
   "cell_type": "code",
   "execution_count": 90,
   "id": "754e20af",
   "metadata": {},
   "outputs": [
    {
     "data": {
      "image/png": "[encoded data removed]",
      "text/plain": [
       "<Figure size 432x288 with 1 Axes>"
      ]
     },
     "metadata": {
      "needs_background": "light"
     },
     "output_type": "display_data"
    }
   ],
   "source": [
    "most_popular_estate['median'].hist(bins=10, range=(0, 110000))\n",
    "plt.show()"
   ]
  },
  {
   "cell_type": "markdown",
   "id": "33061d58",
   "metadata": {},
   "source": [
    "As you can see from the graph, the average price per square meter is 40,000.\n",
    "\n",
    "3) Find the settlements with the highest and lowest cost of housing."
   ]
  },
  {
   "cell_type": "code",
   "execution_count": 91,
   "id": "79d03fb6",
   "metadata": {},
   "outputs": [
    {
     "data": {
      "text/plain": [
       "count       326.000000\n",
       "mean      44270.254601\n",
       "std       19663.880428\n",
       "min       11000.000000\n",
       "25%       30385.500000\n",
       "50%       40347.750000\n",
       "75%       56636.750000\n",
       "max      104444.000000\n",
       "Name: median, dtype: float64"
      ]
     },
     "execution_count": 91,
     "metadata": {},
     "output_type": "execute_result"
    }
   ],
   "source": [
    "most_popular_estate['median'].describe()"
   ]
  },
  {
   "cell_type": "code",
   "execution_count": 92,
   "id": "a135ec32",
   "metadata": {},
   "outputs": [
    {
     "data": {
      "text/html": [
       "<div>\n",
       "<style scoped>\n",
       "    .dataframe tbody tr th:only-of-type {\n",
       "        vertical-align: middle;\n",
       "    }\n",
       "\n",
       "    .dataframe tbody tr th {\n",
       "        vertical-align: top;\n",
       "    }\n",
       "\n",
       "    .dataframe thead th {\n",
       "        text-align: right;\n",
       "    }\n",
       "</style>\n",
       "<table border=\"1\" class=\"dataframe\">\n",
       "  <thead>\n",
       "    <tr style=\"text-align: right;\">\n",
       "      <th></th>\n",
       "      <th>number</th>\n",
       "      <th>median</th>\n",
       "    </tr>\n",
       "    <tr>\n",
       "      <th>locality_name</th>\n",
       "      <th></th>\n",
       "      <th></th>\n",
       "    </tr>\n",
       "  </thead>\n",
       "  <tbody>\n",
       "    <tr>\n",
       "      <th>деревня Старополье</th>\n",
       "      <td>3</td>\n",
       "      <td>11000.0</td>\n",
       "    </tr>\n",
       "  </tbody>\n",
       "</table>\n",
       "</div>"
      ],
      "text/plain": [
       "                    number   median\n",
       "locality_name                      \n",
       "деревня Старополье       3  11000.0"
      ]
     },
     "metadata": {},
     "output_type": "display_data"
    },
    {
     "data": {
      "text/html": [
       "<div>\n",
       "<style scoped>\n",
       "    .dataframe tbody tr th:only-of-type {\n",
       "        vertical-align: middle;\n",
       "    }\n",
       "\n",
       "    .dataframe tbody tr th {\n",
       "        vertical-align: top;\n",
       "    }\n",
       "\n",
       "    .dataframe thead th {\n",
       "        text-align: right;\n",
       "    }\n",
       "</style>\n",
       "<table border=\"1\" class=\"dataframe\">\n",
       "  <thead>\n",
       "    <tr style=\"text-align: right;\">\n",
       "      <th></th>\n",
       "      <th>number</th>\n",
       "      <th>median</th>\n",
       "    </tr>\n",
       "    <tr>\n",
       "      <th>locality_name</th>\n",
       "      <th></th>\n",
       "      <th></th>\n",
       "    </tr>\n",
       "  </thead>\n",
       "  <tbody>\n",
       "    <tr>\n",
       "      <th>Санкт-Петербург</th>\n",
       "      <td>15354</td>\n",
       "      <td>104444.0</td>\n",
       "    </tr>\n",
       "  </tbody>\n",
       "</table>\n",
       "</div>"
      ],
      "text/plain": [
       "                 number    median\n",
       "locality_name                    \n",
       "Санкт-Петербург   15354  104444.0"
      ]
     },
     "metadata": {},
     "output_type": "display_data"
    }
   ],
   "source": [
    "display(most_popular_estate.query('median == 11000'))\n",
    "display(most_popular_estate.query('median == 104444'))"
   ]
  },
  {
   "cell_type": "markdown",
   "id": "69c7b13f",
   "metadata": {},
   "source": [
    "As can be seen in the village of Staropolye, the lowest cost of housing, while in St. Petersburg the highest."
   ]
  },
  {
   "cell_type": "markdown",
   "id": "084257c7",
   "metadata": {},
   "source": [
    "## 5.5. Analysis of prices for apartments in the center of St. Petersburg"
   ]
  },
  {
   "cell_type": "markdown",
   "id": "9f86f8e3",
   "metadata": {},
   "source": [
    "1) Let's create a pivot table that will contain information about real estate in St. Petersburg and the distance from the center."
   ]
  },
  {
   "cell_type": "code",
   "execution_count": 93,
   "id": "f7421a71",
   "metadata": {},
   "outputs": [
    {
     "name": "stderr",
     "output_type": "stream",
     "text": [
      "C:\\Users\\nikit\\AppData\\Local\\Temp\\ipykernel_12680\\3255050705.py:2: SettingWithCopyWarning: \n",
      "A value is trying to be set on a copy of a slice from a DataFrame.\n",
      "Try using .loc[row_indexer,col_indexer] = value instead\n",
      "\n",
      "See the caveats in the documentation: https://pandas.pydata.org/pandas-docs/stable/user_guide/indexing.html#returning-a-view-versus-a-copy\n",
      "  spb_estate['city_center_nearest'] = (spb_estate['city_center_nearest']/1000).astype(int)\n"
     ]
    },
    {
     "data": {
      "text/html": [
       "<div>\n",
       "<style scoped>\n",
       "    .dataframe tbody tr th:only-of-type {\n",
       "        vertical-align: middle;\n",
       "    }\n",
       "\n",
       "    .dataframe tbody tr th {\n",
       "        vertical-align: top;\n",
       "    }\n",
       "\n",
       "    .dataframe thead th {\n",
       "        text-align: right;\n",
       "    }\n",
       "</style>\n",
       "<table border=\"1\" class=\"dataframe\">\n",
       "  <thead>\n",
       "    <tr style=\"text-align: right;\">\n",
       "      <th></th>\n",
       "      <th>last_price</th>\n",
       "    </tr>\n",
       "    <tr>\n",
       "      <th>city_center_nearest</th>\n",
       "      <th></th>\n",
       "    </tr>\n",
       "  </thead>\n",
       "  <tbody>\n",
       "    <tr>\n",
       "      <th>0</th>\n",
       "      <td>23.898014</td>\n",
       "    </tr>\n",
       "    <tr>\n",
       "      <th>1</th>\n",
       "      <td>18.583324</td>\n",
       "    </tr>\n",
       "    <tr>\n",
       "      <th>2</th>\n",
       "      <td>16.376396</td>\n",
       "    </tr>\n",
       "    <tr>\n",
       "      <th>3</th>\n",
       "      <td>13.782101</td>\n",
       "    </tr>\n",
       "    <tr>\n",
       "      <th>4</th>\n",
       "      <td>13.495192</td>\n",
       "    </tr>\n",
       "    <tr>\n",
       "      <th>5</th>\n",
       "      <td>15.060223</td>\n",
       "    </tr>\n",
       "    <tr>\n",
       "      <th>6</th>\n",
       "      <td>14.326342</td>\n",
       "    </tr>\n",
       "    <tr>\n",
       "      <th>7</th>\n",
       "      <td>12.882156</td>\n",
       "    </tr>\n",
       "    <tr>\n",
       "      <th>8</th>\n",
       "      <td>8.490581</td>\n",
       "    </tr>\n",
       "    <tr>\n",
       "      <th>9</th>\n",
       "      <td>6.478872</td>\n",
       "    </tr>\n",
       "  </tbody>\n",
       "</table>\n",
       "</div>"
      ],
      "text/plain": [
       "                     last_price\n",
       "city_center_nearest            \n",
       "0                     23.898014\n",
       "1                     18.583324\n",
       "2                     16.376396\n",
       "3                     13.782101\n",
       "4                     13.495192\n",
       "5                     15.060223\n",
       "6                     14.326342\n",
       "7                     12.882156\n",
       "8                      8.490581\n",
       "9                      6.478872"
      ]
     },
     "metadata": {},
     "output_type": "display_data"
    }
   ],
   "source": [
    "spb_estate = data.query('locality_name == \"Санкт-Петербург\"')\n",
    "spb_estate['city_center_nearest'] = (spb_estate['city_center_nearest']/1000).astype(int)\n",
    "spb_centre = spb_estate.pivot_table(index='city_center_nearest', values='last_price', aggfunc='mean')\n",
    "display(spb_centre.head(10))"
   ]
  },
  {
   "cell_type": "code",
   "execution_count": 95,
   "id": "9a849cb1",
   "metadata": {
    "scrolled": true
   },
   "outputs": [
    {
     "data": {
      "image/png": "[encoded data removed]",
      "text/plain": [
       "<Figure size 432x288 with 1 Axes>"
      ]
     },
     "metadata": {
      "needs_background": "light"
     },
     "output_type": "display_data"
    }
   ],
   "source": [
    "spb_centre_plot = spb_centre.plot(kind='line',\n",
    "grid=True, title='Dependence of the price on the location in St. Petersburg')\n",
    "spb_centre_plot.set_xlabel('Location from the center [km]')\n",
    "spb_centre_plot.set_ylabel('Cost [million]');"
   ]
  },
  {
   "cell_type": "markdown",
   "id": "c9208daf",
   "metadata": {},
   "source": [
    "It is noticeable on the chart that the price changes sharply down at around 5 km. Obviously this is the boundary of the center."
   ]
  },
  {
   "cell_type": "markdown",
   "id": "cfc1621e",
   "metadata": {},
   "source": [
    "## 5.6. Factors affecting the price of apartments in the center of St. Petersburg"
   ]
  },
  {
   "cell_type": "markdown",
   "id": "8f79c5d4",
   "metadata": {},
   "source": [
    "Let's display a table with real estate in the center of St. Petersburg."
   ]
  },
  {
   "cell_type": "code",
   "execution_count": 96,
   "id": "872f44e4",
   "metadata": {
    "scrolled": true
   },
   "outputs": [
    {
     "data": {
      "text/html": [
       "<div>\n",
       "<style scoped>\n",
       "    .dataframe tbody tr th:only-of-type {\n",
       "        vertical-align: middle;\n",
       "    }\n",
       "\n",
       "    .dataframe tbody tr th {\n",
       "        vertical-align: top;\n",
       "    }\n",
       "\n",
       "    .dataframe thead th {\n",
       "        text-align: right;\n",
       "    }\n",
       "</style>\n",
       "<table border=\"1\" class=\"dataframe\">\n",
       "  <thead>\n",
       "    <tr style=\"text-align: right;\">\n",
       "      <th></th>\n",
       "      <th>total_images</th>\n",
       "      <th>last_price</th>\n",
       "      <th>total_area</th>\n",
       "      <th>first_day_exposition</th>\n",
       "      <th>day_exposition</th>\n",
       "      <th>month_exposition</th>\n",
       "      <th>year_exposition</th>\n",
       "      <th>rooms</th>\n",
       "      <th>ceiling_height</th>\n",
       "      <th>floors_total</th>\n",
       "      <th>living_area</th>\n",
       "      <th>floor</th>\n",
       "      <th>is_apartment</th>\n",
       "      <th>studio</th>\n",
       "      <th>open_plan</th>\n",
       "      <th>kitchen_area</th>\n",
       "      <th>balcony</th>\n",
       "      <th>locality_name</th>\n",
       "      <th>airports_nearest</th>\n",
       "      <th>city_center_nearest</th>\n",
       "      <th>parks_around3000</th>\n",
       "      <th>parks_nearest</th>\n",
       "      <th>ponds_around3000</th>\n",
       "      <th>ponds_nearest</th>\n",
       "      <th>days_exposition</th>\n",
       "      <th>price_per_meter</th>\n",
       "      <th>floor_category</th>\n",
       "      <th>living_to_total</th>\n",
       "      <th>kitchen_to_total</th>\n",
       "    </tr>\n",
       "  </thead>\n",
       "  <tbody>\n",
       "    <tr>\n",
       "      <th>24</th>\n",
       "      <td>8</td>\n",
       "      <td>6.50</td>\n",
       "      <td>97.2</td>\n",
       "      <td>2015-10-31</td>\n",
       "      <td>Saturday</td>\n",
       "      <td>10</td>\n",
       "      <td>2015</td>\n",
       "      <td>2</td>\n",
       "      <td>3.0</td>\n",
       "      <td>3</td>\n",
       "      <td>46.5</td>\n",
       "      <td>1</td>\n",
       "      <td>False</td>\n",
       "      <td>False</td>\n",
       "      <td>False</td>\n",
       "      <td>19.6</td>\n",
       "      <td>0</td>\n",
       "      <td>Санкт-Петербург</td>\n",
       "      <td>20052.0</td>\n",
       "      <td>2</td>\n",
       "      <td>3</td>\n",
       "      <td>411.0</td>\n",
       "      <td>3.0</td>\n",
       "      <td>124.0</td>\n",
       "      <td>265</td>\n",
       "      <td>66872</td>\n",
       "      <td>первый</td>\n",
       "      <td>0.48</td>\n",
       "      <td>0.20</td>\n",
       "    </tr>\n",
       "    <tr>\n",
       "      <th>35</th>\n",
       "      <td>6</td>\n",
       "      <td>15.50</td>\n",
       "      <td>149.0</td>\n",
       "      <td>2017-06-26</td>\n",
       "      <td>Monday</td>\n",
       "      <td>6</td>\n",
       "      <td>2017</td>\n",
       "      <td>5</td>\n",
       "      <td>2.6</td>\n",
       "      <td>5</td>\n",
       "      <td>104.0</td>\n",
       "      <td>4</td>\n",
       "      <td>False</td>\n",
       "      <td>False</td>\n",
       "      <td>False</td>\n",
       "      <td>17.0</td>\n",
       "      <td>0</td>\n",
       "      <td>Санкт-Петербург</td>\n",
       "      <td>23670.0</td>\n",
       "      <td>3</td>\n",
       "      <td>0</td>\n",
       "      <td>3127.0</td>\n",
       "      <td>1.0</td>\n",
       "      <td>779.0</td>\n",
       "      <td>644</td>\n",
       "      <td>104027</td>\n",
       "      <td>другой</td>\n",
       "      <td>0.70</td>\n",
       "      <td>0.11</td>\n",
       "    </tr>\n",
       "    <tr>\n",
       "      <th>61</th>\n",
       "      <td>18</td>\n",
       "      <td>7.99</td>\n",
       "      <td>74.0</td>\n",
       "      <td>2017-08-24</td>\n",
       "      <td>Thursday</td>\n",
       "      <td>8</td>\n",
       "      <td>2017</td>\n",
       "      <td>2</td>\n",
       "      <td>3.0</td>\n",
       "      <td>4</td>\n",
       "      <td>43.0</td>\n",
       "      <td>4</td>\n",
       "      <td>False</td>\n",
       "      <td>False</td>\n",
       "      <td>False</td>\n",
       "      <td>20.0</td>\n",
       "      <td>0</td>\n",
       "      <td>Санкт-Петербург</td>\n",
       "      <td>22568.0</td>\n",
       "      <td>4</td>\n",
       "      <td>1</td>\n",
       "      <td>363.0</td>\n",
       "      <td>0.0</td>\n",
       "      <td>NaN</td>\n",
       "      <td>609</td>\n",
       "      <td>107973</td>\n",
       "      <td>последний</td>\n",
       "      <td>0.58</td>\n",
       "      <td>0.27</td>\n",
       "    </tr>\n",
       "    <tr>\n",
       "      <th>63</th>\n",
       "      <td>2</td>\n",
       "      <td>20.00</td>\n",
       "      <td>118.0</td>\n",
       "      <td>2018-09-11</td>\n",
       "      <td>Tuesday</td>\n",
       "      <td>9</td>\n",
       "      <td>2018</td>\n",
       "      <td>3</td>\n",
       "      <td>3.0</td>\n",
       "      <td>9</td>\n",
       "      <td>68.0</td>\n",
       "      <td>7</td>\n",
       "      <td>False</td>\n",
       "      <td>False</td>\n",
       "      <td>False</td>\n",
       "      <td>16.0</td>\n",
       "      <td>0</td>\n",
       "      <td>Санкт-Петербург</td>\n",
       "      <td>26055.0</td>\n",
       "      <td>4</td>\n",
       "      <td>1</td>\n",
       "      <td>648.0</td>\n",
       "      <td>1.0</td>\n",
       "      <td>779.0</td>\n",
       "      <td>37</td>\n",
       "      <td>169492</td>\n",
       "      <td>другой</td>\n",
       "      <td>0.58</td>\n",
       "      <td>0.14</td>\n",
       "    </tr>\n",
       "    <tr>\n",
       "      <th>99</th>\n",
       "      <td>32</td>\n",
       "      <td>9.60</td>\n",
       "      <td>90.0</td>\n",
       "      <td>2017-09-26</td>\n",
       "      <td>Tuesday</td>\n",
       "      <td>9</td>\n",
       "      <td>2017</td>\n",
       "      <td>4</td>\n",
       "      <td>2.6</td>\n",
       "      <td>5</td>\n",
       "      <td>67.0</td>\n",
       "      <td>2</td>\n",
       "      <td>False</td>\n",
       "      <td>False</td>\n",
       "      <td>False</td>\n",
       "      <td>8.0</td>\n",
       "      <td>0</td>\n",
       "      <td>Санкт-Петербург</td>\n",
       "      <td>23277.0</td>\n",
       "      <td>2</td>\n",
       "      <td>0</td>\n",
       "      <td>3127.0</td>\n",
       "      <td>0.0</td>\n",
       "      <td>NaN</td>\n",
       "      <td>104</td>\n",
       "      <td>106667</td>\n",
       "      <td>другой</td>\n",
       "      <td>0.74</td>\n",
       "      <td>0.09</td>\n",
       "    </tr>\n",
       "  </tbody>\n",
       "</table>\n",
       "</div>"
      ],
      "text/plain": [
       "    total_images  last_price  total_area first_day_exposition day_exposition  \\\n",
       "24             8        6.50        97.2           2015-10-31       Saturday   \n",
       "35             6       15.50       149.0           2017-06-26         Monday   \n",
       "61            18        7.99        74.0           2017-08-24       Thursday   \n",
       "63             2       20.00       118.0           2018-09-11        Tuesday   \n",
       "99            32        9.60        90.0           2017-09-26        Tuesday   \n",
       "\n",
       "    month_exposition  year_exposition  rooms  ceiling_height  floors_total  \\\n",
       "24                10             2015      2             3.0             3   \n",
       "35                 6             2017      5             2.6             5   \n",
       "61                 8             2017      2             3.0             4   \n",
       "63                 9             2018      3             3.0             9   \n",
       "99                 9             2017      4             2.6             5   \n",
       "\n",
       "    living_area  floor  is_apartment  studio  open_plan  kitchen_area  \\\n",
       "24         46.5      1         False   False      False          19.6   \n",
       "35        104.0      4         False   False      False          17.0   \n",
       "61         43.0      4         False   False      False          20.0   \n",
       "63         68.0      7         False   False      False          16.0   \n",
       "99         67.0      2         False   False      False           8.0   \n",
       "\n",
       "    balcony    locality_name  airports_nearest  city_center_nearest  \\\n",
       "24        0  Санкт-Петербург           20052.0                    2   \n",
       "35        0  Санкт-Петербург           23670.0                    3   \n",
       "61        0  Санкт-Петербург           22568.0                    4   \n",
       "63        0  Санкт-Петербург           26055.0                    4   \n",
       "99        0  Санкт-Петербург           23277.0                    2   \n",
       "\n",
       "    parks_around3000  parks_nearest  ponds_around3000  ponds_nearest  \\\n",
       "24                 3          411.0               3.0          124.0   \n",
       "35                 0         3127.0               1.0          779.0   \n",
       "61                 1          363.0               0.0            NaN   \n",
       "63                 1          648.0               1.0          779.0   \n",
       "99                 0         3127.0               0.0            NaN   \n",
       "\n",
       "    days_exposition  price_per_meter floor_category  living_to_total  \\\n",
       "24              265            66872         первый             0.48   \n",
       "35              644           104027         другой             0.70   \n",
       "61              609           107973      последний             0.58   \n",
       "63               37           169492         другой             0.58   \n",
       "99              104           106667         другой             0.74   \n",
       "\n",
       "    kitchen_to_total  \n",
       "24              0.20  \n",
       "35              0.11  \n",
       "61              0.27  \n",
       "63              0.14  \n",
       "99              0.09  "
      ]
     },
     "execution_count": 96,
     "metadata": {},
     "output_type": "execute_result"
    }
   ],
   "source": [
    "spb_center_estate = spb_estate.query('city_center_nearest <= 5')\n",
    "spb_center_estate.head(5)"
   ]
  },
  {
   "cell_type": "markdown",
   "id": "efef349e",
   "metadata": {},
   "source": [
    "**1) First, let's analyze the following parameters: area, price, number of rooms, ceiling height.** "
   ]
  },
  {
   "cell_type": "code",
   "execution_count": 97,
   "id": "a1462c37",
   "metadata": {},
   "outputs": [
    {
     "data": {
      "text/html": [
       "<div>\n",
       "<style scoped>\n",
       "    .dataframe tbody tr th:only-of-type {\n",
       "        vertical-align: middle;\n",
       "    }\n",
       "\n",
       "    .dataframe tbody tr th {\n",
       "        vertical-align: top;\n",
       "    }\n",
       "\n",
       "    .dataframe thead th {\n",
       "        text-align: right;\n",
       "    }\n",
       "</style>\n",
       "<table border=\"1\" class=\"dataframe\">\n",
       "  <thead>\n",
       "    <tr style=\"text-align: right;\">\n",
       "      <th></th>\n",
       "      <th>total_area</th>\n",
       "      <th>last_price</th>\n",
       "      <th>rooms</th>\n",
       "      <th>ceiling_height</th>\n",
       "    </tr>\n",
       "  </thead>\n",
       "  <tbody>\n",
       "    <tr>\n",
       "      <th>count</th>\n",
       "      <td>2749.000000</td>\n",
       "      <td>2749.000000</td>\n",
       "      <td>2749.000000</td>\n",
       "      <td>2749.000000</td>\n",
       "    </tr>\n",
       "    <tr>\n",
       "      <th>mean</th>\n",
       "      <td>96.503383</td>\n",
       "      <td>15.023356</td>\n",
       "      <td>2.976719</td>\n",
       "      <td>3.010582</td>\n",
       "    </tr>\n",
       "    <tr>\n",
       "      <th>std</th>\n",
       "      <td>59.375178</td>\n",
       "      <td>25.409162</td>\n",
       "      <td>1.498727</td>\n",
       "      <td>0.323499</td>\n",
       "    </tr>\n",
       "    <tr>\n",
       "      <th>min</th>\n",
       "      <td>13.000000</td>\n",
       "      <td>1.686000</td>\n",
       "      <td>0.000000</td>\n",
       "      <td>2.400000</td>\n",
       "    </tr>\n",
       "    <tr>\n",
       "      <th>25%</th>\n",
       "      <td>60.000000</td>\n",
       "      <td>6.950000</td>\n",
       "      <td>2.000000</td>\n",
       "      <td>2.750000</td>\n",
       "    </tr>\n",
       "    <tr>\n",
       "      <th>50%</th>\n",
       "      <td>83.000000</td>\n",
       "      <td>9.500000</td>\n",
       "      <td>3.000000</td>\n",
       "      <td>3.000000</td>\n",
       "    </tr>\n",
       "    <tr>\n",
       "      <th>75%</th>\n",
       "      <td>113.200000</td>\n",
       "      <td>14.790000</td>\n",
       "      <td>4.000000</td>\n",
       "      <td>3.200000</td>\n",
       "    </tr>\n",
       "    <tr>\n",
       "      <th>max</th>\n",
       "      <td>631.200000</td>\n",
       "      <td>763.000000</td>\n",
       "      <td>19.000000</td>\n",
       "      <td>4.000000</td>\n",
       "    </tr>\n",
       "  </tbody>\n",
       "</table>\n",
       "</div>"
      ],
      "text/plain": [
       "        total_area   last_price        rooms  ceiling_height\n",
       "count  2749.000000  2749.000000  2749.000000     2749.000000\n",
       "mean     96.503383    15.023356     2.976719        3.010582\n",
       "std      59.375178    25.409162     1.498727        0.323499\n",
       "min      13.000000     1.686000     0.000000        2.400000\n",
       "25%      60.000000     6.950000     2.000000        2.750000\n",
       "50%      83.000000     9.500000     3.000000        3.000000\n",
       "75%     113.200000    14.790000     4.000000        3.200000\n",
       "max     631.200000   763.000000    19.000000        4.000000"
      ]
     },
     "execution_count": 97,
     "metadata": {},
     "output_type": "execute_result"
    }
   ],
   "source": [
    "spb_center_estate[['total_area','last_price','rooms','ceiling_height']].describe()"
   ]
  },
  {
   "cell_type": "markdown",
   "id": "b64c8d14",
   "metadata": {},
   "source": [
    "*In total, 613 apartments are on sale in the center of St. Petersburg. Average area from 100 sq.m. The average number of rooms is 3. The average ceiling height is 3m. Average cost - 18 million *"
   ]
  },
  {
   "cell_type": "markdown",
   "id": "f54d802f",
   "metadata": {},
   "source": [
    "**2) Let's see how the following factors relate to real estate in the center: number of rooms, floor, distance from the center, date of placement of the ad and price.**"
   ]
  },
  {
   "cell_type": "code",
   "execution_count": 98,
   "id": "347c6766",
   "metadata": {},
   "outputs": [
    {
     "name": "stdout",
     "output_type": "stream",
     "text": [
      "                        rooms     floor  city_center_nearest  year_exposition  \\\n",
      "rooms                1.000000 -0.024205            -0.108856        -0.044641   \n",
      "floor               -0.024205  1.000000             0.201046        -0.047725   \n",
      "city_center_nearest -0.108856  0.201046             1.000000         0.015832   \n",
      "year_exposition     -0.044641 -0.047725             0.015832         1.000000   \n",
      "last_price           0.287589  0.127026            -0.057681        -0.031287   \n",
      "\n",
      "                     last_price  \n",
      "rooms                  0.287589  \n",
      "floor                  0.127026  \n",
      "city_center_nearest   -0.057681  \n",
      "year_exposition       -0.031287  \n",
      "last_price             1.000000  \n"
     ]
    },
    {
     "data": {
      "image/png": "[encoded data removed]",
      "text/plain": [
       "<Figure size 648x648 with 25 Axes>"
      ]
     },
     "metadata": {
      "needs_background": "light"
     },
     "output_type": "display_data"
    }
   ],
   "source": [
    "spb_center_metrics = spb_center_estate[['rooms','floor','city_center_nearest', 'year_exposition', 'last_price']]\n",
    "pd.plotting.scatter_matrix(spb_center_metrics, figsize=(9, 9))\n",
    "print(spb_center_metrics.corr()) "
   ]
  },
  {
   "cell_type": "markdown",
   "id": "bb9bec92",
   "metadata": {},
   "source": [
    "*Based on the scatterplot and correlation matrix, it is noticeable that almost all real estate metrics in the center have very little effect on each other. It is noticeable that the price in the center is slightly affected by the floor and the number of rooms.*"
   ]
  },
  {
   "cell_type": "markdown",
   "id": "7aed7158",
   "metadata": {},
   "source": [
    "**3) Let's compare the received results with the general information on all real estate objects.**"
   ]
  },
  {
   "cell_type": "code",
   "execution_count": 99,
   "id": "4387c057",
   "metadata": {},
   "outputs": [
    {
     "name": "stdout",
     "output_type": "stream",
     "text": [
      "                        rooms     floor  city_center_nearest  year_exposition  \\\n",
      "rooms                1.000000 -0.149041            -0.195897        -0.053084   \n",
      "floor               -0.149041  1.000000            -0.037070         0.004682   \n",
      "city_center_nearest -0.195897 -0.037070             1.000000         0.029693   \n",
      "year_exposition     -0.053084  0.004682             0.029693         1.000000   \n",
      "last_price           0.358468  0.028411            -0.224947        -0.040740   \n",
      "\n",
      "                     last_price  \n",
      "rooms                  0.358468  \n",
      "floor                  0.028411  \n",
      "city_center_nearest   -0.224947  \n",
      "year_exposition       -0.040740  \n",
      "last_price             1.000000  \n"
     ]
    },
    {
     "data": {
      "image/png": "[encoded data removed]",
      "text/plain": [
       "<Figure size 648x648 with 25 Axes>"
      ]
     },
     "metadata": {
      "needs_background": "light"
     },
     "output_type": "display_data"
    }
   ],
   "source": [
    "estate_metrics = data[['rooms','floor','city_center_nearest', 'year_exposition', 'last_price']]\n",
    "pd.plotting.scatter_matrix(estate_metrics, figsize=(9, 9))\n",
    "print(estate_metrics.corr()) "
   ]
  },
  {
   "cell_type": "markdown",
   "id": "bd01337b",
   "metadata": {},
   "source": [
    "*It is noticeable that in other locations the number of rooms decreases with the floor, in contrast to the center of St. Petersburg. Also in the region, the floor of the apartment decreases as you approach the center. In addition, in other cities, the number of rooms decreases the closer to the center. Also on the charts you can see that the price increases from the following factors: proximity to the center, with an increase in rooms and floors.*"
   ]
  },
  {
   "cell_type": "markdown",
   "id": "cd23b4fc",
   "metadata": {},
   "source": [
    "# 6. Conclusion"
   ]
  },
  {
   "cell_type": "markdown",
   "id": "be2d5ef2",
   "metadata": {},
   "source": [
    "Based on the analysis, several general conclusions can be drawn:\n",
    "* For all properties, the price, as a rule, increases the most from the area, distance from the center, the number of rooms, as well as the floor;\n",
    "* Real estate in the center of St. Petersburg is quite stable and little dependent on any factors;\n",
    "* On real estate properties other than the center of St. Petersburg, there is an inverse relationship with respect to the main factors affecting the price."
   ]
  }
 ],
 "metadata": {
  "ExecuteTimeLog": [
   {
    "duration": 40,
    "start_time": "2022-05-18T19:25:14.856Z"
   },
   {
    "duration": 1429,
    "start_time": "2022-05-18T19:27:17.576Z"
   },
   {
    "duration": 137,
    "start_time": "2022-05-18T19:27:20.603Z"
   },
   {
    "duration": 61,
    "start_time": "2022-05-18T19:54:22.683Z"
   },
   {
    "duration": 44,
    "start_time": "2022-05-18T19:56:29.671Z"
   },
   {
    "duration": 45,
    "start_time": "2022-05-18T20:17:41.992Z"
   },
   {
    "duration": 3,
    "start_time": "2022-05-18T20:32:07.974Z"
   },
   {
    "duration": 94,
    "start_time": "2022-05-18T20:32:09.360Z"
   },
   {
    "duration": 27,
    "start_time": "2022-05-18T20:32:17.228Z"
   },
   {
    "duration": 15,
    "start_time": "2022-05-18T20:32:18.302Z"
   },
   {
    "duration": 10,
    "start_time": "2022-05-18T20:32:21.563Z"
   },
   {
    "duration": 13,
    "start_time": "2022-05-18T20:32:24.789Z"
   },
   {
    "duration": 9,
    "start_time": "2022-05-18T20:32:35.435Z"
   },
   {
    "duration": 10,
    "start_time": "2022-05-18T20:32:36.892Z"
   },
   {
    "duration": 54,
    "start_time": "2022-05-18T20:32:37.419Z"
   },
   {
    "duration": 22,
    "start_time": "2022-05-18T20:32:38.123Z"
   },
   {
    "duration": 21,
    "start_time": "2022-05-18T20:32:39.252Z"
   },
   {
    "duration": 10,
    "start_time": "2022-05-18T20:32:40.908Z"
   },
   {
    "duration": 7,
    "start_time": "2022-05-18T20:32:41.668Z"
   },
   {
    "duration": 13,
    "start_time": "2022-05-18T20:32:43.778Z"
   },
   {
    "duration": 10,
    "start_time": "2022-05-18T20:32:46.583Z"
   },
   {
    "duration": 21,
    "start_time": "2022-05-18T20:32:47.313Z"
   },
   {
    "duration": 8,
    "start_time": "2022-05-18T20:32:48.249Z"
   },
   {
    "duration": 6,
    "start_time": "2022-05-18T20:32:48.982Z"
   },
   {
    "duration": 4,
    "start_time": "2022-05-18T20:32:53.729Z"
   },
   {
    "duration": 4,
    "start_time": "2022-05-18T20:32:55.025Z"
   },
   {
    "duration": 10,
    "start_time": "2022-05-18T20:32:57.427Z"
   },
   {
    "duration": 12,
    "start_time": "2022-05-18T20:32:57.597Z"
   },
   {
    "duration": 8,
    "start_time": "2022-05-18T20:32:57.763Z"
   },
   {
    "duration": 15,
    "start_time": "2022-05-18T20:32:59.952Z"
   },
   {
    "duration": 9,
    "start_time": "2022-05-18T20:33:00.852Z"
   },
   {
    "duration": 6,
    "start_time": "2022-05-18T20:33:00.996Z"
   },
   {
    "duration": 12,
    "start_time": "2022-05-18T20:33:04.447Z"
   },
   {
    "duration": 8,
    "start_time": "2022-05-18T20:33:05.259Z"
   },
   {
    "duration": 7,
    "start_time": "2022-05-18T20:33:05.852Z"
   },
   {
    "duration": 9,
    "start_time": "2022-05-18T20:33:07.156Z"
   },
   {
    "duration": 287,
    "start_time": "2022-05-18T20:33:08.683Z"
   },
   {
    "duration": 11,
    "start_time": "2022-05-18T20:33:13.065Z"
   },
   {
    "duration": 13,
    "start_time": "2022-05-18T20:33:14.076Z"
   },
   {
    "duration": 7,
    "start_time": "2022-05-18T20:33:15.260Z"
   },
   {
    "duration": 6,
    "start_time": "2022-05-18T20:33:16.034Z"
   },
   {
    "duration": 9,
    "start_time": "2022-05-18T20:33:19.162Z"
   },
   {
    "duration": 8,
    "start_time": "2022-05-18T20:33:19.599Z"
   },
   {
    "duration": 6,
    "start_time": "2022-05-18T20:33:20.277Z"
   },
   {
    "duration": 5,
    "start_time": "2022-05-18T20:33:20.426Z"
   },
   {
    "duration": 11,
    "start_time": "2022-05-18T20:33:20.953Z"
   },
   {
    "duration": 8,
    "start_time": "2022-05-18T20:33:21.305Z"
   },
   {
    "duration": 5,
    "start_time": "2022-05-18T20:33:22.429Z"
   },
   {
    "duration": 9,
    "start_time": "2022-05-18T20:33:22.656Z"
   },
   {
    "duration": 12,
    "start_time": "2022-05-18T20:33:23.275Z"
   },
   {
    "duration": 12,
    "start_time": "2022-05-18T20:33:23.873Z"
   },
   {
    "duration": 9,
    "start_time": "2022-05-18T20:33:24.819Z"
   },
   {
    "duration": 9,
    "start_time": "2022-05-18T20:33:25.206Z"
   },
   {
    "duration": 10,
    "start_time": "2022-05-18T20:33:27.856Z"
   },
   {
    "duration": 13,
    "start_time": "2022-05-18T20:33:28.002Z"
   },
   {
    "duration": 8,
    "start_time": "2022-05-18T20:33:28.879Z"
   },
   {
    "duration": 7,
    "start_time": "2022-05-18T20:33:29.421Z"
   },
   {
    "duration": 4,
    "start_time": "2022-05-18T20:33:30.270Z"
   },
   {
    "duration": 6,
    "start_time": "2022-05-18T20:33:30.613Z"
   },
   {
    "duration": 12,
    "start_time": "2022-05-18T20:33:31.381Z"
   },
   {
    "duration": 9,
    "start_time": "2022-05-18T20:33:31.896Z"
   },
   {
    "duration": 6,
    "start_time": "2022-05-18T20:33:32.404Z"
   },
   {
    "duration": 10,
    "start_time": "2022-05-18T20:33:32.983Z"
   },
   {
    "duration": 7,
    "start_time": "2022-05-18T20:33:34.327Z"
   },
   {
    "duration": 11,
    "start_time": "2022-05-18T20:33:37.169Z"
   },
   {
    "duration": 7,
    "start_time": "2022-05-18T20:33:37.795Z"
   },
   {
    "duration": 24,
    "start_time": "2022-05-18T20:33:42.317Z"
   },
   {
    "duration": 22,
    "start_time": "2022-05-18T20:33:42.686Z"
   },
   {
    "duration": 29,
    "start_time": "2022-05-18T20:33:43.210Z"
   },
   {
    "duration": 44,
    "start_time": "2022-05-18T20:33:51.159Z"
   },
   {
    "duration": 14,
    "start_time": "2022-05-18T20:34:06.123Z"
   },
   {
    "duration": 41,
    "start_time": "2022-05-18T20:40:08.059Z"
   },
   {
    "duration": 1226,
    "start_time": "2022-05-18T20:47:02.852Z"
   },
   {
    "duration": 95,
    "start_time": "2022-05-18T20:47:04.079Z"
   },
   {
    "duration": 3,
    "start_time": "2022-05-18T20:47:04.176Z"
   },
   {
    "duration": 42,
    "start_time": "2022-05-18T20:47:04.182Z"
   },
   {
    "duration": 14,
    "start_time": "2022-05-18T20:47:04.227Z"
   },
   {
    "duration": 9,
    "start_time": "2022-05-18T20:47:04.243Z"
   },
   {
    "duration": 14,
    "start_time": "2022-05-18T20:47:04.254Z"
   },
   {
    "duration": 11,
    "start_time": "2022-05-18T20:47:04.270Z"
   },
   {
    "duration": 51,
    "start_time": "2022-05-18T20:47:04.284Z"
   },
   {
    "duration": 22,
    "start_time": "2022-05-18T20:47:04.337Z"
   },
   {
    "duration": 18,
    "start_time": "2022-05-18T20:47:04.361Z"
   },
   {
    "duration": 7,
    "start_time": "2022-05-18T20:47:04.381Z"
   },
   {
    "duration": 38,
    "start_time": "2022-05-18T20:47:04.390Z"
   },
   {
    "duration": 12,
    "start_time": "2022-05-18T20:47:04.429Z"
   },
   {
    "duration": 8,
    "start_time": "2022-05-18T20:47:04.442Z"
   },
   {
    "duration": 17,
    "start_time": "2022-05-18T20:47:04.451Z"
   },
   {
    "duration": 7,
    "start_time": "2022-05-18T20:47:04.470Z"
   },
   {
    "duration": 16,
    "start_time": "2022-05-18T20:47:04.478Z"
   },
   {
    "duration": 31,
    "start_time": "2022-05-18T20:47:04.495Z"
   },
   {
    "duration": 5,
    "start_time": "2022-05-18T20:47:04.527Z"
   },
   {
    "duration": 10,
    "start_time": "2022-05-18T20:47:04.534Z"
   },
   {
    "duration": 19,
    "start_time": "2022-05-18T20:47:04.546Z"
   },
   {
    "duration": 7,
    "start_time": "2022-05-18T20:47:04.567Z"
   },
   {
    "duration": 14,
    "start_time": "2022-05-18T20:47:04.576Z"
   },
   {
    "duration": 37,
    "start_time": "2022-05-18T20:47:04.592Z"
   },
   {
    "duration": 10,
    "start_time": "2022-05-18T20:47:04.631Z"
   },
   {
    "duration": 12,
    "start_time": "2022-05-18T20:47:04.642Z"
   },
   {
    "duration": 7,
    "start_time": "2022-05-18T20:47:04.659Z"
   },
   {
    "duration": 20,
    "start_time": "2022-05-18T20:47:04.669Z"
   },
   {
    "duration": 10,
    "start_time": "2022-05-18T20:47:04.690Z"
   },
   {
    "duration": 297,
    "start_time": "2022-05-18T20:47:04.702Z"
   },
   {
    "duration": 10,
    "start_time": "2022-05-18T20:47:05.001Z"
   },
   {
    "duration": 20,
    "start_time": "2022-05-18T20:47:05.013Z"
   },
   {
    "duration": 10,
    "start_time": "2022-05-18T20:47:05.035Z"
   },
   {
    "duration": 7,
    "start_time": "2022-05-18T20:47:05.047Z"
   },
   {
    "duration": 13,
    "start_time": "2022-05-18T20:47:05.056Z"
   },
   {
    "duration": 13,
    "start_time": "2022-05-18T20:47:05.070Z"
   },
   {
    "duration": 6,
    "start_time": "2022-05-18T20:47:05.084Z"
   },
   {
    "duration": 32,
    "start_time": "2022-05-18T20:47:05.092Z"
   },
   {
    "duration": 15,
    "start_time": "2022-05-18T20:47:05.126Z"
   },
   {
    "duration": 7,
    "start_time": "2022-05-18T20:47:05.143Z"
   },
   {
    "duration": 4,
    "start_time": "2022-05-18T20:47:05.152Z"
   },
   {
    "duration": 9,
    "start_time": "2022-05-18T20:47:05.158Z"
   },
   {
    "duration": 12,
    "start_time": "2022-05-18T20:47:05.169Z"
   },
   {
    "duration": 55,
    "start_time": "2022-05-18T20:47:05.183Z"
   },
   {
    "duration": 12,
    "start_time": "2022-05-18T20:47:05.239Z"
   },
   {
    "duration": 6,
    "start_time": "2022-05-18T20:47:05.252Z"
   },
   {
    "duration": 15,
    "start_time": "2022-05-18T20:47:05.260Z"
   },
   {
    "duration": 11,
    "start_time": "2022-05-18T20:47:05.277Z"
   },
   {
    "duration": 15,
    "start_time": "2022-05-18T20:47:05.290Z"
   },
   {
    "duration": 7,
    "start_time": "2022-05-18T20:47:05.324Z"
   },
   {
    "duration": 13,
    "start_time": "2022-05-18T20:47:05.332Z"
   },
   {
    "duration": 26,
    "start_time": "2022-05-18T20:47:05.347Z"
   },
   {
    "duration": 22,
    "start_time": "2022-05-18T20:47:05.375Z"
   },
   {
    "duration": 8,
    "start_time": "2022-05-18T20:47:05.399Z"
   },
   {
    "duration": 9,
    "start_time": "2022-05-18T20:47:05.408Z"
   },
   {
    "duration": 12,
    "start_time": "2022-05-18T20:47:05.419Z"
   },
   {
    "duration": 8,
    "start_time": "2022-05-18T20:47:05.432Z"
   },
   {
    "duration": 14,
    "start_time": "2022-05-18T20:47:05.441Z"
   },
   {
    "duration": 9,
    "start_time": "2022-05-18T20:47:05.457Z"
   },
   {
    "duration": 56,
    "start_time": "2022-05-18T20:47:05.468Z"
   },
   {
    "duration": 22,
    "start_time": "2022-05-18T20:47:05.526Z"
   },
   {
    "duration": 33,
    "start_time": "2022-05-18T20:47:05.550Z"
   },
   {
    "duration": 60,
    "start_time": "2022-05-18T20:47:05.586Z"
   },
   {
    "duration": 45,
    "start_time": "2022-05-18T20:47:05.648Z"
   },
   {
    "duration": 401,
    "start_time": "2022-05-18T20:47:05.695Z"
   },
   {
    "duration": 37,
    "start_time": "2022-05-18T20:47:06.098Z"
   },
   {
    "duration": 172,
    "start_time": "2022-05-18T20:47:06.138Z"
   },
   {
    "duration": 154,
    "start_time": "2022-05-18T20:47:06.312Z"
   },
   {
    "duration": 18,
    "start_time": "2022-05-18T20:47:06.467Z"
   },
   {
    "duration": 129,
    "start_time": "2022-05-18T20:47:06.486Z"
   },
   {
    "duration": 147,
    "start_time": "2022-05-18T20:47:06.616Z"
   },
   {
    "duration": 14,
    "start_time": "2022-05-18T20:47:06.764Z"
   },
   {
    "duration": 133,
    "start_time": "2022-05-18T20:47:06.780Z"
   },
   {
    "duration": 131,
    "start_time": "2022-05-18T20:47:06.915Z"
   },
   {
    "duration": 4,
    "start_time": "2022-05-18T20:47:07.048Z"
   },
   {
    "duration": 209,
    "start_time": "2022-05-18T20:47:07.054Z"
   },
   {
    "duration": 222,
    "start_time": "2022-05-18T20:47:07.265Z"
   },
   {
    "duration": 209,
    "start_time": "2022-05-18T20:47:07.489Z"
   },
   {
    "duration": 196,
    "start_time": "2022-05-18T20:47:07.699Z"
   },
   {
    "duration": 229,
    "start_time": "2022-05-18T20:47:07.897Z"
   },
   {
    "duration": 275,
    "start_time": "2022-05-18T20:47:08.132Z"
   },
   {
    "duration": 204,
    "start_time": "2022-05-18T20:47:08.409Z"
   },
   {
    "duration": 28,
    "start_time": "2022-05-18T20:47:08.615Z"
   },
   {
    "duration": 151,
    "start_time": "2022-05-18T20:47:08.644Z"
   },
   {
    "duration": 9,
    "start_time": "2022-05-18T20:47:08.797Z"
   },
   {
    "duration": 23,
    "start_time": "2022-05-18T20:47:08.808Z"
   },
   {
    "duration": 20,
    "start_time": "2022-05-18T20:47:08.833Z"
   },
   {
    "duration": 168,
    "start_time": "2022-05-18T20:47:08.855Z"
   },
   {
    "duration": 27,
    "start_time": "2022-05-18T20:47:09.024Z"
   },
   {
    "duration": 24,
    "start_time": "2022-05-18T20:47:09.052Z"
   },
   {
    "duration": 832,
    "start_time": "2022-05-18T20:47:09.077Z"
   },
   {
    "duration": 1772,
    "start_time": "2022-05-18T20:47:09.911Z"
   },
   {
    "duration": 40,
    "start_time": "2022-05-18T20:47:19.800Z"
   },
   {
    "duration": 7,
    "start_time": "2022-05-18T20:49:32.823Z"
   },
   {
    "duration": 36,
    "start_time": "2022-05-18T20:49:52.796Z"
   },
   {
    "duration": 22,
    "start_time": "2022-05-18T21:03:31.222Z"
   },
   {
    "duration": 5,
    "start_time": "2022-05-18T21:22:13.662Z"
   },
   {
    "duration": 100,
    "start_time": "2022-05-18T21:22:30.894Z"
   },
   {
    "duration": 7,
    "start_time": "2022-05-18T21:22:51.156Z"
   },
   {
    "duration": 5,
    "start_time": "2022-05-18T21:22:57.022Z"
   },
   {
    "duration": 39,
    "start_time": "2022-05-18T21:46:05.340Z"
   },
   {
    "duration": 47,
    "start_time": "2022-05-19T20:17:52.576Z"
   },
   {
    "duration": 41,
    "start_time": "2022-05-19T20:26:29.469Z"
   },
   {
    "duration": 51,
    "start_time": "2022-05-19T20:40:54.646Z"
   },
   {
    "duration": 65,
    "start_time": "2022-05-19T23:06:07.692Z"
   },
   {
    "duration": 1517,
    "start_time": "2022-05-19T23:06:16.005Z"
   },
   {
    "duration": 114,
    "start_time": "2022-05-19T23:06:17.526Z"
   },
   {
    "duration": 0,
    "start_time": "2022-05-19T23:06:17.646Z"
   },
   {
    "duration": 0,
    "start_time": "2022-05-19T23:06:17.647Z"
   },
   {
    "duration": 0,
    "start_time": "2022-05-19T23:06:17.648Z"
   },
   {
    "duration": 0,
    "start_time": "2022-05-19T23:06:17.650Z"
   },
   {
    "duration": 0,
    "start_time": "2022-05-19T23:06:17.651Z"
   },
   {
    "duration": 0,
    "start_time": "2022-05-19T23:06:17.653Z"
   },
   {
    "duration": 0,
    "start_time": "2022-05-19T23:06:17.655Z"
   },
   {
    "duration": 0,
    "start_time": "2022-05-19T23:06:17.662Z"
   },
   {
    "duration": 0,
    "start_time": "2022-05-19T23:06:17.664Z"
   },
   {
    "duration": 0,
    "start_time": "2022-05-19T23:06:17.665Z"
   },
   {
    "duration": 0,
    "start_time": "2022-05-19T23:06:17.666Z"
   },
   {
    "duration": 0,
    "start_time": "2022-05-19T23:06:17.668Z"
   },
   {
    "duration": 0,
    "start_time": "2022-05-19T23:06:17.674Z"
   },
   {
    "duration": 0,
    "start_time": "2022-05-19T23:06:17.676Z"
   },
   {
    "duration": 0,
    "start_time": "2022-05-19T23:06:17.678Z"
   },
   {
    "duration": 0,
    "start_time": "2022-05-19T23:06:17.680Z"
   },
   {
    "duration": 0,
    "start_time": "2022-05-19T23:06:17.682Z"
   },
   {
    "duration": 0,
    "start_time": "2022-05-19T23:06:17.683Z"
   },
   {
    "duration": 0,
    "start_time": "2022-05-19T23:06:17.684Z"
   },
   {
    "duration": 0,
    "start_time": "2022-05-19T23:06:17.686Z"
   },
   {
    "duration": 0,
    "start_time": "2022-05-19T23:06:17.727Z"
   },
   {
    "duration": 0,
    "start_time": "2022-05-19T23:06:17.731Z"
   },
   {
    "duration": 0,
    "start_time": "2022-05-19T23:06:17.732Z"
   },
   {
    "duration": 0,
    "start_time": "2022-05-19T23:06:17.734Z"
   },
   {
    "duration": 0,
    "start_time": "2022-05-19T23:06:17.735Z"
   },
   {
    "duration": 0,
    "start_time": "2022-05-19T23:06:17.736Z"
   },
   {
    "duration": 0,
    "start_time": "2022-05-19T23:06:17.738Z"
   },
   {
    "duration": 0,
    "start_time": "2022-05-19T23:06:17.739Z"
   },
   {
    "duration": 0,
    "start_time": "2022-05-19T23:06:17.741Z"
   },
   {
    "duration": 0,
    "start_time": "2022-05-19T23:06:17.742Z"
   },
   {
    "duration": 0,
    "start_time": "2022-05-19T23:06:17.744Z"
   },
   {
    "duration": 0,
    "start_time": "2022-05-19T23:06:17.745Z"
   },
   {
    "duration": 0,
    "start_time": "2022-05-19T23:06:17.746Z"
   },
   {
    "duration": 0,
    "start_time": "2022-05-19T23:06:17.748Z"
   },
   {
    "duration": 0,
    "start_time": "2022-05-19T23:06:17.749Z"
   },
   {
    "duration": 0,
    "start_time": "2022-05-19T23:06:17.750Z"
   },
   {
    "duration": 0,
    "start_time": "2022-05-19T23:06:17.752Z"
   },
   {
    "duration": 0,
    "start_time": "2022-05-19T23:06:17.753Z"
   },
   {
    "duration": 0,
    "start_time": "2022-05-19T23:06:17.755Z"
   },
   {
    "duration": 0,
    "start_time": "2022-05-19T23:06:17.756Z"
   },
   {
    "duration": 0,
    "start_time": "2022-05-19T23:06:17.757Z"
   },
   {
    "duration": 0,
    "start_time": "2022-05-19T23:06:17.759Z"
   },
   {
    "duration": 0,
    "start_time": "2022-05-19T23:06:17.762Z"
   },
   {
    "duration": 0,
    "start_time": "2022-05-19T23:06:17.763Z"
   },
   {
    "duration": 0,
    "start_time": "2022-05-19T23:06:17.764Z"
   },
   {
    "duration": 0,
    "start_time": "2022-05-19T23:06:17.766Z"
   },
   {
    "duration": 0,
    "start_time": "2022-05-19T23:06:17.767Z"
   },
   {
    "duration": 0,
    "start_time": "2022-05-19T23:06:17.768Z"
   },
   {
    "duration": 0,
    "start_time": "2022-05-19T23:06:17.827Z"
   },
   {
    "duration": 0,
    "start_time": "2022-05-19T23:06:17.831Z"
   },
   {
    "duration": 0,
    "start_time": "2022-05-19T23:06:17.833Z"
   },
   {
    "duration": 0,
    "start_time": "2022-05-19T23:06:17.835Z"
   },
   {
    "duration": 0,
    "start_time": "2022-05-19T23:06:17.836Z"
   },
   {
    "duration": 0,
    "start_time": "2022-05-19T23:06:17.837Z"
   },
   {
    "duration": 0,
    "start_time": "2022-05-19T23:06:17.839Z"
   },
   {
    "duration": 0,
    "start_time": "2022-05-19T23:06:17.840Z"
   },
   {
    "duration": 0,
    "start_time": "2022-05-19T23:06:17.842Z"
   },
   {
    "duration": 0,
    "start_time": "2022-05-19T23:06:17.843Z"
   },
   {
    "duration": 0,
    "start_time": "2022-05-19T23:06:17.844Z"
   },
   {
    "duration": 0,
    "start_time": "2022-05-19T23:06:17.846Z"
   },
   {
    "duration": 0,
    "start_time": "2022-05-19T23:06:17.847Z"
   },
   {
    "duration": 0,
    "start_time": "2022-05-19T23:06:17.848Z"
   },
   {
    "duration": 0,
    "start_time": "2022-05-19T23:06:17.849Z"
   },
   {
    "duration": 0,
    "start_time": "2022-05-19T23:06:17.851Z"
   },
   {
    "duration": 0,
    "start_time": "2022-05-19T23:06:17.852Z"
   },
   {
    "duration": 0,
    "start_time": "2022-05-19T23:06:17.854Z"
   },
   {
    "duration": 0,
    "start_time": "2022-05-19T23:06:17.857Z"
   },
   {
    "duration": 0,
    "start_time": "2022-05-19T23:06:17.858Z"
   },
   {
    "duration": 0,
    "start_time": "2022-05-19T23:06:17.860Z"
   },
   {
    "duration": 0,
    "start_time": "2022-05-19T23:06:17.861Z"
   },
   {
    "duration": 0,
    "start_time": "2022-05-19T23:06:17.862Z"
   },
   {
    "duration": 0,
    "start_time": "2022-05-19T23:06:17.864Z"
   },
   {
    "duration": 0,
    "start_time": "2022-05-19T23:06:17.865Z"
   },
   {
    "duration": 0,
    "start_time": "2022-05-19T23:06:17.867Z"
   },
   {
    "duration": 0,
    "start_time": "2022-05-19T23:06:17.928Z"
   },
   {
    "duration": 0,
    "start_time": "2022-05-19T23:06:17.930Z"
   },
   {
    "duration": 0,
    "start_time": "2022-05-19T23:06:17.931Z"
   },
   {
    "duration": 0,
    "start_time": "2022-05-19T23:06:17.933Z"
   },
   {
    "duration": 0,
    "start_time": "2022-05-19T23:06:17.934Z"
   },
   {
    "duration": 0,
    "start_time": "2022-05-19T23:06:17.935Z"
   },
   {
    "duration": 0,
    "start_time": "2022-05-19T23:06:17.937Z"
   },
   {
    "duration": 0,
    "start_time": "2022-05-19T23:06:17.938Z"
   },
   {
    "duration": 0,
    "start_time": "2022-05-19T23:06:17.940Z"
   },
   {
    "duration": 0,
    "start_time": "2022-05-19T23:06:17.944Z"
   },
   {
    "duration": 0,
    "start_time": "2022-05-19T23:06:17.946Z"
   },
   {
    "duration": 0,
    "start_time": "2022-05-19T23:06:17.947Z"
   },
   {
    "duration": 0,
    "start_time": "2022-05-19T23:06:17.949Z"
   }
  ],
  "hide_input": false,
  "kernelspec": {
   "display_name": "Python 3 (ipykernel)",
   "language": "python",
   "name": "python3"
  },
  "language_info": {
   "codemirror_mode": {
    "name": "ipython",
    "version": 3
   },
   "file_extension": ".py",
   "mimetype": "text/x-python",
   "name": "python",
   "nbconvert_exporter": "python",
   "pygments_lexer": "ipython3",
   "version": "3.9.12"
  },
  "toc": {
   "base_numbering": 1,
   "nav_menu": {},
   "number_sections": true,
   "sideBar": true,
   "skip_h1_title": true,
   "title_cell": "Table of Contents",
   "title_sidebar": "Contents",
   "toc_cell": false,
   "toc_position": {},
   "toc_section_display": true,
   "toc_window_display": false
  }
 },
 "nbformat": 4,
 "nbformat_minor": 5
}
