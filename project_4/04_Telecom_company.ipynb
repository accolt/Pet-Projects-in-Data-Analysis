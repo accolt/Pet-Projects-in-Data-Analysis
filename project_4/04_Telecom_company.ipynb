{
 "cells": [
  {
   "cell_type": "markdown",
   "id": "f47bfcd8",
   "metadata": {},
   "source": [
    "# Determining a prospective tariff for a telecom company"
   ]
  },
  {
   "cell_type": "markdown",
   "id": "f788c455",
   "metadata": {},
   "source": [
    "## Project Description"
   ]
  },
  {
   "cell_type": "markdown",
   "id": "71541dd4",
   "metadata": {},
   "source": [
    "\"Megaline\" is a federal cellular operator. Clients are offered two tariff plans: \"Smart\" and \"Ultra\". In order to adjust the advertising budget, the commercial department wants to understand which plan brings in more money."
   ]
  },
  {
   "cell_type": "markdown",
   "id": "4a0c1836",
   "metadata": {},
   "source": [
    "## Purpose of research"
   ]
  },
  {
   "cell_type": "markdown",
   "id": "0e7ea2de",
   "metadata": {},
   "source": [
    "* It is necessary to make a preliminary analysis of tariffs on a small sample of customers. The data of 500 \"Megaline\" users are available: who they are, where they come from, what tariff they use, how many calls and messages each sent in 2018.\n",
    "* It is necessary to analyze the behavior of customers and draw a conclusion - which tariff is better."
   ]
  },
  {
   "cell_type": "markdown",
   "id": "4de68d77",
   "metadata": {},
   "source": [
    "## Steps of the research"
   ]
  },
  {
   "cell_type": "markdown",
   "id": "9435e6fa",
   "metadata": {},
   "source": [
    "1) Data review;\n",
    "\n",
    "2) Data preprocessing (filling in gaps, eliminating dibbles and anomalies);\n",
    "\n",
    "3) Data analysis;\n",
    "\n",
    "4) Hypothesis testing;\n",
    "\n",
    "5) Conclusion."
   ]
  },
  {
   "cell_type": "markdown",
   "id": "a2925555",
   "metadata": {},
   "source": [
    "# 1. Data review"
   ]
  },
  {
   "cell_type": "markdown",
   "id": "5e341ea9",
   "metadata": {},
   "source": [
    "Import all the necessary libraries to work with the data."
   ]
  },
  {
   "cell_type": "code",
   "execution_count": 1,
   "id": "c5d293fd",
   "metadata": {},
   "outputs": [],
   "source": [
    "import pandas as pd\n",
    "import matplotlib.pyplot as plt\n",
    "import seaborn\n",
    "import numpy as np\n",
    "from scipy import stats as st"
   ]
  },
  {
   "cell_type": "markdown",
   "id": "e51ae9b3",
   "metadata": {},
   "source": [
    "## 1.1 Table \"calls\""
   ]
  },
  {
   "cell_type": "markdown",
   "id": "06068ef5",
   "metadata": {},
   "source": [
    "Let's have a look at the table with information about users."
   ]
  },
  {
   "cell_type": "code",
   "execution_count": 2,
   "id": "2b499317",
   "metadata": {},
   "outputs": [],
   "source": [
    "try:\n",
    "    data_calls = pd.read_csv('D:\\Yandex_Data_Analysis\\Project_4\\calls.csv')\n",
    "except:\n",
    "    data_calls = pd.read_csv('/datasets/calls.csv')"
   ]
  },
  {
   "cell_type": "code",
   "execution_count": 3,
   "id": "3cf33753",
   "metadata": {},
   "outputs": [
    {
     "data": {
      "text/html": [
       "<div>\n",
       "<style scoped>\n",
       "    .dataframe tbody tr th:only-of-type {\n",
       "        vertical-align: middle;\n",
       "    }\n",
       "\n",
       "    .dataframe tbody tr th {\n",
       "        vertical-align: top;\n",
       "    }\n",
       "\n",
       "    .dataframe thead th {\n",
       "        text-align: right;\n",
       "    }\n",
       "</style>\n",
       "<table border=\"1\" class=\"dataframe\">\n",
       "  <thead>\n",
       "    <tr style=\"text-align: right;\">\n",
       "      <th></th>\n",
       "      <th>id</th>\n",
       "      <th>call_date</th>\n",
       "      <th>duration</th>\n",
       "      <th>user_id</th>\n",
       "    </tr>\n",
       "  </thead>\n",
       "  <tbody>\n",
       "    <tr>\n",
       "      <th>0</th>\n",
       "      <td>1000_0</td>\n",
       "      <td>2018-07-25</td>\n",
       "      <td>0.00</td>\n",
       "      <td>1000</td>\n",
       "    </tr>\n",
       "    <tr>\n",
       "      <th>1</th>\n",
       "      <td>1000_1</td>\n",
       "      <td>2018-08-17</td>\n",
       "      <td>0.00</td>\n",
       "      <td>1000</td>\n",
       "    </tr>\n",
       "    <tr>\n",
       "      <th>2</th>\n",
       "      <td>1000_2</td>\n",
       "      <td>2018-06-11</td>\n",
       "      <td>2.85</td>\n",
       "      <td>1000</td>\n",
       "    </tr>\n",
       "    <tr>\n",
       "      <th>3</th>\n",
       "      <td>1000_3</td>\n",
       "      <td>2018-09-21</td>\n",
       "      <td>13.80</td>\n",
       "      <td>1000</td>\n",
       "    </tr>\n",
       "    <tr>\n",
       "      <th>4</th>\n",
       "      <td>1000_4</td>\n",
       "      <td>2018-12-15</td>\n",
       "      <td>5.18</td>\n",
       "      <td>1000</td>\n",
       "    </tr>\n",
       "    <tr>\n",
       "      <th>5</th>\n",
       "      <td>1000_5</td>\n",
       "      <td>2018-11-02</td>\n",
       "      <td>0.00</td>\n",
       "      <td>1000</td>\n",
       "    </tr>\n",
       "    <tr>\n",
       "      <th>6</th>\n",
       "      <td>1000_6</td>\n",
       "      <td>2018-10-18</td>\n",
       "      <td>0.00</td>\n",
       "      <td>1000</td>\n",
       "    </tr>\n",
       "    <tr>\n",
       "      <th>7</th>\n",
       "      <td>1000_7</td>\n",
       "      <td>2018-08-22</td>\n",
       "      <td>18.31</td>\n",
       "      <td>1000</td>\n",
       "    </tr>\n",
       "    <tr>\n",
       "      <th>8</th>\n",
       "      <td>1000_8</td>\n",
       "      <td>2018-09-15</td>\n",
       "      <td>18.44</td>\n",
       "      <td>1000</td>\n",
       "    </tr>\n",
       "    <tr>\n",
       "      <th>9</th>\n",
       "      <td>1000_9</td>\n",
       "      <td>2018-08-15</td>\n",
       "      <td>0.00</td>\n",
       "      <td>1000</td>\n",
       "    </tr>\n",
       "  </tbody>\n",
       "</table>\n",
       "</div>"
      ],
      "text/plain": [
       "       id   call_date  duration  user_id\n",
       "0  1000_0  2018-07-25      0.00     1000\n",
       "1  1000_1  2018-08-17      0.00     1000\n",
       "2  1000_2  2018-06-11      2.85     1000\n",
       "3  1000_3  2018-09-21     13.80     1000\n",
       "4  1000_4  2018-12-15      5.18     1000\n",
       "5  1000_5  2018-11-02      0.00     1000\n",
       "6  1000_6  2018-10-18      0.00     1000\n",
       "7  1000_7  2018-08-22     18.31     1000\n",
       "8  1000_8  2018-09-15     18.44     1000\n",
       "9  1000_9  2018-08-15      0.00     1000"
      ]
     },
     "execution_count": 3,
     "metadata": {},
     "output_type": "execute_result"
    }
   ],
   "source": [
    "data_calls.head(10)"
   ]
  },
  {
   "cell_type": "markdown",
   "id": "f5c1b355",
   "metadata": {},
   "source": [
    "By the condition of the problem in the column 'duration' zeros indicate missed calls, so we will not delete them."
   ]
  },
  {
   "cell_type": "code",
   "execution_count": 4,
   "id": "c3a5bc90",
   "metadata": {},
   "outputs": [
    {
     "name": "stdout",
     "output_type": "stream",
     "text": [
      "<class 'pandas.core.frame.DataFrame'>\n",
      "RangeIndex: 202607 entries, 0 to 202606\n",
      "Data columns (total 4 columns):\n",
      " #   Column     Non-Null Count   Dtype  \n",
      "---  ------     --------------   -----  \n",
      " 0   id         202607 non-null  object \n",
      " 1   call_date  202607 non-null  object \n",
      " 2   duration   202607 non-null  float64\n",
      " 3   user_id    202607 non-null  int64  \n",
      "dtypes: float64(1), int64(1), object(2)\n",
      "memory usage: 6.2+ MB\n"
     ]
    }
   ],
   "source": [
    "data_calls.info()"
   ]
  },
  {
   "cell_type": "code",
   "execution_count": 5,
   "id": "d2577012",
   "metadata": {},
   "outputs": [
    {
     "data": {
      "text/plain": [
       "id           0\n",
       "call_date    0\n",
       "duration     0\n",
       "user_id      0\n",
       "dtype: int64"
      ]
     },
     "execution_count": 5,
     "metadata": {},
     "output_type": "execute_result"
    }
   ],
   "source": [
    "data_calls.isna().sum()"
   ]
  },
  {
   "cell_type": "markdown",
   "id": "03878936",
   "metadata": {},
   "source": [
    "There are no missing values in this dataset. The data is recorded correctly."
   ]
  },
  {
   "cell_type": "markdown",
   "id": "50daaf75",
   "metadata": {},
   "source": [
    "## 1.2. Table \"internet\""
   ]
  },
  {
   "cell_type": "markdown",
   "id": "49615468",
   "metadata": {},
   "source": [
    "Let's take a look at the table with information about Internet sessions."
   ]
  },
  {
   "cell_type": "code",
   "execution_count": 6,
   "id": "bb7dbf6d",
   "metadata": {},
   "outputs": [],
   "source": [
    "try:\n",
    "    data_internet = pd.read_csv('D:\\Yandex_Data_Analysis\\Project_4\\internet.csv')\n",
    "except:\n",
    "    data_internet = pd.read_csv('/datasets/internet.csv')"
   ]
  },
  {
   "cell_type": "code",
   "execution_count": 7,
   "id": "9253c6fa",
   "metadata": {},
   "outputs": [
    {
     "data": {
      "text/html": [
       "<div>\n",
       "<style scoped>\n",
       "    .dataframe tbody tr th:only-of-type {\n",
       "        vertical-align: middle;\n",
       "    }\n",
       "\n",
       "    .dataframe tbody tr th {\n",
       "        vertical-align: top;\n",
       "    }\n",
       "\n",
       "    .dataframe thead th {\n",
       "        text-align: right;\n",
       "    }\n",
       "</style>\n",
       "<table border=\"1\" class=\"dataframe\">\n",
       "  <thead>\n",
       "    <tr style=\"text-align: right;\">\n",
       "      <th></th>\n",
       "      <th>Unnamed: 0</th>\n",
       "      <th>id</th>\n",
       "      <th>mb_used</th>\n",
       "      <th>session_date</th>\n",
       "      <th>user_id</th>\n",
       "    </tr>\n",
       "  </thead>\n",
       "  <tbody>\n",
       "    <tr>\n",
       "      <th>0</th>\n",
       "      <td>0</td>\n",
       "      <td>1000_0</td>\n",
       "      <td>112.95</td>\n",
       "      <td>2018-11-25</td>\n",
       "      <td>1000</td>\n",
       "    </tr>\n",
       "    <tr>\n",
       "      <th>1</th>\n",
       "      <td>1</td>\n",
       "      <td>1000_1</td>\n",
       "      <td>1052.81</td>\n",
       "      <td>2018-09-07</td>\n",
       "      <td>1000</td>\n",
       "    </tr>\n",
       "    <tr>\n",
       "      <th>2</th>\n",
       "      <td>2</td>\n",
       "      <td>1000_2</td>\n",
       "      <td>1197.26</td>\n",
       "      <td>2018-06-25</td>\n",
       "      <td>1000</td>\n",
       "    </tr>\n",
       "    <tr>\n",
       "      <th>3</th>\n",
       "      <td>3</td>\n",
       "      <td>1000_3</td>\n",
       "      <td>550.27</td>\n",
       "      <td>2018-08-22</td>\n",
       "      <td>1000</td>\n",
       "    </tr>\n",
       "    <tr>\n",
       "      <th>4</th>\n",
       "      <td>4</td>\n",
       "      <td>1000_4</td>\n",
       "      <td>302.56</td>\n",
       "      <td>2018-09-24</td>\n",
       "      <td>1000</td>\n",
       "    </tr>\n",
       "    <tr>\n",
       "      <th>5</th>\n",
       "      <td>5</td>\n",
       "      <td>1000_5</td>\n",
       "      <td>399.97</td>\n",
       "      <td>2018-10-02</td>\n",
       "      <td>1000</td>\n",
       "    </tr>\n",
       "    <tr>\n",
       "      <th>6</th>\n",
       "      <td>6</td>\n",
       "      <td>1000_6</td>\n",
       "      <td>540.08</td>\n",
       "      <td>2018-09-07</td>\n",
       "      <td>1000</td>\n",
       "    </tr>\n",
       "    <tr>\n",
       "      <th>7</th>\n",
       "      <td>7</td>\n",
       "      <td>1000_7</td>\n",
       "      <td>415.70</td>\n",
       "      <td>2018-07-11</td>\n",
       "      <td>1000</td>\n",
       "    </tr>\n",
       "    <tr>\n",
       "      <th>8</th>\n",
       "      <td>8</td>\n",
       "      <td>1000_8</td>\n",
       "      <td>505.40</td>\n",
       "      <td>2018-10-08</td>\n",
       "      <td>1000</td>\n",
       "    </tr>\n",
       "    <tr>\n",
       "      <th>9</th>\n",
       "      <td>9</td>\n",
       "      <td>1000_9</td>\n",
       "      <td>345.54</td>\n",
       "      <td>2018-09-03</td>\n",
       "      <td>1000</td>\n",
       "    </tr>\n",
       "  </tbody>\n",
       "</table>\n",
       "</div>"
      ],
      "text/plain": [
       "   Unnamed: 0      id  mb_used session_date  user_id\n",
       "0           0  1000_0   112.95   2018-11-25     1000\n",
       "1           1  1000_1  1052.81   2018-09-07     1000\n",
       "2           2  1000_2  1197.26   2018-06-25     1000\n",
       "3           3  1000_3   550.27   2018-08-22     1000\n",
       "4           4  1000_4   302.56   2018-09-24     1000\n",
       "5           5  1000_5   399.97   2018-10-02     1000\n",
       "6           6  1000_6   540.08   2018-09-07     1000\n",
       "7           7  1000_7   415.70   2018-07-11     1000\n",
       "8           8  1000_8   505.40   2018-10-08     1000\n",
       "9           9  1000_9   345.54   2018-09-03     1000"
      ]
     },
     "execution_count": 7,
     "metadata": {},
     "output_type": "execute_result"
    }
   ],
   "source": [
    "data_internet.head(10)"
   ]
  },
  {
   "cell_type": "code",
   "execution_count": 8,
   "id": "948aaa37",
   "metadata": {},
   "outputs": [
    {
     "name": "stdout",
     "output_type": "stream",
     "text": [
      "<class 'pandas.core.frame.DataFrame'>\n",
      "RangeIndex: 149396 entries, 0 to 149395\n",
      "Data columns (total 5 columns):\n",
      " #   Column        Non-Null Count   Dtype  \n",
      "---  ------        --------------   -----  \n",
      " 0   Unnamed: 0    149396 non-null  int64  \n",
      " 1   id            149396 non-null  object \n",
      " 2   mb_used       149396 non-null  float64\n",
      " 3   session_date  149396 non-null  object \n",
      " 4   user_id       149396 non-null  int64  \n",
      "dtypes: float64(1), int64(2), object(2)\n",
      "memory usage: 5.7+ MB\n"
     ]
    }
   ],
   "source": [
    "data_internet.info()"
   ]
  },
  {
   "cell_type": "code",
   "execution_count": 9,
   "id": "f174184b",
   "metadata": {},
   "outputs": [
    {
     "data": {
      "text/plain": [
       "Unnamed: 0      0\n",
       "id              0\n",
       "mb_used         0\n",
       "session_date    0\n",
       "user_id         0\n",
       "dtype: int64"
      ]
     },
     "execution_count": 9,
     "metadata": {},
     "output_type": "execute_result"
    }
   ],
   "source": [
    "data_internet.isna().sum()"
   ]
  },
  {
   "cell_type": "markdown",
   "id": "5dcb0f5b",
   "metadata": {},
   "source": [
    "There are no missing values in this dataset. The data is recorded correctly."
   ]
  },
  {
   "cell_type": "markdown",
   "id": "ce70ccf9",
   "metadata": {},
   "source": [
    "## 1.3. Table \"messages\""
   ]
  },
  {
   "cell_type": "markdown",
   "id": "40a87b6e",
   "metadata": {},
   "source": [
    "Let's get familiar with the table with information about the messages."
   ]
  },
  {
   "cell_type": "code",
   "execution_count": 10,
   "id": "c96f8216",
   "metadata": {},
   "outputs": [],
   "source": [
    "try:\n",
    "    data_messages = pd.read_csv('D:\\Yandex_Data_Analysis\\Project_4\\messages.csv')\n",
    "except:\n",
    "    data_messages = pd.read_csv('/datasets/messages.csv')"
   ]
  },
  {
   "cell_type": "code",
   "execution_count": 11,
   "id": "4fe86574",
   "metadata": {},
   "outputs": [
    {
     "data": {
      "text/html": [
       "<div>\n",
       "<style scoped>\n",
       "    .dataframe tbody tr th:only-of-type {\n",
       "        vertical-align: middle;\n",
       "    }\n",
       "\n",
       "    .dataframe tbody tr th {\n",
       "        vertical-align: top;\n",
       "    }\n",
       "\n",
       "    .dataframe thead th {\n",
       "        text-align: right;\n",
       "    }\n",
       "</style>\n",
       "<table border=\"1\" class=\"dataframe\">\n",
       "  <thead>\n",
       "    <tr style=\"text-align: right;\">\n",
       "      <th></th>\n",
       "      <th>id</th>\n",
       "      <th>message_date</th>\n",
       "      <th>user_id</th>\n",
       "    </tr>\n",
       "  </thead>\n",
       "  <tbody>\n",
       "    <tr>\n",
       "      <th>0</th>\n",
       "      <td>1000_0</td>\n",
       "      <td>2018-06-27</td>\n",
       "      <td>1000</td>\n",
       "    </tr>\n",
       "    <tr>\n",
       "      <th>1</th>\n",
       "      <td>1000_1</td>\n",
       "      <td>2018-10-08</td>\n",
       "      <td>1000</td>\n",
       "    </tr>\n",
       "    <tr>\n",
       "      <th>2</th>\n",
       "      <td>1000_2</td>\n",
       "      <td>2018-08-04</td>\n",
       "      <td>1000</td>\n",
       "    </tr>\n",
       "    <tr>\n",
       "      <th>3</th>\n",
       "      <td>1000_3</td>\n",
       "      <td>2018-06-16</td>\n",
       "      <td>1000</td>\n",
       "    </tr>\n",
       "    <tr>\n",
       "      <th>4</th>\n",
       "      <td>1000_4</td>\n",
       "      <td>2018-12-05</td>\n",
       "      <td>1000</td>\n",
       "    </tr>\n",
       "    <tr>\n",
       "      <th>5</th>\n",
       "      <td>1000_5</td>\n",
       "      <td>2018-06-20</td>\n",
       "      <td>1000</td>\n",
       "    </tr>\n",
       "    <tr>\n",
       "      <th>6</th>\n",
       "      <td>1000_6</td>\n",
       "      <td>2018-11-19</td>\n",
       "      <td>1000</td>\n",
       "    </tr>\n",
       "    <tr>\n",
       "      <th>7</th>\n",
       "      <td>1000_7</td>\n",
       "      <td>2018-10-29</td>\n",
       "      <td>1000</td>\n",
       "    </tr>\n",
       "    <tr>\n",
       "      <th>8</th>\n",
       "      <td>1000_8</td>\n",
       "      <td>2018-06-25</td>\n",
       "      <td>1000</td>\n",
       "    </tr>\n",
       "    <tr>\n",
       "      <th>9</th>\n",
       "      <td>1000_9</td>\n",
       "      <td>2018-12-18</td>\n",
       "      <td>1000</td>\n",
       "    </tr>\n",
       "  </tbody>\n",
       "</table>\n",
       "</div>"
      ],
      "text/plain": [
       "       id message_date  user_id\n",
       "0  1000_0   2018-06-27     1000\n",
       "1  1000_1   2018-10-08     1000\n",
       "2  1000_2   2018-08-04     1000\n",
       "3  1000_3   2018-06-16     1000\n",
       "4  1000_4   2018-12-05     1000\n",
       "5  1000_5   2018-06-20     1000\n",
       "6  1000_6   2018-11-19     1000\n",
       "7  1000_7   2018-10-29     1000\n",
       "8  1000_8   2018-06-25     1000\n",
       "9  1000_9   2018-12-18     1000"
      ]
     },
     "execution_count": 11,
     "metadata": {},
     "output_type": "execute_result"
    }
   ],
   "source": [
    "data_messages.head(10)"
   ]
  },
  {
   "cell_type": "code",
   "execution_count": 12,
   "id": "d29778c4",
   "metadata": {},
   "outputs": [
    {
     "name": "stdout",
     "output_type": "stream",
     "text": [
      "<class 'pandas.core.frame.DataFrame'>\n",
      "RangeIndex: 123036 entries, 0 to 123035\n",
      "Data columns (total 3 columns):\n",
      " #   Column        Non-Null Count   Dtype \n",
      "---  ------        --------------   ----- \n",
      " 0   id            123036 non-null  object\n",
      " 1   message_date  123036 non-null  object\n",
      " 2   user_id       123036 non-null  int64 \n",
      "dtypes: int64(1), object(2)\n",
      "memory usage: 2.8+ MB\n"
     ]
    }
   ],
   "source": [
    "data_messages.info()"
   ]
  },
  {
   "cell_type": "code",
   "execution_count": 13,
   "id": "2d8b0724",
   "metadata": {},
   "outputs": [
    {
     "data": {
      "text/plain": [
       "id              0\n",
       "message_date    0\n",
       "user_id         0\n",
       "dtype: int64"
      ]
     },
     "execution_count": 13,
     "metadata": {},
     "output_type": "execute_result"
    }
   ],
   "source": [
    "data_messages.isna().sum()"
   ]
  },
  {
   "cell_type": "markdown",
   "id": "25523e61",
   "metadata": {},
   "source": [
    "There are no missing values in this dataset. The data is recorded correctly."
   ]
  },
  {
   "cell_type": "markdown",
   "id": "9e57e679",
   "metadata": {},
   "source": [
    "## 1.4. Table \"tariffs\""
   ]
  },
  {
   "cell_type": "markdown",
   "id": "d6e98e1a",
   "metadata": {},
   "source": [
    "Let's look at the table with information about tariffs."
   ]
  },
  {
   "cell_type": "code",
   "execution_count": 14,
   "id": "b9fa8802",
   "metadata": {},
   "outputs": [],
   "source": [
    "try:\n",
    "    data_tariffs = pd.read_csv(r'D:\\Yandex_Data_Analysis\\Project_4\\tariffs.csv')\n",
    "except:\n",
    "    data_tariffs = pd.read_csv('/datasets/tariffs.csv')"
   ]
  },
  {
   "cell_type": "code",
   "execution_count": 15,
   "id": "601ea846",
   "metadata": {},
   "outputs": [
    {
     "data": {
      "text/html": [
       "<div>\n",
       "<style scoped>\n",
       "    .dataframe tbody tr th:only-of-type {\n",
       "        vertical-align: middle;\n",
       "    }\n",
       "\n",
       "    .dataframe tbody tr th {\n",
       "        vertical-align: top;\n",
       "    }\n",
       "\n",
       "    .dataframe thead th {\n",
       "        text-align: right;\n",
       "    }\n",
       "</style>\n",
       "<table border=\"1\" class=\"dataframe\">\n",
       "  <thead>\n",
       "    <tr style=\"text-align: right;\">\n",
       "      <th></th>\n",
       "      <th>messages_included</th>\n",
       "      <th>mb_per_month_included</th>\n",
       "      <th>minutes_included</th>\n",
       "      <th>rub_monthly_fee</th>\n",
       "      <th>rub_per_gb</th>\n",
       "      <th>rub_per_message</th>\n",
       "      <th>rub_per_minute</th>\n",
       "      <th>tariff_name</th>\n",
       "    </tr>\n",
       "  </thead>\n",
       "  <tbody>\n",
       "    <tr>\n",
       "      <th>0</th>\n",
       "      <td>50</td>\n",
       "      <td>15360</td>\n",
       "      <td>500</td>\n",
       "      <td>550</td>\n",
       "      <td>200</td>\n",
       "      <td>3</td>\n",
       "      <td>3</td>\n",
       "      <td>smart</td>\n",
       "    </tr>\n",
       "    <tr>\n",
       "      <th>1</th>\n",
       "      <td>1000</td>\n",
       "      <td>30720</td>\n",
       "      <td>3000</td>\n",
       "      <td>1950</td>\n",
       "      <td>150</td>\n",
       "      <td>1</td>\n",
       "      <td>1</td>\n",
       "      <td>ultra</td>\n",
       "    </tr>\n",
       "  </tbody>\n",
       "</table>\n",
       "</div>"
      ],
      "text/plain": [
       "   messages_included  mb_per_month_included  minutes_included  \\\n",
       "0                 50                  15360               500   \n",
       "1               1000                  30720              3000   \n",
       "\n",
       "   rub_monthly_fee  rub_per_gb  rub_per_message  rub_per_minute tariff_name  \n",
       "0              550         200                3               3       smart  \n",
       "1             1950         150                1               1       ultra  "
      ]
     },
     "execution_count": 15,
     "metadata": {},
     "output_type": "execute_result"
    }
   ],
   "source": [
    "data_tariffs"
   ]
  },
  {
   "cell_type": "markdown",
   "id": "44fe19af",
   "metadata": {},
   "source": [
    "The table gives a visual representation of 'Smart' and 'Ultra' tariffs."
   ]
  },
  {
   "cell_type": "markdown",
   "id": "cb6014ef",
   "metadata": {},
   "source": [
    "## 1.5. Table 'users'"
   ]
  },
  {
   "cell_type": "markdown",
   "id": "3b952d33",
   "metadata": {},
   "source": [
    "Let's look at the table with information about users."
   ]
  },
  {
   "cell_type": "code",
   "execution_count": 16,
   "id": "91423d64",
   "metadata": {
    "scrolled": false
   },
   "outputs": [],
   "source": [
    "try:\n",
    "    data_users = pd.read_csv(r'D:\\Yandex_Data_Analysis\\Project_4\\users.csv')\n",
    "except:\n",
    "    data_users = pd.read_csv('/datasets/users.csv')"
   ]
  },
  {
   "cell_type": "code",
   "execution_count": 17,
   "id": "59fcf5ba",
   "metadata": {},
   "outputs": [
    {
     "data": {
      "text/html": [
       "<div>\n",
       "<style scoped>\n",
       "    .dataframe tbody tr th:only-of-type {\n",
       "        vertical-align: middle;\n",
       "    }\n",
       "\n",
       "    .dataframe tbody tr th {\n",
       "        vertical-align: top;\n",
       "    }\n",
       "\n",
       "    .dataframe thead th {\n",
       "        text-align: right;\n",
       "    }\n",
       "</style>\n",
       "<table border=\"1\" class=\"dataframe\">\n",
       "  <thead>\n",
       "    <tr style=\"text-align: right;\">\n",
       "      <th></th>\n",
       "      <th>user_id</th>\n",
       "      <th>age</th>\n",
       "      <th>churn_date</th>\n",
       "      <th>city</th>\n",
       "      <th>first_name</th>\n",
       "      <th>last_name</th>\n",
       "      <th>reg_date</th>\n",
       "      <th>tariff</th>\n",
       "    </tr>\n",
       "  </thead>\n",
       "  <tbody>\n",
       "    <tr>\n",
       "      <th>0</th>\n",
       "      <td>1000</td>\n",
       "      <td>52</td>\n",
       "      <td>NaN</td>\n",
       "      <td>Краснодар</td>\n",
       "      <td>Рафаил</td>\n",
       "      <td>Верещагин</td>\n",
       "      <td>2018-05-25</td>\n",
       "      <td>ultra</td>\n",
       "    </tr>\n",
       "    <tr>\n",
       "      <th>1</th>\n",
       "      <td>1001</td>\n",
       "      <td>41</td>\n",
       "      <td>NaN</td>\n",
       "      <td>Москва</td>\n",
       "      <td>Иван</td>\n",
       "      <td>Ежов</td>\n",
       "      <td>2018-11-01</td>\n",
       "      <td>smart</td>\n",
       "    </tr>\n",
       "    <tr>\n",
       "      <th>2</th>\n",
       "      <td>1002</td>\n",
       "      <td>59</td>\n",
       "      <td>NaN</td>\n",
       "      <td>Стерлитамак</td>\n",
       "      <td>Евгений</td>\n",
       "      <td>Абрамович</td>\n",
       "      <td>2018-06-17</td>\n",
       "      <td>smart</td>\n",
       "    </tr>\n",
       "    <tr>\n",
       "      <th>3</th>\n",
       "      <td>1003</td>\n",
       "      <td>23</td>\n",
       "      <td>NaN</td>\n",
       "      <td>Москва</td>\n",
       "      <td>Белла</td>\n",
       "      <td>Белякова</td>\n",
       "      <td>2018-08-17</td>\n",
       "      <td>ultra</td>\n",
       "    </tr>\n",
       "    <tr>\n",
       "      <th>4</th>\n",
       "      <td>1004</td>\n",
       "      <td>68</td>\n",
       "      <td>NaN</td>\n",
       "      <td>Новокузнецк</td>\n",
       "      <td>Татьяна</td>\n",
       "      <td>Авдеенко</td>\n",
       "      <td>2018-05-14</td>\n",
       "      <td>ultra</td>\n",
       "    </tr>\n",
       "    <tr>\n",
       "      <th>5</th>\n",
       "      <td>1005</td>\n",
       "      <td>67</td>\n",
       "      <td>NaN</td>\n",
       "      <td>Набережные Челны</td>\n",
       "      <td>Афанасий</td>\n",
       "      <td>Горлов</td>\n",
       "      <td>2018-01-25</td>\n",
       "      <td>smart</td>\n",
       "    </tr>\n",
       "    <tr>\n",
       "      <th>6</th>\n",
       "      <td>1006</td>\n",
       "      <td>21</td>\n",
       "      <td>NaN</td>\n",
       "      <td>Ульяновск</td>\n",
       "      <td>Леонид</td>\n",
       "      <td>Ермолаев</td>\n",
       "      <td>2018-02-26</td>\n",
       "      <td>smart</td>\n",
       "    </tr>\n",
       "    <tr>\n",
       "      <th>7</th>\n",
       "      <td>1007</td>\n",
       "      <td>65</td>\n",
       "      <td>NaN</td>\n",
       "      <td>Москва</td>\n",
       "      <td>Юна</td>\n",
       "      <td>Березина</td>\n",
       "      <td>2018-04-19</td>\n",
       "      <td>smart</td>\n",
       "    </tr>\n",
       "    <tr>\n",
       "      <th>8</th>\n",
       "      <td>1008</td>\n",
       "      <td>63</td>\n",
       "      <td>NaN</td>\n",
       "      <td>Челябинск</td>\n",
       "      <td>Рустэм</td>\n",
       "      <td>Пономарёв</td>\n",
       "      <td>2018-12-19</td>\n",
       "      <td>smart</td>\n",
       "    </tr>\n",
       "    <tr>\n",
       "      <th>9</th>\n",
       "      <td>1009</td>\n",
       "      <td>24</td>\n",
       "      <td>NaN</td>\n",
       "      <td>Пермь</td>\n",
       "      <td>Василиса</td>\n",
       "      <td>Блинова</td>\n",
       "      <td>2018-03-22</td>\n",
       "      <td>smart</td>\n",
       "    </tr>\n",
       "  </tbody>\n",
       "</table>\n",
       "</div>"
      ],
      "text/plain": [
       "   user_id  age churn_date              city first_name  last_name  \\\n",
       "0     1000   52        NaN         Краснодар     Рафаил  Верещагин   \n",
       "1     1001   41        NaN            Москва       Иван       Ежов   \n",
       "2     1002   59        NaN       Стерлитамак    Евгений  Абрамович   \n",
       "3     1003   23        NaN            Москва      Белла   Белякова   \n",
       "4     1004   68        NaN       Новокузнецк    Татьяна   Авдеенко   \n",
       "5     1005   67        NaN  Набережные Челны   Афанасий     Горлов   \n",
       "6     1006   21        NaN         Ульяновск     Леонид   Ермолаев   \n",
       "7     1007   65        NaN            Москва        Юна   Березина   \n",
       "8     1008   63        NaN         Челябинск     Рустэм  Пономарёв   \n",
       "9     1009   24        NaN             Пермь   Василиса    Блинова   \n",
       "\n",
       "     reg_date tariff  \n",
       "0  2018-05-25  ultra  \n",
       "1  2018-11-01  smart  \n",
       "2  2018-06-17  smart  \n",
       "3  2018-08-17  ultra  \n",
       "4  2018-05-14  ultra  \n",
       "5  2018-01-25  smart  \n",
       "6  2018-02-26  smart  \n",
       "7  2018-04-19  smart  \n",
       "8  2018-12-19  smart  \n",
       "9  2018-03-22  smart  "
      ]
     },
     "execution_count": 17,
     "metadata": {},
     "output_type": "execute_result"
    }
   ],
   "source": [
    "data_users.head(10)"
   ]
  },
  {
   "cell_type": "code",
   "execution_count": 18,
   "id": "3144aaba",
   "metadata": {},
   "outputs": [
    {
     "name": "stdout",
     "output_type": "stream",
     "text": [
      "<class 'pandas.core.frame.DataFrame'>\n",
      "RangeIndex: 500 entries, 0 to 499\n",
      "Data columns (total 8 columns):\n",
      " #   Column      Non-Null Count  Dtype \n",
      "---  ------      --------------  ----- \n",
      " 0   user_id     500 non-null    int64 \n",
      " 1   age         500 non-null    int64 \n",
      " 2   churn_date  38 non-null     object\n",
      " 3   city        500 non-null    object\n",
      " 4   first_name  500 non-null    object\n",
      " 5   last_name   500 non-null    object\n",
      " 6   reg_date    500 non-null    object\n",
      " 7   tariff      500 non-null    object\n",
      "dtypes: int64(2), object(6)\n",
      "memory usage: 31.4+ KB\n"
     ]
    }
   ],
   "source": [
    "data_users.info()"
   ]
  },
  {
   "cell_type": "code",
   "execution_count": 19,
   "id": "d70890e4",
   "metadata": {},
   "outputs": [
    {
     "data": {
      "text/plain": [
       "user_id         0\n",
       "age             0\n",
       "churn_date    462\n",
       "city            0\n",
       "first_name      0\n",
       "last_name       0\n",
       "reg_date        0\n",
       "tariff          0\n",
       "dtype: int64"
      ]
     },
     "metadata": {},
     "output_type": "display_data"
    }
   ],
   "source": [
    "display(data_users.isna().sum())"
   ]
  },
  {
   "cell_type": "markdown",
   "id": "9c04a48b",
   "metadata": {},
   "source": [
    "The 'churn_date' column contains information about the date when the tariff was terminated. According to the condition of the problem, the missing values in this column means that the tariff was still valid at the time of data unloading, so we will not delete or replace them. There are no problems with the other columns."
   ]
  },
  {
   "cell_type": "markdown",
   "id": "a7ba32fd",
   "metadata": {},
   "source": [
    "# 2. Data preprocessing"
   ]
  },
  {
   "cell_type": "markdown",
   "id": "2bf1752d",
   "metadata": {},
   "source": [
    "After a quick look at the data in 5 tables, it turned out that there is one extra column in the dataset internet, which simply duplicates the indexes - 'Unnamed: 0'. It can be removed."
   ]
  },
  {
   "cell_type": "code",
   "execution_count": 20,
   "id": "eecb3311",
   "metadata": {},
   "outputs": [
    {
     "data": {
      "text/html": [
       "<div>\n",
       "<style scoped>\n",
       "    .dataframe tbody tr th:only-of-type {\n",
       "        vertical-align: middle;\n",
       "    }\n",
       "\n",
       "    .dataframe tbody tr th {\n",
       "        vertical-align: top;\n",
       "    }\n",
       "\n",
       "    .dataframe thead th {\n",
       "        text-align: right;\n",
       "    }\n",
       "</style>\n",
       "<table border=\"1\" class=\"dataframe\">\n",
       "  <thead>\n",
       "    <tr style=\"text-align: right;\">\n",
       "      <th></th>\n",
       "      <th>id</th>\n",
       "      <th>mb_used</th>\n",
       "      <th>session_date</th>\n",
       "      <th>user_id</th>\n",
       "    </tr>\n",
       "  </thead>\n",
       "  <tbody>\n",
       "    <tr>\n",
       "      <th>0</th>\n",
       "      <td>1000_0</td>\n",
       "      <td>112.95</td>\n",
       "      <td>2018-11-25</td>\n",
       "      <td>1000</td>\n",
       "    </tr>\n",
       "    <tr>\n",
       "      <th>1</th>\n",
       "      <td>1000_1</td>\n",
       "      <td>1052.81</td>\n",
       "      <td>2018-09-07</td>\n",
       "      <td>1000</td>\n",
       "    </tr>\n",
       "    <tr>\n",
       "      <th>2</th>\n",
       "      <td>1000_2</td>\n",
       "      <td>1197.26</td>\n",
       "      <td>2018-06-25</td>\n",
       "      <td>1000</td>\n",
       "    </tr>\n",
       "  </tbody>\n",
       "</table>\n",
       "</div>"
      ],
      "text/plain": [
       "       id  mb_used session_date  user_id\n",
       "0  1000_0   112.95   2018-11-25     1000\n",
       "1  1000_1  1052.81   2018-09-07     1000\n",
       "2  1000_2  1197.26   2018-06-25     1000"
      ]
     },
     "execution_count": 20,
     "metadata": {},
     "output_type": "execute_result"
    }
   ],
   "source": [
    "data_internet = data_internet.drop('Unnamed: 0', axis=1)\n",
    "data_internet.head(3)"
   ]
  },
  {
   "cell_type": "markdown",
   "id": "c0a6d9a8",
   "metadata": {},
   "source": [
    "The terms of the problem say that the operator \"Megaline\" always rounds seconds to minutes, and megabytes to gigabytes:\n",
    "* A call lasting 1 second is rounded up to 1 minute. \n",
    "* For web traffic, the total amount per month is rounded upwards. If a subscriber uses 1025 megabytes in a month, he/she will be charged for 2 gigabytes.\n",
    "* Unused calls, SMS and Internet traffic of the previous month will not be carried over to the next month.\n",
    "\n",
    "*Taking these conditions into account, round up the values in columns 'duration' and 'mb_used' in tables data_calls and data_internet respectively."
   ]
  },
  {
   "cell_type": "code",
   "execution_count": 21,
   "id": "bbd5d7a4",
   "metadata": {},
   "outputs": [
    {
     "data": {
      "text/html": [
       "<div>\n",
       "<style scoped>\n",
       "    .dataframe tbody tr th:only-of-type {\n",
       "        vertical-align: middle;\n",
       "    }\n",
       "\n",
       "    .dataframe tbody tr th {\n",
       "        vertical-align: top;\n",
       "    }\n",
       "\n",
       "    .dataframe thead th {\n",
       "        text-align: right;\n",
       "    }\n",
       "</style>\n",
       "<table border=\"1\" class=\"dataframe\">\n",
       "  <thead>\n",
       "    <tr style=\"text-align: right;\">\n",
       "      <th></th>\n",
       "      <th>id</th>\n",
       "      <th>call_date</th>\n",
       "      <th>duration</th>\n",
       "      <th>user_id</th>\n",
       "    </tr>\n",
       "  </thead>\n",
       "  <tbody>\n",
       "    <tr>\n",
       "      <th>0</th>\n",
       "      <td>1000_0</td>\n",
       "      <td>2018-07-25</td>\n",
       "      <td>0</td>\n",
       "      <td>1000</td>\n",
       "    </tr>\n",
       "    <tr>\n",
       "      <th>1</th>\n",
       "      <td>1000_1</td>\n",
       "      <td>2018-08-17</td>\n",
       "      <td>0</td>\n",
       "      <td>1000</td>\n",
       "    </tr>\n",
       "    <tr>\n",
       "      <th>2</th>\n",
       "      <td>1000_2</td>\n",
       "      <td>2018-06-11</td>\n",
       "      <td>3</td>\n",
       "      <td>1000</td>\n",
       "    </tr>\n",
       "    <tr>\n",
       "      <th>3</th>\n",
       "      <td>1000_3</td>\n",
       "      <td>2018-09-21</td>\n",
       "      <td>14</td>\n",
       "      <td>1000</td>\n",
       "    </tr>\n",
       "    <tr>\n",
       "      <th>4</th>\n",
       "      <td>1000_4</td>\n",
       "      <td>2018-12-15</td>\n",
       "      <td>6</td>\n",
       "      <td>1000</td>\n",
       "    </tr>\n",
       "  </tbody>\n",
       "</table>\n",
       "</div>"
      ],
      "text/plain": [
       "       id   call_date  duration  user_id\n",
       "0  1000_0  2018-07-25         0     1000\n",
       "1  1000_1  2018-08-17         0     1000\n",
       "2  1000_2  2018-06-11         3     1000\n",
       "3  1000_3  2018-09-21        14     1000\n",
       "4  1000_4  2018-12-15         6     1000"
      ]
     },
     "execution_count": 21,
     "metadata": {},
     "output_type": "execute_result"
    }
   ],
   "source": [
    "data_calls['duration'] = np.ceil(data_calls['duration']).astype(int)\n",
    "data_calls.head(5)"
   ]
  },
  {
   "cell_type": "markdown",
   "id": "3dd25b02",
   "metadata": {},
   "source": [
    "## 2.1. Number of calls made and minutes used by month"
   ]
  },
  {
   "cell_type": "markdown",
   "id": "43cb3492",
   "metadata": {},
   "source": [
    "Let's create a new column with the month in the dataset with information about the calls."
   ]
  },
  {
   "cell_type": "code",
   "execution_count": 22,
   "id": "b17be264",
   "metadata": {
    "scrolled": true
   },
   "outputs": [
    {
     "data": {
      "text/html": [
       "<div>\n",
       "<style scoped>\n",
       "    .dataframe tbody tr th:only-of-type {\n",
       "        vertical-align: middle;\n",
       "    }\n",
       "\n",
       "    .dataframe tbody tr th {\n",
       "        vertical-align: top;\n",
       "    }\n",
       "\n",
       "    .dataframe thead th {\n",
       "        text-align: right;\n",
       "    }\n",
       "</style>\n",
       "<table border=\"1\" class=\"dataframe\">\n",
       "  <thead>\n",
       "    <tr style=\"text-align: right;\">\n",
       "      <th></th>\n",
       "      <th>id</th>\n",
       "      <th>call_date</th>\n",
       "      <th>month</th>\n",
       "      <th>duration</th>\n",
       "      <th>user_id</th>\n",
       "    </tr>\n",
       "  </thead>\n",
       "  <tbody>\n",
       "    <tr>\n",
       "      <th>202602</th>\n",
       "      <td>1499_215</td>\n",
       "      <td>2018-12-26</td>\n",
       "      <td>12</td>\n",
       "      <td>1</td>\n",
       "      <td>1499</td>\n",
       "    </tr>\n",
       "    <tr>\n",
       "      <th>202603</th>\n",
       "      <td>1499_216</td>\n",
       "      <td>2018-10-18</td>\n",
       "      <td>10</td>\n",
       "      <td>19</td>\n",
       "      <td>1499</td>\n",
       "    </tr>\n",
       "    <tr>\n",
       "      <th>202604</th>\n",
       "      <td>1499_217</td>\n",
       "      <td>2018-11-10</td>\n",
       "      <td>11</td>\n",
       "      <td>11</td>\n",
       "      <td>1499</td>\n",
       "    </tr>\n",
       "    <tr>\n",
       "      <th>202605</th>\n",
       "      <td>1499_218</td>\n",
       "      <td>2018-10-06</td>\n",
       "      <td>10</td>\n",
       "      <td>5</td>\n",
       "      <td>1499</td>\n",
       "    </tr>\n",
       "    <tr>\n",
       "      <th>202606</th>\n",
       "      <td>1499_219</td>\n",
       "      <td>2018-12-14</td>\n",
       "      <td>12</td>\n",
       "      <td>20</td>\n",
       "      <td>1499</td>\n",
       "    </tr>\n",
       "  </tbody>\n",
       "</table>\n",
       "</div>"
      ],
      "text/plain": [
       "              id  call_date  month  duration  user_id\n",
       "202602  1499_215 2018-12-26     12         1     1499\n",
       "202603  1499_216 2018-10-18     10        19     1499\n",
       "202604  1499_217 2018-11-10     11        11     1499\n",
       "202605  1499_218 2018-10-06     10         5     1499\n",
       "202606  1499_219 2018-12-14     12        20     1499"
      ]
     },
     "execution_count": 22,
     "metadata": {},
     "output_type": "execute_result"
    }
   ],
   "source": [
    "data_calls['call_date'] = pd.to_datetime(data_calls['call_date'], format='%Y-%m-%d')\n",
    "month_calls = data_calls['call_date'].dt.month\n",
    "data_calls.insert(2, 'month', month_calls)\n",
    "data_calls.tail(5)"
   ]
  },
  {
   "cell_type": "markdown",
   "id": "ef20c2ec",
   "metadata": {},
   "source": [
    "*Create a cumulative table with the number of used minutes by month for each user.*"
   ]
  },
  {
   "cell_type": "code",
   "execution_count": 23,
   "id": "fbf0be38",
   "metadata": {},
   "outputs": [
    {
     "data": {
      "text/html": [
       "<div>\n",
       "<style scoped>\n",
       "    .dataframe tbody tr th:only-of-type {\n",
       "        vertical-align: middle;\n",
       "    }\n",
       "\n",
       "    .dataframe tbody tr th {\n",
       "        vertical-align: top;\n",
       "    }\n",
       "\n",
       "    .dataframe thead th {\n",
       "        text-align: right;\n",
       "    }\n",
       "</style>\n",
       "<table border=\"1\" class=\"dataframe\">\n",
       "  <thead>\n",
       "    <tr style=\"text-align: right;\">\n",
       "      <th></th>\n",
       "      <th></th>\n",
       "      <th>sum_minutes</th>\n",
       "    </tr>\n",
       "    <tr>\n",
       "      <th>user_id</th>\n",
       "      <th>month</th>\n",
       "      <th></th>\n",
       "    </tr>\n",
       "  </thead>\n",
       "  <tbody>\n",
       "    <tr>\n",
       "      <th rowspan=\"5\" valign=\"top\">1000</th>\n",
       "      <th>5</th>\n",
       "      <td>159</td>\n",
       "    </tr>\n",
       "    <tr>\n",
       "      <th>6</th>\n",
       "      <td>172</td>\n",
       "    </tr>\n",
       "    <tr>\n",
       "      <th>7</th>\n",
       "      <td>340</td>\n",
       "    </tr>\n",
       "    <tr>\n",
       "      <th>8</th>\n",
       "      <td>408</td>\n",
       "    </tr>\n",
       "    <tr>\n",
       "      <th>9</th>\n",
       "      <td>466</td>\n",
       "    </tr>\n",
       "  </tbody>\n",
       "</table>\n",
       "</div>"
      ],
      "text/plain": [
       "               sum_minutes\n",
       "user_id month             \n",
       "1000    5              159\n",
       "        6              172\n",
       "        7              340\n",
       "        8              408\n",
       "        9              466"
      ]
     },
     "execution_count": 23,
     "metadata": {},
     "output_type": "execute_result"
    }
   ],
   "source": [
    "calls_duration_grouped = data_calls.pivot_table(index=['user_id', 'month'], values='duration', aggfunc='sum')\n",
    "calls_duration_grouped.columns = ['sum_minutes']\n",
    "calls_duration_grouped.head(5)"
   ]
  },
  {
   "cell_type": "markdown",
   "id": "cf89b5f0",
   "metadata": {},
   "source": [
    "## 2.2. Number of messages sent by month"
   ]
  },
  {
   "cell_type": "markdown",
   "id": "b9da9789",
   "metadata": {},
   "source": [
    "Let's create a new column with the month in the dataset with information about messages."
   ]
  },
  {
   "cell_type": "code",
   "execution_count": 24,
   "id": "e7e349dd",
   "metadata": {
    "scrolled": true
   },
   "outputs": [
    {
     "data": {
      "text/html": [
       "<div>\n",
       "<style scoped>\n",
       "    .dataframe tbody tr th:only-of-type {\n",
       "        vertical-align: middle;\n",
       "    }\n",
       "\n",
       "    .dataframe tbody tr th {\n",
       "        vertical-align: top;\n",
       "    }\n",
       "\n",
       "    .dataframe thead th {\n",
       "        text-align: right;\n",
       "    }\n",
       "</style>\n",
       "<table border=\"1\" class=\"dataframe\">\n",
       "  <thead>\n",
       "    <tr style=\"text-align: right;\">\n",
       "      <th></th>\n",
       "      <th>id</th>\n",
       "      <th>message_date</th>\n",
       "      <th>month</th>\n",
       "      <th>user_id</th>\n",
       "    </tr>\n",
       "  </thead>\n",
       "  <tbody>\n",
       "    <tr>\n",
       "      <th>0</th>\n",
       "      <td>1000_0</td>\n",
       "      <td>2018-06-27</td>\n",
       "      <td>6</td>\n",
       "      <td>1000</td>\n",
       "    </tr>\n",
       "    <tr>\n",
       "      <th>1</th>\n",
       "      <td>1000_1</td>\n",
       "      <td>2018-10-08</td>\n",
       "      <td>10</td>\n",
       "      <td>1000</td>\n",
       "    </tr>\n",
       "    <tr>\n",
       "      <th>2</th>\n",
       "      <td>1000_2</td>\n",
       "      <td>2018-08-04</td>\n",
       "      <td>8</td>\n",
       "      <td>1000</td>\n",
       "    </tr>\n",
       "    <tr>\n",
       "      <th>3</th>\n",
       "      <td>1000_3</td>\n",
       "      <td>2018-06-16</td>\n",
       "      <td>6</td>\n",
       "      <td>1000</td>\n",
       "    </tr>\n",
       "    <tr>\n",
       "      <th>4</th>\n",
       "      <td>1000_4</td>\n",
       "      <td>2018-12-05</td>\n",
       "      <td>12</td>\n",
       "      <td>1000</td>\n",
       "    </tr>\n",
       "  </tbody>\n",
       "</table>\n",
       "</div>"
      ],
      "text/plain": [
       "       id message_date  month  user_id\n",
       "0  1000_0   2018-06-27      6     1000\n",
       "1  1000_1   2018-10-08     10     1000\n",
       "2  1000_2   2018-08-04      8     1000\n",
       "3  1000_3   2018-06-16      6     1000\n",
       "4  1000_4   2018-12-05     12     1000"
      ]
     },
     "execution_count": 24,
     "metadata": {},
     "output_type": "execute_result"
    }
   ],
   "source": [
    "data_messages['message_date'] = pd.to_datetime(data_messages['message_date'], format='%Y-%m-%d')\n",
    "month_message = data_messages['message_date'].dt.month\n",
    "data_messages.insert(2, 'month', month_message)\n",
    "data_messages.head(5)"
   ]
  },
  {
   "cell_type": "markdown",
   "id": "ff90e132",
   "metadata": {},
   "source": [
    "Create a crosstab with the number of messages sent per month for each user. Replace the empty values with 0 and convert all values to integers."
   ]
  },
  {
   "cell_type": "code",
   "execution_count": 25,
   "id": "d1523333",
   "metadata": {},
   "outputs": [
    {
     "data": {
      "text/html": [
       "<div>\n",
       "<style scoped>\n",
       "    .dataframe tbody tr th:only-of-type {\n",
       "        vertical-align: middle;\n",
       "    }\n",
       "\n",
       "    .dataframe tbody tr th {\n",
       "        vertical-align: top;\n",
       "    }\n",
       "\n",
       "    .dataframe thead th {\n",
       "        text-align: right;\n",
       "    }\n",
       "</style>\n",
       "<table border=\"1\" class=\"dataframe\">\n",
       "  <thead>\n",
       "    <tr style=\"text-align: right;\">\n",
       "      <th></th>\n",
       "      <th></th>\n",
       "      <th>cnt_messages</th>\n",
       "    </tr>\n",
       "    <tr>\n",
       "      <th>user_id</th>\n",
       "      <th>month</th>\n",
       "      <th></th>\n",
       "    </tr>\n",
       "  </thead>\n",
       "  <tbody>\n",
       "    <tr>\n",
       "      <th rowspan=\"5\" valign=\"top\">1000</th>\n",
       "      <th>5</th>\n",
       "      <td>22</td>\n",
       "    </tr>\n",
       "    <tr>\n",
       "      <th>6</th>\n",
       "      <td>60</td>\n",
       "    </tr>\n",
       "    <tr>\n",
       "      <th>7</th>\n",
       "      <td>75</td>\n",
       "    </tr>\n",
       "    <tr>\n",
       "      <th>8</th>\n",
       "      <td>81</td>\n",
       "    </tr>\n",
       "    <tr>\n",
       "      <th>9</th>\n",
       "      <td>57</td>\n",
       "    </tr>\n",
       "  </tbody>\n",
       "</table>\n",
       "</div>"
      ],
      "text/plain": [
       "               cnt_messages\n",
       "user_id month              \n",
       "1000    5                22\n",
       "        6                60\n",
       "        7                75\n",
       "        8                81\n",
       "        9                57"
      ]
     },
     "execution_count": 25,
     "metadata": {},
     "output_type": "execute_result"
    }
   ],
   "source": [
    "message_grouped = data_messages.pivot_table(index=['user_id','month'],  values='id', aggfunc='count')\n",
    "message_grouped.columns = ['cnt_messages']\n",
    "message_grouped.head(5)"
   ]
  },
  {
   "cell_type": "markdown",
   "id": "ce1c008d",
   "metadata": {},
   "source": [
    "## 2.3. Amount of Internet traffic consumed by month"
   ]
  },
  {
   "cell_type": "markdown",
   "id": "a3ddb41b",
   "metadata": {},
   "source": [
    "Let's create a new column with the month in the dataset with information about web traffic."
   ]
  },
  {
   "cell_type": "code",
   "execution_count": 26,
   "id": "fe4ced96",
   "metadata": {
    "scrolled": true
   },
   "outputs": [
    {
     "data": {
      "text/html": [
       "<div>\n",
       "<style scoped>\n",
       "    .dataframe tbody tr th:only-of-type {\n",
       "        vertical-align: middle;\n",
       "    }\n",
       "\n",
       "    .dataframe tbody tr th {\n",
       "        vertical-align: top;\n",
       "    }\n",
       "\n",
       "    .dataframe thead th {\n",
       "        text-align: right;\n",
       "    }\n",
       "</style>\n",
       "<table border=\"1\" class=\"dataframe\">\n",
       "  <thead>\n",
       "    <tr style=\"text-align: right;\">\n",
       "      <th></th>\n",
       "      <th>id</th>\n",
       "      <th>mb_used</th>\n",
       "      <th>session_date</th>\n",
       "      <th>month</th>\n",
       "      <th>user_id</th>\n",
       "    </tr>\n",
       "  </thead>\n",
       "  <tbody>\n",
       "    <tr>\n",
       "      <th>0</th>\n",
       "      <td>1000_0</td>\n",
       "      <td>112.95</td>\n",
       "      <td>2018-11-25</td>\n",
       "      <td>11</td>\n",
       "      <td>1000</td>\n",
       "    </tr>\n",
       "    <tr>\n",
       "      <th>1</th>\n",
       "      <td>1000_1</td>\n",
       "      <td>1052.81</td>\n",
       "      <td>2018-09-07</td>\n",
       "      <td>9</td>\n",
       "      <td>1000</td>\n",
       "    </tr>\n",
       "    <tr>\n",
       "      <th>2</th>\n",
       "      <td>1000_2</td>\n",
       "      <td>1197.26</td>\n",
       "      <td>2018-06-25</td>\n",
       "      <td>6</td>\n",
       "      <td>1000</td>\n",
       "    </tr>\n",
       "    <tr>\n",
       "      <th>3</th>\n",
       "      <td>1000_3</td>\n",
       "      <td>550.27</td>\n",
       "      <td>2018-08-22</td>\n",
       "      <td>8</td>\n",
       "      <td>1000</td>\n",
       "    </tr>\n",
       "    <tr>\n",
       "      <th>4</th>\n",
       "      <td>1000_4</td>\n",
       "      <td>302.56</td>\n",
       "      <td>2018-09-24</td>\n",
       "      <td>9</td>\n",
       "      <td>1000</td>\n",
       "    </tr>\n",
       "  </tbody>\n",
       "</table>\n",
       "</div>"
      ],
      "text/plain": [
       "       id  mb_used session_date  month  user_id\n",
       "0  1000_0   112.95   2018-11-25     11     1000\n",
       "1  1000_1  1052.81   2018-09-07      9     1000\n",
       "2  1000_2  1197.26   2018-06-25      6     1000\n",
       "3  1000_3   550.27   2018-08-22      8     1000\n",
       "4  1000_4   302.56   2018-09-24      9     1000"
      ]
     },
     "execution_count": 26,
     "metadata": {},
     "output_type": "execute_result"
    }
   ],
   "source": [
    "data_internet['session_date'] = pd.to_datetime(data_internet['session_date'], format='%Y-%m-%d')\n",
    "month_internet = data_internet['session_date'].dt.month\n",
    "data_internet.insert(3, 'month', month_internet)\n",
    "data_internet.head(5)"
   ]
  },
  {
   "cell_type": "markdown",
   "id": "4d353757",
   "metadata": {},
   "source": [
    "Create a summary table where we group the total amount of traffic used per month for each user. Replace empty values with 0 and convert all values to integers, rounding them up beforehand."
   ]
  },
  {
   "cell_type": "code",
   "execution_count": 27,
   "id": "0e76ac5f",
   "metadata": {
    "scrolled": true
   },
   "outputs": [
    {
     "data": {
      "text/html": [
       "<div>\n",
       "<style scoped>\n",
       "    .dataframe tbody tr th:only-of-type {\n",
       "        vertical-align: middle;\n",
       "    }\n",
       "\n",
       "    .dataframe tbody tr th {\n",
       "        vertical-align: top;\n",
       "    }\n",
       "\n",
       "    .dataframe thead th {\n",
       "        text-align: right;\n",
       "    }\n",
       "</style>\n",
       "<table border=\"1\" class=\"dataframe\">\n",
       "  <thead>\n",
       "    <tr style=\"text-align: right;\">\n",
       "      <th></th>\n",
       "      <th></th>\n",
       "      <th>sum_internet</th>\n",
       "    </tr>\n",
       "    <tr>\n",
       "      <th>user_id</th>\n",
       "      <th>month</th>\n",
       "      <th></th>\n",
       "    </tr>\n",
       "  </thead>\n",
       "  <tbody>\n",
       "    <tr>\n",
       "      <th rowspan=\"5\" valign=\"top\">1000</th>\n",
       "      <th>5</th>\n",
       "      <td>2253.49</td>\n",
       "    </tr>\n",
       "    <tr>\n",
       "      <th>6</th>\n",
       "      <td>23233.77</td>\n",
       "    </tr>\n",
       "    <tr>\n",
       "      <th>7</th>\n",
       "      <td>14003.64</td>\n",
       "    </tr>\n",
       "    <tr>\n",
       "      <th>8</th>\n",
       "      <td>14055.93</td>\n",
       "    </tr>\n",
       "    <tr>\n",
       "      <th>9</th>\n",
       "      <td>14568.91</td>\n",
       "    </tr>\n",
       "  </tbody>\n",
       "</table>\n",
       "</div>"
      ],
      "text/plain": [
       "               sum_internet\n",
       "user_id month              \n",
       "1000    5           2253.49\n",
       "        6          23233.77\n",
       "        7          14003.64\n",
       "        8          14055.93\n",
       "        9          14568.91"
      ]
     },
     "execution_count": 27,
     "metadata": {},
     "output_type": "execute_result"
    }
   ],
   "source": [
    "internet_grouped = data_internet.pivot_table(index=['user_id','month'], values='mb_used', aggfunc='sum')\n",
    "internet_grouped.columns = ['sum_internet']\n",
    "internet_grouped.head(5)"
   ]
  },
  {
   "cell_type": "markdown",
   "id": "6869de5e",
   "metadata": {},
   "source": [
    "## 2.4. Monthly revenue per user"
   ]
  },
  {
   "cell_type": "code",
   "execution_count": 28,
   "id": "0ea26d27",
   "metadata": {
    "scrolled": true
   },
   "outputs": [
    {
     "data": {
      "text/html": [
       "<div>\n",
       "<style scoped>\n",
       "    .dataframe tbody tr th:only-of-type {\n",
       "        vertical-align: middle;\n",
       "    }\n",
       "\n",
       "    .dataframe tbody tr th {\n",
       "        vertical-align: top;\n",
       "    }\n",
       "\n",
       "    .dataframe thead th {\n",
       "        text-align: right;\n",
       "    }\n",
       "</style>\n",
       "<table border=\"1\" class=\"dataframe\">\n",
       "  <thead>\n",
       "    <tr style=\"text-align: right;\">\n",
       "      <th></th>\n",
       "      <th>messages_included</th>\n",
       "      <th>mb_per_month_included</th>\n",
       "      <th>minutes_included</th>\n",
       "      <th>rub_monthly_fee</th>\n",
       "      <th>rub_per_gb</th>\n",
       "      <th>rub_per_message</th>\n",
       "      <th>rub_per_minute</th>\n",
       "      <th>tariff_name</th>\n",
       "    </tr>\n",
       "  </thead>\n",
       "  <tbody>\n",
       "    <tr>\n",
       "      <th>0</th>\n",
       "      <td>50</td>\n",
       "      <td>15360</td>\n",
       "      <td>500</td>\n",
       "      <td>550</td>\n",
       "      <td>200</td>\n",
       "      <td>3</td>\n",
       "      <td>3</td>\n",
       "      <td>smart</td>\n",
       "    </tr>\n",
       "    <tr>\n",
       "      <th>1</th>\n",
       "      <td>1000</td>\n",
       "      <td>30720</td>\n",
       "      <td>3000</td>\n",
       "      <td>1950</td>\n",
       "      <td>150</td>\n",
       "      <td>1</td>\n",
       "      <td>1</td>\n",
       "      <td>ultra</td>\n",
       "    </tr>\n",
       "  </tbody>\n",
       "</table>\n",
       "</div>"
      ],
      "text/plain": [
       "   messages_included  mb_per_month_included  minutes_included  \\\n",
       "0                 50                  15360               500   \n",
       "1               1000                  30720              3000   \n",
       "\n",
       "   rub_monthly_fee  rub_per_gb  rub_per_message  rub_per_minute tariff_name  \n",
       "0              550         200                3               3       smart  \n",
       "1             1950         150                1               1       ultra  "
      ]
     },
     "execution_count": 28,
     "metadata": {},
     "output_type": "execute_result"
    }
   ],
   "source": [
    "data_tariffs"
   ]
  },
  {
   "cell_type": "markdown",
   "id": "2953ba94",
   "metadata": {},
   "source": [
    "Let's combine all 3 tables with minutes, messages, and Internet traffic into one summary table."
   ]
  },
  {
   "cell_type": "code",
   "execution_count": 29,
   "id": "f673ec43",
   "metadata": {},
   "outputs": [
    {
     "data": {
      "text/html": [
       "<div>\n",
       "<style scoped>\n",
       "    .dataframe tbody tr th:only-of-type {\n",
       "        vertical-align: middle;\n",
       "    }\n",
       "\n",
       "    .dataframe tbody tr th {\n",
       "        vertical-align: top;\n",
       "    }\n",
       "\n",
       "    .dataframe thead th {\n",
       "        text-align: right;\n",
       "    }\n",
       "</style>\n",
       "<table border=\"1\" class=\"dataframe\">\n",
       "  <thead>\n",
       "    <tr style=\"text-align: right;\">\n",
       "      <th></th>\n",
       "      <th></th>\n",
       "      <th>sum_minutes</th>\n",
       "      <th>cnt_messages</th>\n",
       "      <th>sum_internet</th>\n",
       "    </tr>\n",
       "    <tr>\n",
       "      <th>user_id</th>\n",
       "      <th>month</th>\n",
       "      <th></th>\n",
       "      <th></th>\n",
       "      <th></th>\n",
       "    </tr>\n",
       "  </thead>\n",
       "  <tbody>\n",
       "    <tr>\n",
       "      <th rowspan=\"5\" valign=\"top\">1000</th>\n",
       "      <th>5</th>\n",
       "      <td>159</td>\n",
       "      <td>22.0</td>\n",
       "      <td>2253.49</td>\n",
       "    </tr>\n",
       "    <tr>\n",
       "      <th>6</th>\n",
       "      <td>172</td>\n",
       "      <td>60.0</td>\n",
       "      <td>23233.77</td>\n",
       "    </tr>\n",
       "    <tr>\n",
       "      <th>7</th>\n",
       "      <td>340</td>\n",
       "      <td>75.0</td>\n",
       "      <td>14003.64</td>\n",
       "    </tr>\n",
       "    <tr>\n",
       "      <th>8</th>\n",
       "      <td>408</td>\n",
       "      <td>81.0</td>\n",
       "      <td>14055.93</td>\n",
       "    </tr>\n",
       "    <tr>\n",
       "      <th>9</th>\n",
       "      <td>466</td>\n",
       "      <td>57.0</td>\n",
       "      <td>14568.91</td>\n",
       "    </tr>\n",
       "  </tbody>\n",
       "</table>\n",
       "</div>"
      ],
      "text/plain": [
       "               sum_minutes  cnt_messages  sum_internet\n",
       "user_id month                                         \n",
       "1000    5              159          22.0       2253.49\n",
       "        6              172          60.0      23233.77\n",
       "        7              340          75.0      14003.64\n",
       "        8              408          81.0      14055.93\n",
       "        9              466          57.0      14568.91"
      ]
     },
     "execution_count": 29,
     "metadata": {},
     "output_type": "execute_result"
    }
   ],
   "source": [
    "calls_sms = calls_duration_grouped.merge(message_grouped, on=['user_id','month'], how='left')\n",
    "used_data = calls_sms.merge(internet_grouped, on=['user_id','month'], how='left')\n",
    "used_data.head()"
   ]
  },
  {
   "cell_type": "markdown",
   "id": "78e3d7cd",
   "metadata": {},
   "source": [
    "Let's check if there are empty values in the summary table."
   ]
  },
  {
   "cell_type": "code",
   "execution_count": 30,
   "id": "b82b57fc",
   "metadata": {},
   "outputs": [
    {
     "data": {
      "text/plain": [
       "sum_minutes       0\n",
       "cnt_messages    496\n",
       "sum_internet     11\n",
       "dtype: int64"
      ]
     },
     "execution_count": 30,
     "metadata": {},
     "output_type": "execute_result"
    }
   ],
   "source": [
    "used_data.isna().sum()"
   ]
  },
  {
   "cell_type": "markdown",
   "id": "1631f275",
   "metadata": {},
   "source": [
    "Apparently empty values occur where users did not use the network resources. Therefore, replace these blanks with 0. Also round up the values and make all the numbers integers."
   ]
  },
  {
   "cell_type": "code",
   "execution_count": 31,
   "id": "d4a8d937",
   "metadata": {
    "scrolled": true
   },
   "outputs": [
    {
     "data": {
      "text/html": [
       "<div>\n",
       "<style scoped>\n",
       "    .dataframe tbody tr th:only-of-type {\n",
       "        vertical-align: middle;\n",
       "    }\n",
       "\n",
       "    .dataframe tbody tr th {\n",
       "        vertical-align: top;\n",
       "    }\n",
       "\n",
       "    .dataframe thead th {\n",
       "        text-align: right;\n",
       "    }\n",
       "</style>\n",
       "<table border=\"1\" class=\"dataframe\">\n",
       "  <thead>\n",
       "    <tr style=\"text-align: right;\">\n",
       "      <th></th>\n",
       "      <th></th>\n",
       "      <th>sum_minutes</th>\n",
       "      <th>cnt_messages</th>\n",
       "      <th>sum_internet</th>\n",
       "    </tr>\n",
       "    <tr>\n",
       "      <th>user_id</th>\n",
       "      <th>month</th>\n",
       "      <th></th>\n",
       "      <th></th>\n",
       "      <th></th>\n",
       "    </tr>\n",
       "  </thead>\n",
       "  <tbody>\n",
       "    <tr>\n",
       "      <th rowspan=\"5\" valign=\"top\">1000</th>\n",
       "      <th>5</th>\n",
       "      <td>159</td>\n",
       "      <td>22</td>\n",
       "      <td>2254</td>\n",
       "    </tr>\n",
       "    <tr>\n",
       "      <th>6</th>\n",
       "      <td>172</td>\n",
       "      <td>60</td>\n",
       "      <td>23234</td>\n",
       "    </tr>\n",
       "    <tr>\n",
       "      <th>7</th>\n",
       "      <td>340</td>\n",
       "      <td>75</td>\n",
       "      <td>14004</td>\n",
       "    </tr>\n",
       "    <tr>\n",
       "      <th>8</th>\n",
       "      <td>408</td>\n",
       "      <td>81</td>\n",
       "      <td>14056</td>\n",
       "    </tr>\n",
       "    <tr>\n",
       "      <th>9</th>\n",
       "      <td>466</td>\n",
       "      <td>57</td>\n",
       "      <td>14569</td>\n",
       "    </tr>\n",
       "  </tbody>\n",
       "</table>\n",
       "</div>"
      ],
      "text/plain": [
       "               sum_minutes  cnt_messages  sum_internet\n",
       "user_id month                                         \n",
       "1000    5              159            22          2254\n",
       "        6              172            60         23234\n",
       "        7              340            75         14004\n",
       "        8              408            81         14056\n",
       "        9              466            57         14569"
      ]
     },
     "metadata": {},
     "output_type": "display_data"
    }
   ],
   "source": [
    "used_data = used_data.fillna(0)\n",
    "used_data = np.ceil(used_data).astype(int)\n",
    "display(used_data.head(5))"
   ]
  },
  {
   "cell_type": "markdown",
   "id": "fa471686",
   "metadata": {},
   "source": [
    "Let's see how many lines with zero internet value."
   ]
  },
  {
   "cell_type": "code",
   "execution_count": 32,
   "id": "117f0dc0",
   "metadata": {},
   "outputs": [
    {
     "data": {
      "text/plain": [
       "13"
      ]
     },
     "execution_count": 32,
     "metadata": {},
     "output_type": "execute_result"
    }
   ],
   "source": [
    "used_data.query('sum_internet == 0')['sum_internet'].count()"
   ]
  },
  {
   "cell_type": "markdown",
   "id": "1135479d",
   "metadata": {},
   "source": [
    "According to the terms of tariffs, web traffic is rounded upwards, so replace 0 with 1024 (Mb)."
   ]
  },
  {
   "cell_type": "code",
   "execution_count": 33,
   "id": "88602ece",
   "metadata": {},
   "outputs": [
    {
     "data": {
      "text/plain": [
       "0"
      ]
     },
     "execution_count": 33,
     "metadata": {},
     "output_type": "execute_result"
    }
   ],
   "source": [
    "used_data.loc[used_data['sum_internet']==0,'sum_internet'] = 1024\n",
    "used_data.query('sum_internet == 0')['sum_internet'].count()"
   ]
  },
  {
   "cell_type": "markdown",
   "id": "959541f3",
   "metadata": {},
   "source": [
    "Let's combine the table of resources spent with the table of users."
   ]
  },
  {
   "cell_type": "code",
   "execution_count": 34,
   "id": "65d090c3",
   "metadata": {},
   "outputs": [
    {
     "data": {
      "text/html": [
       "<div>\n",
       "<style scoped>\n",
       "    .dataframe tbody tr th:only-of-type {\n",
       "        vertical-align: middle;\n",
       "    }\n",
       "\n",
       "    .dataframe tbody tr th {\n",
       "        vertical-align: top;\n",
       "    }\n",
       "\n",
       "    .dataframe thead th {\n",
       "        text-align: right;\n",
       "    }\n",
       "</style>\n",
       "<table border=\"1\" class=\"dataframe\">\n",
       "  <thead>\n",
       "    <tr style=\"text-align: right;\">\n",
       "      <th></th>\n",
       "      <th>user_id</th>\n",
       "      <th>month</th>\n",
       "      <th>sum_minutes</th>\n",
       "      <th>cnt_messages</th>\n",
       "      <th>sum_internet</th>\n",
       "      <th>age</th>\n",
       "      <th>churn_date</th>\n",
       "      <th>city</th>\n",
       "      <th>first_name</th>\n",
       "      <th>last_name</th>\n",
       "      <th>reg_date</th>\n",
       "      <th>tariff</th>\n",
       "    </tr>\n",
       "  </thead>\n",
       "  <tbody>\n",
       "    <tr>\n",
       "      <th>0</th>\n",
       "      <td>1000</td>\n",
       "      <td>5</td>\n",
       "      <td>159</td>\n",
       "      <td>22</td>\n",
       "      <td>2254</td>\n",
       "      <td>52</td>\n",
       "      <td>NaN</td>\n",
       "      <td>Краснодар</td>\n",
       "      <td>Рафаил</td>\n",
       "      <td>Верещагин</td>\n",
       "      <td>2018-05-25</td>\n",
       "      <td>ultra</td>\n",
       "    </tr>\n",
       "    <tr>\n",
       "      <th>1</th>\n",
       "      <td>1000</td>\n",
       "      <td>6</td>\n",
       "      <td>172</td>\n",
       "      <td>60</td>\n",
       "      <td>23234</td>\n",
       "      <td>52</td>\n",
       "      <td>NaN</td>\n",
       "      <td>Краснодар</td>\n",
       "      <td>Рафаил</td>\n",
       "      <td>Верещагин</td>\n",
       "      <td>2018-05-25</td>\n",
       "      <td>ultra</td>\n",
       "    </tr>\n",
       "    <tr>\n",
       "      <th>2</th>\n",
       "      <td>1000</td>\n",
       "      <td>7</td>\n",
       "      <td>340</td>\n",
       "      <td>75</td>\n",
       "      <td>14004</td>\n",
       "      <td>52</td>\n",
       "      <td>NaN</td>\n",
       "      <td>Краснодар</td>\n",
       "      <td>Рафаил</td>\n",
       "      <td>Верещагин</td>\n",
       "      <td>2018-05-25</td>\n",
       "      <td>ultra</td>\n",
       "    </tr>\n",
       "    <tr>\n",
       "      <th>3</th>\n",
       "      <td>1000</td>\n",
       "      <td>8</td>\n",
       "      <td>408</td>\n",
       "      <td>81</td>\n",
       "      <td>14056</td>\n",
       "      <td>52</td>\n",
       "      <td>NaN</td>\n",
       "      <td>Краснодар</td>\n",
       "      <td>Рафаил</td>\n",
       "      <td>Верещагин</td>\n",
       "      <td>2018-05-25</td>\n",
       "      <td>ultra</td>\n",
       "    </tr>\n",
       "    <tr>\n",
       "      <th>4</th>\n",
       "      <td>1000</td>\n",
       "      <td>9</td>\n",
       "      <td>466</td>\n",
       "      <td>57</td>\n",
       "      <td>14569</td>\n",
       "      <td>52</td>\n",
       "      <td>NaN</td>\n",
       "      <td>Краснодар</td>\n",
       "      <td>Рафаил</td>\n",
       "      <td>Верещагин</td>\n",
       "      <td>2018-05-25</td>\n",
       "      <td>ultra</td>\n",
       "    </tr>\n",
       "    <tr>\n",
       "      <th>5</th>\n",
       "      <td>1000</td>\n",
       "      <td>10</td>\n",
       "      <td>350</td>\n",
       "      <td>73</td>\n",
       "      <td>14703</td>\n",
       "      <td>52</td>\n",
       "      <td>NaN</td>\n",
       "      <td>Краснодар</td>\n",
       "      <td>Рафаил</td>\n",
       "      <td>Верещагин</td>\n",
       "      <td>2018-05-25</td>\n",
       "      <td>ultra</td>\n",
       "    </tr>\n",
       "    <tr>\n",
       "      <th>6</th>\n",
       "      <td>1000</td>\n",
       "      <td>11</td>\n",
       "      <td>338</td>\n",
       "      <td>58</td>\n",
       "      <td>14757</td>\n",
       "      <td>52</td>\n",
       "      <td>NaN</td>\n",
       "      <td>Краснодар</td>\n",
       "      <td>Рафаил</td>\n",
       "      <td>Верещагин</td>\n",
       "      <td>2018-05-25</td>\n",
       "      <td>ultra</td>\n",
       "    </tr>\n",
       "    <tr>\n",
       "      <th>7</th>\n",
       "      <td>1000</td>\n",
       "      <td>12</td>\n",
       "      <td>333</td>\n",
       "      <td>70</td>\n",
       "      <td>9818</td>\n",
       "      <td>52</td>\n",
       "      <td>NaN</td>\n",
       "      <td>Краснодар</td>\n",
       "      <td>Рафаил</td>\n",
       "      <td>Верещагин</td>\n",
       "      <td>2018-05-25</td>\n",
       "      <td>ultra</td>\n",
       "    </tr>\n",
       "    <tr>\n",
       "      <th>8</th>\n",
       "      <td>1001</td>\n",
       "      <td>11</td>\n",
       "      <td>430</td>\n",
       "      <td>0</td>\n",
       "      <td>18430</td>\n",
       "      <td>41</td>\n",
       "      <td>NaN</td>\n",
       "      <td>Москва</td>\n",
       "      <td>Иван</td>\n",
       "      <td>Ежов</td>\n",
       "      <td>2018-11-01</td>\n",
       "      <td>smart</td>\n",
       "    </tr>\n",
       "    <tr>\n",
       "      <th>9</th>\n",
       "      <td>1001</td>\n",
       "      <td>12</td>\n",
       "      <td>414</td>\n",
       "      <td>0</td>\n",
       "      <td>14037</td>\n",
       "      <td>41</td>\n",
       "      <td>NaN</td>\n",
       "      <td>Москва</td>\n",
       "      <td>Иван</td>\n",
       "      <td>Ежов</td>\n",
       "      <td>2018-11-01</td>\n",
       "      <td>smart</td>\n",
       "    </tr>\n",
       "  </tbody>\n",
       "</table>\n",
       "</div>"
      ],
      "text/plain": [
       "   user_id  month  sum_minutes  cnt_messages  sum_internet  age churn_date  \\\n",
       "0     1000      5          159            22          2254   52        NaN   \n",
       "1     1000      6          172            60         23234   52        NaN   \n",
       "2     1000      7          340            75         14004   52        NaN   \n",
       "3     1000      8          408            81         14056   52        NaN   \n",
       "4     1000      9          466            57         14569   52        NaN   \n",
       "5     1000     10          350            73         14703   52        NaN   \n",
       "6     1000     11          338            58         14757   52        NaN   \n",
       "7     1000     12          333            70          9818   52        NaN   \n",
       "8     1001     11          430             0         18430   41        NaN   \n",
       "9     1001     12          414             0         14037   41        NaN   \n",
       "\n",
       "        city first_name  last_name    reg_date tariff  \n",
       "0  Краснодар     Рафаил  Верещагин  2018-05-25  ultra  \n",
       "1  Краснодар     Рафаил  Верещагин  2018-05-25  ultra  \n",
       "2  Краснодар     Рафаил  Верещагин  2018-05-25  ultra  \n",
       "3  Краснодар     Рафаил  Верещагин  2018-05-25  ultra  \n",
       "4  Краснодар     Рафаил  Верещагин  2018-05-25  ultra  \n",
       "5  Краснодар     Рафаил  Верещагин  2018-05-25  ultra  \n",
       "6  Краснодар     Рафаил  Верещагин  2018-05-25  ultra  \n",
       "7  Краснодар     Рафаил  Верещагин  2018-05-25  ultra  \n",
       "8     Москва       Иван       Ежов  2018-11-01  smart  \n",
       "9     Москва       Иван       Ежов  2018-11-01  smart  "
      ]
     },
     "execution_count": 34,
     "metadata": {},
     "output_type": "execute_result"
    }
   ],
   "source": [
    "used_data = used_data.reset_index()\n",
    "merged_users = used_data.merge(data_users, on='user_id', how='left')\n",
    "merged_users.head(10)"
   ]
  },
  {
   "cell_type": "markdown",
   "id": "2b420dfa",
   "metadata": {},
   "source": [
    "*Calculate the number of minutes spent in excess of the set tariff. To do this, let's create a function."
   ]
  },
  {
   "cell_type": "code",
   "execution_count": 35,
   "id": "5c0fbf69",
   "metadata": {
    "scrolled": true
   },
   "outputs": [
    {
     "data": {
      "text/html": [
       "<div>\n",
       "<style scoped>\n",
       "    .dataframe tbody tr th:only-of-type {\n",
       "        vertical-align: middle;\n",
       "    }\n",
       "\n",
       "    .dataframe tbody tr th {\n",
       "        vertical-align: top;\n",
       "    }\n",
       "\n",
       "    .dataframe thead th {\n",
       "        text-align: right;\n",
       "    }\n",
       "</style>\n",
       "<table border=\"1\" class=\"dataframe\">\n",
       "  <thead>\n",
       "    <tr style=\"text-align: right;\">\n",
       "      <th></th>\n",
       "      <th>user_id</th>\n",
       "      <th>month</th>\n",
       "      <th>sum_minutes</th>\n",
       "      <th>cnt_messages</th>\n",
       "      <th>sum_internet</th>\n",
       "      <th>age</th>\n",
       "      <th>churn_date</th>\n",
       "      <th>city</th>\n",
       "      <th>first_name</th>\n",
       "      <th>last_name</th>\n",
       "      <th>reg_date</th>\n",
       "      <th>tariff</th>\n",
       "      <th>minutes_excess</th>\n",
       "    </tr>\n",
       "  </thead>\n",
       "  <tbody>\n",
       "    <tr>\n",
       "      <th>3169</th>\n",
       "      <td>1498</td>\n",
       "      <td>10</td>\n",
       "      <td>247</td>\n",
       "      <td>42</td>\n",
       "      <td>20580</td>\n",
       "      <td>68</td>\n",
       "      <td>2018-10-25</td>\n",
       "      <td>Владикавказ</td>\n",
       "      <td>Всеволод</td>\n",
       "      <td>Акимчин</td>\n",
       "      <td>2018-07-19</td>\n",
       "      <td>smart</td>\n",
       "      <td>0</td>\n",
       "    </tr>\n",
       "    <tr>\n",
       "      <th>3170</th>\n",
       "      <td>1499</td>\n",
       "      <td>9</td>\n",
       "      <td>70</td>\n",
       "      <td>11</td>\n",
       "      <td>1846</td>\n",
       "      <td>35</td>\n",
       "      <td>NaN</td>\n",
       "      <td>Пермь</td>\n",
       "      <td>Гектор</td>\n",
       "      <td>Корнилов</td>\n",
       "      <td>2018-09-27</td>\n",
       "      <td>smart</td>\n",
       "      <td>0</td>\n",
       "    </tr>\n",
       "    <tr>\n",
       "      <th>3171</th>\n",
       "      <td>1499</td>\n",
       "      <td>10</td>\n",
       "      <td>449</td>\n",
       "      <td>48</td>\n",
       "      <td>17789</td>\n",
       "      <td>35</td>\n",
       "      <td>NaN</td>\n",
       "      <td>Пермь</td>\n",
       "      <td>Гектор</td>\n",
       "      <td>Корнилов</td>\n",
       "      <td>2018-09-27</td>\n",
       "      <td>smart</td>\n",
       "      <td>0</td>\n",
       "    </tr>\n",
       "    <tr>\n",
       "      <th>3172</th>\n",
       "      <td>1499</td>\n",
       "      <td>11</td>\n",
       "      <td>612</td>\n",
       "      <td>59</td>\n",
       "      <td>17964</td>\n",
       "      <td>35</td>\n",
       "      <td>NaN</td>\n",
       "      <td>Пермь</td>\n",
       "      <td>Гектор</td>\n",
       "      <td>Корнилов</td>\n",
       "      <td>2018-09-27</td>\n",
       "      <td>smart</td>\n",
       "      <td>112</td>\n",
       "    </tr>\n",
       "    <tr>\n",
       "      <th>3173</th>\n",
       "      <td>1499</td>\n",
       "      <td>12</td>\n",
       "      <td>492</td>\n",
       "      <td>66</td>\n",
       "      <td>13056</td>\n",
       "      <td>35</td>\n",
       "      <td>NaN</td>\n",
       "      <td>Пермь</td>\n",
       "      <td>Гектор</td>\n",
       "      <td>Корнилов</td>\n",
       "      <td>2018-09-27</td>\n",
       "      <td>smart</td>\n",
       "      <td>0</td>\n",
       "    </tr>\n",
       "  </tbody>\n",
       "</table>\n",
       "</div>"
      ],
      "text/plain": [
       "      user_id  month  sum_minutes  cnt_messages  sum_internet  age  \\\n",
       "3169     1498     10          247            42         20580   68   \n",
       "3170     1499      9           70            11          1846   35   \n",
       "3171     1499     10          449            48         17789   35   \n",
       "3172     1499     11          612            59         17964   35   \n",
       "3173     1499     12          492            66         13056   35   \n",
       "\n",
       "      churn_date         city first_name last_name    reg_date tariff  \\\n",
       "3169  2018-10-25  Владикавказ   Всеволод   Акимчин  2018-07-19  smart   \n",
       "3170         NaN        Пермь     Гектор  Корнилов  2018-09-27  smart   \n",
       "3171         NaN        Пермь     Гектор  Корнилов  2018-09-27  smart   \n",
       "3172         NaN        Пермь     Гектор  Корнилов  2018-09-27  smart   \n",
       "3173         NaN        Пермь     Гектор  Корнилов  2018-09-27  smart   \n",
       "\n",
       "      minutes_excess  \n",
       "3169               0  \n",
       "3170               0  \n",
       "3171               0  \n",
       "3172             112  \n",
       "3173               0  "
      ]
     },
     "execution_count": 35,
     "metadata": {},
     "output_type": "execute_result"
    }
   ],
   "source": [
    "def minutes_excess(row):\n",
    "\n",
    "    tariff = row['tariff']\n",
    "    minutes = row['sum_minutes']\n",
    "\n",
    "    if tariff == 'ultra':\n",
    "        if minutes > 3000:\n",
    "            return minutes - 3000\n",
    "        else:\n",
    "            return 0\n",
    "    else:\n",
    "        if minutes > 500:\n",
    "            return minutes - 500\n",
    "        else:\n",
    "            return 0\n",
    "\n",
    "merged_users['minutes_excess'] = merged_users.apply(minutes_excess, axis=1)  \n",
    "merged_users.tail(5)"
   ]
  },
  {
   "cell_type": "markdown",
   "id": "cf7a3a67",
   "metadata": {},
   "source": [
    "*Now let's calculate the number of messages sent in excess of the set tariff. To do this let's create a function."
   ]
  },
  {
   "cell_type": "code",
   "execution_count": 36,
   "id": "c8139a47",
   "metadata": {},
   "outputs": [
    {
     "data": {
      "text/html": [
       "<div>\n",
       "<style scoped>\n",
       "    .dataframe tbody tr th:only-of-type {\n",
       "        vertical-align: middle;\n",
       "    }\n",
       "\n",
       "    .dataframe tbody tr th {\n",
       "        vertical-align: top;\n",
       "    }\n",
       "\n",
       "    .dataframe thead th {\n",
       "        text-align: right;\n",
       "    }\n",
       "</style>\n",
       "<table border=\"1\" class=\"dataframe\">\n",
       "  <thead>\n",
       "    <tr style=\"text-align: right;\">\n",
       "      <th></th>\n",
       "      <th>user_id</th>\n",
       "      <th>month</th>\n",
       "      <th>sum_minutes</th>\n",
       "      <th>cnt_messages</th>\n",
       "      <th>sum_internet</th>\n",
       "      <th>age</th>\n",
       "      <th>churn_date</th>\n",
       "      <th>city</th>\n",
       "      <th>first_name</th>\n",
       "      <th>last_name</th>\n",
       "      <th>reg_date</th>\n",
       "      <th>tariff</th>\n",
       "      <th>minutes_excess</th>\n",
       "      <th>sms_excess</th>\n",
       "    </tr>\n",
       "  </thead>\n",
       "  <tbody>\n",
       "    <tr>\n",
       "      <th>3169</th>\n",
       "      <td>1498</td>\n",
       "      <td>10</td>\n",
       "      <td>247</td>\n",
       "      <td>42</td>\n",
       "      <td>20580</td>\n",
       "      <td>68</td>\n",
       "      <td>2018-10-25</td>\n",
       "      <td>Владикавказ</td>\n",
       "      <td>Всеволод</td>\n",
       "      <td>Акимчин</td>\n",
       "      <td>2018-07-19</td>\n",
       "      <td>smart</td>\n",
       "      <td>0</td>\n",
       "      <td>0</td>\n",
       "    </tr>\n",
       "    <tr>\n",
       "      <th>3170</th>\n",
       "      <td>1499</td>\n",
       "      <td>9</td>\n",
       "      <td>70</td>\n",
       "      <td>11</td>\n",
       "      <td>1846</td>\n",
       "      <td>35</td>\n",
       "      <td>NaN</td>\n",
       "      <td>Пермь</td>\n",
       "      <td>Гектор</td>\n",
       "      <td>Корнилов</td>\n",
       "      <td>2018-09-27</td>\n",
       "      <td>smart</td>\n",
       "      <td>0</td>\n",
       "      <td>0</td>\n",
       "    </tr>\n",
       "    <tr>\n",
       "      <th>3171</th>\n",
       "      <td>1499</td>\n",
       "      <td>10</td>\n",
       "      <td>449</td>\n",
       "      <td>48</td>\n",
       "      <td>17789</td>\n",
       "      <td>35</td>\n",
       "      <td>NaN</td>\n",
       "      <td>Пермь</td>\n",
       "      <td>Гектор</td>\n",
       "      <td>Корнилов</td>\n",
       "      <td>2018-09-27</td>\n",
       "      <td>smart</td>\n",
       "      <td>0</td>\n",
       "      <td>0</td>\n",
       "    </tr>\n",
       "    <tr>\n",
       "      <th>3172</th>\n",
       "      <td>1499</td>\n",
       "      <td>11</td>\n",
       "      <td>612</td>\n",
       "      <td>59</td>\n",
       "      <td>17964</td>\n",
       "      <td>35</td>\n",
       "      <td>NaN</td>\n",
       "      <td>Пермь</td>\n",
       "      <td>Гектор</td>\n",
       "      <td>Корнилов</td>\n",
       "      <td>2018-09-27</td>\n",
       "      <td>smart</td>\n",
       "      <td>112</td>\n",
       "      <td>9</td>\n",
       "    </tr>\n",
       "    <tr>\n",
       "      <th>3173</th>\n",
       "      <td>1499</td>\n",
       "      <td>12</td>\n",
       "      <td>492</td>\n",
       "      <td>66</td>\n",
       "      <td>13056</td>\n",
       "      <td>35</td>\n",
       "      <td>NaN</td>\n",
       "      <td>Пермь</td>\n",
       "      <td>Гектор</td>\n",
       "      <td>Корнилов</td>\n",
       "      <td>2018-09-27</td>\n",
       "      <td>smart</td>\n",
       "      <td>0</td>\n",
       "      <td>16</td>\n",
       "    </tr>\n",
       "  </tbody>\n",
       "</table>\n",
       "</div>"
      ],
      "text/plain": [
       "      user_id  month  sum_minutes  cnt_messages  sum_internet  age  \\\n",
       "3169     1498     10          247            42         20580   68   \n",
       "3170     1499      9           70            11          1846   35   \n",
       "3171     1499     10          449            48         17789   35   \n",
       "3172     1499     11          612            59         17964   35   \n",
       "3173     1499     12          492            66         13056   35   \n",
       "\n",
       "      churn_date         city first_name last_name    reg_date tariff  \\\n",
       "3169  2018-10-25  Владикавказ   Всеволод   Акимчин  2018-07-19  smart   \n",
       "3170         NaN        Пермь     Гектор  Корнилов  2018-09-27  smart   \n",
       "3171         NaN        Пермь     Гектор  Корнилов  2018-09-27  smart   \n",
       "3172         NaN        Пермь     Гектор  Корнилов  2018-09-27  smart   \n",
       "3173         NaN        Пермь     Гектор  Корнилов  2018-09-27  smart   \n",
       "\n",
       "      minutes_excess  sms_excess  \n",
       "3169               0           0  \n",
       "3170               0           0  \n",
       "3171               0           0  \n",
       "3172             112           9  \n",
       "3173               0          16  "
      ]
     },
     "execution_count": 36,
     "metadata": {},
     "output_type": "execute_result"
    }
   ],
   "source": [
    "def sms_excess(row):\n",
    "\n",
    "    tariff = row['tariff']\n",
    "    sms = row['cnt_messages']\n",
    "\n",
    "    if tariff == 'ultra':\n",
    "        if sms > 1000:\n",
    "            return sms - 1000\n",
    "        else:\n",
    "            return 0\n",
    "    else:\n",
    "        if sms > 50:\n",
    "            return sms - 50\n",
    "        else:\n",
    "            return 0\n",
    "\n",
    "merged_users['sms_excess'] = merged_users.apply(sms_excess, axis=1)  \n",
    "merged_users.tail(5)"
   ]
  },
  {
   "cell_type": "markdown",
   "id": "f6633a19",
   "metadata": {},
   "source": [
    "### *Now let's calculate the amount of Internet traffic used in excess of the set tariff. To do this let's create a function.*"
   ]
  },
  {
   "cell_type": "code",
   "execution_count": 37,
   "id": "5a2b0639",
   "metadata": {
    "scrolled": true
   },
   "outputs": [
    {
     "data": {
      "text/html": [
       "<div>\n",
       "<style scoped>\n",
       "    .dataframe tbody tr th:only-of-type {\n",
       "        vertical-align: middle;\n",
       "    }\n",
       "\n",
       "    .dataframe tbody tr th {\n",
       "        vertical-align: top;\n",
       "    }\n",
       "\n",
       "    .dataframe thead th {\n",
       "        text-align: right;\n",
       "    }\n",
       "</style>\n",
       "<table border=\"1\" class=\"dataframe\">\n",
       "  <thead>\n",
       "    <tr style=\"text-align: right;\">\n",
       "      <th></th>\n",
       "      <th>user_id</th>\n",
       "      <th>month</th>\n",
       "      <th>sum_minutes</th>\n",
       "      <th>cnt_messages</th>\n",
       "      <th>sum_internet</th>\n",
       "      <th>age</th>\n",
       "      <th>churn_date</th>\n",
       "      <th>city</th>\n",
       "      <th>first_name</th>\n",
       "      <th>last_name</th>\n",
       "      <th>reg_date</th>\n",
       "      <th>tariff</th>\n",
       "      <th>minutes_excess</th>\n",
       "      <th>sms_excess</th>\n",
       "      <th>internet_excess</th>\n",
       "    </tr>\n",
       "  </thead>\n",
       "  <tbody>\n",
       "    <tr>\n",
       "      <th>3169</th>\n",
       "      <td>1498</td>\n",
       "      <td>10</td>\n",
       "      <td>247</td>\n",
       "      <td>42</td>\n",
       "      <td>20580</td>\n",
       "      <td>68</td>\n",
       "      <td>2018-10-25</td>\n",
       "      <td>Владикавказ</td>\n",
       "      <td>Всеволод</td>\n",
       "      <td>Акимчин</td>\n",
       "      <td>2018-07-19</td>\n",
       "      <td>smart</td>\n",
       "      <td>0</td>\n",
       "      <td>0</td>\n",
       "      <td>5220</td>\n",
       "    </tr>\n",
       "    <tr>\n",
       "      <th>3170</th>\n",
       "      <td>1499</td>\n",
       "      <td>9</td>\n",
       "      <td>70</td>\n",
       "      <td>11</td>\n",
       "      <td>1846</td>\n",
       "      <td>35</td>\n",
       "      <td>NaN</td>\n",
       "      <td>Пермь</td>\n",
       "      <td>Гектор</td>\n",
       "      <td>Корнилов</td>\n",
       "      <td>2018-09-27</td>\n",
       "      <td>smart</td>\n",
       "      <td>0</td>\n",
       "      <td>0</td>\n",
       "      <td>0</td>\n",
       "    </tr>\n",
       "    <tr>\n",
       "      <th>3171</th>\n",
       "      <td>1499</td>\n",
       "      <td>10</td>\n",
       "      <td>449</td>\n",
       "      <td>48</td>\n",
       "      <td>17789</td>\n",
       "      <td>35</td>\n",
       "      <td>NaN</td>\n",
       "      <td>Пермь</td>\n",
       "      <td>Гектор</td>\n",
       "      <td>Корнилов</td>\n",
       "      <td>2018-09-27</td>\n",
       "      <td>smart</td>\n",
       "      <td>0</td>\n",
       "      <td>0</td>\n",
       "      <td>2429</td>\n",
       "    </tr>\n",
       "    <tr>\n",
       "      <th>3172</th>\n",
       "      <td>1499</td>\n",
       "      <td>11</td>\n",
       "      <td>612</td>\n",
       "      <td>59</td>\n",
       "      <td>17964</td>\n",
       "      <td>35</td>\n",
       "      <td>NaN</td>\n",
       "      <td>Пермь</td>\n",
       "      <td>Гектор</td>\n",
       "      <td>Корнилов</td>\n",
       "      <td>2018-09-27</td>\n",
       "      <td>smart</td>\n",
       "      <td>112</td>\n",
       "      <td>9</td>\n",
       "      <td>2604</td>\n",
       "    </tr>\n",
       "    <tr>\n",
       "      <th>3173</th>\n",
       "      <td>1499</td>\n",
       "      <td>12</td>\n",
       "      <td>492</td>\n",
       "      <td>66</td>\n",
       "      <td>13056</td>\n",
       "      <td>35</td>\n",
       "      <td>NaN</td>\n",
       "      <td>Пермь</td>\n",
       "      <td>Гектор</td>\n",
       "      <td>Корнилов</td>\n",
       "      <td>2018-09-27</td>\n",
       "      <td>smart</td>\n",
       "      <td>0</td>\n",
       "      <td>16</td>\n",
       "      <td>0</td>\n",
       "    </tr>\n",
       "  </tbody>\n",
       "</table>\n",
       "</div>"
      ],
      "text/plain": [
       "      user_id  month  sum_minutes  cnt_messages  sum_internet  age  \\\n",
       "3169     1498     10          247            42         20580   68   \n",
       "3170     1499      9           70            11          1846   35   \n",
       "3171     1499     10          449            48         17789   35   \n",
       "3172     1499     11          612            59         17964   35   \n",
       "3173     1499     12          492            66         13056   35   \n",
       "\n",
       "      churn_date         city first_name last_name    reg_date tariff  \\\n",
       "3169  2018-10-25  Владикавказ   Всеволод   Акимчин  2018-07-19  smart   \n",
       "3170         NaN        Пермь     Гектор  Корнилов  2018-09-27  smart   \n",
       "3171         NaN        Пермь     Гектор  Корнилов  2018-09-27  smart   \n",
       "3172         NaN        Пермь     Гектор  Корнилов  2018-09-27  smart   \n",
       "3173         NaN        Пермь     Гектор  Корнилов  2018-09-27  smart   \n",
       "\n",
       "      minutes_excess  sms_excess  internet_excess  \n",
       "3169               0           0             5220  \n",
       "3170               0           0                0  \n",
       "3171               0           0             2429  \n",
       "3172             112           9             2604  \n",
       "3173               0          16                0  "
      ]
     },
     "execution_count": 37,
     "metadata": {},
     "output_type": "execute_result"
    }
   ],
   "source": [
    "def internet_excess(row):\n",
    "\n",
    "    tariff = row['tariff']\n",
    "    internet = row['sum_internet']\n",
    "\n",
    "    if tariff == 'ultra':\n",
    "        if internet > 30720:\n",
    "            return internet - 30720\n",
    "        else:\n",
    "            return 0\n",
    "    else:\n",
    "        if internet > 15360:\n",
    "            return internet - 15360\n",
    "        else:\n",
    "            return 0\n",
    "\n",
    "merged_users['internet_excess'] = merged_users.apply(internet_excess, axis=1)  \n",
    "merged_users.tail(5)"
   ]
  },
  {
   "cell_type": "markdown",
   "id": "ae0e9889",
   "metadata": {},
   "source": [
    "Let's round up internet traffic to GB to whole numbers."
   ]
  },
  {
   "cell_type": "code",
   "execution_count": 38,
   "id": "846a4d64",
   "metadata": {},
   "outputs": [
    {
     "data": {
      "text/html": [
       "<div>\n",
       "<style scoped>\n",
       "    .dataframe tbody tr th:only-of-type {\n",
       "        vertical-align: middle;\n",
       "    }\n",
       "\n",
       "    .dataframe tbody tr th {\n",
       "        vertical-align: top;\n",
       "    }\n",
       "\n",
       "    .dataframe thead th {\n",
       "        text-align: right;\n",
       "    }\n",
       "</style>\n",
       "<table border=\"1\" class=\"dataframe\">\n",
       "  <thead>\n",
       "    <tr style=\"text-align: right;\">\n",
       "      <th></th>\n",
       "      <th>user_id</th>\n",
       "      <th>month</th>\n",
       "      <th>sum_minutes</th>\n",
       "      <th>cnt_messages</th>\n",
       "      <th>sum_internet</th>\n",
       "      <th>age</th>\n",
       "      <th>churn_date</th>\n",
       "      <th>city</th>\n",
       "      <th>first_name</th>\n",
       "      <th>last_name</th>\n",
       "      <th>reg_date</th>\n",
       "      <th>tariff</th>\n",
       "      <th>minutes_excess</th>\n",
       "      <th>sms_excess</th>\n",
       "      <th>internet_excess</th>\n",
       "    </tr>\n",
       "  </thead>\n",
       "  <tbody>\n",
       "    <tr>\n",
       "      <th>3169</th>\n",
       "      <td>1498</td>\n",
       "      <td>10</td>\n",
       "      <td>247</td>\n",
       "      <td>42</td>\n",
       "      <td>21</td>\n",
       "      <td>68</td>\n",
       "      <td>2018-10-25</td>\n",
       "      <td>Владикавказ</td>\n",
       "      <td>Всеволод</td>\n",
       "      <td>Акимчин</td>\n",
       "      <td>2018-07-19</td>\n",
       "      <td>smart</td>\n",
       "      <td>0</td>\n",
       "      <td>0</td>\n",
       "      <td>6</td>\n",
       "    </tr>\n",
       "    <tr>\n",
       "      <th>3170</th>\n",
       "      <td>1499</td>\n",
       "      <td>9</td>\n",
       "      <td>70</td>\n",
       "      <td>11</td>\n",
       "      <td>2</td>\n",
       "      <td>35</td>\n",
       "      <td>NaN</td>\n",
       "      <td>Пермь</td>\n",
       "      <td>Гектор</td>\n",
       "      <td>Корнилов</td>\n",
       "      <td>2018-09-27</td>\n",
       "      <td>smart</td>\n",
       "      <td>0</td>\n",
       "      <td>0</td>\n",
       "      <td>0</td>\n",
       "    </tr>\n",
       "    <tr>\n",
       "      <th>3171</th>\n",
       "      <td>1499</td>\n",
       "      <td>10</td>\n",
       "      <td>449</td>\n",
       "      <td>48</td>\n",
       "      <td>18</td>\n",
       "      <td>35</td>\n",
       "      <td>NaN</td>\n",
       "      <td>Пермь</td>\n",
       "      <td>Гектор</td>\n",
       "      <td>Корнилов</td>\n",
       "      <td>2018-09-27</td>\n",
       "      <td>smart</td>\n",
       "      <td>0</td>\n",
       "      <td>0</td>\n",
       "      <td>3</td>\n",
       "    </tr>\n",
       "    <tr>\n",
       "      <th>3172</th>\n",
       "      <td>1499</td>\n",
       "      <td>11</td>\n",
       "      <td>612</td>\n",
       "      <td>59</td>\n",
       "      <td>18</td>\n",
       "      <td>35</td>\n",
       "      <td>NaN</td>\n",
       "      <td>Пермь</td>\n",
       "      <td>Гектор</td>\n",
       "      <td>Корнилов</td>\n",
       "      <td>2018-09-27</td>\n",
       "      <td>smart</td>\n",
       "      <td>112</td>\n",
       "      <td>9</td>\n",
       "      <td>3</td>\n",
       "    </tr>\n",
       "    <tr>\n",
       "      <th>3173</th>\n",
       "      <td>1499</td>\n",
       "      <td>12</td>\n",
       "      <td>492</td>\n",
       "      <td>66</td>\n",
       "      <td>13</td>\n",
       "      <td>35</td>\n",
       "      <td>NaN</td>\n",
       "      <td>Пермь</td>\n",
       "      <td>Гектор</td>\n",
       "      <td>Корнилов</td>\n",
       "      <td>2018-09-27</td>\n",
       "      <td>smart</td>\n",
       "      <td>0</td>\n",
       "      <td>16</td>\n",
       "      <td>0</td>\n",
       "    </tr>\n",
       "  </tbody>\n",
       "</table>\n",
       "</div>"
      ],
      "text/plain": [
       "      user_id  month  sum_minutes  cnt_messages  sum_internet  age  \\\n",
       "3169     1498     10          247            42            21   68   \n",
       "3170     1499      9           70            11             2   35   \n",
       "3171     1499     10          449            48            18   35   \n",
       "3172     1499     11          612            59            18   35   \n",
       "3173     1499     12          492            66            13   35   \n",
       "\n",
       "      churn_date         city first_name last_name    reg_date tariff  \\\n",
       "3169  2018-10-25  Владикавказ   Всеволод   Акимчин  2018-07-19  smart   \n",
       "3170         NaN        Пермь     Гектор  Корнилов  2018-09-27  smart   \n",
       "3171         NaN        Пермь     Гектор  Корнилов  2018-09-27  smart   \n",
       "3172         NaN        Пермь     Гектор  Корнилов  2018-09-27  smart   \n",
       "3173         NaN        Пермь     Гектор  Корнилов  2018-09-27  smart   \n",
       "\n",
       "      minutes_excess  sms_excess  internet_excess  \n",
       "3169               0           0                6  \n",
       "3170               0           0                0  \n",
       "3171               0           0                3  \n",
       "3172             112           9                3  \n",
       "3173               0          16                0  "
      ]
     },
     "execution_count": 38,
     "metadata": {},
     "output_type": "execute_result"
    }
   ],
   "source": [
    "merged_users['sum_internet'] = np.ceil(merged_users['sum_internet']/1024).astype(int)\n",
    "merged_users['internet_excess'] = np.ceil(merged_users['internet_excess']/1024).astype(int)\n",
    "merged_users.tail(5)"
   ]
  },
  {
   "cell_type": "markdown",
   "id": "b18acd57",
   "metadata": {},
   "source": [
    "### 2.4.1 Calculation the monthly revenue per user"
   ]
  },
  {
   "cell_type": "code",
   "execution_count": 39,
   "id": "ce07c326",
   "metadata": {},
   "outputs": [
    {
     "data": {
      "text/html": [
       "<div>\n",
       "<style scoped>\n",
       "    .dataframe tbody tr th:only-of-type {\n",
       "        vertical-align: middle;\n",
       "    }\n",
       "\n",
       "    .dataframe tbody tr th {\n",
       "        vertical-align: top;\n",
       "    }\n",
       "\n",
       "    .dataframe thead th {\n",
       "        text-align: right;\n",
       "    }\n",
       "</style>\n",
       "<table border=\"1\" class=\"dataframe\">\n",
       "  <thead>\n",
       "    <tr style=\"text-align: right;\">\n",
       "      <th></th>\n",
       "      <th>user_id</th>\n",
       "      <th>month</th>\n",
       "      <th>sum_minutes</th>\n",
       "      <th>cnt_messages</th>\n",
       "      <th>sum_internet</th>\n",
       "      <th>age</th>\n",
       "      <th>churn_date</th>\n",
       "      <th>city</th>\n",
       "      <th>first_name</th>\n",
       "      <th>last_name</th>\n",
       "      <th>reg_date</th>\n",
       "      <th>tariff</th>\n",
       "      <th>minutes_excess</th>\n",
       "      <th>sms_excess</th>\n",
       "      <th>internet_excess</th>\n",
       "      <th>total_costs</th>\n",
       "    </tr>\n",
       "  </thead>\n",
       "  <tbody>\n",
       "    <tr>\n",
       "      <th>3169</th>\n",
       "      <td>1498</td>\n",
       "      <td>10</td>\n",
       "      <td>247</td>\n",
       "      <td>42</td>\n",
       "      <td>21</td>\n",
       "      <td>68</td>\n",
       "      <td>2018-10-25</td>\n",
       "      <td>Владикавказ</td>\n",
       "      <td>Всеволод</td>\n",
       "      <td>Акимчин</td>\n",
       "      <td>2018-07-19</td>\n",
       "      <td>smart</td>\n",
       "      <td>0</td>\n",
       "      <td>0</td>\n",
       "      <td>6</td>\n",
       "      <td>1750</td>\n",
       "    </tr>\n",
       "    <tr>\n",
       "      <th>3170</th>\n",
       "      <td>1499</td>\n",
       "      <td>9</td>\n",
       "      <td>70</td>\n",
       "      <td>11</td>\n",
       "      <td>2</td>\n",
       "      <td>35</td>\n",
       "      <td>NaN</td>\n",
       "      <td>Пермь</td>\n",
       "      <td>Гектор</td>\n",
       "      <td>Корнилов</td>\n",
       "      <td>2018-09-27</td>\n",
       "      <td>smart</td>\n",
       "      <td>0</td>\n",
       "      <td>0</td>\n",
       "      <td>0</td>\n",
       "      <td>550</td>\n",
       "    </tr>\n",
       "    <tr>\n",
       "      <th>3171</th>\n",
       "      <td>1499</td>\n",
       "      <td>10</td>\n",
       "      <td>449</td>\n",
       "      <td>48</td>\n",
       "      <td>18</td>\n",
       "      <td>35</td>\n",
       "      <td>NaN</td>\n",
       "      <td>Пермь</td>\n",
       "      <td>Гектор</td>\n",
       "      <td>Корнилов</td>\n",
       "      <td>2018-09-27</td>\n",
       "      <td>smart</td>\n",
       "      <td>0</td>\n",
       "      <td>0</td>\n",
       "      <td>3</td>\n",
       "      <td>1150</td>\n",
       "    </tr>\n",
       "    <tr>\n",
       "      <th>3172</th>\n",
       "      <td>1499</td>\n",
       "      <td>11</td>\n",
       "      <td>612</td>\n",
       "      <td>59</td>\n",
       "      <td>18</td>\n",
       "      <td>35</td>\n",
       "      <td>NaN</td>\n",
       "      <td>Пермь</td>\n",
       "      <td>Гектор</td>\n",
       "      <td>Корнилов</td>\n",
       "      <td>2018-09-27</td>\n",
       "      <td>smart</td>\n",
       "      <td>112</td>\n",
       "      <td>9</td>\n",
       "      <td>3</td>\n",
       "      <td>1513</td>\n",
       "    </tr>\n",
       "    <tr>\n",
       "      <th>3173</th>\n",
       "      <td>1499</td>\n",
       "      <td>12</td>\n",
       "      <td>492</td>\n",
       "      <td>66</td>\n",
       "      <td>13</td>\n",
       "      <td>35</td>\n",
       "      <td>NaN</td>\n",
       "      <td>Пермь</td>\n",
       "      <td>Гектор</td>\n",
       "      <td>Корнилов</td>\n",
       "      <td>2018-09-27</td>\n",
       "      <td>smart</td>\n",
       "      <td>0</td>\n",
       "      <td>16</td>\n",
       "      <td>0</td>\n",
       "      <td>598</td>\n",
       "    </tr>\n",
       "  </tbody>\n",
       "</table>\n",
       "</div>"
      ],
      "text/plain": [
       "      user_id  month  sum_minutes  cnt_messages  sum_internet  age  \\\n",
       "3169     1498     10          247            42            21   68   \n",
       "3170     1499      9           70            11             2   35   \n",
       "3171     1499     10          449            48            18   35   \n",
       "3172     1499     11          612            59            18   35   \n",
       "3173     1499     12          492            66            13   35   \n",
       "\n",
       "      churn_date         city first_name last_name    reg_date tariff  \\\n",
       "3169  2018-10-25  Владикавказ   Всеволод   Акимчин  2018-07-19  smart   \n",
       "3170         NaN        Пермь     Гектор  Корнилов  2018-09-27  smart   \n",
       "3171         NaN        Пермь     Гектор  Корнилов  2018-09-27  smart   \n",
       "3172         NaN        Пермь     Гектор  Корнилов  2018-09-27  smart   \n",
       "3173         NaN        Пермь     Гектор  Корнилов  2018-09-27  smart   \n",
       "\n",
       "      minutes_excess  sms_excess  internet_excess  total_costs  \n",
       "3169               0           0                6         1750  \n",
       "3170               0           0                0          550  \n",
       "3171               0           0                3         1150  \n",
       "3172             112           9                3         1513  \n",
       "3173               0          16                0          598  "
      ]
     },
     "execution_count": 39,
     "metadata": {},
     "output_type": "execute_result"
    }
   ],
   "source": [
    "def total_costs(row):\n",
    "    \n",
    "    tariff = row['tariff']\n",
    "    minutes = row['minutes_excess']\n",
    "    sms = row['sms_excess']\n",
    "    internet = row['internet_excess']\n",
    "    \n",
    "    if tariff == 'ultra':\n",
    "        return (1950 + minutes*1 + sms*1 + internet*150)\n",
    "    else:\n",
    "        return (550 + minutes*3 + sms*3 + internet*200)\n",
    "\n",
    "\n",
    "    \n",
    "merged_users['total_costs'] = merged_users.apply(total_costs, axis=1)\n",
    "merged_users.tail(5)"
   ]
  },
  {
   "cell_type": "markdown",
   "id": "6df905a4",
   "metadata": {},
   "source": [
    "# 3. Data analysis"
   ]
  },
  {
   "cell_type": "markdown",
   "id": "ec61dcc8",
   "metadata": {},
   "source": [
    "Let's analyze how many minutes of talk time, how many messages and how much Internet traffic each tariff users need per month. To do this, let's calculate the average number, variance and standard deviation.\n",
    "\n",
    "**Number of minutes**."
   ]
  },
  {
   "cell_type": "code",
   "execution_count": 40,
   "id": "5b200d29",
   "metadata": {},
   "outputs": [
    {
     "name": "stdout",
     "output_type": "stream",
     "text": [
      "The number of users who have enough minutes in the tariff: 2420\n",
      "Total number of users: 3174\n",
      "The number of users who do NOT have enough minutes in the tariff: 754\n",
      "Share of users who do NOT have enough minutes in the tariff: 0.24 %\n"
     ]
    }
   ],
   "source": [
    "enough_minutes = merged_users.query('minutes_excess == 0')['minutes_excess'].count()\n",
    "total_users =  merged_users['minutes_excess'].count()\n",
    "difference_minutes = total_users-enough_minutes\n",
    "print('The number of users who have enough minutes in the tariff:', enough_minutes)\n",
    "print('Total number of users:', total_users)\n",
    "print('The number of users who do NOT have enough minutes in the tariff:', difference_minutes)\n",
    "print('Share of users who do NOT have enough minutes in the tariff:',(difference_minutes/total_users).round(decimals = 2),'%')"
   ]
  },
  {
   "cell_type": "markdown",
   "id": "44dba491",
   "metadata": {},
   "source": [
    "As you can see, the percentage of users who exceed the traffic provided by the tariff plan is only 24%. From this we can conclude that the majority of users are satisfied with the allocated number of minutes.\n",
    "\n",
    "**Message quantity**"
   ]
  },
  {
   "cell_type": "code",
   "execution_count": 41,
   "id": "2fcee1f2",
   "metadata": {},
   "outputs": [
    {
     "name": "stdout",
     "output_type": "stream",
     "text": [
      "The number of users who have enough sms in the tariff: 2610\n",
      "Total number of users: 3174\n",
      "The number of users who do not have enough sms in the tariff: 564\n",
      "Share of users who do not have enough minutes in the tariff: 0.18 %\n"
     ]
    }
   ],
   "source": [
    "enough_sms = merged_users.query('sms_excess == 0')['sms_excess'].count()\n",
    "total_users_sms =  merged_users['sms_excess'].count()\n",
    "difference_sms = total_users_sms-enough_sms\n",
    "print('The number of users who have enough sms in the tariff:', enough_sms)\n",
    "print('Total number of users:', total_users_sms)\n",
    "print('The number of users who do not have enough sms in the tariff:', difference_sms)\n",
    "print('Share of users who do not have enough minutes in the tariff:',(difference_sms/total_users_sms).round(decimals = 2),'%')"
   ]
  },
  {
   "cell_type": "markdown",
   "id": "52faa204",
   "metadata": {},
   "source": [
    "As you can see, the percentage of users who exceed the traffic provided by the tariff plan is only 18%. From this we can conclude that the majority of users are satisfied with the allocated amount of sms.\n",
    "\n",
    "**Internet quantity**"
   ]
  },
  {
   "cell_type": "code",
   "execution_count": 42,
   "id": "ec35a40e",
   "metadata": {},
   "outputs": [
    {
     "name": "stdout",
     "output_type": "stream",
     "text": [
      "The number of users who have enough Internet in the tariff: 1746\n",
      "Total number of users: 3174\n",
      "Number of users who do not have enough Internet in the tariff: 1428\n",
      "Share of users who do not have enough Internet in the tariff: 0.45 %\n"
     ]
    }
   ],
   "source": [
    "enough_inet = merged_users.query('internet_excess == 0')['internet_excess'].count()\n",
    "total_users_inet =  merged_users['internet_excess'].count()\n",
    "difference_inet = total_users_inet-enough_inet\n",
    "print('The number of users who have enough Internet in the tariff:', enough_inet)\n",
    "print('Total number of users:', total_users_inet)\n",
    "print('Number of users who do not have enough Internet in the tariff:', difference_inet)\n",
    "print('Share of users who do not have enough Internet in the tariff:',(difference_inet/total_users_inet).round(decimals = 2),'%')"
   ]
  },
  {
   "cell_type": "markdown",
   "id": "0cb6cd03",
   "metadata": {},
   "source": [
    "As you can see the proportion of users who exceed the Internet traffic provided by the tariff plan is almost half of all users - 45%. This is quite a lot and it is obvious that we need to review the tariff plan and add internet."
   ]
  },
  {
   "cell_type": "markdown",
   "id": "fe116c42",
   "metadata": {},
   "source": [
    "## 3.1. The number of minutes used by customers."
   ]
  },
  {
   "cell_type": "markdown",
   "id": "6b46a4f1",
   "metadata": {},
   "source": [
    "### 3.1.1 'Smart' tariff"
   ]
  },
  {
   "cell_type": "markdown",
   "id": "850adcbe",
   "metadata": {},
   "source": [
    "Let's divide users into two categories according to smart and ultra rates. Let's calculate the average, standard deviation and variance."
   ]
  },
  {
   "cell_type": "code",
   "execution_count": 43,
   "id": "879963a8",
   "metadata": {},
   "outputs": [
    {
     "name": "stdout",
     "output_type": "stream",
     "text": [
      "Average - 419.0629779577148\n",
      "Dispersion - 35828.06530953033\n",
      "Standard deviation - 189.2830296395594\n"
     ]
    },
    {
     "data": {
      "text/plain": [
       "count    2223.000000\n",
       "mean      419.062978\n",
       "std       189.325618\n",
       "min         0.000000\n",
       "25%       285.000000\n",
       "50%       423.000000\n",
       "75%       545.500000\n",
       "max      1435.000000\n",
       "Name: sum_minutes, dtype: float64"
      ]
     },
     "execution_count": 43,
     "metadata": {},
     "output_type": "execute_result"
    }
   ],
   "source": [
    "smart_minutes = merged_users.query('tariff == \"smart\"')['sum_minutes']\n",
    "print('Average -', smart_minutes.mean())\n",
    "variance_smart_minutes = np.var(smart_minutes)\n",
    "print('Dispersion -',variance_smart_minutes)\n",
    "standard_deviation_smart_minutes = np.std(smart_minutes)\n",
    "print('Standard deviation -',standard_deviation_smart_minutes)\n",
    "smart_minutes.describe()"
   ]
  },
  {
   "cell_type": "markdown",
   "id": "323cc154",
   "metadata": {},
   "source": [
    "Let's build a diagram of the use of minutes of talk time on the 'smart' tariff."
   ]
  },
  {
   "cell_type": "code",
   "execution_count": 44,
   "id": "79393ef2",
   "metadata": {},
   "outputs": [
    {
     "data": {
      "image/png": "[encoded data removed]",
      "text/plain": [
       "<Figure size 432x288 with 1 Axes>"
      ]
     },
     "metadata": {
      "needs_background": "light"
     },
     "output_type": "display_data"
    }
   ],
   "source": [
    "smart_minutes_plot = smart_minutes.plot(kind='hist',\n",
    "range=(0, 1500),\n",
    "bins=50,\n",
    "linewidth=2,\n",
    "grid=True,\n",
    "title='Number of minutes per month on \"Smart\" tariff')\n",
    "smart_minutes_plot.set_xlabel('Number of minutes')\n",
    "smart_minutes_plot.set_ylabel('Frequency')\n",
    "plt.show()"
   ]
  },
  {
   "cell_type": "markdown",
   "id": "dd47b667",
   "metadata": {},
   "source": [
    "As you can see most talk for 500 minutes a month, just within the tariff. The slant to the right indicates that a small proportion of users talk more than the time set by the tariff.\n",
    "\n",
    "Let's check our conclusion and see the probability that users talk an average of 500 minutes per month."
   ]
  },
  {
   "cell_type": "code",
   "execution_count": 45,
   "id": "ca4bf3a7",
   "metadata": {},
   "outputs": [
    {
     "name": "stdout",
     "output_type": "stream",
     "text": [
      "0.5\n"
     ]
    }
   ],
   "source": [
    "# we set a normal distribution with expectation 500 and standard deviation 189\n",
    "distr_smart_minutes = st.norm(500, 189)\n",
    "print(distr_smart_minutes.cdf(500))"
   ]
  },
  {
   "cell_type": "markdown",
   "id": "8fa440ff",
   "metadata": {},
   "source": [
    "The probability is 50%.\n",
    "\n",
    "Now let's look at the probability of using the most popular minute interval from 400 to 550."
   ]
  },
  {
   "cell_type": "code",
   "execution_count": 46,
   "id": "0b842188",
   "metadata": {},
   "outputs": [
    {
     "name": "stdout",
     "output_type": "stream",
     "text": [
      "0.30595417358630983\n"
     ]
    }
   ],
   "source": [
    "distr_smart_minutes_gap = st.norm(500, 189) \n",
    "\n",
    "x1 = 400\n",
    "x2 = 550\n",
    "\n",
    "smart_minutes_gap = distr_smart_minutes_gap.cdf(x2) - distr_smart_minutes_gap.cdf(x1)\n",
    "print(smart_minutes_gap)"
   ]
  },
  {
   "cell_type": "markdown",
   "id": "5165b653",
   "metadata": {},
   "source": [
    "Probability of 30%."
   ]
  },
  {
   "cell_type": "markdown",
   "id": "4fad1472",
   "metadata": {},
   "source": [
    "### 3.1.2. \"Ultra\" tariff"
   ]
  },
  {
   "cell_type": "markdown",
   "id": "6a38d312",
   "metadata": {},
   "source": [
    "Let's calculate the mean, standard deviation and variance."
   ]
  },
  {
   "cell_type": "code",
   "execution_count": 47,
   "id": "06a9ca44",
   "metadata": {},
   "outputs": [
    {
     "name": "stdout",
     "output_type": "stream",
     "text": [
      "Average - 545.4511041009464\n",
      "Dispersion - 94104.36117385984\n",
      "Standard deviation - 306.76434143143143\n"
     ]
    },
    {
     "data": {
      "text/plain": [
       "count     951.000000\n",
       "mean      545.451104\n",
       "std       306.925754\n",
       "min         0.000000\n",
       "25%       310.000000\n",
       "50%       528.000000\n",
       "75%       756.500000\n",
       "max      1673.000000\n",
       "Name: sum_minutes, dtype: float64"
      ]
     },
     "execution_count": 47,
     "metadata": {},
     "output_type": "execute_result"
    }
   ],
   "source": [
    "ultra_minutes = merged_users.query('tariff == \"ultra\"')['sum_minutes']\n",
    "print('Average -', ultra_minutes.mean())\n",
    "variance_ultra_minutes = np.var(ultra_minutes)\n",
    "print('Dispersion -',variance_ultra_minutes)\n",
    "standard_deviation_ultra_minutes = np.std(ultra_minutes)\n",
    "print('Standard deviation -',standard_deviation_ultra_minutes)\n",
    "ultra_minutes.describe()"
   ]
  },
  {
   "cell_type": "markdown",
   "id": "13d318e0",
   "metadata": {},
   "source": [
    "Let's build a diagram of the use of minutes on the tariff \"Ultra\"."
   ]
  },
  {
   "cell_type": "code",
   "execution_count": 48,
   "id": "85139e89",
   "metadata": {},
   "outputs": [
    {
     "data": {
      "image/png": "[encoded data removed]",
      "text/plain": [
       "<Figure size 432x288 with 1 Axes>"
      ]
     },
     "metadata": {
      "needs_background": "light"
     },
     "output_type": "display_data"
    }
   ],
   "source": [
    "ultra_minutes_plot = ultra_minutes.plot(kind='hist',\n",
    "range=(0, 1700),\n",
    "bins=50,\n",
    "linewidth=2,\n",
    "grid=True,\n",
    "title='Number of minutes per month on \"Ultra\" tariff')\n",
    "ultra_minutes_plot.set_xlabel('Number of minutes')\n",
    "ultra_minutes_plot.set_ylabel('Frequency')\n",
    "plt.show()"
   ]
  },
  {
   "cell_type": "markdown",
   "id": "dbd96370",
   "metadata": {},
   "source": [
    "As you can see on the tariff ultra users also usually spend 500 minutes per month on calls. Let's check this conclusion and see what the probability is of conversations between 450 and 750 minutes."
   ]
  },
  {
   "cell_type": "code",
   "execution_count": 49,
   "id": "2d0985d4",
   "metadata": {},
   "outputs": [
    {
     "name": "stdout",
     "output_type": "stream",
     "text": [
      "0.3579316523893246\n"
     ]
    }
   ],
   "source": [
    "distr_ultra_minutes_gap = st.norm(500, 306) \n",
    "\n",
    "x1 = 450\n",
    "x2 = 750\n",
    "\n",
    "ultra_minutes_gap = distr_ultra_minutes_gap.cdf(x2) - distr_ultra_minutes_gap.cdf(x1)\n",
    "print(ultra_minutes_gap)"
   ]
  },
  {
   "cell_type": "markdown",
   "id": "cee2ca40",
   "metadata": {},
   "source": [
    "Probability of 35%."
   ]
  },
  {
   "cell_type": "markdown",
   "id": "8932f884",
   "metadata": {},
   "source": [
    "## 3.2. The number of messages that users send."
   ]
  },
  {
   "cell_type": "markdown",
   "id": "df163de0",
   "metadata": {},
   "source": [
    "### 3.2.1 'Smart' tariff"
   ]
  },
  {
   "cell_type": "markdown",
   "id": "ad0b5f32",
   "metadata": {},
   "source": [
    "Let's do the same steps as with the minute analysis."
   ]
  },
  {
   "cell_type": "code",
   "execution_count": 50,
   "id": "d4eff2c6",
   "metadata": {},
   "outputs": [
    {
     "name": "stdout",
     "output_type": "stream",
     "text": [
      "Average - 33.396311291048136\n",
      "Dispersion - 798.2365495963054\n",
      "Standard deviation - 28.253080355888727\n"
     ]
    },
    {
     "data": {
      "text/plain": [
       "count    2223.000000\n",
       "mean       33.396311\n",
       "std        28.259437\n",
       "min         0.000000\n",
       "25%        10.000000\n",
       "50%        28.000000\n",
       "75%        51.000000\n",
       "max       143.000000\n",
       "Name: cnt_messages, dtype: float64"
      ]
     },
     "execution_count": 50,
     "metadata": {},
     "output_type": "execute_result"
    }
   ],
   "source": [
    "smart_sms = merged_users.query('tariff == \"smart\"')['cnt_messages']\n",
    "print('Average -', smart_sms.mean())\n",
    "variance_smart_sms = np.var(smart_sms)\n",
    "print('Dispersion -',variance_smart_sms)\n",
    "standard_deviation_smart_sms = np.std(smart_sms)\n",
    "print('Standard deviation -',standard_deviation_smart_sms)\n",
    "smart_sms.describe()"
   ]
  },
  {
   "cell_type": "code",
   "execution_count": 52,
   "id": "e438899b",
   "metadata": {},
   "outputs": [
    {
     "data": {
      "image/png": "[encoded data removed]",
      "text/plain": [
       "<Figure size 432x288 with 1 Axes>"
      ]
     },
     "metadata": {
      "needs_background": "light"
     },
     "output_type": "display_data"
    }
   ],
   "source": [
    "smart_sms_plot = smart_sms.plot(kind='hist',\n",
    "range=(0, 150),\n",
    "bins=50,\n",
    "linewidth=2,\n",
    "grid=True,\n",
    "title='Number of messages sent per month on \"Smart\" tariff')\n",
    "smart_sms_plot.set_xlabel('Number of sms')\n",
    "smart_sms_plot.set_ylabel('Frequency')\n",
    "plt.show()"
   ]
  },
  {
   "cell_type": "markdown",
   "id": "8986b8a8",
   "metadata": {},
   "source": [
    "As you can see, quite a large proportion of people who do not use sms. Nevertheless, it is noticeable that the majority of users are satisfied with 20 messages per month.\n",
    "\n",
    "Let's look at the probability of using the most popular interval of messages from 10 to 30."
   ]
  },
  {
   "cell_type": "code",
   "execution_count": 53,
   "id": "29bf16d0",
   "metadata": {},
   "outputs": [
    {
     "name": "stdout",
     "output_type": "stream",
     "text": [
      "0.27901513809832923\n"
     ]
    }
   ],
   "source": [
    "distr_smart_sms_gap = st.norm(20, 28) \n",
    "\n",
    "x1 = 10\n",
    "x2 = 30\n",
    "\n",
    "smart_sms_gap = distr_smart_sms_gap.cdf(x2) - distr_smart_sms_gap.cdf(x1)\n",
    "print(smart_sms_gap)"
   ]
  },
  {
   "cell_type": "markdown",
   "id": "3c527c4e",
   "metadata": {},
   "source": [
    "The probability is almost 30%."
   ]
  },
  {
   "cell_type": "markdown",
   "id": "449ae267",
   "metadata": {},
   "source": [
    "### 3.2.2. 'Ultra' tariff"
   ]
  },
  {
   "cell_type": "code",
   "execution_count": 54,
   "id": "7a9083fe",
   "metadata": {},
   "outputs": [
    {
     "name": "stdout",
     "output_type": "stream",
     "text": [
      "Average - 49.03364879074658\n",
      "Dispersion - 2196.4215806926354\n",
      "Standard deviation - 46.865995995952495\n"
     ]
    },
    {
     "data": {
      "text/plain": [
       "count    951.000000\n",
       "mean      49.033649\n",
       "std       46.890656\n",
       "min        0.000000\n",
       "25%        5.000000\n",
       "50%       39.000000\n",
       "75%       79.000000\n",
       "max      224.000000\n",
       "Name: cnt_messages, dtype: float64"
      ]
     },
     "execution_count": 54,
     "metadata": {},
     "output_type": "execute_result"
    }
   ],
   "source": [
    "ultra_sms = merged_users.query('tariff == \"ultra\"')['cnt_messages']\n",
    "print('Average -', ultra_sms.mean())\n",
    "variance_ultra_sms = np.var(ultra_sms)\n",
    "print('Dispersion -',variance_ultra_sms)\n",
    "standard_deviation_ultra_sms = np.std(ultra_sms)\n",
    "print('Standard deviation -',standard_deviation_ultra_sms)\n",
    "ultra_sms.describe()"
   ]
  },
  {
   "cell_type": "code",
   "execution_count": 55,
   "id": "32fb482a",
   "metadata": {},
   "outputs": [
    {
     "data": {
      "image/png": "[encoded data removed]",
      "text/plain": [
       "<Figure size 432x288 with 1 Axes>"
      ]
     },
     "metadata": {
      "needs_background": "light"
     },
     "output_type": "display_data"
    }
   ],
   "source": [
    "ultra_sms_plot = ultra_sms.plot(kind='hist',\n",
    "range=(0, 225),\n",
    "bins=50,\n",
    "linewidth=2,\n",
    "grid=True,\n",
    "title='Number of messages sent per month on \"Ultra\" tariff')\n",
    "ultra_sms_plot.set_xlabel('Number of sms')\n",
    "ultra_sms_plot.set_ylabel('Frequency')\n",
    "plt.show()"
   ]
  },
  {
   "cell_type": "markdown",
   "id": "500f374f",
   "metadata": {},
   "source": [
    "As can be seen, most users of the tariff ultra also do not often use sms. However, those who do, send them more often, but on average the same 20 per month. Let's look at the distribution from 10 to 30."
   ]
  },
  {
   "cell_type": "code",
   "execution_count": 56,
   "id": "354e5655",
   "metadata": {},
   "outputs": [
    {
     "name": "stdout",
     "output_type": "stream",
     "text": [
      "0.17209659270353722\n"
     ]
    }
   ],
   "source": [
    "distr_ultra_sms_gap = st.norm(20, 46) \n",
    "\n",
    "x1 = 10\n",
    "x2 = 30\n",
    "\n",
    "ultra_sms_gap = distr_ultra_sms_gap.cdf(x2) - distr_ultra_sms_gap.cdf(x1)\n",
    "print(ultra_sms_gap)"
   ]
  },
  {
   "cell_type": "markdown",
   "id": "b5ca3e8a",
   "metadata": {},
   "source": [
    "The probability is 17%. This confirms that ultra tariff users are more likely to text than smart."
   ]
  },
  {
   "cell_type": "markdown",
   "id": "e84824d2",
   "metadata": {},
   "source": [
    "## 3.3. The amount of Internet traffic that users use."
   ]
  },
  {
   "cell_type": "markdown",
   "id": "2dfc795d",
   "metadata": {},
   "source": [
    "### 3.3.1 Smart tariff"
   ]
  },
  {
   "cell_type": "code",
   "execution_count": 57,
   "id": "14d51623",
   "metadata": {},
   "outputs": [
    {
     "name": "stdout",
     "output_type": "stream",
     "text": [
      "Average - 16.330634278002698\n",
      "Dispersion - 33.049025553606846\n",
      "Standard deviation - 5.748828189605847\n"
     ]
    },
    {
     "data": {
      "text/plain": [
       "count    2223.000000\n",
       "mean       16.330634\n",
       "std         5.750122\n",
       "min         1.000000\n",
       "25%        13.000000\n",
       "50%        17.000000\n",
       "75%        20.000000\n",
       "max        38.000000\n",
       "Name: sum_internet, dtype: float64"
      ]
     },
     "execution_count": 57,
     "metadata": {},
     "output_type": "execute_result"
    }
   ],
   "source": [
    "smart_inet = merged_users.query('tariff == \"smart\"')['sum_internet']\n",
    "print('Average -', smart_inet.mean())\n",
    "variance_smart_inet = np.var(smart_inet)\n",
    "print('Dispersion -',variance_smart_inet)\n",
    "standard_deviation_smart_inet = np.std(smart_inet)\n",
    "print('Standard deviation -',standard_deviation_smart_inet)\n",
    "smart_inet.describe()"
   ]
  },
  {
   "cell_type": "code",
   "execution_count": 58,
   "id": "87ebb415",
   "metadata": {},
   "outputs": [
    {
     "data": {
      "image/png": "[encoded data removed]",
      "text/plain": [
       "<Figure size 432x288 with 1 Axes>"
      ]
     },
     "metadata": {
      "needs_background": "light"
     },
     "output_type": "display_data"
    }
   ],
   "source": [
    "smart_inet_plot = smart_inet.plot(kind='hist',\n",
    "range=(0, 40),\n",
    "bins=40,\n",
    "linewidth=2,\n",
    "grid=True,\n",
    "title='Amount of traffic per month on \"Smart\" tariff')\n",
    "smart_inet_plot.set_xlabel('Internet traffic [GB]')\n",
    "smart_inet_plot.set_ylabel('Frequency')\n",
    "plt.show()"
   ]
  },
  {
   "cell_type": "markdown",
   "id": "8202aef2",
   "metadata": {},
   "source": [
    "As you can see in the graph, on average users need 17GB of Internet on the tariff smart. Let's check our guess on probability."
   ]
  },
  {
   "cell_type": "code",
   "execution_count": 59,
   "id": "bc0b611f",
   "metadata": {},
   "outputs": [
    {
     "name": "stdout",
     "output_type": "stream",
     "text": [
      "0.38116862386025063\n"
     ]
    }
   ],
   "source": [
    "distr_smart_inet_gap = st.norm(17, 5) \n",
    "\n",
    "x1 = 15\n",
    "x2 = 20\n",
    "\n",
    "smart_inet_gap = distr_smart_inet_gap.cdf(x2) - distr_smart_inet_gap.cdf(x1)\n",
    "print(smart_inet_gap)"
   ]
  },
  {
   "cell_type": "markdown",
   "id": "cfac6b63",
   "metadata": {},
   "source": [
    "The largest number of users on the smart tariff use between 15 and 20 GB of Internet, about 40%."
   ]
  },
  {
   "cell_type": "markdown",
   "id": "f12ae2c5",
   "metadata": {},
   "source": [
    "### 3.3.2. Ultra tariff"
   ]
  },
  {
   "cell_type": "code",
   "execution_count": 60,
   "id": "0f61619e",
   "metadata": {},
   "outputs": [
    {
     "name": "stdout",
     "output_type": "stream",
     "text": [
      "Average - 19.499474237644584\n",
      "Dispersion - 97.27839089076636\n",
      "Standard deviation - 9.862980831917213\n"
     ]
    },
    {
     "data": {
      "text/plain": [
       "count    951.000000\n",
       "mean      19.499474\n",
       "std        9.868171\n",
       "min        1.000000\n",
       "25%       12.000000\n",
       "50%       19.000000\n",
       "75%       27.000000\n",
       "max       49.000000\n",
       "Name: sum_internet, dtype: float64"
      ]
     },
     "execution_count": 60,
     "metadata": {},
     "output_type": "execute_result"
    }
   ],
   "source": [
    "ultra_inet = merged_users.query('tariff == \"ultra\"')['sum_internet']\n",
    "print('Average -', ultra_inet.mean())\n",
    "variance_ultra_inet = np.var(ultra_inet)\n",
    "print('Dispersion -',variance_ultra_inet)\n",
    "standard_deviation_ultra_inet = np.std(ultra_inet)\n",
    "print('Standard deviation -',standard_deviation_ultra_inet)\n",
    "ultra_inet.describe()"
   ]
  },
  {
   "cell_type": "markdown",
   "id": "17e162bd",
   "metadata": {},
   "source": [
    "As you can see, Ultra tariff users on average use 2 GB more Internet per month."
   ]
  },
  {
   "cell_type": "code",
   "execution_count": 61,
   "id": "fb2091db",
   "metadata": {},
   "outputs": [
    {
     "data": {
      "image/png": "[encoded data removed]",
      "text/plain": [
       "<Figure size 432x288 with 1 Axes>"
      ]
     },
     "metadata": {
      "needs_background": "light"
     },
     "output_type": "display_data"
    }
   ],
   "source": [
    "ultra_inet_plot = ultra_inet.plot(kind='hist',\n",
    "range=(0, 50),\n",
    "bins=50,\n",
    "linewidth=2,\n",
    "grid=True,\n",
    "title='Amount of traffic per month on \"Ultra\" tariff')\n",
    "ultra_inet_plot.set_xlabel('Internet traffic [Gb]')\n",
    "ultra_inet_plot.set_ylabel('Frequency')\n",
    "plt.show()"
   ]
  },
  {
   "cell_type": "markdown",
   "id": "67963387",
   "metadata": {},
   "source": [
    "The graph shows that on average users need 20GB of Internet. Let's check our guess on probability."
   ]
  },
  {
   "cell_type": "code",
   "execution_count": 62,
   "id": "d0aefa43",
   "metadata": {},
   "outputs": [
    {
     "name": "stdout",
     "output_type": "stream",
     "text": [
      "0.21848821194729373\n"
     ]
    }
   ],
   "source": [
    "distr_ultra_inet_gap = st.norm(19, 9) \n",
    "\n",
    "x1 = 17\n",
    "x2 = 22\n",
    "\n",
    "ultra_inet_gap = distr_ultra_inet_gap.cdf(x2) - distr_ultra_inet_gap.cdf(x1)\n",
    "print(ultra_inet_gap)"
   ]
  },
  {
   "cell_type": "markdown",
   "id": "2d14d306",
   "metadata": {},
   "source": [
    "About 20% of all ultra tariff users use the Internet within the range of 17 to 22 GB per month."
   ]
  },
  {
   "cell_type": "markdown",
   "id": "b78b9b1c",
   "metadata": {},
   "source": [
    "# 4. Hypothesis testing"
   ]
  },
  {
   "cell_type": "markdown",
   "id": "d393e9d1",
   "metadata": {},
   "source": [
    "## 4.1. Hypothesis №1. The average revenue of Ultra and Smart tariff users are different"
   ]
  },
  {
   "cell_type": "markdown",
   "id": "8ff2d64a",
   "metadata": {},
   "source": [
    "To begin, let's make a cross-section of the table, where we display information about rates and revenues."
   ]
  },
  {
   "cell_type": "code",
   "execution_count": 63,
   "id": "ac166978",
   "metadata": {},
   "outputs": [
    {
     "data": {
      "text/html": [
       "<div>\n",
       "<style scoped>\n",
       "    .dataframe tbody tr th:only-of-type {\n",
       "        vertical-align: middle;\n",
       "    }\n",
       "\n",
       "    .dataframe tbody tr th {\n",
       "        vertical-align: top;\n",
       "    }\n",
       "\n",
       "    .dataframe thead th {\n",
       "        text-align: right;\n",
       "    }\n",
       "</style>\n",
       "<table border=\"1\" class=\"dataframe\">\n",
       "  <thead>\n",
       "    <tr style=\"text-align: right;\">\n",
       "      <th></th>\n",
       "      <th>tariff</th>\n",
       "      <th>total_costs</th>\n",
       "    </tr>\n",
       "  </thead>\n",
       "  <tbody>\n",
       "    <tr>\n",
       "      <th>0</th>\n",
       "      <td>ultra</td>\n",
       "      <td>1950</td>\n",
       "    </tr>\n",
       "    <tr>\n",
       "      <th>1</th>\n",
       "      <td>ultra</td>\n",
       "      <td>1950</td>\n",
       "    </tr>\n",
       "    <tr>\n",
       "      <th>2</th>\n",
       "      <td>ultra</td>\n",
       "      <td>1950</td>\n",
       "    </tr>\n",
       "    <tr>\n",
       "      <th>3</th>\n",
       "      <td>ultra</td>\n",
       "      <td>1950</td>\n",
       "    </tr>\n",
       "    <tr>\n",
       "      <th>4</th>\n",
       "      <td>ultra</td>\n",
       "      <td>1950</td>\n",
       "    </tr>\n",
       "    <tr>\n",
       "      <th>5</th>\n",
       "      <td>ultra</td>\n",
       "      <td>1950</td>\n",
       "    </tr>\n",
       "    <tr>\n",
       "      <th>6</th>\n",
       "      <td>ultra</td>\n",
       "      <td>1950</td>\n",
       "    </tr>\n",
       "    <tr>\n",
       "      <th>7</th>\n",
       "      <td>ultra</td>\n",
       "      <td>1950</td>\n",
       "    </tr>\n",
       "    <tr>\n",
       "      <th>8</th>\n",
       "      <td>smart</td>\n",
       "      <td>1150</td>\n",
       "    </tr>\n",
       "    <tr>\n",
       "      <th>9</th>\n",
       "      <td>smart</td>\n",
       "      <td>550</td>\n",
       "    </tr>\n",
       "  </tbody>\n",
       "</table>\n",
       "</div>"
      ],
      "text/plain": [
       "  tariff  total_costs\n",
       "0  ultra         1950\n",
       "1  ultra         1950\n",
       "2  ultra         1950\n",
       "3  ultra         1950\n",
       "4  ultra         1950\n",
       "5  ultra         1950\n",
       "6  ultra         1950\n",
       "7  ultra         1950\n",
       "8  smart         1150\n",
       "9  smart          550"
      ]
     },
     "execution_count": 63,
     "metadata": {},
     "output_type": "execute_result"
    }
   ],
   "source": [
    "tariff_costs = merged_users[['tariff','total_costs']]\n",
    "tariff_costs.head(10)"
   ]
  },
  {
   "cell_type": "markdown",
   "id": "1157a942",
   "metadata": {},
   "source": [
    "Let's formulate the null and alternative hypotheses:\n",
    "* ***The null hypothesis is that the average revenue of Ultra and Smart tariff users are equal.***\n",
    "* ***Alternative hypothesis - the average revenue of Ultra tariff users is greater than the revenue of Smart tariff.***"
   ]
  },
  {
   "cell_type": "markdown",
   "id": "abd89873",
   "metadata": {},
   "source": [
    "** Statistical significance level alpha=0.05**"
   ]
  },
  {
   "cell_type": "markdown",
   "id": "a10847b0",
   "metadata": {},
   "source": [
    "Let's find the average revenue from 'Smart' tariff users."
   ]
  },
  {
   "cell_type": "code",
   "execution_count": 64,
   "id": "89bb09e1",
   "metadata": {},
   "outputs": [
    {
     "data": {
      "text/plain": [
       "8     1150\n",
       "9      550\n",
       "10     550\n",
       "11    1150\n",
       "12    1550\n",
       "Name: total_costs, dtype: int64"
      ]
     },
     "metadata": {},
     "output_type": "display_data"
    },
    {
     "data": {
      "text/plain": [
       "1290.8911381016644"
      ]
     },
     "metadata": {},
     "output_type": "display_data"
    }
   ],
   "source": [
    "smart_tariff = tariff_costs.query('tariff == \"smart\"')\n",
    "smart_tariff_costs =  smart_tariff['total_costs']\n",
    "smart_tariff_mean = smart_tariff['total_costs'].mean()\n",
    "display(smart_tariff_costs.head(5))\n",
    "display(smart_tariff_mean)"
   ]
  },
  {
   "cell_type": "markdown",
   "id": "55281ba1",
   "metadata": {},
   "source": [
    "Let's find the average revenue from 'Ultra' tariff users."
   ]
  },
  {
   "cell_type": "code",
   "execution_count": 65,
   "id": "59d68ad8",
   "metadata": {},
   "outputs": [
    {
     "data": {
      "text/plain": [
       "0    1950\n",
       "1    1950\n",
       "2    1950\n",
       "3    1950\n",
       "4    1950\n",
       "Name: total_costs, dtype: int64"
      ]
     },
     "metadata": {},
     "output_type": "display_data"
    },
    {
     "data": {
      "text/plain": [
       "2070.9779179810726"
      ]
     },
     "metadata": {},
     "output_type": "display_data"
    }
   ],
   "source": [
    "ultra_tariff = tariff_costs.query('tariff == \"ultra\"')\n",
    "ultra_tariff_costs = ultra_tariff['total_costs']\n",
    "ultra_tariff_mean = ultra_tariff['total_costs'].mean()\n",
    "display(ultra_tariff_costs.head(5))\n",
    "display(ultra_tariff_mean)"
   ]
  },
  {
   "cell_type": "markdown",
   "id": "b60746ed",
   "metadata": {},
   "source": [
    "Let us test the null hypothesis of equality of the means of the two general populations."
   ]
  },
  {
   "cell_type": "code",
   "execution_count": 66,
   "id": "99075bfc",
   "metadata": {},
   "outputs": [
    {
     "name": "stdout",
     "output_type": "stream",
     "text": [
      "p-value: 2.1830308249112924e-155\n",
      "Rejecting the null hypothesis\n"
     ]
    }
   ],
   "source": [
    "alpha = .05 # critical level of statistical significance, if p-value is less than it - reject the hypothesis\n",
    "\n",
    "results1 = st.ttest_ind(\n",
    "    smart_tariff_costs, \n",
    "    ultra_tariff_costs)\n",
    "\n",
    "print('p-value:', results1.pvalue)\n",
    "\n",
    "if results1.pvalue < alpha:\n",
    "    print(\"Rejecting the null hypothesis\")\n",
    "else:\n",
    "    print(\"Failed to reject the null hypothesis\") "
   ]
  },
  {
   "cell_type": "markdown",
   "id": "c406dfbd",
   "metadata": {},
   "source": [
    "As can be seen, the average values were not equal. The P-value is negligible.\n",
    "\n",
    "Let's test the alternative hypothesis that the revenue for the 'Ultra' tariff is greater than for 'Smart'."
   ]
  },
  {
   "cell_type": "code",
   "execution_count": 67,
   "id": "f369add8",
   "metadata": {},
   "outputs": [
    {
     "name": "stdout",
     "output_type": "stream",
     "text": [
      "p-value: 0.5\n",
      "Failed to reject the null hypothesis\n"
     ]
    }
   ],
   "source": [
    "alpha = .05\n",
    "\n",
    "results2 = st.ttest_1samp(\n",
    "    ultra_tariff_costs,\n",
    "    ultra_tariff_mean)\n",
    "\n",
    "# the test is one-way: the p-value will be half as much\n",
    "print('p-value:', results2.pvalue / 2)\n",
    "\n",
    "# the test is one-sided to the right:\n",
    "# reject the hypothesis only when the sample mean is significantly larger than the expected value\n",
    "\n",
    "if (results2.pvalue /2 < alpha) and (smart_tariff_mean < ultra_tariff_mean):\n",
    "    print(\"Rejecting the null hypothesis\")\n",
    "else:\n",
    "    print(\"Failed to reject the null hypothesis\") "
   ]
  },
  {
   "cell_type": "markdown",
   "id": "c2aaaecd",
   "metadata": {},
   "source": [
    "As expected, the average revenue from 'Ultra' tariff users is higher than that of 'Smart'."
   ]
  },
  {
   "cell_type": "markdown",
   "id": "adc74c1d",
   "metadata": {},
   "source": [
    "### Hypothesis №1 confirmed!"
   ]
  },
  {
   "cell_type": "markdown",
   "id": "18017a17",
   "metadata": {},
   "source": [
    "## 4.2. Hypothesis №2. The average revenue of users from Moscow differs from the revenue of users from other regions."
   ]
  },
  {
   "cell_type": "markdown",
   "id": "9a53f9d7",
   "metadata": {},
   "source": [
    "First, we create two datasets, filtering them by city.\n",
    "\n",
    "Dataset with revenues from users from Moscow."
   ]
  },
  {
   "cell_type": "code",
   "execution_count": 68,
   "id": "ac363d5e",
   "metadata": {},
   "outputs": [
    {
     "data": {
      "text/html": [
       "<div>\n",
       "<style scoped>\n",
       "    .dataframe tbody tr th:only-of-type {\n",
       "        vertical-align: middle;\n",
       "    }\n",
       "\n",
       "    .dataframe tbody tr th {\n",
       "        vertical-align: top;\n",
       "    }\n",
       "\n",
       "    .dataframe thead th {\n",
       "        text-align: right;\n",
       "    }\n",
       "</style>\n",
       "<table border=\"1\" class=\"dataframe\">\n",
       "  <thead>\n",
       "    <tr style=\"text-align: right;\">\n",
       "      <th></th>\n",
       "      <th>city</th>\n",
       "      <th>total_costs</th>\n",
       "    </tr>\n",
       "  </thead>\n",
       "  <tbody>\n",
       "    <tr>\n",
       "      <th>8</th>\n",
       "      <td>Москва</td>\n",
       "      <td>1150</td>\n",
       "    </tr>\n",
       "    <tr>\n",
       "      <th>9</th>\n",
       "      <td>Москва</td>\n",
       "      <td>550</td>\n",
       "    </tr>\n",
       "    <tr>\n",
       "      <th>17</th>\n",
       "      <td>Москва</td>\n",
       "      <td>1950</td>\n",
       "    </tr>\n",
       "    <tr>\n",
       "      <th>18</th>\n",
       "      <td>Москва</td>\n",
       "      <td>1950</td>\n",
       "    </tr>\n",
       "    <tr>\n",
       "      <th>19</th>\n",
       "      <td>Москва</td>\n",
       "      <td>1950</td>\n",
       "    </tr>\n",
       "  </tbody>\n",
       "</table>\n",
       "</div>"
      ],
      "text/plain": [
       "      city  total_costs\n",
       "8   Москва         1150\n",
       "9   Москва          550\n",
       "17  Москва         1950\n",
       "18  Москва         1950\n",
       "19  Москва         1950"
      ]
     },
     "metadata": {},
     "output_type": "display_data"
    },
    {
     "name": "stdout",
     "output_type": "stream",
     "text": [
      "Average revenue - 1546.0524590163934\n"
     ]
    }
   ],
   "source": [
    "moscow = merged_users[['city','total_costs']].query('city == \"Москва\"')\n",
    "moscow_costs = moscow['total_costs']\n",
    "display(moscow.head(5))\n",
    "print('Average revenue -', moscow_costs.mean())"
   ]
  },
  {
   "cell_type": "markdown",
   "id": "54312d08",
   "metadata": {},
   "source": [
    "Dataset with proceeds from users from other cities."
   ]
  },
  {
   "cell_type": "code",
   "execution_count": 69,
   "id": "8d479c80",
   "metadata": {},
   "outputs": [
    {
     "data": {
      "text/html": [
       "<div>\n",
       "<style scoped>\n",
       "    .dataframe tbody tr th:only-of-type {\n",
       "        vertical-align: middle;\n",
       "    }\n",
       "\n",
       "    .dataframe tbody tr th {\n",
       "        vertical-align: top;\n",
       "    }\n",
       "\n",
       "    .dataframe thead th {\n",
       "        text-align: right;\n",
       "    }\n",
       "</style>\n",
       "<table border=\"1\" class=\"dataframe\">\n",
       "  <thead>\n",
       "    <tr style=\"text-align: right;\">\n",
       "      <th></th>\n",
       "      <th>city</th>\n",
       "      <th>total_costs</th>\n",
       "    </tr>\n",
       "  </thead>\n",
       "  <tbody>\n",
       "    <tr>\n",
       "      <th>3169</th>\n",
       "      <td>Владикавказ</td>\n",
       "      <td>1750</td>\n",
       "    </tr>\n",
       "    <tr>\n",
       "      <th>3170</th>\n",
       "      <td>Пермь</td>\n",
       "      <td>550</td>\n",
       "    </tr>\n",
       "    <tr>\n",
       "      <th>3171</th>\n",
       "      <td>Пермь</td>\n",
       "      <td>1150</td>\n",
       "    </tr>\n",
       "    <tr>\n",
       "      <th>3172</th>\n",
       "      <td>Пермь</td>\n",
       "      <td>1513</td>\n",
       "    </tr>\n",
       "    <tr>\n",
       "      <th>3173</th>\n",
       "      <td>Пермь</td>\n",
       "      <td>598</td>\n",
       "    </tr>\n",
       "  </tbody>\n",
       "</table>\n",
       "</div>"
      ],
      "text/plain": [
       "             city  total_costs\n",
       "3169  Владикавказ         1750\n",
       "3170        Пермь          550\n",
       "3171        Пермь         1150\n",
       "3172        Пермь         1513\n",
       "3173        Пермь          598"
      ]
     },
     "metadata": {},
     "output_type": "display_data"
    },
    {
     "name": "stdout",
     "output_type": "stream",
     "text": [
      "Average revenue - 1519.5237909516381\n"
     ]
    }
   ],
   "source": [
    "other_cities = merged_users[['city','total_costs']].query('city != \"Москва\"')\n",
    "other_cities_costs = other_cities['total_costs']\n",
    "display(other_cities.tail(5))\n",
    "print('Average revenue -', other_cities_costs.mean())"
   ]
  },
  {
   "cell_type": "markdown",
   "id": "18f0bf34",
   "metadata": {},
   "source": [
    "Let's formulate the null and alternative hypotheses:\n",
    "\n",
    "* ***The null hypothesis is that the average revenues of users from Moscow and other regions are equal.***\n",
    "* ***Alternative hypothesis - average revenue of users from Moscow is greater than revenue from other regions.***"
   ]
  },
  {
   "cell_type": "markdown",
   "id": "1f6376e1",
   "metadata": {},
   "source": [
    "** Statistical significance level alpha=0.05**"
   ]
  },
  {
   "cell_type": "markdown",
   "id": "f7c49c4e",
   "metadata": {},
   "source": [
    "Let us test the null hypothesis of equality of the means of the two general populations. Since these populations are different in size, let us calculate the variance for each of them separately."
   ]
  },
  {
   "cell_type": "code",
   "execution_count": 70,
   "id": "ac05a487",
   "metadata": {},
   "outputs": [
    {
     "name": "stdout",
     "output_type": "stream",
     "text": [
      "p-value: 0.44113705815091153\n",
      "Failed to reject the null hypothesis\n"
     ]
    }
   ],
   "source": [
    "alpha = .05\n",
    "\n",
    "results3 = st.ttest_ind(\n",
    "    moscow_costs, \n",
    "    other_cities_costs,\n",
    "    equal_var=False)\n",
    "\n",
    "print('p-value:', results3.pvalue)\n",
    "\n",
    "if results3.pvalue < alpha:\n",
    "    print(\"Rejecting the null hypothesis\")\n",
    "else:\n",
    "    print(\"Failed to reject the null hypothesis\") "
   ]
  },
  {
   "cell_type": "markdown",
   "id": "49ad4f0a",
   "metadata": {},
   "source": [
    "As it turns out, the revenue is the same, regardless of the city."
   ]
  },
  {
   "cell_type": "markdown",
   "id": "9636905b",
   "metadata": {},
   "source": [
    "#### Hypothesis №2 disproved!"
   ]
  },
  {
   "cell_type": "markdown",
   "id": "5e2c5b5a",
   "metadata": {},
   "source": [
    "# 5. Conclusion"
   ]
  },
  {
   "cell_type": "markdown",
   "id": "97efc969",
   "metadata": {},
   "source": [
    "During the study to determine the prospective tariff for the telecom company the following facts were found out:\n",
    "* The most profitable tariff is considered to be Ultra, which brings in an average of 2,070 per month from each user versus 1,290 from those on the Smart tariff;\n",
    "* Average revenue does not depend on the city;\n",
    "* The amount of minutes and messages in both tariffs are chosen correctly, and the majority of users are within the limits. The share of those who do not have enough allocated resources makes up about 20%;\n",
    "* On average each user sends 20 messages and talks 500 minutes a month at both tariffs;\n",
    "* Ultra tariff users use on average 20GB of traffic, compared to 17GB for those on Smart. Thus, Smart Tariff users pay only extra 400 rubles per month for an extra 2GB of Internet traffic above the limit. It means that it is more profitable to have a Smart plan for RUB 550 per month with an extra Gb of Internet traffic than to have an Ultra plan for 1,950 per month. Therefore it is possible to suggest that the price of an extra GB of Internet traffic on the Smart tariff should be increased so that it would be more profitable for the subscriber to purchase a more expensive Ultra tariff.\n",
    "* The amount of Internet traffic in both tariffs is not enough for 45% of users. Probably we should revise the tariff plans and increase the limits."
   ]
  }
 ],
 "metadata": {
  "ExecuteTimeLog": [
   {
    "duration": 1760,
    "start_time": "2022-05-29T17:48:53.024Z"
   },
   {
    "duration": 811,
    "start_time": "2022-05-29T17:48:54.785Z"
   },
   {
    "duration": 14,
    "start_time": "2022-05-29T17:48:55.598Z"
   },
   {
    "duration": 31,
    "start_time": "2022-05-29T17:48:55.615Z"
   },
   {
    "duration": 27,
    "start_time": "2022-05-29T17:48:55.648Z"
   },
   {
    "duration": 399,
    "start_time": "2022-05-29T17:48:55.677Z"
   },
   {
    "duration": 10,
    "start_time": "2022-05-29T17:48:56.078Z"
   },
   {
    "duration": 22,
    "start_time": "2022-05-29T17:48:56.089Z"
   },
   {
    "duration": 15,
    "start_time": "2022-05-29T17:48:56.113Z"
   },
   {
    "duration": 144,
    "start_time": "2022-05-29T17:48:56.131Z"
   },
   {
    "duration": 8,
    "start_time": "2022-05-29T17:48:56.277Z"
   },
   {
    "duration": 25,
    "start_time": "2022-05-29T17:48:56.286Z"
   },
   {
    "duration": 13,
    "start_time": "2022-05-29T17:48:56.313Z"
   },
   {
    "duration": 44,
    "start_time": "2022-05-29T17:48:56.327Z"
   },
   {
    "duration": 8,
    "start_time": "2022-05-29T17:48:56.373Z"
   },
   {
    "duration": 58,
    "start_time": "2022-05-29T17:48:56.383Z"
   },
   {
    "duration": 12,
    "start_time": "2022-05-29T17:48:56.443Z"
   },
   {
    "duration": 12,
    "start_time": "2022-05-29T17:48:56.456Z"
   },
   {
    "duration": 7,
    "start_time": "2022-05-29T17:48:56.470Z"
   },
   {
    "duration": 15,
    "start_time": "2022-05-29T17:48:56.479Z"
   },
   {
    "duration": 10,
    "start_time": "2022-05-29T17:48:56.496Z"
   },
   {
    "duration": 87,
    "start_time": "2022-05-29T17:48:56.507Z"
   },
   {
    "duration": 51,
    "start_time": "2022-05-29T17:48:56.595Z"
   },
   {
    "duration": 34,
    "start_time": "2022-05-29T17:48:56.647Z"
   },
   {
    "duration": 30,
    "start_time": "2022-05-29T17:48:56.683Z"
   },
   {
    "duration": 56,
    "start_time": "2022-05-29T17:48:56.715Z"
   },
   {
    "duration": 29,
    "start_time": "2022-05-29T17:48:56.773Z"
   },
   {
    "duration": 9,
    "start_time": "2022-05-29T17:48:56.805Z"
   },
   {
    "duration": 44,
    "start_time": "2022-05-29T17:48:56.816Z"
   },
   {
    "duration": 7,
    "start_time": "2022-05-29T17:48:56.862Z"
   },
   {
    "duration": 13,
    "start_time": "2022-05-29T17:48:56.872Z"
   },
   {
    "duration": 10,
    "start_time": "2022-05-29T17:48:56.887Z"
   },
   {
    "duration": 43,
    "start_time": "2022-05-29T17:48:56.899Z"
   },
   {
    "duration": 21,
    "start_time": "2022-05-29T17:48:56.945Z"
   },
   {
    "duration": 5,
    "start_time": "2022-05-29T17:49:00.489Z"
   }
  ],
  "hide_input": false,
  "kernelspec": {
   "display_name": "Python 3 (ipykernel)",
   "language": "python",
   "name": "python3"
  },
  "language_info": {
   "codemirror_mode": {
    "name": "ipython",
    "version": 3
   },
   "file_extension": ".py",
   "mimetype": "text/x-python",
   "name": "python",
   "nbconvert_exporter": "python",
   "pygments_lexer": "ipython3",
   "version": "3.9.12"
  },
  "toc": {
   "base_numbering": 1,
   "nav_menu": {},
   "number_sections": true,
   "sideBar": true,
   "skip_h1_title": true,
   "title_cell": "Table of Contents",
   "title_sidebar": "Contents",
   "toc_cell": false,
   "toc_position": {},
   "toc_section_display": true,
   "toc_window_display": false
  }
 },
 "nbformat": 4,
 "nbformat_minor": 5
}
