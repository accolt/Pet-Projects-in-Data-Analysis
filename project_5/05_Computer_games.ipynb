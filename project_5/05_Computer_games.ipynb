{
 "cells": [
  {
   "cell_type": "markdown",
   "id": "1addf2a2",
   "metadata": {},
   "source": [
    "# Determination of the factors influencing the success of computer games"
   ]
  },
  {
   "cell_type": "markdown",
   "id": "5aecee4f",
   "metadata": {},
   "source": [
    "## Project Description\n",
    "The customer is the 'Strimchik' online store, which sells computer games all over the world. Historical game sales data, user and expert ratings, genres and platforms (such as Xbox or PlayStation) are available from public sources."
   ]
  },
  {
   "cell_type": "markdown",
   "id": "d2b874e6",
   "metadata": {},
   "source": [
    "## Purpose of the study\n",
    "It is necessary to identify patterns that determine the success of the game. This will allow you to bid on a potentially popular product and plan advertising campaigns."
   ]
  },
  {
   "cell_type": "markdown",
   "id": "9dd9c321",
   "metadata": {},
   "source": [
    "## Steps of the research"
   ]
  },
  {
   "cell_type": "markdown",
   "id": "cc9519e2",
   "metadata": {},
   "source": [
    "1) Data review;\n",
    "\n",
    "2) Data preprocessing (filling gaps, eliminating duplicates and anomalies);\n",
    "\n",
    "3) Data analysis;\n",
    "\n",
    "4) Hypothesis testing;\n",
    "\n",
    "5) Conclusion."
   ]
  },
  {
   "cell_type": "markdown",
   "id": "ff43837c",
   "metadata": {},
   "source": [
    "# 1. Data overview"
   ]
  },
  {
   "cell_type": "markdown",
   "id": "451c4db3",
   "metadata": {},
   "source": [
    "We import all the necessary libraries for working with data."
   ]
  },
  {
   "cell_type": "code",
   "execution_count": 76,
   "id": "1c118a03",
   "metadata": {},
   "outputs": [],
   "source": [
    "import pandas as pd\n",
    "import matplotlib.pyplot as plt\n",
    "import seaborn as sns\n",
    "import numpy as np\n",
    "from scipy import stats as st"
   ]
  },
  {
   "cell_type": "markdown",
   "id": "9be122b1",
   "metadata": {},
   "source": [
    "Let's look at the original data table."
   ]
  },
  {
   "cell_type": "code",
   "execution_count": 77,
   "id": "feed19a2",
   "metadata": {},
   "outputs": [],
   "source": [
    "try:\n",
    "    df = pd.read_csv('D:\\Yandex_Data_Analysis\\Project_5\\games.csv')\n",
    "except:\n",
    "    df = pd.read_csv('/datasets/games.csv')"
   ]
  },
  {
   "cell_type": "code",
   "execution_count": 78,
   "id": "4f52466f",
   "metadata": {},
   "outputs": [
    {
     "data": {
      "text/html": [
       "<div>\n",
       "<style scoped>\n",
       "    .dataframe tbody tr th:only-of-type {\n",
       "        vertical-align: middle;\n",
       "    }\n",
       "\n",
       "    .dataframe tbody tr th {\n",
       "        vertical-align: top;\n",
       "    }\n",
       "\n",
       "    .dataframe thead th {\n",
       "        text-align: right;\n",
       "    }\n",
       "</style>\n",
       "<table border=\"1\" class=\"dataframe\">\n",
       "  <thead>\n",
       "    <tr style=\"text-align: right;\">\n",
       "      <th></th>\n",
       "      <th>Name</th>\n",
       "      <th>Platform</th>\n",
       "      <th>Year_of_Release</th>\n",
       "      <th>Genre</th>\n",
       "      <th>NA_sales</th>\n",
       "      <th>EU_sales</th>\n",
       "      <th>JP_sales</th>\n",
       "      <th>Other_sales</th>\n",
       "      <th>Critic_Score</th>\n",
       "      <th>User_Score</th>\n",
       "      <th>Rating</th>\n",
       "    </tr>\n",
       "  </thead>\n",
       "  <tbody>\n",
       "    <tr>\n",
       "      <th>0</th>\n",
       "      <td>Wii Sports</td>\n",
       "      <td>Wii</td>\n",
       "      <td>2006.0</td>\n",
       "      <td>Sports</td>\n",
       "      <td>41.36</td>\n",
       "      <td>28.96</td>\n",
       "      <td>3.77</td>\n",
       "      <td>8.45</td>\n",
       "      <td>76.0</td>\n",
       "      <td>8</td>\n",
       "      <td>E</td>\n",
       "    </tr>\n",
       "    <tr>\n",
       "      <th>1</th>\n",
       "      <td>Super Mario Bros.</td>\n",
       "      <td>NES</td>\n",
       "      <td>1985.0</td>\n",
       "      <td>Platform</td>\n",
       "      <td>29.08</td>\n",
       "      <td>3.58</td>\n",
       "      <td>6.81</td>\n",
       "      <td>0.77</td>\n",
       "      <td>NaN</td>\n",
       "      <td>NaN</td>\n",
       "      <td>NaN</td>\n",
       "    </tr>\n",
       "    <tr>\n",
       "      <th>2</th>\n",
       "      <td>Mario Kart Wii</td>\n",
       "      <td>Wii</td>\n",
       "      <td>2008.0</td>\n",
       "      <td>Racing</td>\n",
       "      <td>15.68</td>\n",
       "      <td>12.76</td>\n",
       "      <td>3.79</td>\n",
       "      <td>3.29</td>\n",
       "      <td>82.0</td>\n",
       "      <td>8.3</td>\n",
       "      <td>E</td>\n",
       "    </tr>\n",
       "    <tr>\n",
       "      <th>3</th>\n",
       "      <td>Wii Sports Resort</td>\n",
       "      <td>Wii</td>\n",
       "      <td>2009.0</td>\n",
       "      <td>Sports</td>\n",
       "      <td>15.61</td>\n",
       "      <td>10.93</td>\n",
       "      <td>3.28</td>\n",
       "      <td>2.95</td>\n",
       "      <td>80.0</td>\n",
       "      <td>8</td>\n",
       "      <td>E</td>\n",
       "    </tr>\n",
       "    <tr>\n",
       "      <th>4</th>\n",
       "      <td>Pokemon Red/Pokemon Blue</td>\n",
       "      <td>GB</td>\n",
       "      <td>1996.0</td>\n",
       "      <td>Role-Playing</td>\n",
       "      <td>11.27</td>\n",
       "      <td>8.89</td>\n",
       "      <td>10.22</td>\n",
       "      <td>1.00</td>\n",
       "      <td>NaN</td>\n",
       "      <td>NaN</td>\n",
       "      <td>NaN</td>\n",
       "    </tr>\n",
       "    <tr>\n",
       "      <th>5</th>\n",
       "      <td>Tetris</td>\n",
       "      <td>GB</td>\n",
       "      <td>1989.0</td>\n",
       "      <td>Puzzle</td>\n",
       "      <td>23.20</td>\n",
       "      <td>2.26</td>\n",
       "      <td>4.22</td>\n",
       "      <td>0.58</td>\n",
       "      <td>NaN</td>\n",
       "      <td>NaN</td>\n",
       "      <td>NaN</td>\n",
       "    </tr>\n",
       "    <tr>\n",
       "      <th>6</th>\n",
       "      <td>New Super Mario Bros.</td>\n",
       "      <td>DS</td>\n",
       "      <td>2006.0</td>\n",
       "      <td>Platform</td>\n",
       "      <td>11.28</td>\n",
       "      <td>9.14</td>\n",
       "      <td>6.50</td>\n",
       "      <td>2.88</td>\n",
       "      <td>89.0</td>\n",
       "      <td>8.5</td>\n",
       "      <td>E</td>\n",
       "    </tr>\n",
       "    <tr>\n",
       "      <th>7</th>\n",
       "      <td>Wii Play</td>\n",
       "      <td>Wii</td>\n",
       "      <td>2006.0</td>\n",
       "      <td>Misc</td>\n",
       "      <td>13.96</td>\n",
       "      <td>9.18</td>\n",
       "      <td>2.93</td>\n",
       "      <td>2.84</td>\n",
       "      <td>58.0</td>\n",
       "      <td>6.6</td>\n",
       "      <td>E</td>\n",
       "    </tr>\n",
       "    <tr>\n",
       "      <th>8</th>\n",
       "      <td>New Super Mario Bros. Wii</td>\n",
       "      <td>Wii</td>\n",
       "      <td>2009.0</td>\n",
       "      <td>Platform</td>\n",
       "      <td>14.44</td>\n",
       "      <td>6.94</td>\n",
       "      <td>4.70</td>\n",
       "      <td>2.24</td>\n",
       "      <td>87.0</td>\n",
       "      <td>8.4</td>\n",
       "      <td>E</td>\n",
       "    </tr>\n",
       "    <tr>\n",
       "      <th>9</th>\n",
       "      <td>Duck Hunt</td>\n",
       "      <td>NES</td>\n",
       "      <td>1984.0</td>\n",
       "      <td>Shooter</td>\n",
       "      <td>26.93</td>\n",
       "      <td>0.63</td>\n",
       "      <td>0.28</td>\n",
       "      <td>0.47</td>\n",
       "      <td>NaN</td>\n",
       "      <td>NaN</td>\n",
       "      <td>NaN</td>\n",
       "    </tr>\n",
       "  </tbody>\n",
       "</table>\n",
       "</div>"
      ],
      "text/plain": [
       "                        Name Platform  Year_of_Release         Genre  \\\n",
       "0                 Wii Sports      Wii           2006.0        Sports   \n",
       "1          Super Mario Bros.      NES           1985.0      Platform   \n",
       "2             Mario Kart Wii      Wii           2008.0        Racing   \n",
       "3          Wii Sports Resort      Wii           2009.0        Sports   \n",
       "4   Pokemon Red/Pokemon Blue       GB           1996.0  Role-Playing   \n",
       "5                     Tetris       GB           1989.0        Puzzle   \n",
       "6      New Super Mario Bros.       DS           2006.0      Platform   \n",
       "7                   Wii Play      Wii           2006.0          Misc   \n",
       "8  New Super Mario Bros. Wii      Wii           2009.0      Platform   \n",
       "9                  Duck Hunt      NES           1984.0       Shooter   \n",
       "\n",
       "   NA_sales  EU_sales  JP_sales  Other_sales  Critic_Score User_Score Rating  \n",
       "0     41.36     28.96      3.77         8.45          76.0          8      E  \n",
       "1     29.08      3.58      6.81         0.77           NaN        NaN    NaN  \n",
       "2     15.68     12.76      3.79         3.29          82.0        8.3      E  \n",
       "3     15.61     10.93      3.28         2.95          80.0          8      E  \n",
       "4     11.27      8.89     10.22         1.00           NaN        NaN    NaN  \n",
       "5     23.20      2.26      4.22         0.58           NaN        NaN    NaN  \n",
       "6     11.28      9.14      6.50         2.88          89.0        8.5      E  \n",
       "7     13.96      9.18      2.93         2.84          58.0        6.6      E  \n",
       "8     14.44      6.94      4.70         2.24          87.0        8.4      E  \n",
       "9     26.93      0.63      0.28         0.47           NaN        NaN    NaN  "
      ]
     },
     "execution_count": 78,
     "metadata": {},
     "output_type": "execute_result"
    }
   ],
   "source": [
    "df.head(10)"
   ]
  },
  {
   "cell_type": "code",
   "execution_count": 79,
   "id": "09f927a1",
   "metadata": {
    "scrolled": true
   },
   "outputs": [
    {
     "data": {
      "text/plain": [
       "array(['Wii', 'NES', 'GB', 'DS', 'X360', 'PS3', 'PS2', 'SNES', 'GBA',\n",
       "       'PS4', '3DS', 'N64', 'PS', 'XB', 'PC', '2600', 'PSP', 'XOne',\n",
       "       'WiiU', 'GC', 'GEN', 'DC', 'PSV', 'SAT', 'SCD', 'WS', 'NG', 'TG16',\n",
       "       '3DO', 'GG', 'PCFX'], dtype=object)"
      ]
     },
     "execution_count": 79,
     "metadata": {},
     "output_type": "execute_result"
    }
   ],
   "source": [
    "df['Platform'].unique()"
   ]
  },
  {
   "cell_type": "code",
   "execution_count": 80,
   "id": "f90d9c9c",
   "metadata": {
    "scrolled": true
   },
   "outputs": [
    {
     "name": "stdout",
     "output_type": "stream",
     "text": [
      "<class 'pandas.core.frame.DataFrame'>\n",
      "RangeIndex: 16715 entries, 0 to 16714\n",
      "Data columns (total 11 columns):\n",
      " #   Column           Non-Null Count  Dtype  \n",
      "---  ------           --------------  -----  \n",
      " 0   Name             16713 non-null  object \n",
      " 1   Platform         16715 non-null  object \n",
      " 2   Year_of_Release  16446 non-null  float64\n",
      " 3   Genre            16713 non-null  object \n",
      " 4   NA_sales         16715 non-null  float64\n",
      " 5   EU_sales         16715 non-null  float64\n",
      " 6   JP_sales         16715 non-null  float64\n",
      " 7   Other_sales      16715 non-null  float64\n",
      " 8   Critic_Score     8137 non-null   float64\n",
      " 9   User_Score       10014 non-null  object \n",
      " 10  Rating           9949 non-null   object \n",
      "dtypes: float64(6), object(5)\n",
      "memory usage: 1.4+ MB\n"
     ]
    }
   ],
   "source": [
    "df.info()"
   ]
  },
  {
   "cell_type": "code",
   "execution_count": 81,
   "id": "1b05ac0b",
   "metadata": {},
   "outputs": [
    {
     "data": {
      "text/plain": [
       "Name                  2\n",
       "Platform              0\n",
       "Year_of_Release     269\n",
       "Genre                 2\n",
       "NA_sales              0\n",
       "EU_sales              0\n",
       "JP_sales              0\n",
       "Other_sales           0\n",
       "Critic_Score       8578\n",
       "User_Score         6701\n",
       "Rating             6766\n",
       "dtype: int64"
      ]
     },
     "execution_count": 81,
     "metadata": {},
     "output_type": "execute_result"
    }
   ],
   "source": [
    "df.isna().sum()"
   ]
  },
  {
   "cell_type": "markdown",
   "id": "73d8e155",
   "metadata": {},
   "source": [
    "As you can see, there are quite a lot of gaps in the data, and in some places there is not quite the correct data type. Let's bring the data into a workable form."
   ]
  },
  {
   "cell_type": "markdown",
   "id": "4808a832",
   "metadata": {},
   "source": [
    "# 2. Data preprocessing"
   ]
  },
  {
   "cell_type": "markdown",
   "id": "7bf5d019",
   "metadata": {},
   "source": [
    "Let's start by converting all column names to lowercase."
   ]
  },
  {
   "cell_type": "code",
   "execution_count": 82,
   "id": "df737dde",
   "metadata": {},
   "outputs": [
    {
     "data": {
      "text/plain": [
       "Index(['name', 'platform', 'year_of_release', 'genre', 'na_sales', 'eu_sales',\n",
       "       'jp_sales', 'other_sales', 'critic_score', 'user_score', 'rating'],\n",
       "      dtype='object')"
      ]
     },
     "execution_count": 82,
     "metadata": {},
     "output_type": "execute_result"
    }
   ],
   "source": [
    "df.columns = df.columns.str.lower()\n",
    "df.columns"
   ]
  },
  {
   "cell_type": "markdown",
   "id": "c5815039",
   "metadata": {},
   "source": [
    "Such a large number of gaps in the rating column is most likely due to the fact that some games were released by foreign companies. The rating is made by an American agency, they may not rate games released outside of America.\n",
    "\n",
    "As you can see, the number of gaps in this column matches the user_score column. Apparently the reason is the same - only user ratings from America are taken into account.\n",
    "\n",
    "It can be assumed that the omissions in the critic_score column are also due to the fact that the experts are mostly American and/or rated games released in America."
   ]
  },
  {
   "cell_type": "markdown",
   "id": "4bcf52e3",
   "metadata": {},
   "source": [
    "Since there are only 269 gaps in the column with game releases, you can simply delete them. This will not distort our data much, since there are only about 2% of such rows. We also convert the data type of this column to integers."
   ]
  },
  {
   "cell_type": "code",
   "execution_count": 83,
   "id": "28e6536a",
   "metadata": {},
   "outputs": [
    {
     "data": {
      "text/plain": [
       "0"
      ]
     },
     "execution_count": 83,
     "metadata": {},
     "output_type": "execute_result"
    }
   ],
   "source": [
    "df = df.dropna(subset=['year_of_release'])\n",
    "df['year_of_release'].isna().sum()"
   ]
  },
  {
   "cell_type": "code",
   "execution_count": 84,
   "id": "5ea24048",
   "metadata": {},
   "outputs": [
    {
     "data": {
      "text/html": [
       "<div>\n",
       "<style scoped>\n",
       "    .dataframe tbody tr th:only-of-type {\n",
       "        vertical-align: middle;\n",
       "    }\n",
       "\n",
       "    .dataframe tbody tr th {\n",
       "        vertical-align: top;\n",
       "    }\n",
       "\n",
       "    .dataframe thead th {\n",
       "        text-align: right;\n",
       "    }\n",
       "</style>\n",
       "<table border=\"1\" class=\"dataframe\">\n",
       "  <thead>\n",
       "    <tr style=\"text-align: right;\">\n",
       "      <th></th>\n",
       "      <th>name</th>\n",
       "      <th>platform</th>\n",
       "      <th>year_of_release</th>\n",
       "      <th>genre</th>\n",
       "      <th>na_sales</th>\n",
       "      <th>eu_sales</th>\n",
       "      <th>jp_sales</th>\n",
       "      <th>other_sales</th>\n",
       "      <th>critic_score</th>\n",
       "      <th>user_score</th>\n",
       "      <th>rating</th>\n",
       "    </tr>\n",
       "  </thead>\n",
       "  <tbody>\n",
       "    <tr>\n",
       "      <th>0</th>\n",
       "      <td>Wii Sports</td>\n",
       "      <td>Wii</td>\n",
       "      <td>2006</td>\n",
       "      <td>Sports</td>\n",
       "      <td>41.36</td>\n",
       "      <td>28.96</td>\n",
       "      <td>3.77</td>\n",
       "      <td>8.45</td>\n",
       "      <td>76.0</td>\n",
       "      <td>8</td>\n",
       "      <td>E</td>\n",
       "    </tr>\n",
       "    <tr>\n",
       "      <th>1</th>\n",
       "      <td>Super Mario Bros.</td>\n",
       "      <td>NES</td>\n",
       "      <td>1985</td>\n",
       "      <td>Platform</td>\n",
       "      <td>29.08</td>\n",
       "      <td>3.58</td>\n",
       "      <td>6.81</td>\n",
       "      <td>0.77</td>\n",
       "      <td>NaN</td>\n",
       "      <td>NaN</td>\n",
       "      <td>NaN</td>\n",
       "    </tr>\n",
       "    <tr>\n",
       "      <th>2</th>\n",
       "      <td>Mario Kart Wii</td>\n",
       "      <td>Wii</td>\n",
       "      <td>2008</td>\n",
       "      <td>Racing</td>\n",
       "      <td>15.68</td>\n",
       "      <td>12.76</td>\n",
       "      <td>3.79</td>\n",
       "      <td>3.29</td>\n",
       "      <td>82.0</td>\n",
       "      <td>8.3</td>\n",
       "      <td>E</td>\n",
       "    </tr>\n",
       "  </tbody>\n",
       "</table>\n",
       "</div>"
      ],
      "text/plain": [
       "                name platform  year_of_release     genre  na_sales  eu_sales  \\\n",
       "0         Wii Sports      Wii             2006    Sports     41.36     28.96   \n",
       "1  Super Mario Bros.      NES             1985  Platform     29.08      3.58   \n",
       "2     Mario Kart Wii      Wii             2008    Racing     15.68     12.76   \n",
       "\n",
       "   jp_sales  other_sales  critic_score user_score rating  \n",
       "0      3.77         8.45          76.0          8      E  \n",
       "1      6.81         0.77           NaN        NaN    NaN  \n",
       "2      3.79         3.29          82.0        8.3      E  "
      ]
     },
     "execution_count": 84,
     "metadata": {},
     "output_type": "execute_result"
    }
   ],
   "source": [
    "df['year_of_release'] = df['year_of_release'].astype(int)\n",
    "df.head(3)"
   ]
  },
  {
   "cell_type": "markdown",
   "id": "916c9078",
   "metadata": {},
   "source": [
    "For further convenience, we reduce the estimates to a general form. Let's multiply the user ratings by 10. But first, let's convert the values to fractional numbers, since there are many empty nan values in this column, which will interfere with the conversion."
   ]
  },
  {
   "cell_type": "code",
   "execution_count": 85,
   "id": "2984c136",
   "metadata": {},
   "outputs": [
    {
     "data": {
      "text/plain": [
       "0"
      ]
     },
     "execution_count": 85,
     "metadata": {},
     "output_type": "execute_result"
    }
   ],
   "source": [
    "df['user_score'] = df['user_score'].fillna(0)\n",
    "df['user_score'].isna().sum()"
   ]
  },
  {
   "cell_type": "markdown",
   "id": "f86439e1",
   "metadata": {},
   "source": [
    "Make sure there are no string values in this column."
   ]
  },
  {
   "cell_type": "code",
   "execution_count": 86,
   "id": "6d053a7c",
   "metadata": {},
   "outputs": [
    {
     "data": {
      "text/plain": [
       "0      6607\n",
       "tbd    2376\n",
       "7.8     322\n",
       "8       285\n",
       "8.2     276\n",
       "       ... \n",
       "0.5       2\n",
       "0.9       2\n",
       "1.3       2\n",
       "9.7       1\n",
       "0         1\n",
       "Name: user_score, Length: 97, dtype: int64"
      ]
     },
     "execution_count": 86,
     "metadata": {},
     "output_type": "execute_result"
    }
   ],
   "source": [
    "df['user_score'].value_counts()"
   ]
  },
  {
   "cell_type": "markdown",
   "id": "2969cc3c",
   "metadata": {},
   "source": [
    "As you can see, there are quite a few values with the string 'tbd', which means to be determined. In other words, the game has not yet been rated by the players. Therefore, we will replace these values with 0, since such a replacement will not distort our data. After that, it will be possible to convert the data to fractional numbers."
   ]
  },
  {
   "cell_type": "code",
   "execution_count": 87,
   "id": "4ef75352",
   "metadata": {},
   "outputs": [],
   "source": [
    "df.loc[df['user_score']=='tbd','user_score'] = 0\n",
    "df['user_score'] = df['user_score'].astype(float)"
   ]
  },
  {
   "cell_type": "markdown",
   "id": "a041a9c0",
   "metadata": {},
   "source": [
    "Now you can bring user ratings to the same form as expert ratings by multiplying by 10."
   ]
  },
  {
   "cell_type": "code",
   "execution_count": 88,
   "id": "01f8bcc9",
   "metadata": {},
   "outputs": [
    {
     "data": {
      "text/html": [
       "<div>\n",
       "<style scoped>\n",
       "    .dataframe tbody tr th:only-of-type {\n",
       "        vertical-align: middle;\n",
       "    }\n",
       "\n",
       "    .dataframe tbody tr th {\n",
       "        vertical-align: top;\n",
       "    }\n",
       "\n",
       "    .dataframe thead th {\n",
       "        text-align: right;\n",
       "    }\n",
       "</style>\n",
       "<table border=\"1\" class=\"dataframe\">\n",
       "  <thead>\n",
       "    <tr style=\"text-align: right;\">\n",
       "      <th></th>\n",
       "      <th>name</th>\n",
       "      <th>platform</th>\n",
       "      <th>year_of_release</th>\n",
       "      <th>genre</th>\n",
       "      <th>na_sales</th>\n",
       "      <th>eu_sales</th>\n",
       "      <th>jp_sales</th>\n",
       "      <th>other_sales</th>\n",
       "      <th>critic_score</th>\n",
       "      <th>user_score</th>\n",
       "      <th>rating</th>\n",
       "    </tr>\n",
       "  </thead>\n",
       "  <tbody>\n",
       "    <tr>\n",
       "      <th>0</th>\n",
       "      <td>Wii Sports</td>\n",
       "      <td>Wii</td>\n",
       "      <td>2006</td>\n",
       "      <td>Sports</td>\n",
       "      <td>41.36</td>\n",
       "      <td>28.96</td>\n",
       "      <td>3.77</td>\n",
       "      <td>8.45</td>\n",
       "      <td>76.0</td>\n",
       "      <td>80.0</td>\n",
       "      <td>E</td>\n",
       "    </tr>\n",
       "    <tr>\n",
       "      <th>1</th>\n",
       "      <td>Super Mario Bros.</td>\n",
       "      <td>NES</td>\n",
       "      <td>1985</td>\n",
       "      <td>Platform</td>\n",
       "      <td>29.08</td>\n",
       "      <td>3.58</td>\n",
       "      <td>6.81</td>\n",
       "      <td>0.77</td>\n",
       "      <td>NaN</td>\n",
       "      <td>0.0</td>\n",
       "      <td>NaN</td>\n",
       "    </tr>\n",
       "    <tr>\n",
       "      <th>2</th>\n",
       "      <td>Mario Kart Wii</td>\n",
       "      <td>Wii</td>\n",
       "      <td>2008</td>\n",
       "      <td>Racing</td>\n",
       "      <td>15.68</td>\n",
       "      <td>12.76</td>\n",
       "      <td>3.79</td>\n",
       "      <td>3.29</td>\n",
       "      <td>82.0</td>\n",
       "      <td>83.0</td>\n",
       "      <td>E</td>\n",
       "    </tr>\n",
       "  </tbody>\n",
       "</table>\n",
       "</div>"
      ],
      "text/plain": [
       "                name platform  year_of_release     genre  na_sales  eu_sales  \\\n",
       "0         Wii Sports      Wii             2006    Sports     41.36     28.96   \n",
       "1  Super Mario Bros.      NES             1985  Platform     29.08      3.58   \n",
       "2     Mario Kart Wii      Wii             2008    Racing     15.68     12.76   \n",
       "\n",
       "   jp_sales  other_sales  critic_score  user_score rating  \n",
       "0      3.77         8.45          76.0        80.0      E  \n",
       "1      6.81         0.77           NaN         0.0    NaN  \n",
       "2      3.79         3.29          82.0        83.0      E  "
      ]
     },
     "execution_count": 88,
     "metadata": {},
     "output_type": "execute_result"
    }
   ],
   "source": [
    "df['user_score'] = df['user_score']*10\n",
    "df.head(3)"
   ]
  },
  {
   "cell_type": "markdown",
   "id": "da7b57dc",
   "metadata": {},
   "source": [
    "You may notice that in the 'name' column there are 2 rows where the name of the game is not indicated. Since there are very few such rows, we simply remove them from the dataset."
   ]
  },
  {
   "cell_type": "code",
   "execution_count": 89,
   "id": "dc433174",
   "metadata": {},
   "outputs": [
    {
     "data": {
      "text/plain": [
       "0"
      ]
     },
     "execution_count": 89,
     "metadata": {},
     "output_type": "execute_result"
    }
   ],
   "source": [
    "df = df.dropna(subset=['name'])\n",
    "df['name'].isna().sum()"
   ]
  },
  {
   "cell_type": "markdown",
   "id": "becf018d",
   "metadata": {},
   "source": [
    "We have done the operations described above in order to cast data types to a common type in the columns with ratings and rating. However, leaving 0 instead of empty values is not entirely correct and they can distort our graphs in the future. Let's replace 0 back with empty NaN values in the 'user_score' column. For correct plotting and further analysis, we will replace the gaps in the 'rating' column with tbd."
   ]
  },
  {
   "cell_type": "code",
   "execution_count": 90,
   "id": "924d5d85",
   "metadata": {},
   "outputs": [
    {
     "data": {
      "text/html": [
       "<div>\n",
       "<style scoped>\n",
       "    .dataframe tbody tr th:only-of-type {\n",
       "        vertical-align: middle;\n",
       "    }\n",
       "\n",
       "    .dataframe tbody tr th {\n",
       "        vertical-align: top;\n",
       "    }\n",
       "\n",
       "    .dataframe thead th {\n",
       "        text-align: right;\n",
       "    }\n",
       "</style>\n",
       "<table border=\"1\" class=\"dataframe\">\n",
       "  <thead>\n",
       "    <tr style=\"text-align: right;\">\n",
       "      <th></th>\n",
       "      <th>name</th>\n",
       "      <th>platform</th>\n",
       "      <th>year_of_release</th>\n",
       "      <th>genre</th>\n",
       "      <th>na_sales</th>\n",
       "      <th>eu_sales</th>\n",
       "      <th>jp_sales</th>\n",
       "      <th>other_sales</th>\n",
       "      <th>critic_score</th>\n",
       "      <th>user_score</th>\n",
       "      <th>rating</th>\n",
       "    </tr>\n",
       "  </thead>\n",
       "  <tbody>\n",
       "    <tr>\n",
       "      <th>0</th>\n",
       "      <td>Wii Sports</td>\n",
       "      <td>Wii</td>\n",
       "      <td>2006</td>\n",
       "      <td>Sports</td>\n",
       "      <td>41.36</td>\n",
       "      <td>28.96</td>\n",
       "      <td>3.77</td>\n",
       "      <td>8.45</td>\n",
       "      <td>76.0</td>\n",
       "      <td>80.0</td>\n",
       "      <td>E</td>\n",
       "    </tr>\n",
       "    <tr>\n",
       "      <th>1</th>\n",
       "      <td>Super Mario Bros.</td>\n",
       "      <td>NES</td>\n",
       "      <td>1985</td>\n",
       "      <td>Platform</td>\n",
       "      <td>29.08</td>\n",
       "      <td>3.58</td>\n",
       "      <td>6.81</td>\n",
       "      <td>0.77</td>\n",
       "      <td>NaN</td>\n",
       "      <td>NaN</td>\n",
       "      <td>tbd</td>\n",
       "    </tr>\n",
       "    <tr>\n",
       "      <th>2</th>\n",
       "      <td>Mario Kart Wii</td>\n",
       "      <td>Wii</td>\n",
       "      <td>2008</td>\n",
       "      <td>Racing</td>\n",
       "      <td>15.68</td>\n",
       "      <td>12.76</td>\n",
       "      <td>3.79</td>\n",
       "      <td>3.29</td>\n",
       "      <td>82.0</td>\n",
       "      <td>83.0</td>\n",
       "      <td>E</td>\n",
       "    </tr>\n",
       "  </tbody>\n",
       "</table>\n",
       "</div>"
      ],
      "text/plain": [
       "                name platform  year_of_release     genre  na_sales  eu_sales  \\\n",
       "0         Wii Sports      Wii             2006    Sports     41.36     28.96   \n",
       "1  Super Mario Bros.      NES             1985  Platform     29.08      3.58   \n",
       "2     Mario Kart Wii      Wii             2008    Racing     15.68     12.76   \n",
       "\n",
       "   jp_sales  other_sales  critic_score  user_score rating  \n",
       "0      3.77         8.45          76.0        80.0      E  \n",
       "1      6.81         0.77           NaN         NaN    tbd  \n",
       "2      3.79         3.29          82.0        83.0      E  "
      ]
     },
     "execution_count": 90,
     "metadata": {},
     "output_type": "execute_result"
    }
   ],
   "source": [
    "df['user_score'].replace(0, np.nan, inplace=True)\n",
    "df['rating'] = df['rating'].fillna('tbd')\n",
    "df.head(3)"
   ]
  },
  {
   "cell_type": "markdown",
   "id": "9e84a3f6",
   "metadata": {},
   "source": [
    "Let's calculate the total sales in all regions and write them in a separate column."
   ]
  },
  {
   "cell_type": "code",
   "execution_count": 91,
   "id": "4b353534",
   "metadata": {},
   "outputs": [
    {
     "data": {
      "text/html": [
       "<div>\n",
       "<style scoped>\n",
       "    .dataframe tbody tr th:only-of-type {\n",
       "        vertical-align: middle;\n",
       "    }\n",
       "\n",
       "    .dataframe tbody tr th {\n",
       "        vertical-align: top;\n",
       "    }\n",
       "\n",
       "    .dataframe thead th {\n",
       "        text-align: right;\n",
       "    }\n",
       "</style>\n",
       "<table border=\"1\" class=\"dataframe\">\n",
       "  <thead>\n",
       "    <tr style=\"text-align: right;\">\n",
       "      <th></th>\n",
       "      <th>name</th>\n",
       "      <th>platform</th>\n",
       "      <th>year_of_release</th>\n",
       "      <th>genre</th>\n",
       "      <th>na_sales</th>\n",
       "      <th>eu_sales</th>\n",
       "      <th>jp_sales</th>\n",
       "      <th>other_sales</th>\n",
       "      <th>critic_score</th>\n",
       "      <th>user_score</th>\n",
       "      <th>rating</th>\n",
       "      <th>total_sales</th>\n",
       "    </tr>\n",
       "  </thead>\n",
       "  <tbody>\n",
       "    <tr>\n",
       "      <th>0</th>\n",
       "      <td>Wii Sports</td>\n",
       "      <td>Wii</td>\n",
       "      <td>2006</td>\n",
       "      <td>Sports</td>\n",
       "      <td>41.36</td>\n",
       "      <td>28.96</td>\n",
       "      <td>3.77</td>\n",
       "      <td>8.45</td>\n",
       "      <td>76.0</td>\n",
       "      <td>80.0</td>\n",
       "      <td>E</td>\n",
       "      <td>82.54</td>\n",
       "    </tr>\n",
       "    <tr>\n",
       "      <th>1</th>\n",
       "      <td>Super Mario Bros.</td>\n",
       "      <td>NES</td>\n",
       "      <td>1985</td>\n",
       "      <td>Platform</td>\n",
       "      <td>29.08</td>\n",
       "      <td>3.58</td>\n",
       "      <td>6.81</td>\n",
       "      <td>0.77</td>\n",
       "      <td>NaN</td>\n",
       "      <td>NaN</td>\n",
       "      <td>tbd</td>\n",
       "      <td>40.24</td>\n",
       "    </tr>\n",
       "    <tr>\n",
       "      <th>2</th>\n",
       "      <td>Mario Kart Wii</td>\n",
       "      <td>Wii</td>\n",
       "      <td>2008</td>\n",
       "      <td>Racing</td>\n",
       "      <td>15.68</td>\n",
       "      <td>12.76</td>\n",
       "      <td>3.79</td>\n",
       "      <td>3.29</td>\n",
       "      <td>82.0</td>\n",
       "      <td>83.0</td>\n",
       "      <td>E</td>\n",
       "      <td>35.52</td>\n",
       "    </tr>\n",
       "    <tr>\n",
       "      <th>3</th>\n",
       "      <td>Wii Sports Resort</td>\n",
       "      <td>Wii</td>\n",
       "      <td>2009</td>\n",
       "      <td>Sports</td>\n",
       "      <td>15.61</td>\n",
       "      <td>10.93</td>\n",
       "      <td>3.28</td>\n",
       "      <td>2.95</td>\n",
       "      <td>80.0</td>\n",
       "      <td>80.0</td>\n",
       "      <td>E</td>\n",
       "      <td>32.77</td>\n",
       "    </tr>\n",
       "    <tr>\n",
       "      <th>4</th>\n",
       "      <td>Pokemon Red/Pokemon Blue</td>\n",
       "      <td>GB</td>\n",
       "      <td>1996</td>\n",
       "      <td>Role-Playing</td>\n",
       "      <td>11.27</td>\n",
       "      <td>8.89</td>\n",
       "      <td>10.22</td>\n",
       "      <td>1.00</td>\n",
       "      <td>NaN</td>\n",
       "      <td>NaN</td>\n",
       "      <td>tbd</td>\n",
       "      <td>31.38</td>\n",
       "    </tr>\n",
       "  </tbody>\n",
       "</table>\n",
       "</div>"
      ],
      "text/plain": [
       "                       name platform  year_of_release         genre  na_sales  \\\n",
       "0                Wii Sports      Wii             2006        Sports     41.36   \n",
       "1         Super Mario Bros.      NES             1985      Platform     29.08   \n",
       "2            Mario Kart Wii      Wii             2008        Racing     15.68   \n",
       "3         Wii Sports Resort      Wii             2009        Sports     15.61   \n",
       "4  Pokemon Red/Pokemon Blue       GB             1996  Role-Playing     11.27   \n",
       "\n",
       "   eu_sales  jp_sales  other_sales  critic_score  user_score rating  \\\n",
       "0     28.96      3.77         8.45          76.0        80.0      E   \n",
       "1      3.58      6.81         0.77           NaN         NaN    tbd   \n",
       "2     12.76      3.79         3.29          82.0        83.0      E   \n",
       "3     10.93      3.28         2.95          80.0        80.0      E   \n",
       "4      8.89     10.22         1.00           NaN         NaN    tbd   \n",
       "\n",
       "   total_sales  \n",
       "0        82.54  \n",
       "1        40.24  \n",
       "2        35.52  \n",
       "3        32.77  \n",
       "4        31.38  "
      ]
     },
     "execution_count": 91,
     "metadata": {},
     "output_type": "execute_result"
    }
   ],
   "source": [
    "df['total_sales'] = df['na_sales']+df['eu_sales']+df['jp_sales']+df['other_sales']\n",
    "df.head(5)"
   ]
  },
  {
   "cell_type": "markdown",
   "id": "c0ad4724",
   "metadata": {},
   "source": [
    "# 3. Data analysis"
   ]
  },
  {
   "cell_type": "markdown",
   "id": "5456b1a2",
   "metadata": {},
   "source": [
    "## 3.1. Number of released games by year"
   ]
  },
  {
   "cell_type": "markdown",
   "id": "03bd6c90",
   "metadata": {},
   "source": [
    "Let's create a pivot table where we will collect information about released games depending on the year. Then we will build a graph."
   ]
  },
  {
   "cell_type": "code",
   "execution_count": 92,
   "id": "d2496163",
   "metadata": {
    "scrolled": true
   },
   "outputs": [
    {
     "data": {
      "image/png": "[encoded data removed]",
      "text/plain": [
       "<Figure size 720x360 with 1 Axes>"
      ]
     },
     "metadata": {
      "needs_background": "light"
     },
     "output_type": "display_data"
    }
   ],
   "source": [
    "released_games = df.pivot_table(index='year_of_release', values='name', aggfunc='count')\n",
    "released_games_plot = released_games.plot(kind='bar',\n",
    "linewidth=2,\n",
    "grid=True,\n",
    "figsize=(10,5),\n",
    "title='Number of released games by year')\n",
    "released_games_plot.set_xlabel('Year')\n",
    "released_games_plot.set_ylabel('Number of released games')\n",
    "plt.show()"
   ]
  },
  {
   "cell_type": "markdown",
   "id": "997c2ed2",
   "metadata": {},
   "source": [
    "As you can see, games have been actively released since 1995. The peak of growth occurs from 2007 to 2009. Accordingly, the most interesting period for further analysis is from 1995 to 2016."
   ]
  },
  {
   "cell_type": "markdown",
   "id": "029d8a9a",
   "metadata": {},
   "source": [
    "## 3.2.  Dependence of sales on platforms by years"
   ]
  },
  {
   "cell_type": "markdown",
   "id": "cc4dd864",
   "metadata": {},
   "source": [
    "Let's create a pivot table, where we will collect information and the number of released games for each year. Next, let's build a graph."
   ]
  },
  {
   "cell_type": "code",
   "execution_count": 93,
   "id": "f4276f63",
   "metadata": {
    "scrolled": false
   },
   "outputs": [
    {
     "data": {
      "image/png": "[encoded data removed]",
      "text/plain": [
       "<Figure size 1440x864 with 1 Axes>"
      ]
     },
     "metadata": {
      "needs_background": "light"
     },
     "output_type": "display_data"
    }
   ],
   "source": [
    "df_pivot = df.pivot_table(index='year_of_release', columns ='platform' ,values='total_sales', aggfunc='sum')\n",
    "df_pivot_plot = df_pivot.plot(kind='line',\n",
    "figsize=(20,12),\n",
    "grid=True, fontsize=15)\n",
    "plt.xlim(1995, 2018)\n",
    "plt.title('Dependence of sales on platforms', fontsize = 25)\n",
    "df_pivot_plot.set_xlabel('Year', fontsize=20)\n",
    "df_pivot_plot.set_ylabel('Number of sales', fontsize=20)\n",
    "plt.show()"
   ]
  },
  {
   "cell_type": "markdown",
   "id": "a298aa5a",
   "metadata": {},
   "source": [
    "On the graph, you can see how the number of sales of different platforms changed in different years. So PS was popular from 1995 to 2000; GBA - at the beginning of the 2000s; PS2 - from 2005 to 2010; PS3, PS4 and X360 after 2010. The rest of the platforms lost audience interest by the mid-2000s. Sales of PC games have roughly always remained at the same level within 25."
   ]
  },
  {
   "cell_type": "markdown",
   "id": "8480ac5b",
   "metadata": {},
   "source": [
    "Let's see the most popular platforms by the number of sales of all time."
   ]
  },
  {
   "cell_type": "code",
   "execution_count": 94,
   "id": "427067bc",
   "metadata": {
    "scrolled": false
   },
   "outputs": [
    {
     "data": {
      "text/html": [
       "<div>\n",
       "<style scoped>\n",
       "    .dataframe tbody tr th:only-of-type {\n",
       "        vertical-align: middle;\n",
       "    }\n",
       "\n",
       "    .dataframe tbody tr th {\n",
       "        vertical-align: top;\n",
       "    }\n",
       "\n",
       "    .dataframe thead th {\n",
       "        text-align: right;\n",
       "    }\n",
       "</style>\n",
       "<table border=\"1\" class=\"dataframe\">\n",
       "  <thead>\n",
       "    <tr style=\"text-align: right;\">\n",
       "      <th></th>\n",
       "      <th>total_sales</th>\n",
       "    </tr>\n",
       "    <tr>\n",
       "      <th>platform</th>\n",
       "      <th></th>\n",
       "    </tr>\n",
       "  </thead>\n",
       "  <tbody>\n",
       "    <tr>\n",
       "      <th>PS2</th>\n",
       "      <td>1233.56</td>\n",
       "    </tr>\n",
       "    <tr>\n",
       "      <th>X360</th>\n",
       "      <td>961.24</td>\n",
       "    </tr>\n",
       "    <tr>\n",
       "      <th>PS3</th>\n",
       "      <td>931.34</td>\n",
       "    </tr>\n",
       "    <tr>\n",
       "      <th>Wii</th>\n",
       "      <td>891.18</td>\n",
       "    </tr>\n",
       "    <tr>\n",
       "      <th>DS</th>\n",
       "      <td>802.78</td>\n",
       "    </tr>\n",
       "  </tbody>\n",
       "</table>\n",
       "</div>"
      ],
      "text/plain": [
       "          total_sales\n",
       "platform             \n",
       "PS2           1233.56\n",
       "X360           961.24\n",
       "PS3            931.34\n",
       "Wii            891.18\n",
       "DS             802.78"
      ]
     },
     "execution_count": 94,
     "metadata": {},
     "output_type": "execute_result"
    }
   ],
   "source": [
    "platform_revenue = df.pivot_table(index='platform', values='total_sales',aggfunc='sum').sort_values(by='total_sales',\n",
    "                                                                                                    ascending=False)\n",
    "best_platforms = platform_revenue.iloc[:5]\n",
    "best_platforms"
   ]
  },
  {
   "cell_type": "markdown",
   "id": "876ad379",
   "metadata": {},
   "source": [
    "PS2 has become the most popular platform of all time.\n",
    "For further analysis, we will take the range from 2012 to 2016 for the current period."
   ]
  },
  {
   "cell_type": "code",
   "execution_count": 95,
   "id": "d5da62dc",
   "metadata": {},
   "outputs": [],
   "source": [
    "act_df = df_pivot.query('year_of_release >= 2012')"
   ]
  },
  {
   "cell_type": "code",
   "execution_count": 96,
   "id": "aa6db76f",
   "metadata": {},
   "outputs": [
    {
     "data": {
      "image/png": "[encoded data removed]",
      "text/plain": [
       "<Figure size 1440x864 with 1 Axes>"
      ]
     },
     "metadata": {
      "needs_background": "light"
     },
     "output_type": "display_data"
    }
   ],
   "source": [
    "x_ticks = [2012, 2013, 2014, 2015, 2016]\n",
    "x_labels = ['2012', '2013', '2014', '2015', '2016']\n",
    "act_df_plot = act_df.plot(kind='line',\n",
    "figsize=(20,12),\n",
    "grid=True,\n",
    "fontsize=15)\n",
    "plt.title('Dependence of sales on platforms', fontsize = 25)\n",
    "act_df_plot.set_xlabel('Year', fontsize=20)\n",
    "act_df_plot.set_ylabel('Number of sales', fontsize=20)\n",
    "plt.xticks(ticks=x_ticks, labels=x_labels)\n",
    "plt.show()"
   ]
  },
  {
   "cell_type": "markdown",
   "id": "3e988769",
   "metadata": {},
   "source": [
    "The general trend is that the popularity of all platforms is falling towards the end of 2016. However, XOne and PS4 are potentially successful. The popularity of the WiiU and the X360 has dropped dramatically since 2013."
   ]
  },
  {
   "cell_type": "markdown",
   "id": "619fc7ab",
   "metadata": {},
   "source": [
    "**Now let's see global game sales by top platforms.**"
   ]
  },
  {
   "cell_type": "markdown",
   "id": "e3c586b2",
   "metadata": {},
   "source": [
    "First, let's filter the original dataframe by the most popular platforms after 2012."
   ]
  },
  {
   "cell_type": "code",
   "execution_count": 97,
   "id": "b1e3aa1e",
   "metadata": {},
   "outputs": [],
   "source": [
    "modern_df = df.query('year_of_release >=2012')"
   ]
  },
  {
   "cell_type": "code",
   "execution_count": 98,
   "id": "4cd1cd9d",
   "metadata": {
    "scrolled": true
   },
   "outputs": [
    {
     "data": {
      "text/html": [
       "<div>\n",
       "<style scoped>\n",
       "    .dataframe tbody tr th:only-of-type {\n",
       "        vertical-align: middle;\n",
       "    }\n",
       "\n",
       "    .dataframe tbody tr th {\n",
       "        vertical-align: top;\n",
       "    }\n",
       "\n",
       "    .dataframe thead th {\n",
       "        text-align: right;\n",
       "    }\n",
       "</style>\n",
       "<table border=\"1\" class=\"dataframe\">\n",
       "  <thead>\n",
       "    <tr style=\"text-align: right;\">\n",
       "      <th></th>\n",
       "      <th>platform</th>\n",
       "      <th>total_sales</th>\n",
       "    </tr>\n",
       "  </thead>\n",
       "  <tbody>\n",
       "    <tr>\n",
       "      <th>0</th>\n",
       "      <td>PS4</td>\n",
       "      <td>314.14</td>\n",
       "    </tr>\n",
       "    <tr>\n",
       "      <th>1</th>\n",
       "      <td>PS3</td>\n",
       "      <td>288.79</td>\n",
       "    </tr>\n",
       "    <tr>\n",
       "      <th>2</th>\n",
       "      <td>X360</td>\n",
       "      <td>236.54</td>\n",
       "    </tr>\n",
       "    <tr>\n",
       "      <th>3</th>\n",
       "      <td>3DS</td>\n",
       "      <td>194.61</td>\n",
       "    </tr>\n",
       "    <tr>\n",
       "      <th>4</th>\n",
       "      <td>XOne</td>\n",
       "      <td>159.32</td>\n",
       "    </tr>\n",
       "    <tr>\n",
       "      <th>5</th>\n",
       "      <td>WiiU</td>\n",
       "      <td>82.19</td>\n",
       "    </tr>\n",
       "    <tr>\n",
       "      <th>6</th>\n",
       "      <td>PC</td>\n",
       "      <td>62.65</td>\n",
       "    </tr>\n",
       "  </tbody>\n",
       "</table>\n",
       "</div>"
      ],
      "text/plain": [
       "  platform  total_sales\n",
       "0      PS4       314.14\n",
       "1      PS3       288.79\n",
       "2     X360       236.54\n",
       "3      3DS       194.61\n",
       "4     XOne       159.32\n",
       "5     WiiU        82.19\n",
       "6       PC        62.65"
      ]
     },
     "execution_count": 98,
     "metadata": {},
     "output_type": "execute_result"
    }
   ],
   "source": [
    "top_platforms_filtered = modern_df.groupby('platform').sum().sort_values(by='total_sales',ascending=False)\n",
    "top_platforms_filtered = top_platforms_filtered.reset_index()\n",
    "top_platforms_filtered = top_platforms_filtered.loc[:6, ['platform', 'total_sales']]\n",
    "top_platforms_filtered"
   ]
  },
  {
   "cell_type": "code",
   "execution_count": 99,
   "id": "d8f78960",
   "metadata": {},
   "outputs": [
    {
     "data": {
      "text/plain": [
       "array(['PS4', 'PS3', 'X360', '3DS', 'XOne', 'WiiU', 'PC'], dtype=object)"
      ]
     },
     "execution_count": 99,
     "metadata": {},
     "output_type": "execute_result"
    }
   ],
   "source": [
    "top_platforms_names = top_platforms_filtered['platform'].unique()\n",
    "top_platforms_names"
   ]
  },
  {
   "cell_type": "markdown",
   "id": "4f234b94",
   "metadata": {},
   "source": [
    "As you can see, PS4 has become the most popular platform for the current period (after 2012)."
   ]
  },
  {
   "cell_type": "markdown",
   "id": "f0bc44e6",
   "metadata": {},
   "source": [
    "Now let's create range charts for each platform. To begin with, we will create a new dataset, where we will collect all the relevant information about the most popular platforms after 2012."
   ]
  },
  {
   "cell_type": "code",
   "execution_count": 100,
   "id": "fabfd847",
   "metadata": {},
   "outputs": [
    {
     "data": {
      "text/html": [
       "<div>\n",
       "<style scoped>\n",
       "    .dataframe tbody tr th:only-of-type {\n",
       "        vertical-align: middle;\n",
       "    }\n",
       "\n",
       "    .dataframe tbody tr th {\n",
       "        vertical-align: top;\n",
       "    }\n",
       "\n",
       "    .dataframe thead th {\n",
       "        text-align: right;\n",
       "    }\n",
       "</style>\n",
       "<table border=\"1\" class=\"dataframe\">\n",
       "  <thead>\n",
       "    <tr style=\"text-align: right;\">\n",
       "      <th></th>\n",
       "      <th>platform</th>\n",
       "      <th>total_sales</th>\n",
       "    </tr>\n",
       "  </thead>\n",
       "  <tbody>\n",
       "    <tr>\n",
       "      <th>16</th>\n",
       "      <td>PS3</td>\n",
       "      <td>21.05</td>\n",
       "    </tr>\n",
       "    <tr>\n",
       "      <th>23</th>\n",
       "      <td>X360</td>\n",
       "      <td>16.27</td>\n",
       "    </tr>\n",
       "    <tr>\n",
       "      <th>31</th>\n",
       "      <td>PS4</td>\n",
       "      <td>14.63</td>\n",
       "    </tr>\n",
       "  </tbody>\n",
       "</table>\n",
       "</div>"
      ],
      "text/plain": [
       "   platform  total_sales\n",
       "16      PS3        21.05\n",
       "23     X360        16.27\n",
       "31      PS4        14.63"
      ]
     },
     "execution_count": 100,
     "metadata": {},
     "output_type": "execute_result"
    }
   ],
   "source": [
    "top_platforms = modern_df.query('platform == [\"PS4\", \"PS3\", \"X360\", \"3DS\", \"XOne\", \"WiiU\", \"PC\"]')\n",
    "top_platforms = top_platforms[['platform', 'total_sales']]\n",
    "top_platforms.head(3)"
   ]
  },
  {
   "cell_type": "markdown",
   "id": "fae9802a",
   "metadata": {},
   "source": [
    "Let's look at the numbers."
   ]
  },
  {
   "cell_type": "code",
   "execution_count": 101,
   "id": "8c82bb0d",
   "metadata": {
    "scrolled": true
   },
   "outputs": [
    {
     "data": {
      "text/html": [
       "<div>\n",
       "<style scoped>\n",
       "    .dataframe tbody tr th:only-of-type {\n",
       "        vertical-align: middle;\n",
       "    }\n",
       "\n",
       "    .dataframe tbody tr th {\n",
       "        vertical-align: top;\n",
       "    }\n",
       "\n",
       "    .dataframe thead tr th {\n",
       "        text-align: left;\n",
       "    }\n",
       "\n",
       "    .dataframe thead tr:last-of-type th {\n",
       "        text-align: right;\n",
       "    }\n",
       "</style>\n",
       "<table border=\"1\" class=\"dataframe\">\n",
       "  <thead>\n",
       "    <tr>\n",
       "      <th></th>\n",
       "      <th colspan=\"8\" halign=\"left\">total_sales</th>\n",
       "    </tr>\n",
       "    <tr>\n",
       "      <th></th>\n",
       "      <th>count</th>\n",
       "      <th>mean</th>\n",
       "      <th>std</th>\n",
       "      <th>min</th>\n",
       "      <th>25%</th>\n",
       "      <th>50%</th>\n",
       "      <th>75%</th>\n",
       "      <th>max</th>\n",
       "    </tr>\n",
       "    <tr>\n",
       "      <th>platform</th>\n",
       "      <th></th>\n",
       "      <th></th>\n",
       "      <th></th>\n",
       "      <th></th>\n",
       "      <th></th>\n",
       "      <th></th>\n",
       "      <th></th>\n",
       "      <th></th>\n",
       "    </tr>\n",
       "  </thead>\n",
       "  <tbody>\n",
       "    <tr>\n",
       "      <th>3DS</th>\n",
       "      <td>396.0</td>\n",
       "      <td>0.491439</td>\n",
       "      <td>1.387161</td>\n",
       "      <td>0.01</td>\n",
       "      <td>0.04</td>\n",
       "      <td>0.11</td>\n",
       "      <td>0.3125</td>\n",
       "      <td>14.60</td>\n",
       "    </tr>\n",
       "    <tr>\n",
       "      <th>PC</th>\n",
       "      <td>250.0</td>\n",
       "      <td>0.250600</td>\n",
       "      <td>0.494640</td>\n",
       "      <td>0.01</td>\n",
       "      <td>0.03</td>\n",
       "      <td>0.08</td>\n",
       "      <td>0.2400</td>\n",
       "      <td>5.14</td>\n",
       "    </tr>\n",
       "    <tr>\n",
       "      <th>PS3</th>\n",
       "      <td>493.0</td>\n",
       "      <td>0.585781</td>\n",
       "      <td>1.462855</td>\n",
       "      <td>0.01</td>\n",
       "      <td>0.05</td>\n",
       "      <td>0.20</td>\n",
       "      <td>0.6100</td>\n",
       "      <td>21.05</td>\n",
       "    </tr>\n",
       "    <tr>\n",
       "      <th>PS4</th>\n",
       "      <td>392.0</td>\n",
       "      <td>0.801378</td>\n",
       "      <td>1.609456</td>\n",
       "      <td>0.01</td>\n",
       "      <td>0.06</td>\n",
       "      <td>0.20</td>\n",
       "      <td>0.7300</td>\n",
       "      <td>14.63</td>\n",
       "    </tr>\n",
       "    <tr>\n",
       "      <th>WiiU</th>\n",
       "      <td>147.0</td>\n",
       "      <td>0.559116</td>\n",
       "      <td>1.058836</td>\n",
       "      <td>0.01</td>\n",
       "      <td>0.08</td>\n",
       "      <td>0.22</td>\n",
       "      <td>0.5250</td>\n",
       "      <td>7.09</td>\n",
       "    </tr>\n",
       "    <tr>\n",
       "      <th>X360</th>\n",
       "      <td>292.0</td>\n",
       "      <td>0.810068</td>\n",
       "      <td>1.712069</td>\n",
       "      <td>0.01</td>\n",
       "      <td>0.10</td>\n",
       "      <td>0.31</td>\n",
       "      <td>0.8700</td>\n",
       "      <td>16.27</td>\n",
       "    </tr>\n",
       "    <tr>\n",
       "      <th>XOne</th>\n",
       "      <td>247.0</td>\n",
       "      <td>0.645020</td>\n",
       "      <td>1.036139</td>\n",
       "      <td>0.01</td>\n",
       "      <td>0.06</td>\n",
       "      <td>0.22</td>\n",
       "      <td>0.6850</td>\n",
       "      <td>7.39</td>\n",
       "    </tr>\n",
       "  </tbody>\n",
       "</table>\n",
       "</div>"
      ],
      "text/plain": [
       "         total_sales                                                     \n",
       "               count      mean       std   min   25%   50%     75%    max\n",
       "platform                                                                 \n",
       "3DS            396.0  0.491439  1.387161  0.01  0.04  0.11  0.3125  14.60\n",
       "PC             250.0  0.250600  0.494640  0.01  0.03  0.08  0.2400   5.14\n",
       "PS3            493.0  0.585781  1.462855  0.01  0.05  0.20  0.6100  21.05\n",
       "PS4            392.0  0.801378  1.609456  0.01  0.06  0.20  0.7300  14.63\n",
       "WiiU           147.0  0.559116  1.058836  0.01  0.08  0.22  0.5250   7.09\n",
       "X360           292.0  0.810068  1.712069  0.01  0.10  0.31  0.8700  16.27\n",
       "XOne           247.0  0.645020  1.036139  0.01  0.06  0.22  0.6850   7.39"
      ]
     },
     "execution_count": 101,
     "metadata": {},
     "output_type": "execute_result"
    }
   ],
   "source": [
    "top_platforms.groupby('platform').describe()"
   ]
  },
  {
   "cell_type": "markdown",
   "id": "226a05f6",
   "metadata": {},
   "source": [
    "Now let's build a range chart for all platforms."
   ]
  },
  {
   "cell_type": "code",
   "execution_count": 102,
   "id": "e4cc2362",
   "metadata": {
    "scrolled": false
   },
   "outputs": [
    {
     "data": {
      "image/png": "[encoded data removed]",
      "text/plain": [
       "<Figure size 1080x576 with 1 Axes>"
      ]
     },
     "metadata": {
      "needs_background": "light"
     },
     "output_type": "display_data"
    }
   ],
   "source": [
    "plt.figure(figsize=(15, 8))\n",
    "sns.boxplot(x=top_platforms[\"platform\"], y=top_platforms[\"total_sales\"])\n",
    "plt.ylim(0, 1)\n",
    "plt.show();"
   ]
  },
  {
   "cell_type": "markdown",
   "id": "e79ff01d",
   "metadata": {},
   "source": [
    "The following features can be noted on the range diagram:\n",
    "* platforms PS3, PS4, XOne and WiiU have almost the same median sales (0.2);\n",
    "* each platform has outliers;\n",
    "* the biggest sales of platforms X360, PS4, XOne according to the normal scope;\n",
    "* Most sales from the PS3 platform - 493;\n",
    "* leader in terms of normal range and median sales - X360;\n",
    "* PS4 has the most emissions. This suggests that after 2013 a boom began on this platform;\n",
    "* the smallest sales and the least emissions from the PS platform;"
   ]
  },
  {
   "cell_type": "markdown",
   "id": "88e08c06",
   "metadata": {},
   "source": [
    "**Let's see how sales within one popular platform are influenced by user and critic reviews**"
   ]
  },
  {
   "cell_type": "markdown",
   "id": "977e6d2f",
   "metadata": {},
   "source": [
    "Let's take PS4 as a popular platform."
   ]
  },
  {
   "cell_type": "code",
   "execution_count": 103,
   "id": "8dcf9eaf",
   "metadata": {},
   "outputs": [],
   "source": [
    "ps4 = modern_df.query('platform == \"PS4\"')"
   ]
  },
  {
   "cell_type": "code",
   "execution_count": 104,
   "id": "16f1cfc4",
   "metadata": {},
   "outputs": [
    {
     "data": {
      "image/png": "[encoded data removed]",
      "text/plain": [
       "<Figure size 432x288 with 1 Axes>"
      ]
     },
     "metadata": {
      "needs_background": "light"
     },
     "output_type": "display_data"
    }
   ],
   "source": [
    "ps4.plot(x='critic_score', y='total_sales',kind='scatter',\n",
    "         title = 'Dependence of sales of games on the assessment of critics on PS4',figsize=(6, 4));"
   ]
  },
  {
   "cell_type": "code",
   "execution_count": 105,
   "id": "b78471cb",
   "metadata": {},
   "outputs": [
    {
     "name": "stdout",
     "output_type": "stream",
     "text": [
      "Correlation between critical reviews and sales: 0.4065679020617816\n"
     ]
    }
   ],
   "source": [
    "print('Correlation between critical reviews and sales:', ps4['critic_score'].corr(ps4['total_sales']))"
   ]
  },
  {
   "cell_type": "code",
   "execution_count": 106,
   "id": "a496720c",
   "metadata": {},
   "outputs": [
    {
     "data": {
      "image/png": "[encoded data removed]",
      "text/plain": [
       "<Figure size 432x288 with 1 Axes>"
      ]
     },
     "metadata": {
      "needs_background": "light"
     },
     "output_type": "display_data"
    }
   ],
   "source": [
    "ps4.plot(x='user_score', y='total_sales',kind='scatter',\n",
    "         title = 'Dependence of sales of games on the assessment of players on PS4',figsize=(6, 4));"
   ]
  },
  {
   "cell_type": "code",
   "execution_count": 107,
   "id": "33502058",
   "metadata": {},
   "outputs": [
    {
     "name": "stdout",
     "output_type": "stream",
     "text": [
      "Correlation between user reviews and sales: -0.03195711020455644\n"
     ]
    }
   ],
   "source": [
    "print('Correlation between user reviews and sales:',ps4['user_score'].corr(ps4['total_sales']))"
   ]
  },
  {
   "cell_type": "markdown",
   "id": "d3a8165c",
   "metadata": {},
   "source": [
    "As can be seen from the graphs and correlations, there is a certain dependence. The most popular games are those with 'above average' ratings. Critics' ratings show a direct, medium-weak correlation with sales \"numbers\". There is almost no correlation between user ratings and sales. It is noticeable that games that experts give high ratings sell better. Apparently this is a psychological factor that helps buyers make a choice in the direction of a particular game when buying."
   ]
  },
  {
   "cell_type": "markdown",
   "id": "47e3fa51",
   "metadata": {},
   "source": [
    "**Ratio of withdrawals to sales of games on other platforms**"
   ]
  },
  {
   "cell_type": "markdown",
   "id": "8fecaa37",
   "metadata": {},
   "source": [
    "Let's look at the relationship between ratings and sales for all games since 2012."
   ]
  },
  {
   "cell_type": "code",
   "execution_count": 108,
   "id": "8b53a949",
   "metadata": {},
   "outputs": [
    {
     "name": "stdout",
     "output_type": "stream",
     "text": [
      "              critic_score  user_score  total_sales\n",
      "critic_score      1.000000    0.517727     0.308197\n",
      "user_score        0.517727    1.000000     0.004429\n",
      "total_sales       0.308197    0.004429     1.000000\n"
     ]
    }
   ],
   "source": [
    "print(modern_df[['critic_score', 'user_score', 'total_sales']].corr()) \n"
   ]
  },
  {
   "cell_type": "markdown",
   "id": "c6173257",
   "metadata": {},
   "source": [
    "According to the preliminary assessment, it is noticeable that the feedback from the players is highly dependent on the ratings of the critics. Sales volumes do not depend much on reviews."
   ]
  },
  {
   "cell_type": "markdown",
   "id": "7b129668",
   "metadata": {},
   "source": [
    "Let's see how popular games are on other platforms."
   ]
  },
  {
   "cell_type": "code",
   "execution_count": 109,
   "id": "3bcf7c13",
   "metadata": {},
   "outputs": [
    {
     "data": {
      "image/png": "[encoded data removed]",
      "text/plain": [
       "<Figure size 432x288 with 1 Axes>"
      ]
     },
     "metadata": {
      "needs_background": "light"
     },
     "output_type": "display_data"
    }
   ],
   "source": [
    "ps3 = modern_df.query('platform == \"PS3\"')\n",
    "ps3.plot(x='critic_score', y='total_sales',kind='scatter',\n",
    "         title = 'Dependence of sales of games on the assessment of critics on PS3', figsize=(6, 4));"
   ]
  },
  {
   "cell_type": "markdown",
   "id": "7f4ad4a9",
   "metadata": {},
   "source": [
    "It is noticeable that games with high ratings are more popular on PS3."
   ]
  },
  {
   "cell_type": "code",
   "execution_count": 110,
   "id": "fe919bdb",
   "metadata": {},
   "outputs": [
    {
     "data": {
      "image/png": "[encoded data removed]",
      "text/plain": [
       "<Figure size 432x288 with 1 Axes>"
      ]
     },
     "metadata": {
      "needs_background": "light"
     },
     "output_type": "display_data"
    }
   ],
   "source": [
    "x360 = modern_df.query('platform == \"X360\"')\n",
    "x360.plot(x='critic_score', y='total_sales',kind='scatter', title = \"Dependence of game sales on x360 critics' scores\",\n",
    "          figsize=(6, 4));"
   ]
  },
  {
   "cell_type": "markdown",
   "id": "f8d25483",
   "metadata": {},
   "source": [
    "The situation is similar - games with high ratings are more popular on X360 too."
   ]
  },
  {
   "cell_type": "code",
   "execution_count": 111,
   "id": "8414e2e4",
   "metadata": {},
   "outputs": [
    {
     "data": {
      "image/png": "[encoded data removed]",
      "text/plain": [
       "<Figure size 432x288 with 1 Axes>"
      ]
     },
     "metadata": {
      "needs_background": "light"
     },
     "output_type": "display_data"
    }
   ],
   "source": [
    "x_one = modern_df.query('platform == \"XOne\"')\n",
    "x_one.plot(x='critic_score', y='total_sales',kind='scatter',\n",
    "           title = 'Dependence of game sales on the evaluation of critics on XOne', figsize=(6, 4));"
   ]
  },
  {
   "cell_type": "markdown",
   "id": "6cf7f689",
   "metadata": {},
   "source": [
    "The situation is similar with XOne."
   ]
  },
  {
   "cell_type": "code",
   "execution_count": 112,
   "id": "6481a9e5",
   "metadata": {},
   "outputs": [
    {
     "data": {
      "image/png": "[encoded data removed]",
      "text/plain": [
       "<Figure size 432x288 with 1 Axes>"
      ]
     },
     "metadata": {
      "needs_background": "light"
     },
     "output_type": "display_data"
    }
   ],
   "source": [
    "wii = modern_df.query('platform == \"WiiU\"')\n",
    "wii.plot(x='critic_score', y='total_sales',kind='scatter',\n",
    "         title = 'Dependence of sales of games on the assessment of critics on the Wii', figsize=(6, 4));"
   ]
  },
  {
   "cell_type": "markdown",
   "id": "d7648ee2",
   "metadata": {},
   "source": [
    "The same is true for the Wii."
   ]
  },
  {
   "cell_type": "code",
   "execution_count": 113,
   "id": "94560d72",
   "metadata": {},
   "outputs": [
    {
     "data": {
      "image/png": "[encoded data removed]",
      "text/plain": [
       "<Figure size 432x288 with 1 Axes>"
      ]
     },
     "metadata": {
      "needs_background": "light"
     },
     "output_type": "display_data"
    }
   ],
   "source": [
    "ds = modern_df.query('platform == \"PC\"')\n",
    "ds.plot(x='critic_score', y='total_sales',kind='scatter',\n",
    "        title = 'Dependence of sales of games on the assessment of critics on PC', figsize=(6, 4));"
   ]
  },
  {
   "cell_type": "markdown",
   "id": "55f523aa",
   "metadata": {},
   "source": [
    "But on the PC, the popularity of games does not depend much on critics' ratings. Apparently this is due to the fact that users buy everything, for example, there are fewer games and PC owners have no choice. And in general, games on this console after 2012 became not very popular."
   ]
  },
  {
   "cell_type": "markdown",
   "id": "cb5c0e25",
   "metadata": {},
   "source": [
    "**Popular genres**"
   ]
  },
  {
   "cell_type": "markdown",
   "id": "a1e44ab0",
   "metadata": {},
   "source": [
    "Let's see what are the genres of games released after 2012."
   ]
  },
  {
   "cell_type": "code",
   "execution_count": 114,
   "id": "649818d8",
   "metadata": {},
   "outputs": [
    {
     "data": {
      "text/plain": [
       "array(['Action', 'Shooter', 'Role-Playing', 'Platform', 'Misc',\n",
       "       'Simulation', 'Sports', 'Fighting', 'Racing', 'Strategy',\n",
       "       'Adventure', 'Puzzle'], dtype=object)"
      ]
     },
     "execution_count": 114,
     "metadata": {},
     "output_type": "execute_result"
    }
   ],
   "source": [
    "modern_df['genre'].unique()"
   ]
  },
  {
   "cell_type": "markdown",
   "id": "72bac4bc",
   "metadata": {},
   "source": [
    "Now let's look at the popularity of each genre. To do this, look at the median sales of each genre. This approach is due to the fact that too many sales of certain genres does not mean its popularity. High sales may hide games with low ratings. Median values will help cut out all the outliers and show a real picture of the popularity of genres."
   ]
  },
  {
   "cell_type": "code",
   "execution_count": 115,
   "id": "f8945537",
   "metadata": {
    "scrolled": true
   },
   "outputs": [],
   "source": [
    "modern_genres = modern_df.groupby('genre')['total_sales'].mean()"
   ]
  },
  {
   "cell_type": "code",
   "execution_count": 116,
   "id": "9b372a9a",
   "metadata": {},
   "outputs": [
    {
     "data": {
      "image/png": "[encoded data removed]",
      "text/plain": [
       "<Figure size 864x432 with 1 Axes>"
      ]
     },
     "metadata": {
      "needs_background": "light"
     },
     "output_type": "display_data"
    }
   ],
   "source": [
    "pop_genres_plot = modern_genres.plot(kind='bar',\n",
    "figsize=(12,6),\n",
    "grid=True, fontsize=10)\n",
    "plt.title('The dependence of game sales on the genre', fontsize = 17)\n",
    "pop_genres_plot.set_xlabel('Genres', fontsize=12)\n",
    "pop_genres_plot.set_ylabel('Median number of sales', fontsize=12)\n",
    "pop_genres_plot.set_xticklabels(pop_genres_plot.get_xticklabels(),rotation = 30)\n",
    "plt.show()"
   ]
  },
  {
   "cell_type": "markdown",
   "id": "d82abb56",
   "metadata": {},
   "source": [
    "It is noticeable that the most popular genre is Shooter. It is this genre that has the highest average level of sales, although their total number is less than that of the Action genre."
   ]
  },
  {
   "cell_type": "markdown",
   "id": "cead3b1c",
   "metadata": {},
   "source": [
    "**Top selling genres by platform.**"
   ]
  },
  {
   "cell_type": "markdown",
   "id": "a8eeaad6",
   "metadata": {},
   "source": [
    "Let's create a pivot table to look at the total number of game sales by genre across all platforms"
   ]
  },
  {
   "cell_type": "code",
   "execution_count": 117,
   "id": "aefd3d27",
   "metadata": {
    "scrolled": false
   },
   "outputs": [
    {
     "data": {
      "text/html": [
       "<div>\n",
       "<style scoped>\n",
       "    .dataframe tbody tr th:only-of-type {\n",
       "        vertical-align: middle;\n",
       "    }\n",
       "\n",
       "    .dataframe tbody tr th {\n",
       "        vertical-align: top;\n",
       "    }\n",
       "\n",
       "    .dataframe thead th {\n",
       "        text-align: right;\n",
       "    }\n",
       "</style>\n",
       "<table border=\"1\" class=\"dataframe\">\n",
       "  <thead>\n",
       "    <tr style=\"text-align: right;\">\n",
       "      <th>platform</th>\n",
       "      <th>3DS</th>\n",
       "      <th>DS</th>\n",
       "      <th>PC</th>\n",
       "      <th>PS3</th>\n",
       "      <th>PS4</th>\n",
       "      <th>PSP</th>\n",
       "      <th>PSV</th>\n",
       "      <th>Wii</th>\n",
       "      <th>WiiU</th>\n",
       "      <th>X360</th>\n",
       "      <th>XOne</th>\n",
       "    </tr>\n",
       "    <tr>\n",
       "      <th>genre</th>\n",
       "      <th></th>\n",
       "      <th></th>\n",
       "      <th></th>\n",
       "      <th></th>\n",
       "      <th></th>\n",
       "      <th></th>\n",
       "      <th></th>\n",
       "      <th></th>\n",
       "      <th></th>\n",
       "      <th></th>\n",
       "      <th></th>\n",
       "    </tr>\n",
       "  </thead>\n",
       "  <tbody>\n",
       "    <tr>\n",
       "      <th>Action</th>\n",
       "      <td>45.49</td>\n",
       "      <td>1.82</td>\n",
       "      <td>13.14</td>\n",
       "      <td>115.75</td>\n",
       "      <td>96.10</td>\n",
       "      <td>3.76</td>\n",
       "      <td>16.33</td>\n",
       "      <td>10.75</td>\n",
       "      <td>19.07</td>\n",
       "      <td>81.60</td>\n",
       "      <td>37.31</td>\n",
       "    </tr>\n",
       "    <tr>\n",
       "      <th>Adventure</th>\n",
       "      <td>4.30</td>\n",
       "      <td>0.06</td>\n",
       "      <td>0.87</td>\n",
       "      <td>6.09</td>\n",
       "      <td>6.34</td>\n",
       "      <td>1.67</td>\n",
       "      <td>3.79</td>\n",
       "      <td>0.19</td>\n",
       "      <td>0.17</td>\n",
       "      <td>3.27</td>\n",
       "      <td>2.68</td>\n",
       "    </tr>\n",
       "    <tr>\n",
       "      <th>Fighting</th>\n",
       "      <td>8.46</td>\n",
       "      <td>NaN</td>\n",
       "      <td>0.12</td>\n",
       "      <td>11.00</td>\n",
       "      <td>8.65</td>\n",
       "      <td>0.36</td>\n",
       "      <td>2.21</td>\n",
       "      <td>NaN</td>\n",
       "      <td>6.27</td>\n",
       "      <td>4.97</td>\n",
       "      <td>2.45</td>\n",
       "    </tr>\n",
       "    <tr>\n",
       "      <th>Misc</th>\n",
       "      <td>9.45</td>\n",
       "      <td>0.48</td>\n",
       "      <td>0.73</td>\n",
       "      <td>8.88</td>\n",
       "      <td>8.19</td>\n",
       "      <td>0.41</td>\n",
       "      <td>4.32</td>\n",
       "      <td>17.86</td>\n",
       "      <td>12.46</td>\n",
       "      <td>14.83</td>\n",
       "      <td>7.43</td>\n",
       "    </tr>\n",
       "    <tr>\n",
       "      <th>Platform</th>\n",
       "      <td>19.11</td>\n",
       "      <td>0.69</td>\n",
       "      <td>0.14</td>\n",
       "      <td>4.26</td>\n",
       "      <td>7.69</td>\n",
       "      <td>NaN</td>\n",
       "      <td>2.26</td>\n",
       "      <td>2.25</td>\n",
       "      <td>21.53</td>\n",
       "      <td>2.14</td>\n",
       "      <td>0.93</td>\n",
       "    </tr>\n",
       "    <tr>\n",
       "      <th>Puzzle</th>\n",
       "      <td>2.66</td>\n",
       "      <td>0.10</td>\n",
       "      <td>0.03</td>\n",
       "      <td>0.04</td>\n",
       "      <td>0.02</td>\n",
       "      <td>NaN</td>\n",
       "      <td>0.06</td>\n",
       "      <td>0.66</td>\n",
       "      <td>1.32</td>\n",
       "      <td>NaN</td>\n",
       "      <td>NaN</td>\n",
       "    </tr>\n",
       "    <tr>\n",
       "      <th>Racing</th>\n",
       "      <td>0.28</td>\n",
       "      <td>NaN</td>\n",
       "      <td>1.23</td>\n",
       "      <td>11.56</td>\n",
       "      <td>12.14</td>\n",
       "      <td>NaN</td>\n",
       "      <td>2.21</td>\n",
       "      <td>0.01</td>\n",
       "      <td>7.87</td>\n",
       "      <td>8.41</td>\n",
       "      <td>9.79</td>\n",
       "    </tr>\n",
       "    <tr>\n",
       "      <th>Role-Playing</th>\n",
       "      <td>79.30</td>\n",
       "      <td>9.08</td>\n",
       "      <td>13.65</td>\n",
       "      <td>22.62</td>\n",
       "      <td>28.99</td>\n",
       "      <td>2.81</td>\n",
       "      <td>12.05</td>\n",
       "      <td>1.06</td>\n",
       "      <td>2.89</td>\n",
       "      <td>9.80</td>\n",
       "      <td>10.55</td>\n",
       "    </tr>\n",
       "    <tr>\n",
       "      <th>Shooter</th>\n",
       "      <td>0.13</td>\n",
       "      <td>NaN</td>\n",
       "      <td>14.27</td>\n",
       "      <td>60.39</td>\n",
       "      <td>88.56</td>\n",
       "      <td>NaN</td>\n",
       "      <td>2.34</td>\n",
       "      <td>NaN</td>\n",
       "      <td>6.01</td>\n",
       "      <td>72.70</td>\n",
       "      <td>60.33</td>\n",
       "    </tr>\n",
       "    <tr>\n",
       "      <th>Simulation</th>\n",
       "      <td>19.93</td>\n",
       "      <td>0.21</td>\n",
       "      <td>9.22</td>\n",
       "      <td>1.78</td>\n",
       "      <td>1.23</td>\n",
       "      <td>0.06</td>\n",
       "      <td>0.05</td>\n",
       "      <td>0.22</td>\n",
       "      <td>0.20</td>\n",
       "      <td>1.53</td>\n",
       "      <td>0.69</td>\n",
       "    </tr>\n",
       "    <tr>\n",
       "      <th>Sports</th>\n",
       "      <td>4.23</td>\n",
       "      <td>0.11</td>\n",
       "      <td>3.26</td>\n",
       "      <td>44.84</td>\n",
       "      <td>55.61</td>\n",
       "      <td>1.41</td>\n",
       "      <td>3.21</td>\n",
       "      <td>2.11</td>\n",
       "      <td>3.16</td>\n",
       "      <td>36.39</td>\n",
       "      <td>26.74</td>\n",
       "    </tr>\n",
       "    <tr>\n",
       "      <th>Strategy</th>\n",
       "      <td>1.27</td>\n",
       "      <td>NaN</td>\n",
       "      <td>5.99</td>\n",
       "      <td>1.58</td>\n",
       "      <td>0.62</td>\n",
       "      <td>0.71</td>\n",
       "      <td>0.35</td>\n",
       "      <td>0.26</td>\n",
       "      <td>1.24</td>\n",
       "      <td>0.90</td>\n",
       "      <td>0.42</td>\n",
       "    </tr>\n",
       "  </tbody>\n",
       "</table>\n",
       "</div>"
      ],
      "text/plain": [
       "platform        3DS    DS     PC     PS3    PS4   PSP    PSV    Wii   WiiU  \\\n",
       "genre                                                                        \n",
       "Action        45.49  1.82  13.14  115.75  96.10  3.76  16.33  10.75  19.07   \n",
       "Adventure      4.30  0.06   0.87    6.09   6.34  1.67   3.79   0.19   0.17   \n",
       "Fighting       8.46   NaN   0.12   11.00   8.65  0.36   2.21    NaN   6.27   \n",
       "Misc           9.45  0.48   0.73    8.88   8.19  0.41   4.32  17.86  12.46   \n",
       "Platform      19.11  0.69   0.14    4.26   7.69   NaN   2.26   2.25  21.53   \n",
       "Puzzle         2.66  0.10   0.03    0.04   0.02   NaN   0.06   0.66   1.32   \n",
       "Racing         0.28   NaN   1.23   11.56  12.14   NaN   2.21   0.01   7.87   \n",
       "Role-Playing  79.30  9.08  13.65   22.62  28.99  2.81  12.05   1.06   2.89   \n",
       "Shooter        0.13   NaN  14.27   60.39  88.56   NaN   2.34    NaN   6.01   \n",
       "Simulation    19.93  0.21   9.22    1.78   1.23  0.06   0.05   0.22   0.20   \n",
       "Sports         4.23  0.11   3.26   44.84  55.61  1.41   3.21   2.11   3.16   \n",
       "Strategy       1.27   NaN   5.99    1.58   0.62  0.71   0.35   0.26   1.24   \n",
       "\n",
       "platform       X360   XOne  \n",
       "genre                       \n",
       "Action        81.60  37.31  \n",
       "Adventure      3.27   2.68  \n",
       "Fighting       4.97   2.45  \n",
       "Misc          14.83   7.43  \n",
       "Platform       2.14   0.93  \n",
       "Puzzle          NaN    NaN  \n",
       "Racing         8.41   9.79  \n",
       "Role-Playing   9.80  10.55  \n",
       "Shooter       72.70  60.33  \n",
       "Simulation     1.53   0.69  \n",
       "Sports        36.39  26.74  \n",
       "Strategy       0.90   0.42  "
      ]
     },
     "execution_count": 117,
     "metadata": {},
     "output_type": "execute_result"
    }
   ],
   "source": [
    "top_genres = modern_df.pivot_table(index='genre', columns='platform', values='total_sales', aggfunc='sum')\n",
    "top_genres"
   ]
  },
  {
   "cell_type": "markdown",
   "id": "6f4d7de6",
   "metadata": {},
   "source": [
    "Let's look at the total total sales and median sales of each genre per year."
   ]
  },
  {
   "cell_type": "code",
   "execution_count": 118,
   "id": "ce6143e5",
   "metadata": {},
   "outputs": [
    {
     "data": {
      "text/plain": [
       "genre\n",
       "Shooter         37.300\n",
       "Action          19.070\n",
       "Role-Playing    10.550\n",
       "Misc             8.190\n",
       "Racing           7.870\n",
       "Fighting         4.970\n",
       "Sports           3.260\n",
       "Adventure        2.680\n",
       "Platform         2.255\n",
       "Strategy         0.805\n",
       "Simulation       0.690\n",
       "Puzzle           0.080\n",
       "dtype: float64"
      ]
     },
     "execution_count": 118,
     "metadata": {},
     "output_type": "execute_result"
    }
   ],
   "source": [
    "total_median = top_genres.median(axis=1).sort_values(ascending = False)\n",
    "total_median"
   ]
  },
  {
   "cell_type": "code",
   "execution_count": 119,
   "id": "99ded2ff",
   "metadata": {},
   "outputs": [
    {
     "data": {
      "text/plain": [
       "genre\n",
       "Action          441.12\n",
       "Shooter         304.73\n",
       "Role-Playing    192.80\n",
       "Sports          181.07\n",
       "Misc             85.04\n",
       "Platform         61.00\n",
       "Racing           53.50\n",
       "Fighting         44.49\n",
       "Simulation       35.12\n",
       "Adventure        29.43\n",
       "Strategy         13.34\n",
       "Puzzle            4.89\n",
       "dtype: float64"
      ]
     },
     "execution_count": 119,
     "metadata": {},
     "output_type": "execute_result"
    }
   ],
   "source": [
    "total_sum = top_genres.sum(axis=1).sort_values(ascending = False)\n",
    "total_sum"
   ]
  },
  {
   "cell_type": "markdown",
   "id": "e86978e1",
   "metadata": {},
   "source": [
    "As you can see, the Action genre has the highest overall sales. However, as mentioned above, this is not an indicator of popularity. Shooter became the most popular genre, it has the highest average sales per year."
   ]
  },
  {
   "cell_type": "code",
   "execution_count": 120,
   "id": "af11db37",
   "metadata": {},
   "outputs": [
    {
     "data": {
      "image/png": "[encoded data removed]",
      "text/plain": [
       "<Figure size 1080x576 with 1 Axes>"
      ]
     },
     "metadata": {
      "needs_background": "light"
     },
     "output_type": "display_data"
    }
   ],
   "source": [
    "top_genres_plot = top_genres.plot(kind='bar',\n",
    "figsize=(15,8),\n",
    "grid=True, fontsize=12)\n",
    "plt.title('Popularity of genres on platforms', fontsize = 18)\n",
    "top_genres_plot.set_xlabel('Genres', fontsize=14)\n",
    "top_genres_plot.set_ylabel('Number of sales', fontsize=14)\n",
    "top_genres_plot.set_xticklabels(top_genres_plot.get_xticklabels(),rotation = 30)\n",
    "plt.show()"
   ]
  },
  {
   "cell_type": "markdown",
   "id": "7d6ddc49",
   "metadata": {},
   "source": [
    "Analyzing the graph, several features can be distinguished:\n",
    "* the best selling genre on almost all platforms is action. Most of all it is played on PS3;\n",
    "* the least popular genre is puzzle;\n",
    "* least played on the DS platform. The most popular genre on it is Role-Playing;\n",
    "* PS4 is played almost the most in all genres;\n",
    "* The most popular Shooter genre is mainly played on PS4."
   ]
  },
  {
   "cell_type": "markdown",
   "id": "2961068f",
   "metadata": {},
   "source": [
    "## 3.3. User portrait for each region"
   ]
  },
  {
   "cell_type": "markdown",
   "id": "d77ed3e5",
   "metadata": {},
   "source": [
    "### 3.3.1. Most Popular Platforms"
   ]
  },
  {
   "cell_type": "markdown",
   "id": "47fa1f12",
   "metadata": {},
   "source": [
    "Let's determine which are the most popular platforms for users in North America (NA), Europe (EU), and Japan (JP). To do this, select the top-5 platforms."
   ]
  },
  {
   "cell_type": "code",
   "execution_count": 121,
   "id": "3e3f6fa4",
   "metadata": {},
   "outputs": [
    {
     "data": {
      "text/plain": [
       "platform\n",
       "PS4     314.14\n",
       "PS3     288.79\n",
       "X360    236.54\n",
       "3DS     194.61\n",
       "XOne    159.32\n",
       "WiiU     82.19\n",
       "PC       62.65\n",
       "Name: total_sales, dtype: float64"
      ]
     },
     "execution_count": 121,
     "metadata": {},
     "output_type": "execute_result"
    }
   ],
   "source": [
    "top_platforms.groupby('platform')['total_sales'].sum().sort_values(ascending=False)"
   ]
  },
  {
   "cell_type": "markdown",
   "id": "83808e0e",
   "metadata": {},
   "source": [
    "As you can see, the top 5 did not include the WiiU and PC platforms. Let's get rid of all the lines that contain information on these platforms."
   ]
  },
  {
   "cell_type": "code",
   "execution_count": 122,
   "id": "ff702615",
   "metadata": {},
   "outputs": [
    {
     "data": {
      "text/html": [
       "<div>\n",
       "<style scoped>\n",
       "    .dataframe tbody tr th:only-of-type {\n",
       "        vertical-align: middle;\n",
       "    }\n",
       "\n",
       "    .dataframe tbody tr th {\n",
       "        vertical-align: top;\n",
       "    }\n",
       "\n",
       "    .dataframe thead th {\n",
       "        text-align: right;\n",
       "    }\n",
       "</style>\n",
       "<table border=\"1\" class=\"dataframe\">\n",
       "  <thead>\n",
       "    <tr style=\"text-align: right;\">\n",
       "      <th></th>\n",
       "      <th>name</th>\n",
       "      <th>platform</th>\n",
       "      <th>year_of_release</th>\n",
       "      <th>genre</th>\n",
       "      <th>na_sales</th>\n",
       "      <th>eu_sales</th>\n",
       "      <th>jp_sales</th>\n",
       "      <th>other_sales</th>\n",
       "      <th>critic_score</th>\n",
       "      <th>user_score</th>\n",
       "      <th>rating</th>\n",
       "      <th>total_sales</th>\n",
       "    </tr>\n",
       "  </thead>\n",
       "  <tbody>\n",
       "    <tr>\n",
       "      <th>16</th>\n",
       "      <td>Grand Theft Auto V</td>\n",
       "      <td>PS3</td>\n",
       "      <td>2013</td>\n",
       "      <td>Action</td>\n",
       "      <td>7.02</td>\n",
       "      <td>9.09</td>\n",
       "      <td>0.98</td>\n",
       "      <td>3.96</td>\n",
       "      <td>97.0</td>\n",
       "      <td>82.0</td>\n",
       "      <td>M</td>\n",
       "      <td>21.05</td>\n",
       "    </tr>\n",
       "    <tr>\n",
       "      <th>23</th>\n",
       "      <td>Grand Theft Auto V</td>\n",
       "      <td>X360</td>\n",
       "      <td>2013</td>\n",
       "      <td>Action</td>\n",
       "      <td>9.66</td>\n",
       "      <td>5.14</td>\n",
       "      <td>0.06</td>\n",
       "      <td>1.41</td>\n",
       "      <td>97.0</td>\n",
       "      <td>81.0</td>\n",
       "      <td>M</td>\n",
       "      <td>16.27</td>\n",
       "    </tr>\n",
       "    <tr>\n",
       "      <th>31</th>\n",
       "      <td>Call of Duty: Black Ops 3</td>\n",
       "      <td>PS4</td>\n",
       "      <td>2015</td>\n",
       "      <td>Shooter</td>\n",
       "      <td>6.03</td>\n",
       "      <td>5.86</td>\n",
       "      <td>0.36</td>\n",
       "      <td>2.38</td>\n",
       "      <td>NaN</td>\n",
       "      <td>NaN</td>\n",
       "      <td>tbd</td>\n",
       "      <td>14.63</td>\n",
       "    </tr>\n",
       "    <tr>\n",
       "      <th>33</th>\n",
       "      <td>Pokemon X/Pokemon Y</td>\n",
       "      <td>3DS</td>\n",
       "      <td>2013</td>\n",
       "      <td>Role-Playing</td>\n",
       "      <td>5.28</td>\n",
       "      <td>4.19</td>\n",
       "      <td>4.35</td>\n",
       "      <td>0.78</td>\n",
       "      <td>NaN</td>\n",
       "      <td>NaN</td>\n",
       "      <td>tbd</td>\n",
       "      <td>14.60</td>\n",
       "    </tr>\n",
       "    <tr>\n",
       "      <th>34</th>\n",
       "      <td>Call of Duty: Black Ops II</td>\n",
       "      <td>PS3</td>\n",
       "      <td>2012</td>\n",
       "      <td>Shooter</td>\n",
       "      <td>4.99</td>\n",
       "      <td>5.73</td>\n",
       "      <td>0.65</td>\n",
       "      <td>2.42</td>\n",
       "      <td>83.0</td>\n",
       "      <td>53.0</td>\n",
       "      <td>M</td>\n",
       "      <td>13.79</td>\n",
       "    </tr>\n",
       "  </tbody>\n",
       "</table>\n",
       "</div>"
      ],
      "text/plain": [
       "                          name platform  year_of_release         genre  \\\n",
       "16          Grand Theft Auto V      PS3             2013        Action   \n",
       "23          Grand Theft Auto V     X360             2013        Action   \n",
       "31   Call of Duty: Black Ops 3      PS4             2015       Shooter   \n",
       "33         Pokemon X/Pokemon Y      3DS             2013  Role-Playing   \n",
       "34  Call of Duty: Black Ops II      PS3             2012       Shooter   \n",
       "\n",
       "    na_sales  eu_sales  jp_sales  other_sales  critic_score  user_score  \\\n",
       "16      7.02      9.09      0.98         3.96          97.0        82.0   \n",
       "23      9.66      5.14      0.06         1.41          97.0        81.0   \n",
       "31      6.03      5.86      0.36         2.38           NaN         NaN   \n",
       "33      5.28      4.19      4.35         0.78           NaN         NaN   \n",
       "34      4.99      5.73      0.65         2.42          83.0        53.0   \n",
       "\n",
       "   rating  total_sales  \n",
       "16      M        21.05  \n",
       "23      M        16.27  \n",
       "31    tbd        14.63  \n",
       "33    tbd        14.60  \n",
       "34      M        13.79  "
      ]
     },
     "execution_count": 122,
     "metadata": {},
     "output_type": "execute_result"
    }
   ],
   "source": [
    "top_five = modern_df\n",
    "top_five = top_five.query('platform == [\"PS4\",\"PS3\",\"X360\",\"3DS\",\"XOne\"]')\n",
    "top_five.head(5)"
   ]
  },
  {
   "cell_type": "code",
   "execution_count": 123,
   "id": "e11126cd",
   "metadata": {},
   "outputs": [
    {
     "data": {
      "text/plain": [
       "array(['PS3', 'X360', 'PS4', '3DS', 'XOne'], dtype=object)"
      ]
     },
     "execution_count": 123,
     "metadata": {},
     "output_type": "execute_result"
    }
   ],
   "source": [
    "top_five['platform'].unique()"
   ]
  },
  {
   "cell_type": "code",
   "execution_count": 124,
   "id": "56d9d23d",
   "metadata": {},
   "outputs": [
    {
     "data": {
      "text/html": [
       "<div>\n",
       "<style scoped>\n",
       "    .dataframe tbody tr th:only-of-type {\n",
       "        vertical-align: middle;\n",
       "    }\n",
       "\n",
       "    .dataframe tbody tr th {\n",
       "        vertical-align: top;\n",
       "    }\n",
       "\n",
       "    .dataframe thead th {\n",
       "        text-align: right;\n",
       "    }\n",
       "</style>\n",
       "<table border=\"1\" class=\"dataframe\">\n",
       "  <thead>\n",
       "    <tr style=\"text-align: right;\">\n",
       "      <th></th>\n",
       "      <th>eu_sales</th>\n",
       "      <th>jp_sales</th>\n",
       "      <th>na_sales</th>\n",
       "    </tr>\n",
       "    <tr>\n",
       "      <th>platform</th>\n",
       "      <th></th>\n",
       "      <th></th>\n",
       "      <th></th>\n",
       "    </tr>\n",
       "  </thead>\n",
       "  <tbody>\n",
       "    <tr>\n",
       "      <th>3DS</th>\n",
       "      <td>42.64</td>\n",
       "      <td>87.79</td>\n",
       "      <td>55.31</td>\n",
       "    </tr>\n",
       "    <tr>\n",
       "      <th>PS3</th>\n",
       "      <td>106.86</td>\n",
       "      <td>35.29</td>\n",
       "      <td>103.38</td>\n",
       "    </tr>\n",
       "    <tr>\n",
       "      <th>PS4</th>\n",
       "      <td>141.09</td>\n",
       "      <td>15.96</td>\n",
       "      <td>108.74</td>\n",
       "    </tr>\n",
       "    <tr>\n",
       "      <th>X360</th>\n",
       "      <td>74.52</td>\n",
       "      <td>1.57</td>\n",
       "      <td>140.05</td>\n",
       "    </tr>\n",
       "    <tr>\n",
       "      <th>XOne</th>\n",
       "      <td>51.59</td>\n",
       "      <td>0.34</td>\n",
       "      <td>93.12</td>\n",
       "    </tr>\n",
       "  </tbody>\n",
       "</table>\n",
       "</div>"
      ],
      "text/plain": [
       "          eu_sales  jp_sales  na_sales\n",
       "platform                              \n",
       "3DS          42.64     87.79     55.31\n",
       "PS3         106.86     35.29    103.38\n",
       "PS4         141.09     15.96    108.74\n",
       "X360         74.52      1.57    140.05\n",
       "XOne         51.59      0.34     93.12"
      ]
     },
     "execution_count": 124,
     "metadata": {},
     "output_type": "execute_result"
    }
   ],
   "source": [
    "platforms_regions = top_five[['platform', 'na_sales', 'eu_sales', 'jp_sales']]\n",
    "platforms_regions = platforms_regions.pivot_table(index='platform', values=['na_sales', 'eu_sales', 'jp_sales'],\n",
    "                                                 aggfunc='sum')\n",
    "platforms_regions"
   ]
  },
  {
   "cell_type": "code",
   "execution_count": 125,
   "id": "628df6f0",
   "metadata": {},
   "outputs": [
    {
     "name": "stdout",
     "output_type": "stream",
     "text": [
      "Total sales in Japan - 141\n",
      "Total sales in North America - 501\n",
      "Total sales in Europe - 417\n"
     ]
    }
   ],
   "source": [
    "print('Total sales in Japan -', np.ceil(platforms_regions['jp_sales'].sum()).astype(int))\n",
    "print('Total sales in North America -', np.ceil(platforms_regions['na_sales'].sum()).astype(int))\n",
    "print('Total sales in Europe -', np.ceil(platforms_regions['eu_sales'].sum()).astype(int))"
   ]
  },
  {
   "cell_type": "code",
   "execution_count": 126,
   "id": "aeb32b75",
   "metadata": {},
   "outputs": [
    {
     "data": {
      "image/png": "[encoded data removed]",
      "text/plain": [
       "<Figure size 864x432 with 1 Axes>"
      ]
     },
     "metadata": {
      "needs_background": "light"
     },
     "output_type": "display_data"
    }
   ],
   "source": [
    "platforms_regions_plot = platforms_regions.plot(kind='bar',\n",
    "figsize=(12,6),\n",
    "grid=True, fontsize=12)\n",
    "plt.title('Popularity of platforms in regions', fontsize = 17)\n",
    "platforms_regions_plot.set_xlabel('Platforms', fontsize=12)\n",
    "platforms_regions_plot.set_ylabel('Number of sales', fontsize=12)\n",
    "platforms_regions_plot.set_xticklabels(platforms_regions_plot.get_xticklabels(),rotation = 0)\n",
    "plt.show()"
   ]
  },
  {
   "cell_type": "markdown",
   "id": "0ac49dd1",
   "metadata": {},
   "source": [
    "The graph shows the following features:\n",
    "* The most popular platform in Europe - PS4;\n",
    "* The most popular platform in North America - X360;\n",
    "* The most popular platform in Japan is 3DS;\n",
    "* PS3, PS4, and XOne platforms are roughly equally popular in North America;\n",
    "* In Japan, the other consoles are the least played;"
   ]
  },
  {
   "cell_type": "markdown",
   "id": "7fd0ed14",
   "metadata": {},
   "source": [
    "### 3.3.2. The most popular genres in the regions"
   ]
  },
  {
   "cell_type": "markdown",
   "id": "f46c21df",
   "metadata": {},
   "source": [
    "Let's build a summary table of all game genres played in North America (NA), Europe (EU), and Japan (JP)."
   ]
  },
  {
   "cell_type": "code",
   "execution_count": 127,
   "id": "c0060611",
   "metadata": {},
   "outputs": [
    {
     "data": {
      "text/html": [
       "<div>\n",
       "<style scoped>\n",
       "    .dataframe tbody tr th:only-of-type {\n",
       "        vertical-align: middle;\n",
       "    }\n",
       "\n",
       "    .dataframe tbody tr th {\n",
       "        vertical-align: top;\n",
       "    }\n",
       "\n",
       "    .dataframe thead th {\n",
       "        text-align: right;\n",
       "    }\n",
       "</style>\n",
       "<table border=\"1\" class=\"dataframe\">\n",
       "  <thead>\n",
       "    <tr style=\"text-align: right;\">\n",
       "      <th></th>\n",
       "      <th>eu_sales</th>\n",
       "      <th>jp_sales</th>\n",
       "      <th>na_sales</th>\n",
       "    </tr>\n",
       "    <tr>\n",
       "      <th>genre</th>\n",
       "      <th></th>\n",
       "      <th></th>\n",
       "      <th></th>\n",
       "    </tr>\n",
       "  </thead>\n",
       "  <tbody>\n",
       "    <tr>\n",
       "      <th>Action</th>\n",
       "      <td>136.51</td>\n",
       "      <td>40.95</td>\n",
       "      <td>153.47</td>\n",
       "    </tr>\n",
       "    <tr>\n",
       "      <th>Adventure</th>\n",
       "      <td>7.84</td>\n",
       "      <td>4.28</td>\n",
       "      <td>8.19</td>\n",
       "    </tr>\n",
       "    <tr>\n",
       "      <th>Fighting</th>\n",
       "      <td>8.77</td>\n",
       "      <td>7.41</td>\n",
       "      <td>15.65</td>\n",
       "    </tr>\n",
       "    <tr>\n",
       "      <th>Misc</th>\n",
       "      <td>14.43</td>\n",
       "      <td>6.61</td>\n",
       "      <td>22.86</td>\n",
       "    </tr>\n",
       "    <tr>\n",
       "      <th>Platform</th>\n",
       "      <td>12.53</td>\n",
       "      <td>4.89</td>\n",
       "      <td>13.38</td>\n",
       "    </tr>\n",
       "    <tr>\n",
       "      <th>Puzzle</th>\n",
       "      <td>0.89</td>\n",
       "      <td>1.21</td>\n",
       "      <td>0.51</td>\n",
       "    </tr>\n",
       "    <tr>\n",
       "      <th>Racing</th>\n",
       "      <td>22.70</td>\n",
       "      <td>1.10</td>\n",
       "      <td>12.98</td>\n",
       "    </tr>\n",
       "    <tr>\n",
       "      <th>Role-Playing</th>\n",
       "      <td>38.04</td>\n",
       "      <td>49.49</td>\n",
       "      <td>51.81</td>\n",
       "    </tr>\n",
       "    <tr>\n",
       "      <th>Shooter</th>\n",
       "      <td>102.87</td>\n",
       "      <td>7.58</td>\n",
       "      <td>136.53</td>\n",
       "    </tr>\n",
       "    <tr>\n",
       "      <th>Simulation</th>\n",
       "      <td>7.62</td>\n",
       "      <td>10.23</td>\n",
       "      <td>5.96</td>\n",
       "    </tr>\n",
       "    <tr>\n",
       "      <th>Sports</th>\n",
       "      <td>63.30</td>\n",
       "      <td>5.61</td>\n",
       "      <td>77.65</td>\n",
       "    </tr>\n",
       "    <tr>\n",
       "      <th>Strategy</th>\n",
       "      <td>1.20</td>\n",
       "      <td>1.59</td>\n",
       "      <td>1.61</td>\n",
       "    </tr>\n",
       "  </tbody>\n",
       "</table>\n",
       "</div>"
      ],
      "text/plain": [
       "              eu_sales  jp_sales  na_sales\n",
       "genre                                     \n",
       "Action          136.51     40.95    153.47\n",
       "Adventure         7.84      4.28      8.19\n",
       "Fighting          8.77      7.41     15.65\n",
       "Misc             14.43      6.61     22.86\n",
       "Platform         12.53      4.89     13.38\n",
       "Puzzle            0.89      1.21      0.51\n",
       "Racing           22.70      1.10     12.98\n",
       "Role-Playing     38.04     49.49     51.81\n",
       "Shooter         102.87      7.58    136.53\n",
       "Simulation        7.62     10.23      5.96\n",
       "Sports           63.30      5.61     77.65\n",
       "Strategy          1.20      1.59      1.61"
      ]
     },
     "execution_count": 127,
     "metadata": {},
     "output_type": "execute_result"
    }
   ],
   "source": [
    "top_genres_regions = top_five[['genre', 'na_sales', 'eu_sales', 'jp_sales']]\n",
    "top_genres_regions = top_genres_regions.pivot_table(index='genre', values=['na_sales', 'eu_sales', 'jp_sales'],\n",
    "                                                 aggfunc='sum')\n",
    "top_genres_regions"
   ]
  },
  {
   "cell_type": "markdown",
   "id": "c19b5f28",
   "metadata": {},
   "source": [
    "Let's select top-5 popular genres from this table and build a graph."
   ]
  },
  {
   "cell_type": "code",
   "execution_count": 128,
   "id": "575a410a",
   "metadata": {},
   "outputs": [
    {
     "data": {
      "text/html": [
       "<div>\n",
       "<style scoped>\n",
       "    .dataframe tbody tr th:only-of-type {\n",
       "        vertical-align: middle;\n",
       "    }\n",
       "\n",
       "    .dataframe tbody tr th {\n",
       "        vertical-align: top;\n",
       "    }\n",
       "\n",
       "    .dataframe thead th {\n",
       "        text-align: right;\n",
       "    }\n",
       "</style>\n",
       "<table border=\"1\" class=\"dataframe\">\n",
       "  <thead>\n",
       "    <tr style=\"text-align: right;\">\n",
       "      <th></th>\n",
       "      <th>eu_sales</th>\n",
       "      <th>jp_sales</th>\n",
       "      <th>na_sales</th>\n",
       "    </tr>\n",
       "    <tr>\n",
       "      <th>genre</th>\n",
       "      <th></th>\n",
       "      <th></th>\n",
       "      <th></th>\n",
       "    </tr>\n",
       "  </thead>\n",
       "  <tbody>\n",
       "    <tr>\n",
       "      <th>Action</th>\n",
       "      <td>136.51</td>\n",
       "      <td>40.95</td>\n",
       "      <td>153.47</td>\n",
       "    </tr>\n",
       "    <tr>\n",
       "      <th>Shooter</th>\n",
       "      <td>102.87</td>\n",
       "      <td>7.58</td>\n",
       "      <td>136.53</td>\n",
       "    </tr>\n",
       "    <tr>\n",
       "      <th>Sports</th>\n",
       "      <td>63.30</td>\n",
       "      <td>5.61</td>\n",
       "      <td>77.65</td>\n",
       "    </tr>\n",
       "    <tr>\n",
       "      <th>Role-Playing</th>\n",
       "      <td>38.04</td>\n",
       "      <td>49.49</td>\n",
       "      <td>51.81</td>\n",
       "    </tr>\n",
       "    <tr>\n",
       "      <th>Racing</th>\n",
       "      <td>22.70</td>\n",
       "      <td>1.10</td>\n",
       "      <td>12.98</td>\n",
       "    </tr>\n",
       "  </tbody>\n",
       "</table>\n",
       "</div>"
      ],
      "text/plain": [
       "              eu_sales  jp_sales  na_sales\n",
       "genre                                     \n",
       "Action          136.51     40.95    153.47\n",
       "Shooter         102.87      7.58    136.53\n",
       "Sports           63.30      5.61     77.65\n",
       "Role-Playing     38.04     49.49     51.81\n",
       "Racing           22.70      1.10     12.98"
      ]
     },
     "execution_count": 128,
     "metadata": {},
     "output_type": "execute_result"
    }
   ],
   "source": [
    "top_genres_regions = top_genres_regions.sort_values(by='eu_sales',ascending=False)[:5]\n",
    "top_genres_regions"
   ]
  },
  {
   "cell_type": "code",
   "execution_count": 129,
   "id": "495799e7",
   "metadata": {},
   "outputs": [
    {
     "data": {
      "image/png": "[encoded data removed]",
      "text/plain": [
       "<Figure size 864x432 with 1 Axes>"
      ]
     },
     "metadata": {
      "needs_background": "light"
     },
     "output_type": "display_data"
    }
   ],
   "source": [
    "top_genres_regions_plot = top_genres_regions.plot(kind='bar',\n",
    "figsize=(12,6),\n",
    "grid=True, fontsize=12)\n",
    "plt.title('Popularity of genres in regions', fontsize = 17)\n",
    "top_genres_regions_plot.set_xlabel('Genres', fontsize=12)\n",
    "top_genres_regions_plot.set_ylabel('Number of sales', fontsize=12)\n",
    "top_genres_regions_plot.set_xticklabels(top_genres_regions_plot.get_xticklabels(),rotation = 0)\n",
    "plt.show()"
   ]
  },
  {
   "cell_type": "markdown",
   "id": "15a06f46",
   "metadata": {},
   "source": [
    "The graph shows the following features:\n",
    "* The most popular genre in all regions - Action;\n",
    "* The least popular genre in all regions - Racing;\n",
    "* Users from North America play almost all genres the most;\n",
    "* Role-Playing genre is the most popular in Japan;"
   ]
  },
  {
   "cell_type": "markdown",
   "id": "f979a451",
   "metadata": {},
   "source": [
    "### 3.3.3. Dependence of the ESRB rating on sales by region"
   ]
  },
  {
   "cell_type": "markdown",
   "id": "c7599aa2",
   "metadata": {},
   "source": [
    "Let's see how the ESRB rating will affect sales by region. First, let's build a pivot table."
   ]
  },
  {
   "cell_type": "code",
   "execution_count": 130,
   "id": "f4d060f4",
   "metadata": {},
   "outputs": [
    {
     "data": {
      "text/html": [
       "<div>\n",
       "<style scoped>\n",
       "    .dataframe tbody tr th:only-of-type {\n",
       "        vertical-align: middle;\n",
       "    }\n",
       "\n",
       "    .dataframe tbody tr th {\n",
       "        vertical-align: top;\n",
       "    }\n",
       "\n",
       "    .dataframe thead th {\n",
       "        text-align: right;\n",
       "    }\n",
       "</style>\n",
       "<table border=\"1\" class=\"dataframe\">\n",
       "  <thead>\n",
       "    <tr style=\"text-align: right;\">\n",
       "      <th></th>\n",
       "      <th>eu_sales</th>\n",
       "      <th>jp_sales</th>\n",
       "      <th>na_sales</th>\n",
       "    </tr>\n",
       "    <tr>\n",
       "      <th>rating</th>\n",
       "      <th></th>\n",
       "      <th></th>\n",
       "      <th></th>\n",
       "    </tr>\n",
       "  </thead>\n",
       "  <tbody>\n",
       "    <tr>\n",
       "      <th>E</th>\n",
       "      <td>91.71</td>\n",
       "      <td>19.98</td>\n",
       "      <td>93.39</td>\n",
       "    </tr>\n",
       "    <tr>\n",
       "      <th>E10+</th>\n",
       "      <td>34.22</td>\n",
       "      <td>4.82</td>\n",
       "      <td>47.99</td>\n",
       "    </tr>\n",
       "    <tr>\n",
       "      <th>M</th>\n",
       "      <td>172.57</td>\n",
       "      <td>18.96</td>\n",
       "      <td>214.11</td>\n",
       "    </tr>\n",
       "    <tr>\n",
       "      <th>T</th>\n",
       "      <td>41.78</td>\n",
       "      <td>19.51</td>\n",
       "      <td>56.07</td>\n",
       "    </tr>\n",
       "    <tr>\n",
       "      <th>tbd</th>\n",
       "      <td>76.42</td>\n",
       "      <td>77.68</td>\n",
       "      <td>89.04</td>\n",
       "    </tr>\n",
       "  </tbody>\n",
       "</table>\n",
       "</div>"
      ],
      "text/plain": [
       "        eu_sales  jp_sales  na_sales\n",
       "rating                              \n",
       "E          91.71     19.98     93.39\n",
       "E10+       34.22      4.82     47.99\n",
       "M         172.57     18.96    214.11\n",
       "T          41.78     19.51     56.07\n",
       "tbd        76.42     77.68     89.04"
      ]
     },
     "execution_count": 130,
     "metadata": {},
     "output_type": "execute_result"
    }
   ],
   "source": [
    "rating_regions = top_five[['rating', 'na_sales', 'eu_sales', 'jp_sales']]\n",
    "rating_regions = rating_regions.pivot_table(index='rating', values=['na_sales', 'eu_sales', 'jp_sales'],\n",
    "                                                 aggfunc='sum')\n",
    "rating_regions"
   ]
  },
  {
   "cell_type": "code",
   "execution_count": 131,
   "id": "c28993cf",
   "metadata": {},
   "outputs": [
    {
     "data": {
      "text/plain": [
       "rating\n",
       "E       205.08\n",
       "E10+     87.03\n",
       "M       405.64\n",
       "T       117.36\n",
       "tbd     243.14\n",
       "dtype: float64"
      ]
     },
     "execution_count": 131,
     "metadata": {},
     "output_type": "execute_result"
    }
   ],
   "source": [
    "total_sum_rating = rating_regions.sum(axis=1)\n",
    "total_sum_rating"
   ]
  },
  {
   "cell_type": "markdown",
   "id": "97377bbd",
   "metadata": {},
   "source": [
    "Now let's build a graph for clarity."
   ]
  },
  {
   "cell_type": "code",
   "execution_count": 132,
   "id": "52a69a05",
   "metadata": {},
   "outputs": [
    {
     "data": {
      "image/png": "[encoded data removed]",
      "text/plain": [
       "<Figure size 864x432 with 1 Axes>"
      ]
     },
     "metadata": {
      "needs_background": "light"
     },
     "output_type": "display_data"
    }
   ],
   "source": [
    "rating_regions_plot = rating_regions.plot(kind='bar',\n",
    "figsize=(12,6),\n",
    "grid=True, fontsize=12)\n",
    "plt.title('Dependence of the rating on sales in the regions', fontsize = 17)\n",
    "rating_regions_plot.set_xlabel('Rating', fontsize=12)\n",
    "rating_regions_plot.set_ylabel('Number of sales', fontsize=12)\n",
    "rating_regions_plot.set_xticklabels(rating_regions_plot.get_xticklabels(),rotation = 0)\n",
    "plt.show()"
   ]
  },
  {
   "cell_type": "markdown",
   "id": "6a2b2711",
   "metadata": {},
   "source": [
    "The graph shows the following patterns:\n",
    "* The least influence on sales in all regions is the rating M - for teenagers from 17 years old;\n",
    "* Rating E affects sales a little more - for everyone. With it, sales in all regions are 2 times less;\n",
    "* The rest of the ratings of games have approximately the same effect on the sales of games in all regions;\n",
    "* Least of all any ratings affect sales in North America;\n",
    "* It is noticeable that the majority (about 75) are unrated games in all regions;\n",
    "* The largest game sales in Japan are non-ESRB-rated games. Since this rating is American, it apparently does NOT take into account games released in Japan. It is likely that the Japanese are more willing to play their games than foreign ones."
   ]
  },
  {
   "cell_type": "markdown",
   "id": "176de5f0",
   "metadata": {},
   "source": [
    "# 4. Hypothesis testing"
   ]
  },
  {
   "cell_type": "markdown",
   "id": "2a3639a3",
   "metadata": {},
   "source": [
    "## 4.1. Hypothesis №1. The average user ratings of the Xbox One and PC platforms are the same"
   ]
  },
  {
   "cell_type": "markdown",
   "id": "75ee2020",
   "metadata": {},
   "source": [
    "Since there are still empty NaN values in the 'user_score' column, we will delete these rows otherwise they will not allow us to test the hypotheses."
   ]
  },
  {
   "cell_type": "code",
   "execution_count": 133,
   "id": "0a61ea11",
   "metadata": {},
   "outputs": [
    {
     "data": {
      "text/plain": [
       "platform      0\n",
       "user_score    0\n",
       "dtype: int64"
      ]
     },
     "execution_count": 133,
     "metadata": {},
     "output_type": "execute_result"
    }
   ],
   "source": [
    "hypo1 = modern_df[['platform','user_score']]\n",
    "hypo1 = hypo1.dropna(subset=['user_score'])\n",
    "hypo1.isna().sum()"
   ]
  },
  {
   "cell_type": "markdown",
   "id": "e137cefb",
   "metadata": {},
   "source": [
    "First, let's filter the current table by rating and platforms. Then we calculate the average user rating for Xbox One and PC."
   ]
  },
  {
   "cell_type": "code",
   "execution_count": 134,
   "id": "ae82f848",
   "metadata": {},
   "outputs": [
    {
     "name": "stdout",
     "output_type": "stream",
     "text": [
      "Average Xbox One User Rating - 65.21428571428571\n"
     ]
    }
   ],
   "source": [
    "hypo1_xone = hypo1.query('platform == \"XOne\"')['user_score']\n",
    "print('Average Xbox One User Rating -', hypo1_xone.mean())"
   ]
  },
  {
   "cell_type": "code",
   "execution_count": 135,
   "id": "4578848d",
   "metadata": {},
   "outputs": [
    {
     "name": "stdout",
     "output_type": "stream",
     "text": [
      "Average PC User Rating - 64.2864077669903\n"
     ]
    }
   ],
   "source": [
    "hypo1_pc = hypo1.query('platform == \"PC\"')['user_score']\n",
    "print('Average PC User Rating -',hypo1_pc.mean())"
   ]
  },
  {
   "cell_type": "markdown",
   "id": "4a7f602b",
   "metadata": {},
   "source": [
    "We formulate the null and alternative hypotheses:\n",
    "\n",
    "* ***Null hypothesis - the average user rating of the Xbox and PC platforms are equal.***\n",
    "* ***Alternative hypothesis - the average user rating of the Xbox platform is higher than that of the PC.***"
   ]
  },
  {
   "cell_type": "markdown",
   "id": "46dbcb38",
   "metadata": {},
   "source": [
    "**Statistical significance alpha=0.05**"
   ]
  },
  {
   "cell_type": "markdown",
   "id": "2e48b5fa",
   "metadata": {},
   "source": [
    "First, let's check the size of each of the considered populations."
   ]
  },
  {
   "cell_type": "code",
   "execution_count": 136,
   "id": "9f4918b5",
   "metadata": {},
   "outputs": [
    {
     "data": {
      "text/plain": [
       "182"
      ]
     },
     "execution_count": 136,
     "metadata": {},
     "output_type": "execute_result"
    }
   ],
   "source": [
    "hypo1.query('platform == \"XOne\"').shape[0]"
   ]
  },
  {
   "cell_type": "code",
   "execution_count": 137,
   "id": "65b471f7",
   "metadata": {},
   "outputs": [
    {
     "data": {
      "text/plain": [
       "206"
      ]
     },
     "execution_count": 137,
     "metadata": {},
     "output_type": "execute_result"
    }
   ],
   "source": [
    "hypo1.query('platform == \"PC\"').shape[0]"
   ]
  },
  {
   "cell_type": "markdown",
   "id": "cf5e744d",
   "metadata": {},
   "source": [
    "Since these aggregates are different in size, we calculate the dispersions for each of them separately."
   ]
  },
  {
   "cell_type": "code",
   "execution_count": 138,
   "id": "85667d7c",
   "metadata": {},
   "outputs": [
    {
     "name": "stdout",
     "output_type": "stream",
     "text": [
      "p-value: 0.5489537965135056\n",
      "Failed to reject the null hypothesis\n"
     ]
    }
   ],
   "source": [
    "alpha = .05 # critical level of statistical significance, if p-value is less than it, we reject the hypothesis\n",
    "\n",
    "results1 = st.ttest_ind(\n",
    "    hypo1_xone, \n",
    "    hypo1_pc,\n",
    "    equal_var=False)\n",
    "\n",
    "print('p-value:', results1.pvalue)\n",
    "\n",
    "if results1.pvalue < alpha:\n",
    "    print(\"Rejecting the null hypothesis\")\n",
    "else:\n",
    "    print(\"Failed to reject the null hypothesis\") "
   ]
  },
  {
   "cell_type": "markdown",
   "id": "48ae5001",
   "metadata": {},
   "source": [
    "As you can see, the average user ratings of the Xbox and PC platforms are equal."
   ]
  },
  {
   "cell_type": "markdown",
   "id": "a4b0bbeb",
   "metadata": {},
   "source": [
    "The alternative hypothesis no longer needs to be tested."
   ]
  },
  {
   "cell_type": "markdown",
   "id": "ad5c4e7a",
   "metadata": {},
   "source": [
    "### Hypothesis №1 confirmed!"
   ]
  },
  {
   "cell_type": "markdown",
   "id": "16536fb5",
   "metadata": {},
   "source": [
    "## 4.2. Hypothesis №2. The average user ratings for the Action and Sports genres are different."
   ]
  },
  {
   "cell_type": "markdown",
   "id": "2c184ee4",
   "metadata": {},
   "source": [
    "Since there are still empty NaN values in the 'user_score' column, we will delete these rows otherwise they will not allow us to test the hypotheses."
   ]
  },
  {
   "cell_type": "code",
   "execution_count": 139,
   "id": "dc6dcb59",
   "metadata": {},
   "outputs": [
    {
     "data": {
      "text/plain": [
       "genre         0\n",
       "user_score    0\n",
       "dtype: int64"
      ]
     },
     "execution_count": 139,
     "metadata": {},
     "output_type": "execute_result"
    }
   ],
   "source": [
    "hypo2 = modern_df[['genre','user_score']]\n",
    "hypo2 = hypo2.dropna()\n",
    "hypo2.isna().sum()"
   ]
  },
  {
   "cell_type": "markdown",
   "id": "e0d19568",
   "metadata": {},
   "source": [
    "Now let's calculate the average user rating for Action and Sports genres."
   ]
  },
  {
   "cell_type": "code",
   "execution_count": 140,
   "id": "67e42283",
   "metadata": {},
   "outputs": [
    {
     "name": "stdout",
     "output_type": "stream",
     "text": [
      "Average user rating for Action genre - 68.25047801147228\n"
     ]
    }
   ],
   "source": [
    "hypo2 = modern_df[['genre','user_score']]\n",
    "hypo2_action = hypo2.query('genre == \"Action\"')['user_score'].dropna()\n",
    "print('Average user rating for Action genre -', hypo2_action.mean())"
   ]
  },
  {
   "cell_type": "code",
   "execution_count": 141,
   "id": "c20b3aad",
   "metadata": {},
   "outputs": [
    {
     "name": "stdout",
     "output_type": "stream",
     "text": [
      "Average user rating for Action genre - 54.55897435897436\n"
     ]
    }
   ],
   "source": [
    "hypo2_sports = hypo2.query('genre == \"Sports\"')['user_score'].dropna()\n",
    "print('Average user rating for Action genre -', hypo2_sports.mean())"
   ]
  },
  {
   "cell_type": "markdown",
   "id": "c04a3861",
   "metadata": {},
   "source": [
    "We formulate the null and alternative hypotheses:\n",
    "\n",
    "* ***Null hypothesis - the average user ratings of the Action and Sports genres are equal.***\n",
    "* ***Alternative hypothesis - the average user rating of the Sports genre is lower than that of Action.***"
   ]
  },
  {
   "cell_type": "markdown",
   "id": "c826a265",
   "metadata": {},
   "source": [
    "**Statistical significance alpha=0.05**"
   ]
  },
  {
   "cell_type": "markdown",
   "id": "cc7ba6a5",
   "metadata": {},
   "source": [
    "First, let's check the size of each of the considered populations."
   ]
  },
  {
   "cell_type": "code",
   "execution_count": 142,
   "id": "7136b013",
   "metadata": {},
   "outputs": [
    {
     "data": {
      "text/plain": [
       "1031"
      ]
     },
     "execution_count": 142,
     "metadata": {},
     "output_type": "execute_result"
    }
   ],
   "source": [
    "hypo2.query('genre == \"Action\"').shape[0]"
   ]
  },
  {
   "cell_type": "code",
   "execution_count": 143,
   "id": "933f5953",
   "metadata": {},
   "outputs": [
    {
     "data": {
      "text/plain": [
       "268"
      ]
     },
     "execution_count": 143,
     "metadata": {},
     "output_type": "execute_result"
    }
   ],
   "source": [
    "hypo2.query('genre == \"Sports\"').shape[0]"
   ]
  },
  {
   "cell_type": "markdown",
   "id": "6364c25c",
   "metadata": {},
   "source": [
    "Since these aggregates are different in size, we calculate the dispersions for each of them separately."
   ]
  },
  {
   "cell_type": "code",
   "execution_count": 144,
   "id": "d25e1d27",
   "metadata": {},
   "outputs": [
    {
     "name": "stdout",
     "output_type": "stream",
     "text": [
      "p-value: 4.243077765726105e-20\n",
      "Rejecting the null hypothesis\n"
     ]
    }
   ],
   "source": [
    "alpha = .05 # critical level of statistical significance, if p-value is less than it, we reject the hypothesis\n",
    "\n",
    "results2 = st.ttest_ind(\n",
    "    hypo2_action, \n",
    "    hypo2_sports,\n",
    "    equal_var=False)\n",
    "\n",
    "print('p-value:', results2.pvalue)\n",
    "\n",
    "if results2.pvalue < alpha:\n",
    "    print(\"Rejecting the null hypothesis\")\n",
    "else:\n",
    "    print(\"Failed to reject the null hypothesis\") "
   ]
  },
  {
   "cell_type": "markdown",
   "id": "37d9d6b7",
   "metadata": {},
   "source": [
    "As you can see, the average values were not equal. P-value is negligible."
   ]
  },
  {
   "cell_type": "markdown",
   "id": "c35021f8",
   "metadata": {},
   "source": [
    "Let's test the alternative hypothesis that the average user rating of the Sports genre is lower than that of Action."
   ]
  },
  {
   "cell_type": "code",
   "execution_count": 145,
   "id": "e3e4e191",
   "metadata": {},
   "outputs": [
    {
     "name": "stdout",
     "output_type": "stream",
     "text": [
      "p-value: 0.5\n",
      "We do not reject the alternative hypothesis\n"
     ]
    }
   ],
   "source": [
    "alpha = .05\n",
    "\n",
    "results4 = st.ttest_1samp(\n",
    "    hypo2_sports,\n",
    "    hypo2_sports.mean())\n",
    "\n",
    "# one-sided test: p-value will be half as large\n",
    "print('p-value:', results4.pvalue / 2)\n",
    "\n",
    "# one-sided test to the left:\n",
    "# reject the hypothesis only when the sample mean is significantly less than the expected value\n",
    "\n",
    "if (results4.pvalue /2 < alpha) and (hypo2_sports.mean() < hypo2_action.mean()):\n",
    "    print(\"We reject the alternative hypothesis\")\n",
    "else:\n",
    "    print(\"We do not reject the alternative hypothesis\") "
   ]
  },
  {
   "cell_type": "markdown",
   "id": "74c20879",
   "metadata": {},
   "source": [
    "As expected, the average user rating for the Sports genre is lower than for Action. Hence the ratings are different."
   ]
  },
  {
   "cell_type": "markdown",
   "id": "8102bc55",
   "metadata": {},
   "source": [
    "### Hypothesis №2 confirmed!"
   ]
  },
  {
   "cell_type": "markdown",
   "id": "71071f3a",
   "metadata": {},
   "source": [
    "# 5. Conclusion"
   ]
  },
  {
   "cell_type": "markdown",
   "id": "fc33d69c",
   "metadata": {},
   "source": [
    "In the course of a study on determining the factors that affect the success of computer games, the following features were clarified:\n",
    "* the popularity of platforms has changed throughout the entire period under consideration - from 1995 to 2016;\n",
    "* games have been actively released since 1995. The peak of growth occurs from 2007 to 2009. There has been a clear decline in game releases since 2010;\n",
    "* Sales of games on the PC almost always remained at the same level within 25;\n",
    "* PS2 became the most popular platform of all time, although sales of games for it decreased significantly after 2007;\n",
    "* the most interesting period for the analysis of promising platforms begins in 2012, since new platforms came out there that are still relevant today;\n",
    "* the most promising platform for the current period was the PS4 platform with the largest number of game sales per year - 314;\n",
    "* One of the factors influencing the success of computer games is the release of a new platform. So in 2013 the PS4 platform boomed as it just came out;\n",
    "* The marketability of the game is psychologically affected by expert assessments. User rating also affects the success of the game, but to a slightly lesser extent;\n",
    "* the most popular genre is Shooter, which leads in the highest average sales per year - 37 games;\n",
    "* the best selling genre on almost all platforms is action. Most of all it is played on PS3;\n",
    "* The most popular platform in Europe - PS4;\n",
    "* The most popular platform in North America - X360;\n",
    "* The most popular platform in Japan is 3DS;\n",
    "* in Japan, the least played in any consoles and games - 141 game sales per year;\n",
    "* total number of sales in Europe - 417;\n",
    "* most played by users from North America - 501 sales per year;\n",
    "* the least influence on sales in all regions is the rating M - for teenagers from 17 years old (more than 200 sales per year);\n",
    "* other ratings of games have approximately the same effect on the sales of games in all regions - up to 75 sales per year;\n",
    "* average user ratings for Xbox and PC platforms are equal;\n",
    "* The average user rating for the Sports genre is lower than for Action.\n",
    "* In Japan, the top-selling games are those that are not rated by the ESRB. Apparently this is due to the fact that the Japanese prefer to play their games. Another possible reason is that the American rating does not take into account Japanese games."
   ]
  },
  {
   "cell_type": "markdown",
   "id": "f800a2c2",
   "metadata": {},
   "source": [
    "**The main factors that will affect the success of the game in 2017:**\n",
    "* A shooter or action game released on the PS4 platform in Europe and on the Xbox 360 platform in North America with an M rating;\n",
    "* It doesn't make much sense to release games for Japan, since they bring the least income there."
   ]
  }
 ],
 "metadata": {
  "ExecuteTimeLog": [
   {
    "duration": 1095,
    "start_time": "2022-06-03T10:05:11.866Z"
   },
   {
    "duration": 81,
    "start_time": "2022-06-03T10:05:12.963Z"
   },
   {
    "duration": 21,
    "start_time": "2022-06-03T10:05:13.046Z"
   },
   {
    "duration": 25,
    "start_time": "2022-06-03T10:05:13.069Z"
   },
   {
    "duration": 34,
    "start_time": "2022-06-03T10:05:13.095Z"
   },
   {
    "duration": 35,
    "start_time": "2022-06-03T10:05:13.130Z"
   },
   {
    "duration": 14,
    "start_time": "2022-06-03T10:05:13.167Z"
   },
   {
    "duration": 32,
    "start_time": "2022-06-03T10:05:13.183Z"
   },
   {
    "duration": 22,
    "start_time": "2022-06-03T10:05:13.217Z"
   },
   {
    "duration": 7,
    "start_time": "2022-06-03T10:05:13.242Z"
   },
   {
    "duration": 14,
    "start_time": "2022-06-03T10:05:13.250Z"
   },
   {
    "duration": 26,
    "start_time": "2022-06-03T10:05:13.266Z"
   },
   {
    "duration": 44,
    "start_time": "2022-06-03T10:05:13.295Z"
   },
   {
    "duration": 7,
    "start_time": "2022-06-03T10:05:13.341Z"
   },
   {
    "duration": 12,
    "start_time": "2022-06-03T10:05:13.350Z"
   },
   {
    "duration": 14,
    "start_time": "2022-06-03T10:05:13.364Z"
   },
   {
    "duration": 23,
    "start_time": "2022-06-03T10:05:13.380Z"
   },
   {
    "duration": 467,
    "start_time": "2022-06-03T10:05:13.404Z"
   },
   {
    "duration": 541,
    "start_time": "2022-06-03T10:05:13.873Z"
   },
   {
    "duration": 15,
    "start_time": "2022-06-03T10:05:14.416Z"
   },
   {
    "duration": 9,
    "start_time": "2022-06-03T10:05:14.432Z"
   },
   {
    "duration": 648,
    "start_time": "2022-06-03T10:05:14.442Z"
   },
   {
    "duration": 6,
    "start_time": "2022-06-03T10:05:15.091Z"
   },
   {
    "duration": 52,
    "start_time": "2022-06-03T10:05:15.099Z"
   },
   {
    "duration": 255,
    "start_time": "2022-06-03T10:05:15.153Z"
   },
   {
    "duration": 5,
    "start_time": "2022-06-03T10:05:15.410Z"
   },
   {
    "duration": 151,
    "start_time": "2022-06-03T10:05:15.417Z"
   },
   {
    "duration": 5,
    "start_time": "2022-06-03T10:05:15.573Z"
   },
   {
    "duration": 152,
    "start_time": "2022-06-03T10:05:15.579Z"
   },
   {
    "duration": 5,
    "start_time": "2022-06-03T10:05:15.733Z"
   },
   {
    "duration": 18,
    "start_time": "2022-06-03T10:05:15.740Z"
   },
   {
    "duration": 154,
    "start_time": "2022-06-03T10:05:15.760Z"
   },
   {
    "duration": 169,
    "start_time": "2022-06-03T10:05:15.917Z"
   },
   {
    "duration": 155,
    "start_time": "2022-06-03T10:05:16.088Z"
   },
   {
    "duration": 287,
    "start_time": "2022-06-03T10:05:16.245Z"
   },
   {
    "duration": 205,
    "start_time": "2022-06-03T10:05:16.534Z"
   },
   {
    "duration": 9,
    "start_time": "2022-06-03T10:05:16.741Z"
   },
   {
    "duration": 289,
    "start_time": "2022-06-03T10:05:16.752Z"
   },
   {
    "duration": 29,
    "start_time": "2022-06-03T10:05:17.043Z"
   },
   {
    "duration": 6,
    "start_time": "2022-06-03T10:05:17.074Z"
   },
   {
    "duration": 410,
    "start_time": "2022-06-03T10:05:17.082Z"
   },
   {
    "duration": 6,
    "start_time": "2022-06-03T10:05:17.494Z"
   },
   {
    "duration": 32,
    "start_time": "2022-06-03T10:05:17.502Z"
   },
   {
    "duration": 5,
    "start_time": "2022-06-03T10:05:17.536Z"
   },
   {
    "duration": 218,
    "start_time": "2022-06-03T10:05:17.542Z"
   },
   {
    "duration": 17,
    "start_time": "2022-06-03T10:05:17.762Z"
   },
   {
    "duration": 114,
    "start_time": "2022-06-03T10:05:17.781Z"
   },
   {
    "duration": 232,
    "start_time": "2022-06-03T10:05:17.897Z"
   },
   {
    "duration": 16,
    "start_time": "2022-06-03T10:05:18.131Z"
   },
   {
    "duration": 214,
    "start_time": "2022-06-03T10:05:18.149Z"
   },
   {
    "duration": 8,
    "start_time": "2022-06-03T10:05:18.365Z"
   },
   {
    "duration": 53,
    "start_time": "2022-06-03T10:05:18.374Z"
   },
   {
    "duration": 21,
    "start_time": "2022-06-03T10:05:18.429Z"
   },
   {
    "duration": 52,
    "start_time": "2022-06-03T10:05:18.452Z"
   },
   {
    "duration": 32,
    "start_time": "2022-06-03T10:05:18.506Z"
   },
   {
    "duration": 20,
    "start_time": "2022-06-03T10:05:18.540Z"
   },
   {
    "duration": 30,
    "start_time": "2022-06-03T10:05:18.562Z"
   },
   {
    "duration": 14,
    "start_time": "2022-06-03T10:05:18.594Z"
   },
   {
    "duration": 31,
    "start_time": "2022-06-03T10:05:18.610Z"
   },
   {
    "duration": 12,
    "start_time": "2022-06-03T10:05:18.643Z"
   },
   {
    "duration": 6,
    "start_time": "2022-06-03T10:05:18.657Z"
   },
   {
    "duration": 12,
    "start_time": "2022-06-03T10:05:18.664Z"
   },
   {
    "duration": 1419,
    "start_time": "2022-06-08T07:59:55.000Z"
   },
   {
    "duration": 99,
    "start_time": "2022-06-08T07:59:56.421Z"
   },
   {
    "duration": 22,
    "start_time": "2022-06-08T07:59:56.521Z"
   },
   {
    "duration": 5,
    "start_time": "2022-06-08T07:59:56.545Z"
   },
   {
    "duration": 18,
    "start_time": "2022-06-08T07:59:56.551Z"
   },
   {
    "duration": 9,
    "start_time": "2022-06-08T07:59:56.571Z"
   },
   {
    "duration": 16,
    "start_time": "2022-06-08T07:59:56.581Z"
   },
   {
    "duration": 14,
    "start_time": "2022-06-08T07:59:56.599Z"
   },
   {
    "duration": 13,
    "start_time": "2022-06-08T07:59:56.614Z"
   },
   {
    "duration": 6,
    "start_time": "2022-06-08T07:59:56.630Z"
   },
   {
    "duration": 9,
    "start_time": "2022-06-08T07:59:56.638Z"
   },
   {
    "duration": 11,
    "start_time": "2022-06-08T07:59:56.648Z"
   },
   {
    "duration": 42,
    "start_time": "2022-06-08T07:59:56.660Z"
   },
   {
    "duration": 10,
    "start_time": "2022-06-08T07:59:56.703Z"
   },
   {
    "duration": 13,
    "start_time": "2022-06-08T07:59:56.715Z"
   },
   {
    "duration": 18,
    "start_time": "2022-06-08T07:59:56.730Z"
   },
   {
    "duration": 415,
    "start_time": "2022-06-08T07:59:56.749Z"
   },
   {
    "duration": 499,
    "start_time": "2022-06-08T07:59:57.166Z"
   },
   {
    "duration": 14,
    "start_time": "2022-06-08T07:59:57.667Z"
   },
   {
    "duration": 7,
    "start_time": "2022-06-08T07:59:57.682Z"
   },
   {
    "duration": 518,
    "start_time": "2022-06-08T07:59:57.691Z"
   },
   {
    "duration": 6,
    "start_time": "2022-06-08T07:59:58.211Z"
   },
   {
    "duration": 15,
    "start_time": "2022-06-08T07:59:58.219Z"
   },
   {
    "duration": 6,
    "start_time": "2022-06-08T07:59:58.236Z"
   },
   {
    "duration": 20,
    "start_time": "2022-06-08T07:59:58.243Z"
   },
   {
    "duration": 5,
    "start_time": "2022-06-08T07:59:58.265Z"
   },
   {
    "duration": 4,
    "start_time": "2022-06-08T08:00:11.446Z"
   },
   {
    "duration": 4,
    "start_time": "2022-06-08T08:00:42.899Z"
   },
   {
    "duration": 15,
    "start_time": "2022-06-08T08:02:22.311Z"
   },
   {
    "duration": 5,
    "start_time": "2022-06-08T08:02:24.094Z"
   },
   {
    "duration": 4,
    "start_time": "2022-06-08T08:02:28.738Z"
   },
   {
    "duration": 10,
    "start_time": "2022-06-08T08:02:35.723Z"
   },
   {
    "duration": 1444,
    "start_time": "2022-06-09T09:08:57.149Z"
   },
   {
    "duration": 190,
    "start_time": "2022-06-09T09:08:58.595Z"
   },
   {
    "duration": 20,
    "start_time": "2022-06-09T09:08:58.786Z"
   },
   {
    "duration": 5,
    "start_time": "2022-06-09T09:08:58.808Z"
   },
   {
    "duration": 18,
    "start_time": "2022-06-09T09:08:58.814Z"
   },
   {
    "duration": 15,
    "start_time": "2022-06-09T09:08:58.834Z"
   },
   {
    "duration": 10,
    "start_time": "2022-06-09T09:08:58.851Z"
   },
   {
    "duration": 13,
    "start_time": "2022-06-09T09:08:58.863Z"
   },
   {
    "duration": 15,
    "start_time": "2022-06-09T09:08:58.878Z"
   },
   {
    "duration": 7,
    "start_time": "2022-06-09T09:08:58.896Z"
   },
   {
    "duration": 9,
    "start_time": "2022-06-09T09:08:58.905Z"
   },
   {
    "duration": 42,
    "start_time": "2022-06-09T09:08:58.916Z"
   },
   {
    "duration": 14,
    "start_time": "2022-06-09T09:08:58.960Z"
   },
   {
    "duration": 13,
    "start_time": "2022-06-09T09:08:58.976Z"
   },
   {
    "duration": 15,
    "start_time": "2022-06-09T09:08:58.991Z"
   },
   {
    "duration": 17,
    "start_time": "2022-06-09T09:08:59.007Z"
   },
   {
    "duration": 366,
    "start_time": "2022-06-09T09:08:59.058Z"
   },
   {
    "duration": 568,
    "start_time": "2022-06-09T09:08:59.426Z"
   },
   {
    "duration": 17,
    "start_time": "2022-06-09T09:08:59.996Z"
   },
   {
    "duration": 12,
    "start_time": "2022-06-09T09:09:00.015Z"
   },
   {
    "duration": 577,
    "start_time": "2022-06-09T09:09:00.029Z"
   },
   {
    "duration": 7,
    "start_time": "2022-06-09T09:09:00.608Z"
   },
   {
    "duration": 17,
    "start_time": "2022-06-09T09:09:00.617Z"
   },
   {
    "duration": 24,
    "start_time": "2022-06-09T09:09:00.636Z"
   },
   {
    "duration": 14,
    "start_time": "2022-06-09T09:09:00.662Z"
   },
   {
    "duration": 25,
    "start_time": "2022-06-09T09:09:00.677Z"
   },
   {
    "duration": 22,
    "start_time": "2022-06-09T09:09:00.704Z"
   },
   {
    "duration": 5,
    "start_time": "2022-06-09T09:09:00.732Z"
   },
   {
    "duration": 15,
    "start_time": "2022-06-09T09:09:00.739Z"
   },
   {
    "duration": 52,
    "start_time": "2022-06-09T09:09:00.758Z"
   },
   {
    "duration": 212,
    "start_time": "2022-06-09T09:09:00.812Z"
   },
   {
    "duration": 5,
    "start_time": "2022-06-09T09:09:01.026Z"
   },
   {
    "duration": 220,
    "start_time": "2022-06-09T09:09:01.032Z"
   },
   {
    "duration": 8,
    "start_time": "2022-06-09T09:09:01.253Z"
   },
   {
    "duration": 159,
    "start_time": "2022-06-09T09:09:01.262Z"
   },
   {
    "duration": 4,
    "start_time": "2022-06-09T09:09:01.422Z"
   },
   {
    "duration": 32,
    "start_time": "2022-06-09T09:09:01.428Z"
   },
   {
    "duration": 138,
    "start_time": "2022-06-09T09:09:01.462Z"
   },
   {
    "duration": 164,
    "start_time": "2022-06-09T09:09:01.601Z"
   },
   {
    "duration": 184,
    "start_time": "2022-06-09T09:09:01.767Z"
   },
   {
    "duration": 166,
    "start_time": "2022-06-09T09:09:01.959Z"
   },
   {
    "duration": 147,
    "start_time": "2022-06-09T09:09:02.126Z"
   },
   {
    "duration": 4,
    "start_time": "2022-06-09T09:09:02.274Z"
   },
   {
    "duration": 25,
    "start_time": "2022-06-09T09:09:02.280Z"
   },
   {
    "duration": 203,
    "start_time": "2022-06-09T09:09:02.306Z"
   },
   {
    "duration": 27,
    "start_time": "2022-06-09T09:09:02.511Z"
   },
   {
    "duration": 21,
    "start_time": "2022-06-09T09:09:02.539Z"
   },
   {
    "duration": 17,
    "start_time": "2022-06-09T09:09:02.562Z"
   },
   {
    "duration": 497,
    "start_time": "2022-06-09T09:09:02.580Z"
   },
   {
    "duration": 7,
    "start_time": "2022-06-09T09:09:03.078Z"
   },
   {
    "duration": 23,
    "start_time": "2022-06-09T09:09:03.086Z"
   },
   {
    "duration": 4,
    "start_time": "2022-06-09T09:09:03.110Z"
   },
   {
    "duration": 18,
    "start_time": "2022-06-09T09:09:03.115Z"
   },
   {
    "duration": 24,
    "start_time": "2022-06-09T09:09:03.135Z"
   },
   {
    "duration": 275,
    "start_time": "2022-06-09T09:09:03.160Z"
   },
   {
    "duration": 22,
    "start_time": "2022-06-09T09:09:03.437Z"
   },
   {
    "duration": 9,
    "start_time": "2022-06-09T09:09:03.461Z"
   },
   {
    "duration": 220,
    "start_time": "2022-06-09T09:09:03.471Z"
   },
   {
    "duration": 15,
    "start_time": "2022-06-09T09:09:03.693Z"
   },
   {
    "duration": 10,
    "start_time": "2022-06-09T09:09:03.710Z"
   },
   {
    "duration": 212,
    "start_time": "2022-06-09T09:09:03.722Z"
   },
   {
    "duration": 8,
    "start_time": "2022-06-09T09:09:03.936Z"
   },
   {
    "duration": 8,
    "start_time": "2022-06-09T09:09:03.959Z"
   },
   {
    "duration": 12,
    "start_time": "2022-06-09T09:09:03.968Z"
   },
   {
    "duration": 14,
    "start_time": "2022-06-09T09:09:03.981Z"
   },
   {
    "duration": 9,
    "start_time": "2022-06-09T09:09:03.997Z"
   },
   {
    "duration": 11,
    "start_time": "2022-06-09T09:09:04.007Z"
   },
   {
    "duration": 15,
    "start_time": "2022-06-09T09:09:04.020Z"
   },
   {
    "duration": 2,
    "start_time": "2022-06-09T09:10:15.810Z"
   },
   {
    "duration": 79,
    "start_time": "2022-06-09T09:10:15.817Z"
   },
   {
    "duration": 17,
    "start_time": "2022-06-09T09:10:15.898Z"
   },
   {
    "duration": 15,
    "start_time": "2022-06-09T09:10:15.917Z"
   },
   {
    "duration": 15,
    "start_time": "2022-06-09T09:10:15.935Z"
   },
   {
    "duration": 9,
    "start_time": "2022-06-09T09:10:15.959Z"
   },
   {
    "duration": 8,
    "start_time": "2022-06-09T09:10:15.970Z"
   },
   {
    "duration": 12,
    "start_time": "2022-06-09T09:10:15.980Z"
   },
   {
    "duration": 14,
    "start_time": "2022-06-09T09:10:15.994Z"
   },
   {
    "duration": 8,
    "start_time": "2022-06-09T09:10:16.010Z"
   },
   {
    "duration": 41,
    "start_time": "2022-06-09T09:10:16.021Z"
   },
   {
    "duration": 10,
    "start_time": "2022-06-09T09:10:16.064Z"
   },
   {
    "duration": 13,
    "start_time": "2022-06-09T09:10:16.076Z"
   },
   {
    "duration": 13,
    "start_time": "2022-06-09T09:10:16.090Z"
   },
   {
    "duration": 15,
    "start_time": "2022-06-09T09:10:16.104Z"
   },
   {
    "duration": 52,
    "start_time": "2022-06-09T09:10:16.121Z"
   },
   {
    "duration": 390,
    "start_time": "2022-06-09T09:10:16.174Z"
   },
   {
    "duration": 520,
    "start_time": "2022-06-09T09:10:16.565Z"
   },
   {
    "duration": 15,
    "start_time": "2022-06-09T09:10:17.086Z"
   },
   {
    "duration": 7,
    "start_time": "2022-06-09T09:10:17.102Z"
   },
   {
    "duration": 567,
    "start_time": "2022-06-09T09:10:17.111Z"
   },
   {
    "duration": 6,
    "start_time": "2022-06-09T09:10:17.680Z"
   },
   {
    "duration": 15,
    "start_time": "2022-06-09T09:10:17.687Z"
   },
   {
    "duration": 6,
    "start_time": "2022-06-09T09:10:17.703Z"
   },
   {
    "duration": 14,
    "start_time": "2022-06-09T09:10:17.711Z"
   },
   {
    "duration": 9,
    "start_time": "2022-06-09T09:10:17.726Z"
   },
   {
    "duration": 41,
    "start_time": "2022-06-09T09:10:17.736Z"
   },
   {
    "duration": 10,
    "start_time": "2022-06-09T09:10:17.778Z"
   },
   {
    "duration": 9,
    "start_time": "2022-06-09T09:10:17.792Z"
   },
   {
    "duration": 58,
    "start_time": "2022-06-09T09:10:17.803Z"
   },
   {
    "duration": 213,
    "start_time": "2022-06-09T09:10:17.862Z"
   },
   {
    "duration": 5,
    "start_time": "2022-06-09T09:10:18.077Z"
   },
   {
    "duration": 160,
    "start_time": "2022-06-09T09:10:18.084Z"
   },
   {
    "duration": 4,
    "start_time": "2022-06-09T09:10:18.246Z"
   },
   {
    "duration": 240,
    "start_time": "2022-06-09T09:10:18.258Z"
   },
   {
    "duration": 4,
    "start_time": "2022-06-09T09:10:18.500Z"
   },
   {
    "duration": 15,
    "start_time": "2022-06-09T09:10:18.506Z"
   },
   {
    "duration": 138,
    "start_time": "2022-06-09T09:10:18.522Z"
   },
   {
    "duration": 160,
    "start_time": "2022-06-09T09:10:18.662Z"
   },
   {
    "duration": 156,
    "start_time": "2022-06-09T09:10:18.823Z"
   },
   {
    "duration": 144,
    "start_time": "2022-06-09T09:10:18.980Z"
   },
   {
    "duration": 139,
    "start_time": "2022-06-09T09:10:19.126Z"
   },
   {
    "duration": 4,
    "start_time": "2022-06-09T09:10:19.267Z"
   },
   {
    "duration": 14,
    "start_time": "2022-06-09T09:10:19.272Z"
   },
   {
    "duration": 204,
    "start_time": "2022-06-09T09:10:19.287Z"
   },
   {
    "duration": 28,
    "start_time": "2022-06-09T09:10:19.492Z"
   },
   {
    "duration": 8,
    "start_time": "2022-06-09T09:10:19.522Z"
   },
   {
    "duration": 40,
    "start_time": "2022-06-09T09:10:19.531Z"
   },
   {
    "duration": 492,
    "start_time": "2022-06-09T09:10:19.573Z"
   },
   {
    "duration": 7,
    "start_time": "2022-06-09T09:10:20.066Z"
   },
   {
    "duration": 20,
    "start_time": "2022-06-09T09:10:20.075Z"
   },
   {
    "duration": 9,
    "start_time": "2022-06-09T09:10:20.096Z"
   },
   {
    "duration": 17,
    "start_time": "2022-06-09T09:10:20.107Z"
   },
   {
    "duration": 9,
    "start_time": "2022-06-09T09:10:20.126Z"
   },
   {
    "duration": 221,
    "start_time": "2022-06-09T09:10:20.136Z"
   },
   {
    "duration": 17,
    "start_time": "2022-06-09T09:10:20.359Z"
   },
   {
    "duration": 12,
    "start_time": "2022-06-09T09:10:20.377Z"
   },
   {
    "duration": 230,
    "start_time": "2022-06-09T09:10:20.390Z"
   },
   {
    "duration": 15,
    "start_time": "2022-06-09T09:10:20.621Z"
   },
   {
    "duration": 13,
    "start_time": "2022-06-09T09:10:20.638Z"
   },
   {
    "duration": 314,
    "start_time": "2022-06-09T09:10:20.659Z"
   },
   {
    "duration": 8,
    "start_time": "2022-06-09T09:10:20.975Z"
   },
   {
    "duration": 10,
    "start_time": "2022-06-09T09:10:20.985Z"
   },
   {
    "duration": 11,
    "start_time": "2022-06-09T09:10:20.996Z"
   },
   {
    "duration": 11,
    "start_time": "2022-06-09T09:10:21.008Z"
   },
   {
    "duration": 14,
    "start_time": "2022-06-09T09:10:21.021Z"
   },
   {
    "duration": 15,
    "start_time": "2022-06-09T09:10:21.036Z"
   },
   {
    "duration": 21,
    "start_time": "2022-06-09T09:10:21.053Z"
   },
   {
    "duration": 8,
    "start_time": "2022-06-09T09:10:21.076Z"
   }
  ],
  "hide_input": false,
  "kernelspec": {
   "display_name": "Python 3 (ipykernel)",
   "language": "python",
   "name": "python3"
  },
  "language_info": {
   "codemirror_mode": {
    "name": "ipython",
    "version": 3
   },
   "file_extension": ".py",
   "mimetype": "text/x-python",
   "name": "python",
   "nbconvert_exporter": "python",
   "pygments_lexer": "ipython3",
   "version": "3.9.12"
  },
  "toc": {
   "base_numbering": 1,
   "nav_menu": {},
   "number_sections": true,
   "sideBar": true,
   "skip_h1_title": true,
   "title_cell": "Table of Contents",
   "title_sidebar": "Contents",
   "toc_cell": false,
   "toc_position": {},
   "toc_section_display": true,
   "toc_window_display": true
  }
 },
 "nbformat": 4,
 "nbformat_minor": 5
}
